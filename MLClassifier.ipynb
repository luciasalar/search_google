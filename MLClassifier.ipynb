{
 "cells": [
  {
   "cell_type": "code",
   "execution_count": 204,
   "metadata": {
    "collapsed": true
   },
   "outputs": [],
   "source": [
    "import numpy as np\n",
    "import csv\n",
    "import pickle\n",
    "import pandas as pd\n",
    "import matplotlib.pyplot as plt\n",
    "from sklearn import svm\n",
    "from sklearn.model_selection import train_test_split\n",
    "from sklearn.metrics import confusion_matrix\n",
    "from sklearn.metrics import f1_score\n",
    "from sklearn.model_selection import GridSearchCV\n",
    "from sklearn.linear_model import SGDClassifier\n",
    "from sklearn.ensemble import RandomForestClassifier\n"
   ]
  },
  {
   "cell_type": "markdown",
   "metadata": {},
   "source": [
    "In this script, we have three ML model:\n",
    "SVC: C-Support Vector Classification.\n",
    "SGDClassifier: Linear classifiers (SVM, logistic regression, a.o.) with SGD training.\n",
    "This estimator implements regularized linear models with stochastic gradient descent (SGD) learning: the gradient of the loss is estimated each sample at a time and the model is updated along the way with a decreasing strength schedule (aka learning rate). SGD allows minibatch (online/out-of-core) learning, see the partial_fit method. For best results using the default learning rate schedule, the data should have zero mean and unit variance.\n",
    "\n",
    "Random Forest:\n",
    "RF gives the best result:  f1: 0.97345133  recall: 0.84210526\n"
   ]
  },
  {
   "cell_type": "code",
   "execution_count": 2,
   "metadata": {
    "collapsed": true
   },
   "outputs": [],
   "source": [
    "class myQuote:\n",
    "    def __init__(self, text):\n",
    "        #read in CSV, process\n",
    "        self.quoteText = text\n",
    "        self.quoteID = hash(self.quoteText)\n",
    "        self.link = []\n",
    "        self.name = []\n",
    "        self.description = []\n",
    "        self.scores = []\n",
    "        self.cos = []\n",
    "    \n",
    "    def __hash__(self):\n",
    "        return self.quoteID\n",
    "    \n",
    "    def __str__(self):\n",
    "        return \"Object text: \" + self.quoteText + '\\n' +\\\n",
    "        \"Links: \" + str(self.link) + '\\n' +\\\n",
    "        \"Names: \" + str(self.name) + '\\n' +\\\n",
    "        \"Description \" + str(self.description) + '\\n' +\\\n",
    "        \"Scores: \" + str(self.scores)\n",
    "        "
   ]
  },
  {
   "cell_type": "code",
   "execution_count": 3,
   "metadata": {
    "collapsed": true
   },
   "outputs": [],
   "source": [
    "infile = open('searchResults','rb')\n",
    "results = pickle.load(infile, encoding='bytes')"
   ]
  },
  {
   "cell_type": "code",
   "execution_count": 4,
   "metadata": {
    "collapsed": true
   },
   "outputs": [],
   "source": [
    "#get the first 200 labels: those are the one in the mannual annotate sample\n",
    "count = 0\n",
    "proto_matrix = []\n",
    "for item in results:\n",
    "    #results[item].scores[0]\n",
    "    row = results[item].scores\n",
    "    row = np.append(row, results[item].cos)\n",
    "    proto_matrix.append(row)\n",
    "    count += 1\n",
    "    if count > 199:\n",
    "        break\n",
    "\n",
    "matrix = np.matrix(proto_matrix)"
   ]
  },
  {
   "cell_type": "code",
   "execution_count": null,
   "metadata": {
    "collapsed": true
   },
   "outputs": [],
   "source": [
    "#read labels from ma"
   ]
  },
  {
   "cell_type": "code",
   "execution_count": 5,
   "metadata": {},
   "outputs": [
    {
     "name": "stdout",
     "output_type": "stream",
     "text": [
      "200\n",
      "<class 'numpy.ndarray'>\n"
     ]
    }
   ],
   "source": [
    "labels = pd.read_csv('MLData_recode_mannual.csv')\n",
    "label = labels['label'].values\n",
    "label = label.astype(np.float)\n",
    "print(len(label))\n",
    "print(type(label))"
   ]
  },
  {
   "cell_type": "code",
   "execution_count": 6,
   "metadata": {
    "collapsed": true
   },
   "outputs": [],
   "source": []
  },
  {
   "cell_type": "code",
   "execution_count": 401,
   "metadata": {},
   "outputs": [],
   "source": [
    "from sklearn.preprocessing import StandardScaler\n",
    "scaler = StandardScaler()\n",
    "scaled_matrix = scaler.fit_transform(matrix)\n"
   ]
  },
  {
   "cell_type": "code",
   "execution_count": 402,
   "metadata": {
    "collapsed": true
   },
   "outputs": [],
   "source": [
    "#split train test\n",
    "X = scaled_matrix\n",
    "y = label\n",
    "X_train, X_test, y_train, y_test = train_test_split(X, y, test_size=0.33, random_state=42)"
   ]
  },
  {
   "cell_type": "code",
   "execution_count": null,
   "metadata": {},
   "outputs": [],
   "source": []
  },
  {
   "cell_type": "code",
   "execution_count": 477,
   "metadata": {},
   "outputs": [
    {
     "name": "stdout",
     "output_type": "stream",
     "text": [
      "0.917910447761\n",
      "{'C': 1.7, 'class_weight': 'balanced', 'gamma': 0.01, 'kernel': 'sigmoid'}\n",
      "0.910448 (0.032753) with: {'C': 0.1, 'class_weight': 'balanced', 'gamma': 0.01, 'kernel': 'linear'}\n",
      "0.835821 (0.007038) with: {'C': 0.1, 'class_weight': 'balanced', 'gamma': 0.01, 'kernel': 'poly'}\n",
      "0.902985 (0.051999) with: {'C': 0.1, 'class_weight': 'balanced', 'gamma': 0.01, 'kernel': 'rbf'}\n",
      "0.888060 (0.016236) with: {'C': 0.1, 'class_weight': 'balanced', 'gamma': 0.01, 'kernel': 'sigmoid'}\n",
      "0.910448 (0.032753) with: {'C': 0.1, 'class_weight': 'balanced', 'gamma': 0.001, 'kernel': 'linear'}\n",
      "0.388060 (0.316693) with: {'C': 0.1, 'class_weight': 'balanced', 'gamma': 0.001, 'kernel': 'poly'}\n",
      "0.388060 (0.316693) with: {'C': 0.1, 'class_weight': 'balanced', 'gamma': 0.001, 'kernel': 'rbf'}\n",
      "0.388060 (0.316693) with: {'C': 0.1, 'class_weight': 'balanced', 'gamma': 0.001, 'kernel': 'sigmoid'}\n",
      "0.910448 (0.032753) with: {'C': 0.1, 'class_weight': 'balanced', 'gamma': 0.0001, 'kernel': 'linear'}\n",
      "0.388060 (0.316693) with: {'C': 0.1, 'class_weight': 'balanced', 'gamma': 0.0001, 'kernel': 'poly'}\n",
      "0.388060 (0.316693) with: {'C': 0.1, 'class_weight': 'balanced', 'gamma': 0.0001, 'kernel': 'rbf'}\n",
      "0.388060 (0.316693) with: {'C': 0.1, 'class_weight': 'balanced', 'gamma': 0.0001, 'kernel': 'sigmoid'}\n",
      "0.888060 (0.049980) with: {'C': 0.3, 'class_weight': 'balanced', 'gamma': 0.01, 'kernel': 'linear'}\n",
      "0.843284 (0.003284) with: {'C': 0.3, 'class_weight': 'balanced', 'gamma': 0.01, 'kernel': 'poly'}\n",
      "0.895522 (0.041341) with: {'C': 0.3, 'class_weight': 'balanced', 'gamma': 0.01, 'kernel': 'rbf'}\n",
      "0.902985 (0.037791) with: {'C': 0.3, 'class_weight': 'balanced', 'gamma': 0.01, 'kernel': 'sigmoid'}\n",
      "0.888060 (0.049980) with: {'C': 0.3, 'class_weight': 'balanced', 'gamma': 0.001, 'kernel': 'linear'}\n",
      "0.835821 (0.007038) with: {'C': 0.3, 'class_weight': 'balanced', 'gamma': 0.001, 'kernel': 'poly'}\n",
      "0.850746 (0.013606) with: {'C': 0.3, 'class_weight': 'balanced', 'gamma': 0.001, 'kernel': 'rbf'}\n",
      "0.835821 (0.007038) with: {'C': 0.3, 'class_weight': 'balanced', 'gamma': 0.001, 'kernel': 'sigmoid'}\n",
      "0.888060 (0.049980) with: {'C': 0.3, 'class_weight': 'balanced', 'gamma': 0.0001, 'kernel': 'linear'}\n",
      "0.835821 (0.007038) with: {'C': 0.3, 'class_weight': 'balanced', 'gamma': 0.0001, 'kernel': 'poly'}\n",
      "0.835821 (0.007038) with: {'C': 0.3, 'class_weight': 'balanced', 'gamma': 0.0001, 'kernel': 'rbf'}\n",
      "0.835821 (0.007038) with: {'C': 0.3, 'class_weight': 'balanced', 'gamma': 0.0001, 'kernel': 'sigmoid'}\n",
      "0.895522 (0.057462) with: {'C': 0.5, 'class_weight': 'balanced', 'gamma': 0.01, 'kernel': 'linear'}\n",
      "0.850746 (0.013606) with: {'C': 0.5, 'class_weight': 'balanced', 'gamma': 0.01, 'kernel': 'poly'}\n",
      "0.895522 (0.046145) with: {'C': 0.5, 'class_weight': 'balanced', 'gamma': 0.01, 'kernel': 'rbf'}\n",
      "0.902985 (0.037791) with: {'C': 0.5, 'class_weight': 'balanced', 'gamma': 0.01, 'kernel': 'sigmoid'}\n",
      "0.895522 (0.057462) with: {'C': 0.5, 'class_weight': 'balanced', 'gamma': 0.001, 'kernel': 'linear'}\n",
      "0.835821 (0.007038) with: {'C': 0.5, 'class_weight': 'balanced', 'gamma': 0.001, 'kernel': 'poly'}\n",
      "0.873134 (0.009564) with: {'C': 0.5, 'class_weight': 'balanced', 'gamma': 0.001, 'kernel': 'rbf'}\n",
      "0.858209 (0.007507) with: {'C': 0.5, 'class_weight': 'balanced', 'gamma': 0.001, 'kernel': 'sigmoid'}\n",
      "0.895522 (0.057462) with: {'C': 0.5, 'class_weight': 'balanced', 'gamma': 0.0001, 'kernel': 'linear'}\n",
      "0.835821 (0.007038) with: {'C': 0.5, 'class_weight': 'balanced', 'gamma': 0.0001, 'kernel': 'poly'}\n",
      "0.850746 (0.017829) with: {'C': 0.5, 'class_weight': 'balanced', 'gamma': 0.0001, 'kernel': 'rbf'}\n",
      "0.850746 (0.017829) with: {'C': 0.5, 'class_weight': 'balanced', 'gamma': 0.0001, 'kernel': 'sigmoid'}\n",
      "0.895522 (0.047794) with: {'C': 0.7, 'class_weight': 'balanced', 'gamma': 0.01, 'kernel': 'linear'}\n",
      "0.850746 (0.013606) with: {'C': 0.7, 'class_weight': 'balanced', 'gamma': 0.01, 'kernel': 'poly'}\n",
      "0.910448 (0.036883) with: {'C': 0.7, 'class_weight': 'balanced', 'gamma': 0.01, 'kernel': 'rbf'}\n",
      "0.910448 (0.036883) with: {'C': 0.7, 'class_weight': 'balanced', 'gamma': 0.01, 'kernel': 'sigmoid'}\n",
      "0.895522 (0.047794) with: {'C': 0.7, 'class_weight': 'balanced', 'gamma': 0.001, 'kernel': 'linear'}\n",
      "0.835821 (0.007038) with: {'C': 0.7, 'class_weight': 'balanced', 'gamma': 0.001, 'kernel': 'poly'}\n",
      "0.873134 (0.009564) with: {'C': 0.7, 'class_weight': 'balanced', 'gamma': 0.001, 'kernel': 'rbf'}\n",
      "0.865672 (0.002815) with: {'C': 0.7, 'class_weight': 'balanced', 'gamma': 0.001, 'kernel': 'sigmoid'}\n",
      "0.895522 (0.047794) with: {'C': 0.7, 'class_weight': 'balanced', 'gamma': 0.0001, 'kernel': 'linear'}\n",
      "0.835821 (0.007038) with: {'C': 0.7, 'class_weight': 'balanced', 'gamma': 0.0001, 'kernel': 'poly'}\n",
      "0.835821 (0.007038) with: {'C': 0.7, 'class_weight': 'balanced', 'gamma': 0.0001, 'kernel': 'rbf'}\n",
      "0.835821 (0.007038) with: {'C': 0.7, 'class_weight': 'balanced', 'gamma': 0.0001, 'kernel': 'sigmoid'}\n",
      "0.902985 (0.039787) with: {'C': 0.9, 'class_weight': 'balanced', 'gamma': 0.01, 'kernel': 'linear'}\n",
      "0.850746 (0.013606) with: {'C': 0.9, 'class_weight': 'balanced', 'gamma': 0.01, 'kernel': 'poly'}\n",
      "0.910448 (0.036883) with: {'C': 0.9, 'class_weight': 'balanced', 'gamma': 0.01, 'kernel': 'rbf'}\n",
      "0.910448 (0.036883) with: {'C': 0.9, 'class_weight': 'balanced', 'gamma': 0.01, 'kernel': 'sigmoid'}\n",
      "0.902985 (0.039787) with: {'C': 0.9, 'class_weight': 'balanced', 'gamma': 0.001, 'kernel': 'linear'}\n",
      "0.835821 (0.007038) with: {'C': 0.9, 'class_weight': 'balanced', 'gamma': 0.001, 'kernel': 'poly'}\n",
      "0.880597 (0.020071) with: {'C': 0.9, 'class_weight': 'balanced', 'gamma': 0.001, 'kernel': 'rbf'}\n",
      "0.865672 (0.002815) with: {'C': 0.9, 'class_weight': 'balanced', 'gamma': 0.001, 'kernel': 'sigmoid'}\n",
      "0.902985 (0.039787) with: {'C': 0.9, 'class_weight': 'balanced', 'gamma': 0.0001, 'kernel': 'linear'}\n",
      "0.835821 (0.007038) with: {'C': 0.9, 'class_weight': 'balanced', 'gamma': 0.0001, 'kernel': 'poly'}\n",
      "0.850746 (0.017829) with: {'C': 0.9, 'class_weight': 'balanced', 'gamma': 0.0001, 'kernel': 'rbf'}\n",
      "0.850746 (0.017829) with: {'C': 0.9, 'class_weight': 'balanced', 'gamma': 0.0001, 'kernel': 'sigmoid'}\n",
      "0.902985 (0.039787) with: {'C': 1.0, 'class_weight': 'balanced', 'gamma': 0.01, 'kernel': 'linear'}\n",
      "0.850746 (0.013606) with: {'C': 1.0, 'class_weight': 'balanced', 'gamma': 0.01, 'kernel': 'poly'}\n",
      "0.910448 (0.036883) with: {'C': 1.0, 'class_weight': 'balanced', 'gamma': 0.01, 'kernel': 'rbf'}\n",
      "0.910448 (0.036883) with: {'C': 1.0, 'class_weight': 'balanced', 'gamma': 0.01, 'kernel': 'sigmoid'}\n",
      "0.902985 (0.039787) with: {'C': 1.0, 'class_weight': 'balanced', 'gamma': 0.001, 'kernel': 'linear'}\n",
      "0.835821 (0.007038) with: {'C': 1.0, 'class_weight': 'balanced', 'gamma': 0.001, 'kernel': 'poly'}\n",
      "0.880597 (0.020071) with: {'C': 1.0, 'class_weight': 'balanced', 'gamma': 0.001, 'kernel': 'rbf'}\n",
      "0.865672 (0.002815) with: {'C': 1.0, 'class_weight': 'balanced', 'gamma': 0.001, 'kernel': 'sigmoid'}\n",
      "0.902985 (0.039787) with: {'C': 1.0, 'class_weight': 'balanced', 'gamma': 0.0001, 'kernel': 'linear'}\n",
      "0.835821 (0.007038) with: {'C': 1.0, 'class_weight': 'balanced', 'gamma': 0.0001, 'kernel': 'poly'}\n",
      "0.850746 (0.017829) with: {'C': 1.0, 'class_weight': 'balanced', 'gamma': 0.0001, 'kernel': 'rbf'}\n",
      "0.850746 (0.017829) with: {'C': 1.0, 'class_weight': 'balanced', 'gamma': 0.0001, 'kernel': 'sigmoid'}\n",
      "0.902985 (0.039787) with: {'C': 1.3, 'class_weight': 'balanced', 'gamma': 0.01, 'kernel': 'linear'}\n",
      "0.850746 (0.013606) with: {'C': 1.3, 'class_weight': 'balanced', 'gamma': 0.01, 'kernel': 'poly'}\n",
      "0.910448 (0.036883) with: {'C': 1.3, 'class_weight': 'balanced', 'gamma': 0.01, 'kernel': 'rbf'}\n",
      "0.902985 (0.046615) with: {'C': 1.3, 'class_weight': 'balanced', 'gamma': 0.01, 'kernel': 'sigmoid'}\n",
      "0.902985 (0.039787) with: {'C': 1.3, 'class_weight': 'balanced', 'gamma': 0.001, 'kernel': 'linear'}\n",
      "0.835821 (0.007038) with: {'C': 1.3, 'class_weight': 'balanced', 'gamma': 0.001, 'kernel': 'poly'}\n",
      "0.888060 (0.030692) with: {'C': 1.3, 'class_weight': 'balanced', 'gamma': 0.001, 'kernel': 'rbf'}\n",
      "0.873134 (0.009564) with: {'C': 1.3, 'class_weight': 'balanced', 'gamma': 0.001, 'kernel': 'sigmoid'}\n",
      "0.902985 (0.039787) with: {'C': 1.3, 'class_weight': 'balanced', 'gamma': 0.0001, 'kernel': 'linear'}\n",
      "0.835821 (0.007038) with: {'C': 1.3, 'class_weight': 'balanced', 'gamma': 0.0001, 'kernel': 'poly'}\n",
      "0.850746 (0.017829) with: {'C': 1.3, 'class_weight': 'balanced', 'gamma': 0.0001, 'kernel': 'rbf'}\n",
      "0.850746 (0.017829) with: {'C': 1.3, 'class_weight': 'balanced', 'gamma': 0.0001, 'kernel': 'sigmoid'}\n",
      "0.902985 (0.039787) with: {'C': 1.5, 'class_weight': 'balanced', 'gamma': 0.01, 'kernel': 'linear'}\n",
      "0.850746 (0.009448) with: {'C': 1.5, 'class_weight': 'balanced', 'gamma': 0.01, 'kernel': 'poly'}\n",
      "0.902985 (0.037791) with: {'C': 1.5, 'class_weight': 'balanced', 'gamma': 0.01, 'kernel': 'rbf'}\n",
      "0.910448 (0.036883) with: {'C': 1.5, 'class_weight': 'balanced', 'gamma': 0.01, 'kernel': 'sigmoid'}\n",
      "0.902985 (0.039787) with: {'C': 1.5, 'class_weight': 'balanced', 'gamma': 0.001, 'kernel': 'linear'}\n",
      "0.835821 (0.007038) with: {'C': 1.5, 'class_weight': 'balanced', 'gamma': 0.001, 'kernel': 'poly'}\n",
      "0.895522 (0.041341) with: {'C': 1.5, 'class_weight': 'balanced', 'gamma': 0.001, 'kernel': 'rbf'}\n",
      "0.880597 (0.012030) with: {'C': 1.5, 'class_weight': 'balanced', 'gamma': 0.001, 'kernel': 'sigmoid'}\n",
      "0.902985 (0.039787) with: {'C': 1.5, 'class_weight': 'balanced', 'gamma': 0.0001, 'kernel': 'linear'}\n",
      "0.835821 (0.007038) with: {'C': 1.5, 'class_weight': 'balanced', 'gamma': 0.0001, 'kernel': 'poly'}\n",
      "0.850746 (0.017829) with: {'C': 1.5, 'class_weight': 'balanced', 'gamma': 0.0001, 'kernel': 'rbf'}\n",
      "0.850746 (0.017829) with: {'C': 1.5, 'class_weight': 'balanced', 'gamma': 0.0001, 'kernel': 'sigmoid'}\n",
      "0.902985 (0.039787) with: {'C': 1.7, 'class_weight': 'balanced', 'gamma': 0.01, 'kernel': 'linear'}\n",
      "0.850746 (0.009448) with: {'C': 1.7, 'class_weight': 'balanced', 'gamma': 0.01, 'kernel': 'poly'}\n",
      "0.895522 (0.041341) with: {'C': 1.7, 'class_weight': 'balanced', 'gamma': 0.01, 'kernel': 'rbf'}\n",
      "0.917910 (0.027850) with: {'C': 1.7, 'class_weight': 'balanced', 'gamma': 0.01, 'kernel': 'sigmoid'}\n",
      "0.902985 (0.039787) with: {'C': 1.7, 'class_weight': 'balanced', 'gamma': 0.001, 'kernel': 'linear'}\n",
      "0.835821 (0.007038) with: {'C': 1.7, 'class_weight': 'balanced', 'gamma': 0.001, 'kernel': 'poly'}\n",
      "0.902985 (0.037791) with: {'C': 1.7, 'class_weight': 'balanced', 'gamma': 0.001, 'kernel': 'rbf'}\n",
      "0.880597 (0.020071) with: {'C': 1.7, 'class_weight': 'balanced', 'gamma': 0.001, 'kernel': 'sigmoid'}\n",
      "0.902985 (0.039787) with: {'C': 1.7, 'class_weight': 'balanced', 'gamma': 0.0001, 'kernel': 'linear'}\n",
      "0.835821 (0.007038) with: {'C': 1.7, 'class_weight': 'balanced', 'gamma': 0.0001, 'kernel': 'poly'}\n",
      "0.835821 (0.007038) with: {'C': 1.7, 'class_weight': 'balanced', 'gamma': 0.0001, 'kernel': 'rbf'}\n",
      "0.835821 (0.007038) with: {'C': 1.7, 'class_weight': 'balanced', 'gamma': 0.0001, 'kernel': 'sigmoid'}\n",
      "0.902985 (0.039787) with: {'C': 2.0, 'class_weight': 'balanced', 'gamma': 0.01, 'kernel': 'linear'}\n",
      "0.850746 (0.009448) with: {'C': 2.0, 'class_weight': 'balanced', 'gamma': 0.01, 'kernel': 'poly'}\n",
      "0.895522 (0.041341) with: {'C': 2.0, 'class_weight': 'balanced', 'gamma': 0.01, 'kernel': 'rbf'}\n",
      "0.917910 (0.027850) with: {'C': 2.0, 'class_weight': 'balanced', 'gamma': 0.01, 'kernel': 'sigmoid'}\n",
      "0.902985 (0.039787) with: {'C': 2.0, 'class_weight': 'balanced', 'gamma': 0.001, 'kernel': 'linear'}\n",
      "0.835821 (0.007038) with: {'C': 2.0, 'class_weight': 'balanced', 'gamma': 0.001, 'kernel': 'poly'}\n",
      "0.902985 (0.037791) with: {'C': 2.0, 'class_weight': 'balanced', 'gamma': 0.001, 'kernel': 'rbf'}\n",
      "0.880597 (0.020071) with: {'C': 2.0, 'class_weight': 'balanced', 'gamma': 0.001, 'kernel': 'sigmoid'}\n",
      "0.902985 (0.039787) with: {'C': 2.0, 'class_weight': 'balanced', 'gamma': 0.0001, 'kernel': 'linear'}\n",
      "0.835821 (0.007038) with: {'C': 2.0, 'class_weight': 'balanced', 'gamma': 0.0001, 'kernel': 'poly'}\n",
      "0.850746 (0.017829) with: {'C': 2.0, 'class_weight': 'balanced', 'gamma': 0.0001, 'kernel': 'rbf'}\n",
      "0.850746 (0.017829) with: {'C': 2.0, 'class_weight': 'balanced', 'gamma': 0.0001, 'kernel': 'sigmoid'}\n",
      "0.910448 (0.049886) with: {'C': 3.0, 'class_weight': 'balanced', 'gamma': 0.01, 'kernel': 'linear'}\n",
      "0.850746 (0.009448) with: {'C': 3.0, 'class_weight': 'balanced', 'gamma': 0.01, 'kernel': 'poly'}\n",
      "0.895522 (0.027794) with: {'C': 3.0, 'class_weight': 'balanced', 'gamma': 0.01, 'kernel': 'rbf'}\n",
      "0.910448 (0.030900) with: {'C': 3.0, 'class_weight': 'balanced', 'gamma': 0.01, 'kernel': 'sigmoid'}\n",
      "0.910448 (0.049886) with: {'C': 3.0, 'class_weight': 'balanced', 'gamma': 0.001, 'kernel': 'linear'}\n",
      "0.835821 (0.007038) with: {'C': 3.0, 'class_weight': 'balanced', 'gamma': 0.001, 'kernel': 'poly'}\n",
      "0.902985 (0.037791) with: {'C': 3.0, 'class_weight': 'balanced', 'gamma': 0.001, 'kernel': 'rbf'}\n",
      "0.895522 (0.041341) with: {'C': 3.0, 'class_weight': 'balanced', 'gamma': 0.001, 'kernel': 'sigmoid'}\n",
      "0.910448 (0.049886) with: {'C': 3.0, 'class_weight': 'balanced', 'gamma': 0.0001, 'kernel': 'linear'}\n",
      "0.835821 (0.007038) with: {'C': 3.0, 'class_weight': 'balanced', 'gamma': 0.0001, 'kernel': 'poly'}\n",
      "0.865672 (0.002815) with: {'C': 3.0, 'class_weight': 'balanced', 'gamma': 0.0001, 'kernel': 'rbf'}\n",
      "0.850746 (0.017829) with: {'C': 3.0, 'class_weight': 'balanced', 'gamma': 0.0001, 'kernel': 'sigmoid'}\n"
     ]
    }
   ],
   "source": [
    "#####grid search (the parameters predict everything to one class, we should use a separated \n",
    "#sample for tuning parameters, but not enough cases so far)\n",
    "svc = svm.SVC()\n",
    "parameters = [{'kernel': ['linear', 'poly', 'rbf', 'sigmoid'], 'gamma': [0.01, 0.001, 0.0001],\n",
    "                     'C': [0.1, 0.3, 0.5, 0.7, 0.9, 1.0, 1.3, 1.5, 1.7, 2.0,3.0], 'class_weight':['balanced']}]\n",
    "                   \n",
    "grid_search_item = GridSearchCV(estimator = svc,\n",
    "                          param_grid = parameters,\n",
    "                           scoring = 'accuracy',\n",
    "                           n_jobs = -1)\n",
    "grid_search = grid_search_item.fit(X_train, y_train)\n",
    "\n",
    "print(grid_search.best_score_)####not sure how come this is so good,but the parameters don't work good in the model\n",
    "print(grid_search.best_params_)\n",
    "\n",
    "means = grid_search.cv_results_['mean_test_score']\n",
    "stds = grid_search.cv_results_['std_test_score']\n",
    "params = grid_search.cv_results_['params']\n",
    "for mean, stdev, param in zip(means, stds, params):\n",
    "    print(\"%f (%f) with: %r\" % (mean, stdev, param))\n",
    "    \n",
    "0.888060 (0.016236) with: {'C': 0.1, 'class_weight': 'balanced', 'gamma': 0.01, 'kernel': 'sigmoid'}"
   ]
  },
  {
   "cell_type": "code",
   "execution_count": 520,
   "metadata": {},
   "outputs": [
    {
     "data": {
      "text/plain": [
       "SVC(C=0.5, cache_size=200, class_weight='balanced', coef0=0.0,\n",
       "  decision_function_shape='ovr', degree=3, gamma=0.01, kernel='linear',\n",
       "  max_iter=-1, probability=True, random_state=None, shrinking=True,\n",
       "  tol=0.001, verbose=False)"
      ]
     },
     "execution_count": 520,
     "metadata": {},
     "output_type": "execute_result"
    }
   ],
   "source": [
    "svc = svm.SVC(gamma=0.01, class_weight='balanced', C = 0.5, kernel = 'linear')\n",
    "svc.fit(X_train, y_train) "
   ]
  },
  {
   "cell_type": "code",
   "execution_count": 521,
   "metadata": {},
   "outputs": [
    {
     "data": {
      "text/plain": [
       "array([ 0.,  0.,  0.,  0.,  1.,  0.,  0.,  1.,  0.,  1.,  0.,  0.,  0.,\n",
       "        0.,  0.,  0.,  1.,  0.,  0.,  0.,  1.,  0.,  0.,  1.,  0.,  0.,\n",
       "        0.,  0.,  0.,  0.,  0.,  0.,  0.,  0.,  0.,  0.,  0.,  0.,  0.,\n",
       "        0.,  1.,  0.,  0.,  0.,  1.,  0.,  0.,  0.,  0.,  0.,  0.,  0.,\n",
       "        0.,  0.,  0.,  0.,  0.,  1.,  0.,  0.,  0.,  0.,  0.,  0.,  0.,  0.])"
      ]
     },
     "execution_count": 521,
     "metadata": {},
     "output_type": "execute_result"
    }
   ],
   "source": [
    "y = svc.predict(X_test)\n",
    "y"
   ]
  },
  {
   "cell_type": "code",
   "execution_count": 522,
   "metadata": {},
   "outputs": [
    {
     "data": {
      "text/plain": [
       "array([ 0.,  0.,  0.,  0.,  0.,  0.,  0.,  1.,  0.,  1.,  0.,  0.,  0.,\n",
       "        0.,  0.,  0.,  1.,  0.,  0.,  0.,  0.,  0.,  0.,  1.,  0.,  0.,\n",
       "        0.,  0.,  0.,  0.,  0.,  0.,  0.,  0.,  0.,  0.,  0.,  0.,  0.,\n",
       "        0.,  1.,  0.,  0.,  0.,  1.,  0.,  0.,  0.,  0.,  1.,  0.,  0.,\n",
       "        0.,  0.,  1.,  0.,  0.,  1.,  0.,  0.,  0.,  0.,  0.,  0.,  1.,  0.])"
      ]
     },
     "execution_count": 522,
     "metadata": {},
     "output_type": "execute_result"
    }
   ],
   "source": [
    "y_test"
   ]
  },
  {
   "cell_type": "code",
   "execution_count": 523,
   "metadata": {},
   "outputs": [
    {
     "name": "stdout",
     "output_type": "stream",
     "text": [
      "[[54  2]\n",
      " [ 3  7]]\n",
      "[ 0.95575221  0.73684211]\n"
     ]
    }
   ],
   "source": [
    "cm = confusion_matrix(y_test, y)\n",
    "print(cm)\n",
    "print(f1_score(y_test, y, average= None) )"
   ]
  },
  {
   "cell_type": "markdown",
   "metadata": {},
   "source": [
    "####SGDClassifier "
   ]
  },
  {
   "cell_type": "code",
   "execution_count": 407,
   "metadata": {},
   "outputs": [
    {
     "name": "stdout",
     "output_type": "stream",
     "text": [
      "0.880597014925\n",
      "{'alpha': 0.001, 'class_weight': {1: 15}}\n"
     ]
    }
   ],
   "source": [
    "#####grid search (the parameters predict everything to one class, we should use a separated \n",
    "#sample for tuning parameters, but not enough cases so far)\n",
    "svc = SGDClassifier(max_iter= 1000, alpha=0.05)\n",
    "parameters = [{'alpha': [0.01, 0.05, 0.001, 0.005], 'class_weight':[{1:5, 1:10, 1:15}]}]\n",
    "                   \n",
    "grid_search_item = GridSearchCV(svc,\n",
    "                                cv=5,\n",
    "                          param_grid = parameters,\n",
    "                           scoring = 'accuracy',\n",
    "                           n_jobs = -1)\n",
    "grid_search = grid_search_item.fit(X_train, y_train)\n",
    "\n",
    "print(grid_search.best_score_)####not sure how come this is so good,but the parameters don't work good in the model\n",
    "print(grid_search.best_params_)"
   ]
  },
  {
   "cell_type": "code",
   "execution_count": 408,
   "metadata": {},
   "outputs": [
    {
     "data": {
      "text/plain": [
       "SGDClassifier(alpha=0.001, average=False, class_weight=None, epsilon=0.1,\n",
       "       eta0=0.0, fit_intercept=True, l1_ratio=0.15,\n",
       "       learning_rate='optimal', loss='hinge', max_iter=1000, n_iter=None,\n",
       "       n_jobs=1, penalty='l2', power_t=0.5, random_state=None,\n",
       "       shuffle=True, tol=None, verbose=0, warm_start=False)"
      ]
     },
     "execution_count": 408,
     "metadata": {},
     "output_type": "execute_result"
    }
   ],
   "source": [
    "clf = SGDClassifier(max_iter=1000, alpha=0.001, loss=\"hinge\")\n",
    "clf.fit(X_train, y_train) "
   ]
  },
  {
   "cell_type": "code",
   "execution_count": 409,
   "metadata": {},
   "outputs": [
    {
     "data": {
      "text/plain": [
       "array([ 0.,  0.,  0.,  0.,  0.,  0.,  0.,  0.,  0.,  1.,  0.,  0.,  0.,\n",
       "        0.,  0.,  0.,  1.,  0.,  0.,  0.,  0.,  0.,  0.,  1.,  0.,  0.,\n",
       "        0.,  0.,  0.,  0.,  0.,  0.,  0.,  0.,  0.,  0.,  0.,  0.,  0.,\n",
       "        0.,  1.,  0.,  0.,  0.,  0.,  0.,  0.,  0.,  0.,  0.,  0.,  0.,\n",
       "        0.,  0.,  0.,  0.,  0.,  1.,  0.,  0.,  0.,  0.,  0.,  0.,  0.,  0.])"
      ]
     },
     "execution_count": 409,
     "metadata": {},
     "output_type": "execute_result"
    }
   ],
   "source": [
    "y = clf.predict(X_test)\n",
    "y"
   ]
  },
  {
   "cell_type": "code",
   "execution_count": 410,
   "metadata": {},
   "outputs": [
    {
     "data": {
      "text/plain": [
       "array([ 0.,  0.,  0.,  0.,  0.,  0.,  0.,  1.,  0.,  1.,  0.,  0.,  0.,\n",
       "        0.,  0.,  0.,  1.,  0.,  0.,  0.,  0.,  0.,  0.,  1.,  0.,  0.,\n",
       "        0.,  0.,  0.,  0.,  0.,  0.,  0.,  0.,  0.,  0.,  0.,  0.,  0.,\n",
       "        0.,  1.,  0.,  0.,  0.,  1.,  0.,  0.,  0.,  0.,  1.,  0.,  0.,\n",
       "        0.,  0.,  1.,  0.,  0.,  1.,  0.,  0.,  0.,  0.,  0.,  0.,  1.,  0.])"
      ]
     },
     "execution_count": 410,
     "metadata": {},
     "output_type": "execute_result"
    }
   ],
   "source": [
    "y_test"
   ]
  },
  {
   "cell_type": "code",
   "execution_count": 411,
   "metadata": {},
   "outputs": [
    {
     "name": "stdout",
     "output_type": "stream",
     "text": [
      "[ 0.95726496  0.66666667]\n",
      "[[56  0]\n",
      " [ 5  5]]\n"
     ]
    }
   ],
   "source": [
    "print(f1_score(y_test, y, average= None))\n",
    "cm = confusion_matrix(y_test, y)\n",
    "print(cm)"
   ]
  },
  {
   "cell_type": "code",
   "execution_count": null,
   "metadata": {
    "collapsed": true
   },
   "outputs": [],
   "source": [
    "########recode data"
   ]
  },
  {
   "cell_type": "code",
   "execution_count": 122,
   "metadata": {},
   "outputs": [
    {
     "data": {
      "text/plain": [
       "1       quote\n",
       "2       quote\n",
       "3       quote\n",
       "4    NotQuote\n",
       "Name: label, dtype: object"
      ]
     },
     "execution_count": 122,
     "metadata": {},
     "output_type": "execute_result"
    }
   ],
   "source": [
    "file  = pd.read_csv('MLData.csv')\n",
    "file['label'][1:5]"
   ]
  },
  {
   "cell_type": "code",
   "execution_count": 125,
   "metadata": {
    "collapsed": true,
    "scrolled": true
   },
   "outputs": [],
   "source": [
    "def recode(series):\n",
    "    if 'quote' in series:\n",
    "        return 1\n",
    "    else:\n",
    "        return 0\n",
    "    \n",
    "file['label'] = file['label'].apply(recode)"
   ]
  },
  {
   "cell_type": "code",
   "execution_count": 127,
   "metadata": {},
   "outputs": [
    {
     "name": "stdout",
     "output_type": "stream",
     "text": [
      "1    1\n",
      "2    1\n",
      "3    1\n",
      "4    0\n",
      "Name: label, dtype: int64\n"
     ]
    }
   ],
   "source": [
    "print(file['label'][1:5])\n",
    "file.to_csv('MLData_recode.csv')"
   ]
  },
  {
   "cell_type": "markdown",
   "metadata": {
    "collapsed": true
   },
   "source": [
    "###random forest"
   ]
  },
  {
   "cell_type": "code",
   "execution_count": 412,
   "metadata": {
    "collapsed": true
   },
   "outputs": [],
   "source": [
    "rf = RandomForestClassifier()"
   ]
  },
  {
   "cell_type": "code",
   "execution_count": 536,
   "metadata": {},
   "outputs": [
    {
     "name": "stdout",
     "output_type": "stream",
     "text": [
      "0.970149253731\n",
      "{'class_weight': 'balanced', 'max_depth': 2, 'max_features': 'auto', 'max_leaf_nodes': 10, 'n_estimators': 100}\n",
      "0.955224 (0.019032) with: {'class_weight': 'balanced', 'max_depth': 2, 'max_features': 'auto', 'max_leaf_nodes': 10, 'n_estimators': 50}\n",
      "0.970149 (0.010918) with: {'class_weight': 'balanced', 'max_depth': 2, 'max_features': 'auto', 'max_leaf_nodes': 10, 'n_estimators': 100}\n",
      "0.955224 (0.032259) with: {'class_weight': 'balanced', 'max_depth': 2, 'max_features': 'auto', 'max_leaf_nodes': 10, 'n_estimators': 200}\n",
      "0.947761 (0.028343) with: {'class_weight': 'balanced', 'max_depth': 2, 'max_features': 'auto', 'max_leaf_nodes': 10, 'n_estimators': 300}\n",
      "0.955224 (0.032259) with: {'class_weight': 'balanced', 'max_depth': 2, 'max_features': 'auto', 'max_leaf_nodes': 10, 'n_estimators': 400}\n",
      "0.955224 (0.019032) with: {'class_weight': 'balanced', 'max_depth': 2, 'max_features': 'auto', 'max_leaf_nodes': 50, 'n_estimators': 50}\n",
      "0.970149 (0.010918) with: {'class_weight': 'balanced', 'max_depth': 2, 'max_features': 'auto', 'max_leaf_nodes': 50, 'n_estimators': 100}\n",
      "0.955224 (0.032259) with: {'class_weight': 'balanced', 'max_depth': 2, 'max_features': 'auto', 'max_leaf_nodes': 50, 'n_estimators': 200}\n",
      "0.947761 (0.028343) with: {'class_weight': 'balanced', 'max_depth': 2, 'max_features': 'auto', 'max_leaf_nodes': 50, 'n_estimators': 300}\n",
      "0.955224 (0.032259) with: {'class_weight': 'balanced', 'max_depth': 2, 'max_features': 'auto', 'max_leaf_nodes': 50, 'n_estimators': 400}\n",
      "0.955224 (0.019032) with: {'class_weight': 'balanced', 'max_depth': 2, 'max_features': 'auto', 'max_leaf_nodes': 100, 'n_estimators': 50}\n",
      "0.970149 (0.010918) with: {'class_weight': 'balanced', 'max_depth': 2, 'max_features': 'auto', 'max_leaf_nodes': 100, 'n_estimators': 100}\n",
      "0.955224 (0.032259) with: {'class_weight': 'balanced', 'max_depth': 2, 'max_features': 'auto', 'max_leaf_nodes': 100, 'n_estimators': 200}\n",
      "0.947761 (0.028343) with: {'class_weight': 'balanced', 'max_depth': 2, 'max_features': 'auto', 'max_leaf_nodes': 100, 'n_estimators': 300}\n",
      "0.955224 (0.032259) with: {'class_weight': 'balanced', 'max_depth': 2, 'max_features': 'auto', 'max_leaf_nodes': 100, 'n_estimators': 400}\n",
      "0.955224 (0.019032) with: {'class_weight': 'balanced', 'max_depth': 2, 'max_features': 'sqrt', 'max_leaf_nodes': 10, 'n_estimators': 50}\n",
      "0.970149 (0.010918) with: {'class_weight': 'balanced', 'max_depth': 2, 'max_features': 'sqrt', 'max_leaf_nodes': 10, 'n_estimators': 100}\n",
      "0.955224 (0.032259) with: {'class_weight': 'balanced', 'max_depth': 2, 'max_features': 'sqrt', 'max_leaf_nodes': 10, 'n_estimators': 200}\n",
      "0.947761 (0.028343) with: {'class_weight': 'balanced', 'max_depth': 2, 'max_features': 'sqrt', 'max_leaf_nodes': 10, 'n_estimators': 300}\n",
      "0.955224 (0.032259) with: {'class_weight': 'balanced', 'max_depth': 2, 'max_features': 'sqrt', 'max_leaf_nodes': 10, 'n_estimators': 400}\n",
      "0.955224 (0.019032) with: {'class_weight': 'balanced', 'max_depth': 2, 'max_features': 'sqrt', 'max_leaf_nodes': 50, 'n_estimators': 50}\n",
      "0.970149 (0.010918) with: {'class_weight': 'balanced', 'max_depth': 2, 'max_features': 'sqrt', 'max_leaf_nodes': 50, 'n_estimators': 100}\n",
      "0.955224 (0.032259) with: {'class_weight': 'balanced', 'max_depth': 2, 'max_features': 'sqrt', 'max_leaf_nodes': 50, 'n_estimators': 200}\n",
      "0.947761 (0.028343) with: {'class_weight': 'balanced', 'max_depth': 2, 'max_features': 'sqrt', 'max_leaf_nodes': 50, 'n_estimators': 300}\n",
      "0.955224 (0.032259) with: {'class_weight': 'balanced', 'max_depth': 2, 'max_features': 'sqrt', 'max_leaf_nodes': 50, 'n_estimators': 400}\n",
      "0.955224 (0.019032) with: {'class_weight': 'balanced', 'max_depth': 2, 'max_features': 'sqrt', 'max_leaf_nodes': 100, 'n_estimators': 50}\n",
      "0.970149 (0.010918) with: {'class_weight': 'balanced', 'max_depth': 2, 'max_features': 'sqrt', 'max_leaf_nodes': 100, 'n_estimators': 100}\n",
      "0.955224 (0.032259) with: {'class_weight': 'balanced', 'max_depth': 2, 'max_features': 'sqrt', 'max_leaf_nodes': 100, 'n_estimators': 200}\n",
      "0.947761 (0.028343) with: {'class_weight': 'balanced', 'max_depth': 2, 'max_features': 'sqrt', 'max_leaf_nodes': 100, 'n_estimators': 300}\n",
      "0.955224 (0.032259) with: {'class_weight': 'balanced', 'max_depth': 2, 'max_features': 'sqrt', 'max_leaf_nodes': 100, 'n_estimators': 400}\n",
      "0.955224 (0.019032) with: {'class_weight': 'balanced', 'max_depth': 2, 'max_features': 'log2', 'max_leaf_nodes': 10, 'n_estimators': 50}\n",
      "0.970149 (0.010918) with: {'class_weight': 'balanced', 'max_depth': 2, 'max_features': 'log2', 'max_leaf_nodes': 10, 'n_estimators': 100}\n",
      "0.955224 (0.032259) with: {'class_weight': 'balanced', 'max_depth': 2, 'max_features': 'log2', 'max_leaf_nodes': 10, 'n_estimators': 200}\n",
      "0.947761 (0.028343) with: {'class_weight': 'balanced', 'max_depth': 2, 'max_features': 'log2', 'max_leaf_nodes': 10, 'n_estimators': 300}\n",
      "0.955224 (0.032259) with: {'class_weight': 'balanced', 'max_depth': 2, 'max_features': 'log2', 'max_leaf_nodes': 10, 'n_estimators': 400}\n",
      "0.955224 (0.019032) with: {'class_weight': 'balanced', 'max_depth': 2, 'max_features': 'log2', 'max_leaf_nodes': 50, 'n_estimators': 50}\n",
      "0.970149 (0.010918) with: {'class_weight': 'balanced', 'max_depth': 2, 'max_features': 'log2', 'max_leaf_nodes': 50, 'n_estimators': 100}\n",
      "0.955224 (0.032259) with: {'class_weight': 'balanced', 'max_depth': 2, 'max_features': 'log2', 'max_leaf_nodes': 50, 'n_estimators': 200}\n",
      "0.947761 (0.028343) with: {'class_weight': 'balanced', 'max_depth': 2, 'max_features': 'log2', 'max_leaf_nodes': 50, 'n_estimators': 300}\n",
      "0.955224 (0.032259) with: {'class_weight': 'balanced', 'max_depth': 2, 'max_features': 'log2', 'max_leaf_nodes': 50, 'n_estimators': 400}\n",
      "0.955224 (0.019032) with: {'class_weight': 'balanced', 'max_depth': 2, 'max_features': 'log2', 'max_leaf_nodes': 100, 'n_estimators': 50}\n",
      "0.970149 (0.010918) with: {'class_weight': 'balanced', 'max_depth': 2, 'max_features': 'log2', 'max_leaf_nodes': 100, 'n_estimators': 100}\n",
      "0.955224 (0.032259) with: {'class_weight': 'balanced', 'max_depth': 2, 'max_features': 'log2', 'max_leaf_nodes': 100, 'n_estimators': 200}\n",
      "0.947761 (0.028343) with: {'class_weight': 'balanced', 'max_depth': 2, 'max_features': 'log2', 'max_leaf_nodes': 100, 'n_estimators': 300}\n",
      "0.955224 (0.032259) with: {'class_weight': 'balanced', 'max_depth': 2, 'max_features': 'log2', 'max_leaf_nodes': 100, 'n_estimators': 400}\n",
      "0.962687 (0.010231) with: {'class_weight': 'balanced', 'max_depth': 5, 'max_features': 'auto', 'max_leaf_nodes': 10, 'n_estimators': 50}\n",
      "0.962687 (0.010231) with: {'class_weight': 'balanced', 'max_depth': 5, 'max_features': 'auto', 'max_leaf_nodes': 10, 'n_estimators': 100}\n",
      "0.955224 (0.018442) with: {'class_weight': 'balanced', 'max_depth': 5, 'max_features': 'auto', 'max_leaf_nodes': 10, 'n_estimators': 200}\n",
      "0.955224 (0.018442) with: {'class_weight': 'balanced', 'max_depth': 5, 'max_features': 'auto', 'max_leaf_nodes': 10, 'n_estimators': 300}\n",
      "0.955224 (0.018442) with: {'class_weight': 'balanced', 'max_depth': 5, 'max_features': 'auto', 'max_leaf_nodes': 10, 'n_estimators': 400}\n",
      "0.962687 (0.010231) with: {'class_weight': 'balanced', 'max_depth': 5, 'max_features': 'auto', 'max_leaf_nodes': 50, 'n_estimators': 50}\n",
      "0.962687 (0.010231) with: {'class_weight': 'balanced', 'max_depth': 5, 'max_features': 'auto', 'max_leaf_nodes': 50, 'n_estimators': 100}\n",
      "0.955224 (0.018442) with: {'class_weight': 'balanced', 'max_depth': 5, 'max_features': 'auto', 'max_leaf_nodes': 50, 'n_estimators': 200}\n",
      "0.962687 (0.010231) with: {'class_weight': 'balanced', 'max_depth': 5, 'max_features': 'auto', 'max_leaf_nodes': 50, 'n_estimators': 300}\n",
      "0.962687 (0.010231) with: {'class_weight': 'balanced', 'max_depth': 5, 'max_features': 'auto', 'max_leaf_nodes': 50, 'n_estimators': 400}\n",
      "0.962687 (0.010231) with: {'class_weight': 'balanced', 'max_depth': 5, 'max_features': 'auto', 'max_leaf_nodes': 100, 'n_estimators': 50}\n",
      "0.962687 (0.010231) with: {'class_weight': 'balanced', 'max_depth': 5, 'max_features': 'auto', 'max_leaf_nodes': 100, 'n_estimators': 100}\n",
      "0.955224 (0.018442) with: {'class_weight': 'balanced', 'max_depth': 5, 'max_features': 'auto', 'max_leaf_nodes': 100, 'n_estimators': 200}\n",
      "0.962687 (0.010231) with: {'class_weight': 'balanced', 'max_depth': 5, 'max_features': 'auto', 'max_leaf_nodes': 100, 'n_estimators': 300}\n",
      "0.962687 (0.010231) with: {'class_weight': 'balanced', 'max_depth': 5, 'max_features': 'auto', 'max_leaf_nodes': 100, 'n_estimators': 400}\n",
      "0.962687 (0.010231) with: {'class_weight': 'balanced', 'max_depth': 5, 'max_features': 'sqrt', 'max_leaf_nodes': 10, 'n_estimators': 50}\n",
      "0.962687 (0.010231) with: {'class_weight': 'balanced', 'max_depth': 5, 'max_features': 'sqrt', 'max_leaf_nodes': 10, 'n_estimators': 100}\n",
      "0.955224 (0.018442) with: {'class_weight': 'balanced', 'max_depth': 5, 'max_features': 'sqrt', 'max_leaf_nodes': 10, 'n_estimators': 200}\n",
      "0.955224 (0.018442) with: {'class_weight': 'balanced', 'max_depth': 5, 'max_features': 'sqrt', 'max_leaf_nodes': 10, 'n_estimators': 300}\n",
      "0.955224 (0.018442) with: {'class_weight': 'balanced', 'max_depth': 5, 'max_features': 'sqrt', 'max_leaf_nodes': 10, 'n_estimators': 400}\n",
      "0.962687 (0.010231) with: {'class_weight': 'balanced', 'max_depth': 5, 'max_features': 'sqrt', 'max_leaf_nodes': 50, 'n_estimators': 50}\n",
      "0.962687 (0.010231) with: {'class_weight': 'balanced', 'max_depth': 5, 'max_features': 'sqrt', 'max_leaf_nodes': 50, 'n_estimators': 100}\n",
      "0.955224 (0.018442) with: {'class_weight': 'balanced', 'max_depth': 5, 'max_features': 'sqrt', 'max_leaf_nodes': 50, 'n_estimators': 200}\n",
      "0.962687 (0.010231) with: {'class_weight': 'balanced', 'max_depth': 5, 'max_features': 'sqrt', 'max_leaf_nodes': 50, 'n_estimators': 300}\n",
      "0.962687 (0.010231) with: {'class_weight': 'balanced', 'max_depth': 5, 'max_features': 'sqrt', 'max_leaf_nodes': 50, 'n_estimators': 400}\n",
      "0.962687 (0.010231) with: {'class_weight': 'balanced', 'max_depth': 5, 'max_features': 'sqrt', 'max_leaf_nodes': 100, 'n_estimators': 50}\n",
      "0.962687 (0.010231) with: {'class_weight': 'balanced', 'max_depth': 5, 'max_features': 'sqrt', 'max_leaf_nodes': 100, 'n_estimators': 100}\n",
      "0.955224 (0.018442) with: {'class_weight': 'balanced', 'max_depth': 5, 'max_features': 'sqrt', 'max_leaf_nodes': 100, 'n_estimators': 200}\n",
      "0.962687 (0.010231) with: {'class_weight': 'balanced', 'max_depth': 5, 'max_features': 'sqrt', 'max_leaf_nodes': 100, 'n_estimators': 300}\n",
      "0.962687 (0.010231) with: {'class_weight': 'balanced', 'max_depth': 5, 'max_features': 'sqrt', 'max_leaf_nodes': 100, 'n_estimators': 400}\n",
      "0.962687 (0.010231) with: {'class_weight': 'balanced', 'max_depth': 5, 'max_features': 'log2', 'max_leaf_nodes': 10, 'n_estimators': 50}\n",
      "0.962687 (0.010231) with: {'class_weight': 'balanced', 'max_depth': 5, 'max_features': 'log2', 'max_leaf_nodes': 10, 'n_estimators': 100}\n",
      "0.955224 (0.018442) with: {'class_weight': 'balanced', 'max_depth': 5, 'max_features': 'log2', 'max_leaf_nodes': 10, 'n_estimators': 200}\n",
      "0.955224 (0.018442) with: {'class_weight': 'balanced', 'max_depth': 5, 'max_features': 'log2', 'max_leaf_nodes': 10, 'n_estimators': 300}\n",
      "0.955224 (0.018442) with: {'class_weight': 'balanced', 'max_depth': 5, 'max_features': 'log2', 'max_leaf_nodes': 10, 'n_estimators': 400}\n",
      "0.962687 (0.010231) with: {'class_weight': 'balanced', 'max_depth': 5, 'max_features': 'log2', 'max_leaf_nodes': 50, 'n_estimators': 50}\n",
      "0.962687 (0.010231) with: {'class_weight': 'balanced', 'max_depth': 5, 'max_features': 'log2', 'max_leaf_nodes': 50, 'n_estimators': 100}\n",
      "0.955224 (0.018442) with: {'class_weight': 'balanced', 'max_depth': 5, 'max_features': 'log2', 'max_leaf_nodes': 50, 'n_estimators': 200}\n",
      "0.962687 (0.010231) with: {'class_weight': 'balanced', 'max_depth': 5, 'max_features': 'log2', 'max_leaf_nodes': 50, 'n_estimators': 300}\n",
      "0.962687 (0.010231) with: {'class_weight': 'balanced', 'max_depth': 5, 'max_features': 'log2', 'max_leaf_nodes': 50, 'n_estimators': 400}\n",
      "0.962687 (0.010231) with: {'class_weight': 'balanced', 'max_depth': 5, 'max_features': 'log2', 'max_leaf_nodes': 100, 'n_estimators': 50}\n",
      "0.962687 (0.010231) with: {'class_weight': 'balanced', 'max_depth': 5, 'max_features': 'log2', 'max_leaf_nodes': 100, 'n_estimators': 100}\n",
      "0.955224 (0.018442) with: {'class_weight': 'balanced', 'max_depth': 5, 'max_features': 'log2', 'max_leaf_nodes': 100, 'n_estimators': 200}\n",
      "0.962687 (0.010231) with: {'class_weight': 'balanced', 'max_depth': 5, 'max_features': 'log2', 'max_leaf_nodes': 100, 'n_estimators': 300}\n",
      "0.962687 (0.010231) with: {'class_weight': 'balanced', 'max_depth': 5, 'max_features': 'log2', 'max_leaf_nodes': 100, 'n_estimators': 400}\n",
      "0.962687 (0.010231) with: {'class_weight': 'balanced', 'max_depth': 10, 'max_features': 'auto', 'max_leaf_nodes': 10, 'n_estimators': 50}\n",
      "0.962687 (0.010231) with: {'class_weight': 'balanced', 'max_depth': 10, 'max_features': 'auto', 'max_leaf_nodes': 10, 'n_estimators': 100}\n",
      "0.955224 (0.018442) with: {'class_weight': 'balanced', 'max_depth': 10, 'max_features': 'auto', 'max_leaf_nodes': 10, 'n_estimators': 200}\n",
      "0.955224 (0.018442) with: {'class_weight': 'balanced', 'max_depth': 10, 'max_features': 'auto', 'max_leaf_nodes': 10, 'n_estimators': 300}\n",
      "0.955224 (0.018442) with: {'class_weight': 'balanced', 'max_depth': 10, 'max_features': 'auto', 'max_leaf_nodes': 10, 'n_estimators': 400}\n",
      "0.962687 (0.010231) with: {'class_weight': 'balanced', 'max_depth': 10, 'max_features': 'auto', 'max_leaf_nodes': 50, 'n_estimators': 50}\n",
      "0.962687 (0.010231) with: {'class_weight': 'balanced', 'max_depth': 10, 'max_features': 'auto', 'max_leaf_nodes': 50, 'n_estimators': 100}\n",
      "0.955224 (0.018442) with: {'class_weight': 'balanced', 'max_depth': 10, 'max_features': 'auto', 'max_leaf_nodes': 50, 'n_estimators': 200}\n",
      "0.962687 (0.010231) with: {'class_weight': 'balanced', 'max_depth': 10, 'max_features': 'auto', 'max_leaf_nodes': 50, 'n_estimators': 300}\n",
      "0.962687 (0.010231) with: {'class_weight': 'balanced', 'max_depth': 10, 'max_features': 'auto', 'max_leaf_nodes': 50, 'n_estimators': 400}\n",
      "0.962687 (0.010231) with: {'class_weight': 'balanced', 'max_depth': 10, 'max_features': 'auto', 'max_leaf_nodes': 100, 'n_estimators': 50}\n",
      "0.962687 (0.010231) with: {'class_weight': 'balanced', 'max_depth': 10, 'max_features': 'auto', 'max_leaf_nodes': 100, 'n_estimators': 100}\n",
      "0.955224 (0.018442) with: {'class_weight': 'balanced', 'max_depth': 10, 'max_features': 'auto', 'max_leaf_nodes': 100, 'n_estimators': 200}\n",
      "0.962687 (0.010231) with: {'class_weight': 'balanced', 'max_depth': 10, 'max_features': 'auto', 'max_leaf_nodes': 100, 'n_estimators': 300}\n",
      "0.962687 (0.010231) with: {'class_weight': 'balanced', 'max_depth': 10, 'max_features': 'auto', 'max_leaf_nodes': 100, 'n_estimators': 400}\n",
      "0.962687 (0.010231) with: {'class_weight': 'balanced', 'max_depth': 10, 'max_features': 'sqrt', 'max_leaf_nodes': 10, 'n_estimators': 50}\n",
      "0.962687 (0.010231) with: {'class_weight': 'balanced', 'max_depth': 10, 'max_features': 'sqrt', 'max_leaf_nodes': 10, 'n_estimators': 100}\n",
      "0.955224 (0.018442) with: {'class_weight': 'balanced', 'max_depth': 10, 'max_features': 'sqrt', 'max_leaf_nodes': 10, 'n_estimators': 200}\n",
      "0.955224 (0.018442) with: {'class_weight': 'balanced', 'max_depth': 10, 'max_features': 'sqrt', 'max_leaf_nodes': 10, 'n_estimators': 300}\n",
      "0.955224 (0.018442) with: {'class_weight': 'balanced', 'max_depth': 10, 'max_features': 'sqrt', 'max_leaf_nodes': 10, 'n_estimators': 400}\n",
      "0.962687 (0.010231) with: {'class_weight': 'balanced', 'max_depth': 10, 'max_features': 'sqrt', 'max_leaf_nodes': 50, 'n_estimators': 50}\n",
      "0.962687 (0.010231) with: {'class_weight': 'balanced', 'max_depth': 10, 'max_features': 'sqrt', 'max_leaf_nodes': 50, 'n_estimators': 100}\n",
      "0.955224 (0.018442) with: {'class_weight': 'balanced', 'max_depth': 10, 'max_features': 'sqrt', 'max_leaf_nodes': 50, 'n_estimators': 200}\n",
      "0.962687 (0.010231) with: {'class_weight': 'balanced', 'max_depth': 10, 'max_features': 'sqrt', 'max_leaf_nodes': 50, 'n_estimators': 300}\n",
      "0.962687 (0.010231) with: {'class_weight': 'balanced', 'max_depth': 10, 'max_features': 'sqrt', 'max_leaf_nodes': 50, 'n_estimators': 400}\n",
      "0.962687 (0.010231) with: {'class_weight': 'balanced', 'max_depth': 10, 'max_features': 'sqrt', 'max_leaf_nodes': 100, 'n_estimators': 50}\n",
      "0.962687 (0.010231) with: {'class_weight': 'balanced', 'max_depth': 10, 'max_features': 'sqrt', 'max_leaf_nodes': 100, 'n_estimators': 100}\n",
      "0.955224 (0.018442) with: {'class_weight': 'balanced', 'max_depth': 10, 'max_features': 'sqrt', 'max_leaf_nodes': 100, 'n_estimators': 200}\n",
      "0.962687 (0.010231) with: {'class_weight': 'balanced', 'max_depth': 10, 'max_features': 'sqrt', 'max_leaf_nodes': 100, 'n_estimators': 300}\n",
      "0.962687 (0.010231) with: {'class_weight': 'balanced', 'max_depth': 10, 'max_features': 'sqrt', 'max_leaf_nodes': 100, 'n_estimators': 400}\n",
      "0.962687 (0.010231) with: {'class_weight': 'balanced', 'max_depth': 10, 'max_features': 'log2', 'max_leaf_nodes': 10, 'n_estimators': 50}\n",
      "0.962687 (0.010231) with: {'class_weight': 'balanced', 'max_depth': 10, 'max_features': 'log2', 'max_leaf_nodes': 10, 'n_estimators': 100}\n",
      "0.955224 (0.018442) with: {'class_weight': 'balanced', 'max_depth': 10, 'max_features': 'log2', 'max_leaf_nodes': 10, 'n_estimators': 200}\n",
      "0.955224 (0.018442) with: {'class_weight': 'balanced', 'max_depth': 10, 'max_features': 'log2', 'max_leaf_nodes': 10, 'n_estimators': 300}\n",
      "0.955224 (0.018442) with: {'class_weight': 'balanced', 'max_depth': 10, 'max_features': 'log2', 'max_leaf_nodes': 10, 'n_estimators': 400}\n",
      "0.962687 (0.010231) with: {'class_weight': 'balanced', 'max_depth': 10, 'max_features': 'log2', 'max_leaf_nodes': 50, 'n_estimators': 50}\n",
      "0.962687 (0.010231) with: {'class_weight': 'balanced', 'max_depth': 10, 'max_features': 'log2', 'max_leaf_nodes': 50, 'n_estimators': 100}\n",
      "0.955224 (0.018442) with: {'class_weight': 'balanced', 'max_depth': 10, 'max_features': 'log2', 'max_leaf_nodes': 50, 'n_estimators': 200}\n",
      "0.962687 (0.010231) with: {'class_weight': 'balanced', 'max_depth': 10, 'max_features': 'log2', 'max_leaf_nodes': 50, 'n_estimators': 300}\n",
      "0.962687 (0.010231) with: {'class_weight': 'balanced', 'max_depth': 10, 'max_features': 'log2', 'max_leaf_nodes': 50, 'n_estimators': 400}\n",
      "0.962687 (0.010231) with: {'class_weight': 'balanced', 'max_depth': 10, 'max_features': 'log2', 'max_leaf_nodes': 100, 'n_estimators': 50}\n",
      "0.962687 (0.010231) with: {'class_weight': 'balanced', 'max_depth': 10, 'max_features': 'log2', 'max_leaf_nodes': 100, 'n_estimators': 100}\n",
      "0.955224 (0.018442) with: {'class_weight': 'balanced', 'max_depth': 10, 'max_features': 'log2', 'max_leaf_nodes': 100, 'n_estimators': 200}\n",
      "0.962687 (0.010231) with: {'class_weight': 'balanced', 'max_depth': 10, 'max_features': 'log2', 'max_leaf_nodes': 100, 'n_estimators': 300}\n",
      "0.962687 (0.010231) with: {'class_weight': 'balanced', 'max_depth': 10, 'max_features': 'log2', 'max_leaf_nodes': 100, 'n_estimators': 400}\n",
      "0.962687 (0.010231) with: {'class_weight': 'balanced', 'max_depth': 20, 'max_features': 'auto', 'max_leaf_nodes': 10, 'n_estimators': 50}\n",
      "0.962687 (0.010231) with: {'class_weight': 'balanced', 'max_depth': 20, 'max_features': 'auto', 'max_leaf_nodes': 10, 'n_estimators': 100}\n",
      "0.955224 (0.018442) with: {'class_weight': 'balanced', 'max_depth': 20, 'max_features': 'auto', 'max_leaf_nodes': 10, 'n_estimators': 200}\n",
      "0.955224 (0.018442) with: {'class_weight': 'balanced', 'max_depth': 20, 'max_features': 'auto', 'max_leaf_nodes': 10, 'n_estimators': 300}\n",
      "0.955224 (0.018442) with: {'class_weight': 'balanced', 'max_depth': 20, 'max_features': 'auto', 'max_leaf_nodes': 10, 'n_estimators': 400}\n",
      "0.962687 (0.010231) with: {'class_weight': 'balanced', 'max_depth': 20, 'max_features': 'auto', 'max_leaf_nodes': 50, 'n_estimators': 50}\n",
      "0.962687 (0.010231) with: {'class_weight': 'balanced', 'max_depth': 20, 'max_features': 'auto', 'max_leaf_nodes': 50, 'n_estimators': 100}\n",
      "0.955224 (0.018442) with: {'class_weight': 'balanced', 'max_depth': 20, 'max_features': 'auto', 'max_leaf_nodes': 50, 'n_estimators': 200}\n",
      "0.962687 (0.010231) with: {'class_weight': 'balanced', 'max_depth': 20, 'max_features': 'auto', 'max_leaf_nodes': 50, 'n_estimators': 300}\n",
      "0.962687 (0.010231) with: {'class_weight': 'balanced', 'max_depth': 20, 'max_features': 'auto', 'max_leaf_nodes': 50, 'n_estimators': 400}\n",
      "0.962687 (0.010231) with: {'class_weight': 'balanced', 'max_depth': 20, 'max_features': 'auto', 'max_leaf_nodes': 100, 'n_estimators': 50}\n",
      "0.962687 (0.010231) with: {'class_weight': 'balanced', 'max_depth': 20, 'max_features': 'auto', 'max_leaf_nodes': 100, 'n_estimators': 100}\n",
      "0.955224 (0.018442) with: {'class_weight': 'balanced', 'max_depth': 20, 'max_features': 'auto', 'max_leaf_nodes': 100, 'n_estimators': 200}\n",
      "0.962687 (0.010231) with: {'class_weight': 'balanced', 'max_depth': 20, 'max_features': 'auto', 'max_leaf_nodes': 100, 'n_estimators': 300}\n",
      "0.962687 (0.010231) with: {'class_weight': 'balanced', 'max_depth': 20, 'max_features': 'auto', 'max_leaf_nodes': 100, 'n_estimators': 400}\n",
      "0.962687 (0.010231) with: {'class_weight': 'balanced', 'max_depth': 20, 'max_features': 'sqrt', 'max_leaf_nodes': 10, 'n_estimators': 50}\n",
      "0.962687 (0.010231) with: {'class_weight': 'balanced', 'max_depth': 20, 'max_features': 'sqrt', 'max_leaf_nodes': 10, 'n_estimators': 100}\n",
      "0.955224 (0.018442) with: {'class_weight': 'balanced', 'max_depth': 20, 'max_features': 'sqrt', 'max_leaf_nodes': 10, 'n_estimators': 200}\n",
      "0.955224 (0.018442) with: {'class_weight': 'balanced', 'max_depth': 20, 'max_features': 'sqrt', 'max_leaf_nodes': 10, 'n_estimators': 300}\n",
      "0.955224 (0.018442) with: {'class_weight': 'balanced', 'max_depth': 20, 'max_features': 'sqrt', 'max_leaf_nodes': 10, 'n_estimators': 400}\n",
      "0.962687 (0.010231) with: {'class_weight': 'balanced', 'max_depth': 20, 'max_features': 'sqrt', 'max_leaf_nodes': 50, 'n_estimators': 50}\n",
      "0.962687 (0.010231) with: {'class_weight': 'balanced', 'max_depth': 20, 'max_features': 'sqrt', 'max_leaf_nodes': 50, 'n_estimators': 100}\n",
      "0.955224 (0.018442) with: {'class_weight': 'balanced', 'max_depth': 20, 'max_features': 'sqrt', 'max_leaf_nodes': 50, 'n_estimators': 200}\n",
      "0.962687 (0.010231) with: {'class_weight': 'balanced', 'max_depth': 20, 'max_features': 'sqrt', 'max_leaf_nodes': 50, 'n_estimators': 300}\n",
      "0.962687 (0.010231) with: {'class_weight': 'balanced', 'max_depth': 20, 'max_features': 'sqrt', 'max_leaf_nodes': 50, 'n_estimators': 400}\n",
      "0.962687 (0.010231) with: {'class_weight': 'balanced', 'max_depth': 20, 'max_features': 'sqrt', 'max_leaf_nodes': 100, 'n_estimators': 50}\n",
      "0.962687 (0.010231) with: {'class_weight': 'balanced', 'max_depth': 20, 'max_features': 'sqrt', 'max_leaf_nodes': 100, 'n_estimators': 100}\n",
      "0.955224 (0.018442) with: {'class_weight': 'balanced', 'max_depth': 20, 'max_features': 'sqrt', 'max_leaf_nodes': 100, 'n_estimators': 200}\n",
      "0.962687 (0.010231) with: {'class_weight': 'balanced', 'max_depth': 20, 'max_features': 'sqrt', 'max_leaf_nodes': 100, 'n_estimators': 300}\n",
      "0.962687 (0.010231) with: {'class_weight': 'balanced', 'max_depth': 20, 'max_features': 'sqrt', 'max_leaf_nodes': 100, 'n_estimators': 400}\n",
      "0.962687 (0.010231) with: {'class_weight': 'balanced', 'max_depth': 20, 'max_features': 'log2', 'max_leaf_nodes': 10, 'n_estimators': 50}\n",
      "0.962687 (0.010231) with: {'class_weight': 'balanced', 'max_depth': 20, 'max_features': 'log2', 'max_leaf_nodes': 10, 'n_estimators': 100}\n",
      "0.955224 (0.018442) with: {'class_weight': 'balanced', 'max_depth': 20, 'max_features': 'log2', 'max_leaf_nodes': 10, 'n_estimators': 200}\n",
      "0.955224 (0.018442) with: {'class_weight': 'balanced', 'max_depth': 20, 'max_features': 'log2', 'max_leaf_nodes': 10, 'n_estimators': 300}\n",
      "0.955224 (0.018442) with: {'class_weight': 'balanced', 'max_depth': 20, 'max_features': 'log2', 'max_leaf_nodes': 10, 'n_estimators': 400}\n",
      "0.962687 (0.010231) with: {'class_weight': 'balanced', 'max_depth': 20, 'max_features': 'log2', 'max_leaf_nodes': 50, 'n_estimators': 50}\n",
      "0.962687 (0.010231) with: {'class_weight': 'balanced', 'max_depth': 20, 'max_features': 'log2', 'max_leaf_nodes': 50, 'n_estimators': 100}\n",
      "0.955224 (0.018442) with: {'class_weight': 'balanced', 'max_depth': 20, 'max_features': 'log2', 'max_leaf_nodes': 50, 'n_estimators': 200}\n",
      "0.962687 (0.010231) with: {'class_weight': 'balanced', 'max_depth': 20, 'max_features': 'log2', 'max_leaf_nodes': 50, 'n_estimators': 300}\n",
      "0.962687 (0.010231) with: {'class_weight': 'balanced', 'max_depth': 20, 'max_features': 'log2', 'max_leaf_nodes': 50, 'n_estimators': 400}\n",
      "0.962687 (0.010231) with: {'class_weight': 'balanced', 'max_depth': 20, 'max_features': 'log2', 'max_leaf_nodes': 100, 'n_estimators': 50}\n",
      "0.962687 (0.010231) with: {'class_weight': 'balanced', 'max_depth': 20, 'max_features': 'log2', 'max_leaf_nodes': 100, 'n_estimators': 100}\n",
      "0.955224 (0.018442) with: {'class_weight': 'balanced', 'max_depth': 20, 'max_features': 'log2', 'max_leaf_nodes': 100, 'n_estimators': 200}\n",
      "0.962687 (0.010231) with: {'class_weight': 'balanced', 'max_depth': 20, 'max_features': 'log2', 'max_leaf_nodes': 100, 'n_estimators': 300}\n",
      "0.962687 (0.010231) with: {'class_weight': 'balanced', 'max_depth': 20, 'max_features': 'log2', 'max_leaf_nodes': 100, 'n_estimators': 400}\n"
     ]
    }
   ],
   "source": [
    "#####grid search (the parameters predict everything to one class, we should use a separated \n",
    "#sample for tuning parameters, but not enough cases so far)\n",
    "\n",
    "parameters = [{'max_features':['auto','sqrt','log2'], 'class_weight':['balanced'], \n",
    "               'max_leaf_nodes':[10,50,100], 'max_depth':[2,5,10,20], 'n_estimators' : [50,100,200,300,400]}]\n",
    "                   \n",
    "grid_search_item = GridSearchCV(rf,\n",
    "                          param_grid = parameters,\n",
    "                           scoring = 'accuracy',\n",
    "                           n_jobs = -1)\n",
    "grid_search = grid_search_item.fit(X_train, y_train)\n",
    "\n",
    "print(grid_search.best_score_)####not sure how come this is so good,but the parameters don't work good in the model\n",
    "print(grid_search.best_params_)\n",
    "\n",
    "means = grid_search.cv_results_['mean_test_score']\n",
    "stds = grid_search.cv_results_['std_test_score']\n",
    "params = grid_search.cv_results_['params']\n",
    "for mean, stdev, param in zip(means, stds, params):\n",
    "    print(\"%f (%f) with: %r\" % (mean, stdev, param))"
   ]
  },
  {
   "cell_type": "code",
   "execution_count": 531,
   "metadata": {},
   "outputs": [],
   "source": [
    "rf = RandomForestClassifier(n_estimators=100, max_depth=2, class_weight = 'balanced',\n",
    "                             random_state=0, max_leaf_nodes = 10, max_features = 'auto')"
   ]
  },
  {
   "cell_type": "code",
   "execution_count": 532,
   "metadata": {},
   "outputs": [
    {
     "data": {
      "text/plain": [
       "RandomForestClassifier(bootstrap=True, class_weight='balanced',\n",
       "            criterion='gini', max_depth=2, max_features='auto',\n",
       "            max_leaf_nodes=10, min_impurity_decrease=0.0,\n",
       "            min_impurity_split=None, min_samples_leaf=1,\n",
       "            min_samples_split=2, min_weight_fraction_leaf=0.0,\n",
       "            n_estimators=100, n_jobs=1, oob_score=False, random_state=0,\n",
       "            verbose=0, warm_start=False)"
      ]
     },
     "execution_count": 532,
     "metadata": {},
     "output_type": "execute_result"
    }
   ],
   "source": [
    "rf.fit(X_train, y_train)"
   ]
  },
  {
   "cell_type": "code",
   "execution_count": 533,
   "metadata": {},
   "outputs": [
    {
     "name": "stdout",
     "output_type": "stream",
     "text": [
      "[ 0.05360163  0.15989177  0.11956025  0.0061933   0.06120305  0.02051895\n",
      "  0.03359439  0.01085205  0.02192883  0.03351403  0.47914175]\n"
     ]
    }
   ],
   "source": [
    "print(rf.feature_importances_)"
   ]
  },
  {
   "cell_type": "code",
   "execution_count": 534,
   "metadata": {},
   "outputs": [
    {
     "data": {
      "text/plain": [
       "array([ 0.,  0.,  0.,  0.,  1.,  0.,  0.,  1.,  0.,  1.,  0.,  0.,  0.,\n",
       "        0.,  0.,  0.,  1.,  0.,  0.,  0.,  0.,  0.,  0.,  1.,  0.,  0.,\n",
       "        0.,  0.,  0.,  0.,  0.,  0.,  0.,  0.,  0.,  0.,  0.,  0.,  0.,\n",
       "        0.,  1.,  0.,  0.,  0.,  1.,  0.,  0.,  0.,  0.,  1.,  0.,  0.,\n",
       "        0.,  0.,  0.,  0.,  0.,  1.,  0.,  0.,  0.,  0.,  0.,  0.,  0.,  0.])"
      ]
     },
     "execution_count": 534,
     "metadata": {},
     "output_type": "execute_result"
    }
   ],
   "source": [
    "y = rf.predict(X_test)\n",
    "y"
   ]
  },
  {
   "cell_type": "code",
   "execution_count": 438,
   "metadata": {},
   "outputs": [
    {
     "data": {
      "text/plain": [
       "array([ 0.,  0.,  0.,  0.,  0.,  0.,  0.,  1.,  0.,  1.,  0.,  0.,  0.,\n",
       "        0.,  0.,  0.,  1.,  0.,  0.,  0.,  0.,  0.,  0.,  1.,  0.,  0.,\n",
       "        0.,  0.,  0.,  0.,  0.,  0.,  0.,  0.,  0.,  0.,  0.,  0.,  0.,\n",
       "        0.,  1.,  0.,  0.,  0.,  1.,  0.,  0.,  0.,  0.,  1.,  0.,  0.,\n",
       "        0.,  0.,  1.,  0.,  0.,  1.,  0.,  0.,  0.,  0.,  0.,  0.,  1.,  0.])"
      ]
     },
     "execution_count": 438,
     "metadata": {},
     "output_type": "execute_result"
    }
   ],
   "source": [
    "y_test"
   ]
  },
  {
   "cell_type": "code",
   "execution_count": 535,
   "metadata": {},
   "outputs": [
    {
     "name": "stdout",
     "output_type": "stream",
     "text": [
      "[ 0.97345133  0.84210526]\n",
      "[[55  1]\n",
      " [ 2  8]]\n"
     ]
    }
   ],
   "source": [
    "print(f1_score(y_test, y, average= None))\n",
    "cm = confusion_matrix(y_test, y)\n",
    "print(cm)"
   ]
  },
  {
   "cell_type": "code",
   "execution_count": null,
   "metadata": {
    "collapsed": true
   },
   "outputs": [],
   "source": []
  },
  {
   "cell_type": "code",
   "execution_count": null,
   "metadata": {
    "collapsed": true
   },
   "outputs": [],
   "source": []
  }
 ],
 "metadata": {
  "kernelspec": {
   "display_name": "Python 3",
   "language": "python",
   "name": "python3"
  },
  "language_info": {
   "codemirror_mode": {
    "name": "ipython",
    "version": 3
   },
   "file_extension": ".py",
   "mimetype": "text/x-python",
   "name": "python",
   "nbconvert_exporter": "python",
   "pygments_lexer": "ipython3",
   "version": "3.6.1"
  }
 },
 "nbformat": 4,
 "nbformat_minor": 2
}
