{
 "cells": [
  {
   "cell_type": "code",
   "execution_count": 1,
   "metadata": {},
   "outputs": [
    {
     "name": "stderr",
     "output_type": "stream",
     "text": [
      "/home/lucia/anaconda3/lib/python3.6/site-packages/sklearn/ensemble/weight_boosting.py:29: DeprecationWarning: numpy.core.umath_tests is an internal NumPy module and should not be imported. It will be removed in a future NumPy release.\n",
      "  from numpy.core.umath_tests import inner1d\n"
     ]
    }
   ],
   "source": [
    "import numpy as np\n",
    "import csv\n",
    "import pickle\n",
    "import pandas as pd\n",
    "import matplotlib.pyplot as plt\n",
    "from sklearn import svm\n",
    "from sklearn.model_selection import train_test_split\n",
    "from sklearn.metrics import confusion_matrix\n",
    "from sklearn.metrics import f1_score\n",
    "from sklearn.model_selection import GridSearchCV\n",
    "from sklearn.linear_model import SGDClassifier\n",
    "from sklearn.ensemble import RandomForestClassifier\n",
    "from sklearn.model_selection import cross_val_score\n",
    "from sklearn.metrics import precision_score, \\\n",
    "    recall_score, confusion_matrix, classification_report, \\\n",
    "    accuracy_score, f1_score\n",
    "from sklearn.preprocessing import StandardScaler\n",
    "from sklearn.pipeline import make_pipeline\n",
    "from sklearn.model_selection import StratifiedKFold"
   ]
  },
  {
   "cell_type": "markdown",
   "metadata": {},
   "source": [
    "In this script, we have three ML models:\n",
    "\n",
    "SVC: C-Support Vector Classification.\n",
    "SGDClassifier: Linear classifiers (SVM, logistic regression, a.o.) with SGD training.\n",
    "This estimator implements regularized linear models with stochastic gradient descent (SGD) learning: the gradient of the loss is estimated each sample at a time and the model is updated along the way with a decreasing strength schedule (aka learning rate). SGD allows minibatch (online/out-of-core) learning, see the partial_fit method. For best results using the default learning rate schedule, the data should have zero mean and unit variance.\n",
    "\n",
    "Random Forest:\n",
    "RF gives the best result:\n",
    "[0.92454523 0.97484841 0.91408451 0.95157967 0.94434389]\n",
    "f1: 0.94 (+/- 0.04) (positive class) \n",
    "precision: 0.9166666666666667\n",
    "recall: 0.7476190476190475\n",
    "\n",
    "Rule based: F1: 0.98245614   Recall: 1.0 Precision: 0.8125\n",
    "\n",
    "The ML classifers are conduction in the following sequence:\n",
    "1. grid search for best parameters\n",
    "   pipline: standardscale, classifer(stratified 5 fold)\n",
    "2. run best parameters again on the 5 fold model and display f1, precision and recall \n",
    "\n",
    "The random forest model shows the best result.\n",
    "The best parameters are run on the full data with train/test set, of which the model is stored as the BestModel object\n",
    "\n"
   ]
  },
  {
   "cell_type": "code",
   "execution_count": 2,
   "metadata": {
    "collapsed": true
   },
   "outputs": [],
   "source": [
    "class myQuote:\n",
    "    def __init__(self, text):\n",
    "        #read in CSV, process\n",
    "        self.quoteText = text\n",
    "        self.quoteID = hash(self.quoteText)\n",
    "        self.link = []\n",
    "        self.name = []\n",
    "        self.description = []\n",
    "        self.scores = []\n",
    "        self.cos = []\n",
    "    \n",
    "    def __hash__(self):\n",
    "        return self.quoteID\n",
    "    \n",
    "    def __str__(self):\n",
    "        return \"Object text: \" + self.quoteText + '\\n' +\\\n",
    "        \"Links: \" + str(self.link) + '\\n' +\\\n",
    "        \"Names: \" + str(self.name) + '\\n' +\\\n",
    "        \"Description \" + str(self.description) + '\\n' +\\\n",
    "        \"Scores: \" + str(self.scores)\n",
    "        "
   ]
  },
  {
   "cell_type": "code",
   "execution_count": 3,
   "metadata": {
    "collapsed": true
   },
   "outputs": [],
   "source": [
    "infile = open('searchResults','rb')\n",
    "results = pickle.load(infile, encoding='bytes')"
   ]
  },
  {
   "cell_type": "code",
   "execution_count": 4,
   "metadata": {},
   "outputs": [
    {
     "name": "stdout",
     "output_type": "stream",
     "text": [
      "200\n",
      "<class 'numpy.ndarray'>\n"
     ]
    }
   ],
   "source": [
    "labels = pd.read_csv('./LableResults/MLData_recode_mannual.csv')\n",
    "label = labels['label'].values\n",
    "label = label.astype(np.float)\n",
    "print(len(label))\n",
    "print(type(label))\n"
   ]
  },
  {
   "cell_type": "code",
   "execution_count": 16,
   "metadata": {},
   "outputs": [],
   "source": [
    "#get the first 200 labels: those are the one in the mannual annotate sample\n",
    "def append_features(ob):\n",
    "    count = 0\n",
    "    proto_matrix = []\n",
    "    for item in ob:\n",
    "        col2 = np.append(ob[item].scores, ob[item].cos)\n",
    "        #print(col2)\n",
    "        proto_matrix.append(col2)\n",
    "        count += 1\n",
    "        if count > 199:\n",
    "            break\n",
    "            \n",
    "            \n",
    "    return proto_matrix\n",
    "            \n",
    "proto_matrix = append_features(results)\n",
    "FeatureMatrix = np.matrix(proto_matrix)"
   ]
  },
  {
   "cell_type": "code",
   "execution_count": 18,
   "metadata": {},
   "outputs": [
    {
     "data": {
      "text/plain": [
       "matrix([[1.        , 1.        , 5.        , 7.        , 5.        ,\n",
       "         7.        , 1.        , 1.        , 6.        , 0.        ,\n",
       "         0.90142585],\n",
       "        [5.        , 2.        , 3.        , 1.        , 1.        ,\n",
       "         1.        , 1.        , 1.        , 3.        , 0.        ,\n",
       "         0.97699932],\n",
       "        [5.        , 7.        , 3.        , 5.        , 9.        ,\n",
       "         9.        , 5.        , 1.        , 1.        , 0.        ,\n",
       "         0.96864645]])"
      ]
     },
     "execution_count": 18,
     "metadata": {},
     "output_type": "execute_result"
    }
   ],
   "source": [
    "FeatureMatrix[0:10][0:3]"
   ]
  },
  {
   "cell_type": "code",
   "execution_count": 23,
   "metadata": {},
   "outputs": [],
   "source": [
    "#data\n",
    "X = FeatureMatrix\n",
    "y = label"
   ]
  },
  {
   "cell_type": "code",
   "execution_count": 42,
   "metadata": {},
   "outputs": [],
   "source": [
    "#Normalize data with standardscaler\n",
    "scaler = StandardScaler()"
   ]
  },
  {
   "cell_type": "code",
   "execution_count": 77,
   "metadata": {},
   "outputs": [
    {
     "name": "stdout",
     "output_type": "stream",
     "text": [
      "0.925\n",
      "{'svc__C': 0.7, 'svc__class_weight': 'balanced', 'svc__gamma': 0.01, 'svc__kernel': 'linear'}\n",
      "0.885000 (0.045127) with: {'svc__C': 0.1, 'svc__class_weight': 'balanced', 'svc__gamma': 0.01, 'svc__kernel': 'linear'}\n",
      "0.850000 (0.014887) with: {'svc__C': 0.1, 'svc__class_weight': 'balanced', 'svc__gamma': 0.01, 'svc__kernel': 'poly'}\n",
      "0.880000 (0.055596) with: {'svc__C': 0.1, 'svc__class_weight': 'balanced', 'svc__gamma': 0.01, 'svc__kernel': 'rbf'}\n",
      "0.875000 (0.039481) with: {'svc__C': 0.1, 'svc__class_weight': 'balanced', 'svc__gamma': 0.01, 'svc__kernel': 'sigmoid'}\n",
      "0.885000 (0.045127) with: {'svc__C': 0.1, 'svc__class_weight': 'balanced', 'svc__gamma': 0.001, 'svc__kernel': 'linear'}\n",
      "0.430000 (0.332839) with: {'svc__C': 0.1, 'svc__class_weight': 'balanced', 'svc__gamma': 0.001, 'svc__kernel': 'poly'}\n",
      "0.430000 (0.332839) with: {'svc__C': 0.1, 'svc__class_weight': 'balanced', 'svc__gamma': 0.001, 'svc__kernel': 'rbf'}\n",
      "0.430000 (0.332839) with: {'svc__C': 0.1, 'svc__class_weight': 'balanced', 'svc__gamma': 0.001, 'svc__kernel': 'sigmoid'}\n",
      "0.885000 (0.045127) with: {'svc__C': 0.1, 'svc__class_weight': 'balanced', 'svc__gamma': 0.0001, 'svc__kernel': 'linear'}\n",
      "0.430000 (0.332839) with: {'svc__C': 0.1, 'svc__class_weight': 'balanced', 'svc__gamma': 0.0001, 'svc__kernel': 'poly'}\n",
      "0.430000 (0.332839) with: {'svc__C': 0.1, 'svc__class_weight': 'balanced', 'svc__gamma': 0.0001, 'svc__kernel': 'rbf'}\n",
      "0.430000 (0.332839) with: {'svc__C': 0.1, 'svc__class_weight': 'balanced', 'svc__gamma': 0.0001, 'svc__kernel': 'sigmoid'}\n",
      "0.900000 (0.044115) with: {'svc__C': 0.3, 'svc__class_weight': 'balanced', 'svc__gamma': 0.01, 'svc__kernel': 'linear'}\n",
      "0.850000 (0.013652) with: {'svc__C': 0.3, 'svc__class_weight': 'balanced', 'svc__gamma': 0.01, 'svc__kernel': 'poly'}\n",
      "0.880000 (0.083145) with: {'svc__C': 0.3, 'svc__class_weight': 'balanced', 'svc__gamma': 0.01, 'svc__kernel': 'rbf'}\n",
      "0.880000 (0.051326) with: {'svc__C': 0.3, 'svc__class_weight': 'balanced', 'svc__gamma': 0.01, 'svc__kernel': 'sigmoid'}\n",
      "0.900000 (0.044115) with: {'svc__C': 0.3, 'svc__class_weight': 'balanced', 'svc__gamma': 0.001, 'svc__kernel': 'linear'}\n",
      "0.430000 (0.332839) with: {'svc__C': 0.3, 'svc__class_weight': 'balanced', 'svc__gamma': 0.001, 'svc__kernel': 'poly'}\n",
      "0.870000 (0.034369) with: {'svc__C': 0.3, 'svc__class_weight': 'balanced', 'svc__gamma': 0.001, 'svc__kernel': 'rbf'}\n",
      "0.435000 (0.329069) with: {'svc__C': 0.3, 'svc__class_weight': 'balanced', 'svc__gamma': 0.001, 'svc__kernel': 'sigmoid'}\n",
      "0.900000 (0.044115) with: {'svc__C': 0.3, 'svc__class_weight': 'balanced', 'svc__gamma': 0.0001, 'svc__kernel': 'linear'}\n",
      "0.430000 (0.332839) with: {'svc__C': 0.3, 'svc__class_weight': 'balanced', 'svc__gamma': 0.0001, 'svc__kernel': 'poly'}\n",
      "0.430000 (0.332839) with: {'svc__C': 0.3, 'svc__class_weight': 'balanced', 'svc__gamma': 0.0001, 'svc__kernel': 'rbf'}\n",
      "0.430000 (0.332839) with: {'svc__C': 0.3, 'svc__class_weight': 'balanced', 'svc__gamma': 0.0001, 'svc__kernel': 'sigmoid'}\n",
      "0.915000 (0.036447) with: {'svc__C': 0.5, 'svc__class_weight': 'balanced', 'svc__gamma': 0.01, 'svc__kernel': 'linear'}\n",
      "0.855000 (0.008718) with: {'svc__C': 0.5, 'svc__class_weight': 'balanced', 'svc__gamma': 0.01, 'svc__kernel': 'poly'}\n",
      "0.890000 (0.072764) with: {'svc__C': 0.5, 'svc__class_weight': 'balanced', 'svc__gamma': 0.01, 'svc__kernel': 'rbf'}\n",
      "0.885000 (0.071295) with: {'svc__C': 0.5, 'svc__class_weight': 'balanced', 'svc__gamma': 0.01, 'svc__kernel': 'sigmoid'}\n",
      "0.915000 (0.036447) with: {'svc__C': 0.5, 'svc__class_weight': 'balanced', 'svc__gamma': 0.001, 'svc__kernel': 'linear'}\n",
      "0.295000 (0.271398) with: {'svc__C': 0.5, 'svc__class_weight': 'balanced', 'svc__gamma': 0.001, 'svc__kernel': 'poly'}\n",
      "0.875000 (0.039481) with: {'svc__C': 0.5, 'svc__class_weight': 'balanced', 'svc__gamma': 0.001, 'svc__kernel': 'rbf'}\n",
      "0.865000 (0.035022) with: {'svc__C': 0.5, 'svc__class_weight': 'balanced', 'svc__gamma': 0.001, 'svc__kernel': 'sigmoid'}\n",
      "0.915000 (0.036447) with: {'svc__C': 0.5, 'svc__class_weight': 'balanced', 'svc__gamma': 0.0001, 'svc__kernel': 'linear'}\n",
      "0.295000 (0.271398) with: {'svc__C': 0.5, 'svc__class_weight': 'balanced', 'svc__gamma': 0.0001, 'svc__kernel': 'poly'}\n",
      "0.160000 (0.009055) with: {'svc__C': 0.5, 'svc__class_weight': 'balanced', 'svc__gamma': 0.0001, 'svc__kernel': 'rbf'}\n",
      "0.160000 (0.009055) with: {'svc__C': 0.5, 'svc__class_weight': 'balanced', 'svc__gamma': 0.0001, 'svc__kernel': 'sigmoid'}\n",
      "0.925000 (0.026519) with: {'svc__C': 0.7, 'svc__class_weight': 'balanced', 'svc__gamma': 0.01, 'svc__kernel': 'linear'}\n",
      "0.860000 (0.011225) with: {'svc__C': 0.7, 'svc__class_weight': 'balanced', 'svc__gamma': 0.01, 'svc__kernel': 'poly'}\n",
      "0.895000 (0.077362) with: {'svc__C': 0.7, 'svc__class_weight': 'balanced', 'svc__gamma': 0.01, 'svc__kernel': 'rbf'}\n",
      "0.890000 (0.072874) with: {'svc__C': 0.7, 'svc__class_weight': 'balanced', 'svc__gamma': 0.01, 'svc__kernel': 'sigmoid'}\n",
      "0.925000 (0.026519) with: {'svc__C': 0.7, 'svc__class_weight': 'balanced', 'svc__gamma': 0.001, 'svc__kernel': 'linear'}\n",
      "0.430000 (0.332839) with: {'svc__C': 0.7, 'svc__class_weight': 'balanced', 'svc__gamma': 0.001, 'svc__kernel': 'poly'}\n",
      "0.875000 (0.039481) with: {'svc__C': 0.7, 'svc__class_weight': 'balanced', 'svc__gamma': 0.001, 'svc__kernel': 'rbf'}\n",
      "0.875000 (0.025942) with: {'svc__C': 0.7, 'svc__class_weight': 'balanced', 'svc__gamma': 0.001, 'svc__kernel': 'sigmoid'}\n",
      "0.925000 (0.026519) with: {'svc__C': 0.7, 'svc__class_weight': 'balanced', 'svc__gamma': 0.0001, 'svc__kernel': 'linear'}\n",
      "0.430000 (0.332839) with: {'svc__C': 0.7, 'svc__class_weight': 'balanced', 'svc__gamma': 0.0001, 'svc__kernel': 'poly'}\n",
      "0.430000 (0.332839) with: {'svc__C': 0.7, 'svc__class_weight': 'balanced', 'svc__gamma': 0.0001, 'svc__kernel': 'rbf'}\n",
      "0.430000 (0.332839) with: {'svc__C': 0.7, 'svc__class_weight': 'balanced', 'svc__gamma': 0.0001, 'svc__kernel': 'sigmoid'}\n",
      "0.920000 (0.032069) with: {'svc__C': 0.9, 'svc__class_weight': 'balanced', 'svc__gamma': 0.01, 'svc__kernel': 'linear'}\n",
      "0.855000 (0.016922) with: {'svc__C': 0.9, 'svc__class_weight': 'balanced', 'svc__gamma': 0.01, 'svc__kernel': 'poly'}\n",
      "0.900000 (0.075313) with: {'svc__C': 0.9, 'svc__class_weight': 'balanced', 'svc__gamma': 0.01, 'svc__kernel': 'rbf'}\n",
      "0.895000 (0.072608) with: {'svc__C': 0.9, 'svc__class_weight': 'balanced', 'svc__gamma': 0.01, 'svc__kernel': 'sigmoid'}\n",
      "0.920000 (0.032069) with: {'svc__C': 0.9, 'svc__class_weight': 'balanced', 'svc__gamma': 0.001, 'svc__kernel': 'linear'}\n",
      "0.160000 (0.009055) with: {'svc__C': 0.9, 'svc__class_weight': 'balanced', 'svc__gamma': 0.001, 'svc__kernel': 'poly'}\n",
      "0.880000 (0.041064) with: {'svc__C': 0.9, 'svc__class_weight': 'balanced', 'svc__gamma': 0.001, 'svc__kernel': 'rbf'}\n",
      "0.865000 (0.038570) with: {'svc__C': 0.9, 'svc__class_weight': 'balanced', 'svc__gamma': 0.001, 'svc__kernel': 'sigmoid'}\n",
      "0.920000 (0.032069) with: {'svc__C': 0.9, 'svc__class_weight': 'balanced', 'svc__gamma': 0.0001, 'svc__kernel': 'linear'}\n",
      "0.160000 (0.009055) with: {'svc__C': 0.9, 'svc__class_weight': 'balanced', 'svc__gamma': 0.0001, 'svc__kernel': 'poly'}\n",
      "0.160000 (0.009055) with: {'svc__C': 0.9, 'svc__class_weight': 'balanced', 'svc__gamma': 0.0001, 'svc__kernel': 'rbf'}\n",
      "0.160000 (0.009055) with: {'svc__C': 0.9, 'svc__class_weight': 'balanced', 'svc__gamma': 0.0001, 'svc__kernel': 'sigmoid'}\n",
      "0.910000 (0.032856) with: {'svc__C': 1.0, 'svc__class_weight': 'balanced', 'svc__gamma': 0.01, 'svc__kernel': 'linear'}\n",
      "0.855000 (0.016922) with: {'svc__C': 1.0, 'svc__class_weight': 'balanced', 'svc__gamma': 0.01, 'svc__kernel': 'poly'}\n",
      "0.905000 (0.079135) with: {'svc__C': 1.0, 'svc__class_weight': 'balanced', 'svc__gamma': 0.01, 'svc__kernel': 'rbf'}\n",
      "0.890000 (0.071218) with: {'svc__C': 1.0, 'svc__class_weight': 'balanced', 'svc__gamma': 0.01, 'svc__kernel': 'sigmoid'}\n",
      "0.910000 (0.032856) with: {'svc__C': 1.0, 'svc__class_weight': 'balanced', 'svc__gamma': 0.001, 'svc__kernel': 'linear'}\n",
      "0.295000 (0.271398) with: {'svc__C': 1.0, 'svc__class_weight': 'balanced', 'svc__gamma': 0.001, 'svc__kernel': 'poly'}\n",
      "0.875000 (0.050343) with: {'svc__C': 1.0, 'svc__class_weight': 'balanced', 'svc__gamma': 0.001, 'svc__kernel': 'rbf'}\n",
      "0.875000 (0.039481) with: {'svc__C': 1.0, 'svc__class_weight': 'balanced', 'svc__gamma': 0.001, 'svc__kernel': 'sigmoid'}\n",
      "0.910000 (0.032856) with: {'svc__C': 1.0, 'svc__class_weight': 'balanced', 'svc__gamma': 0.0001, 'svc__kernel': 'linear'}\n",
      "0.295000 (0.271398) with: {'svc__C': 1.0, 'svc__class_weight': 'balanced', 'svc__gamma': 0.0001, 'svc__kernel': 'poly'}\n",
      "0.295000 (0.271398) with: {'svc__C': 1.0, 'svc__class_weight': 'balanced', 'svc__gamma': 0.0001, 'svc__kernel': 'rbf'}\n",
      "0.160000 (0.009055) with: {'svc__C': 1.0, 'svc__class_weight': 'balanced', 'svc__gamma': 0.0001, 'svc__kernel': 'sigmoid'}\n",
      "0.905000 (0.038678) with: {'svc__C': 1.3, 'svc__class_weight': 'balanced', 'svc__gamma': 0.01, 'svc__kernel': 'linear'}\n",
      "0.850000 (0.025311) with: {'svc__C': 1.3, 'svc__class_weight': 'balanced', 'svc__gamma': 0.01, 'svc__kernel': 'poly'}\n",
      "0.895000 (0.074353) with: {'svc__C': 1.3, 'svc__class_weight': 'balanced', 'svc__gamma': 0.01, 'svc__kernel': 'rbf'}\n",
      "0.900000 (0.088591) with: {'svc__C': 1.3, 'svc__class_weight': 'balanced', 'svc__gamma': 0.01, 'svc__kernel': 'sigmoid'}\n",
      "0.905000 (0.038678) with: {'svc__C': 1.3, 'svc__class_weight': 'balanced', 'svc__gamma': 0.001, 'svc__kernel': 'linear'}\n",
      "0.430000 (0.332839) with: {'svc__C': 1.3, 'svc__class_weight': 'balanced', 'svc__gamma': 0.001, 'svc__kernel': 'poly'}\n",
      "0.885000 (0.041668) with: {'svc__C': 1.3, 'svc__class_weight': 'balanced', 'svc__gamma': 0.001, 'svc__kernel': 'rbf'}\n",
      "0.870000 (0.037916) with: {'svc__C': 1.3, 'svc__class_weight': 'balanced', 'svc__gamma': 0.001, 'svc__kernel': 'sigmoid'}\n",
      "0.905000 (0.038678) with: {'svc__C': 1.3, 'svc__class_weight': 'balanced', 'svc__gamma': 0.0001, 'svc__kernel': 'linear'}\n",
      "0.430000 (0.332839) with: {'svc__C': 1.3, 'svc__class_weight': 'balanced', 'svc__gamma': 0.0001, 'svc__kernel': 'poly'}\n",
      "0.430000 (0.332839) with: {'svc__C': 1.3, 'svc__class_weight': 'balanced', 'svc__gamma': 0.0001, 'svc__kernel': 'rbf'}\n",
      "0.430000 (0.332839) with: {'svc__C': 1.3, 'svc__class_weight': 'balanced', 'svc__gamma': 0.0001, 'svc__kernel': 'sigmoid'}\n",
      "0.910000 (0.039032) with: {'svc__C': 1.5, 'svc__class_weight': 'balanced', 'svc__gamma': 0.01, 'svc__kernel': 'linear'}\n",
      "0.850000 (0.025311) with: {'svc__C': 1.5, 'svc__class_weight': 'balanced', 'svc__gamma': 0.01, 'svc__kernel': 'poly'}\n",
      "0.890000 (0.072996) with: {'svc__C': 1.5, 'svc__class_weight': 'balanced', 'svc__gamma': 0.01, 'svc__kernel': 'rbf'}\n",
      "0.900000 (0.088591) with: {'svc__C': 1.5, 'svc__class_weight': 'balanced', 'svc__gamma': 0.01, 'svc__kernel': 'sigmoid'}\n",
      "0.910000 (0.039032) with: {'svc__C': 1.5, 'svc__class_weight': 'balanced', 'svc__gamma': 0.001, 'svc__kernel': 'linear'}\n",
      "0.700000 (0.275104) with: {'svc__C': 1.5, 'svc__class_weight': 'balanced', 'svc__gamma': 0.001, 'svc__kernel': 'poly'}\n",
      "0.880000 (0.051326) with: {'svc__C': 1.5, 'svc__class_weight': 'balanced', 'svc__gamma': 0.001, 'svc__kernel': 'rbf'}\n",
      "0.865000 (0.031782) with: {'svc__C': 1.5, 'svc__class_weight': 'balanced', 'svc__gamma': 0.001, 'svc__kernel': 'sigmoid'}\n",
      "0.910000 (0.039032) with: {'svc__C': 1.5, 'svc__class_weight': 'balanced', 'svc__gamma': 0.0001, 'svc__kernel': 'linear'}\n",
      "0.700000 (0.275104) with: {'svc__C': 1.5, 'svc__class_weight': 'balanced', 'svc__gamma': 0.0001, 'svc__kernel': 'poly'}\n",
      "0.705000 (0.277618) with: {'svc__C': 1.5, 'svc__class_weight': 'balanced', 'svc__gamma': 0.0001, 'svc__kernel': 'rbf'}\n",
      "0.700000 (0.275104) with: {'svc__C': 1.5, 'svc__class_weight': 'balanced', 'svc__gamma': 0.0001, 'svc__kernel': 'sigmoid'}\n",
      "0.905000 (0.031355) with: {'svc__C': 1.7, 'svc__class_weight': 'balanced', 'svc__gamma': 0.01, 'svc__kernel': 'linear'}\n",
      "0.850000 (0.025311) with: {'svc__C': 1.7, 'svc__class_weight': 'balanced', 'svc__gamma': 0.01, 'svc__kernel': 'poly'}\n",
      "0.895000 (0.075910) with: {'svc__C': 1.7, 'svc__class_weight': 'balanced', 'svc__gamma': 0.01, 'svc__kernel': 'rbf'}\n",
      "0.905000 (0.079135) with: {'svc__C': 1.7, 'svc__class_weight': 'balanced', 'svc__gamma': 0.01, 'svc__kernel': 'sigmoid'}\n",
      "0.905000 (0.031355) with: {'svc__C': 1.7, 'svc__class_weight': 'balanced', 'svc__gamma': 0.001, 'svc__kernel': 'linear'}\n",
      "0.430000 (0.332839) with: {'svc__C': 1.7, 'svc__class_weight': 'balanced', 'svc__gamma': 0.001, 'svc__kernel': 'poly'}\n",
      "0.890000 (0.056231) with: {'svc__C': 1.7, 'svc__class_weight': 'balanced', 'svc__gamma': 0.001, 'svc__kernel': 'rbf'}\n",
      "0.870000 (0.035178) with: {'svc__C': 1.7, 'svc__class_weight': 'balanced', 'svc__gamma': 0.001, 'svc__kernel': 'sigmoid'}\n",
      "0.905000 (0.031355) with: {'svc__C': 1.7, 'svc__class_weight': 'balanced', 'svc__gamma': 0.0001, 'svc__kernel': 'linear'}\n",
      "0.430000 (0.332839) with: {'svc__C': 1.7, 'svc__class_weight': 'balanced', 'svc__gamma': 0.0001, 'svc__kernel': 'poly'}\n",
      "0.445000 (0.330701) with: {'svc__C': 1.7, 'svc__class_weight': 'balanced', 'svc__gamma': 0.0001, 'svc__kernel': 'rbf'}\n",
      "0.430000 (0.332839) with: {'svc__C': 1.7, 'svc__class_weight': 'balanced', 'svc__gamma': 0.0001, 'svc__kernel': 'sigmoid'}\n",
      "0.910000 (0.039032) with: {'svc__C': 2.0, 'svc__class_weight': 'balanced', 'svc__gamma': 0.01, 'svc__kernel': 'linear'}\n",
      "0.850000 (0.025311) with: {'svc__C': 2.0, 'svc__class_weight': 'balanced', 'svc__gamma': 0.01, 'svc__kernel': 'poly'}\n",
      "0.895000 (0.074497) with: {'svc__C': 2.0, 'svc__class_weight': 'balanced', 'svc__gamma': 0.01, 'svc__kernel': 'rbf'}\n",
      "0.905000 (0.079135) with: {'svc__C': 2.0, 'svc__class_weight': 'balanced', 'svc__gamma': 0.01, 'svc__kernel': 'sigmoid'}\n",
      "0.910000 (0.039032) with: {'svc__C': 2.0, 'svc__class_weight': 'balanced', 'svc__gamma': 0.001, 'svc__kernel': 'linear'}\n",
      "0.295000 (0.271398) with: {'svc__C': 2.0, 'svc__class_weight': 'balanced', 'svc__gamma': 0.001, 'svc__kernel': 'poly'}\n",
      "0.895000 (0.063785) with: {'svc__C': 2.0, 'svc__class_weight': 'balanced', 'svc__gamma': 0.001, 'svc__kernel': 'rbf'}\n",
      "0.880000 (0.041064) with: {'svc__C': 2.0, 'svc__class_weight': 'balanced', 'svc__gamma': 0.001, 'svc__kernel': 'sigmoid'}\n",
      "0.910000 (0.039032) with: {'svc__C': 2.0, 'svc__class_weight': 'balanced', 'svc__gamma': 0.0001, 'svc__kernel': 'linear'}\n",
      "0.295000 (0.271398) with: {'svc__C': 2.0, 'svc__class_weight': 'balanced', 'svc__gamma': 0.0001, 'svc__kernel': 'poly'}\n",
      "0.720000 (0.136092) with: {'svc__C': 2.0, 'svc__class_weight': 'balanced', 'svc__gamma': 0.0001, 'svc__kernel': 'rbf'}\n",
      "0.295000 (0.271398) with: {'svc__C': 2.0, 'svc__class_weight': 'balanced', 'svc__gamma': 0.0001, 'svc__kernel': 'sigmoid'}\n",
      "0.910000 (0.039032) with: {'svc__C': 3.0, 'svc__class_weight': 'balanced', 'svc__gamma': 0.01, 'svc__kernel': 'linear'}\n",
      "0.855000 (0.040308) with: {'svc__C': 3.0, 'svc__class_weight': 'balanced', 'svc__gamma': 0.01, 'svc__kernel': 'poly'}\n",
      "0.900000 (0.075497) with: {'svc__C': 3.0, 'svc__class_weight': 'balanced', 'svc__gamma': 0.01, 'svc__kernel': 'rbf'}\n",
      "0.895000 (0.060144) with: {'svc__C': 3.0, 'svc__class_weight': 'balanced', 'svc__gamma': 0.01, 'svc__kernel': 'sigmoid'}\n",
      "0.910000 (0.039032) with: {'svc__C': 3.0, 'svc__class_weight': 'balanced', 'svc__gamma': 0.001, 'svc__kernel': 'linear'}\n",
      "0.700000 (0.275104) with: {'svc__C': 3.0, 'svc__class_weight': 'balanced', 'svc__gamma': 0.001, 'svc__kernel': 'poly'}\n",
      "0.880000 (0.072453) with: {'svc__C': 3.0, 'svc__class_weight': 'balanced', 'svc__gamma': 0.001, 'svc__kernel': 'rbf'}\n",
      "0.880000 (0.051326) with: {'svc__C': 3.0, 'svc__class_weight': 'balanced', 'svc__gamma': 0.001, 'svc__kernel': 'sigmoid'}\n",
      "0.910000 (0.039032) with: {'svc__C': 3.0, 'svc__class_weight': 'balanced', 'svc__gamma': 0.0001, 'svc__kernel': 'linear'}\n",
      "0.700000 (0.275104) with: {'svc__C': 3.0, 'svc__class_weight': 'balanced', 'svc__gamma': 0.0001, 'svc__kernel': 'poly'}\n",
      "0.885000 (0.018548) with: {'svc__C': 3.0, 'svc__class_weight': 'balanced', 'svc__gamma': 0.0001, 'svc__kernel': 'rbf'}\n",
      "0.705000 (0.277618) with: {'svc__C': 3.0, 'svc__class_weight': 'balanced', 'svc__gamma': 0.0001, 'svc__kernel': 'sigmoid'}\n"
     ]
    }
   ],
   "source": [
    "#####grid search (the parameters predict everything to one class, we should use a separated \n",
    "#sample for tuning parameters, but not enough cases so far)\n",
    "cv = StratifiedKFold(n_splits=5)\n",
    "\n",
    "# _macro_f1 = np.empty(shape=[4,3,11])\n",
    "# for _k_i, _kernel in enumerate(['linear', 'poly', 'rbf', 'sigmoid']):\n",
    "#     for _g_i, _gamma in enumerate([0.01, 0.001, 0.0001]):\n",
    "#         for _c_i, _C in enumerate([0.1, 0.3, 0.5, 0.7, 0.9, 1.0, 1.3, 1.5, 1.7, 2.0, 3.0]):\n",
    "#             _marco_1config = np.zeros(5)\n",
    "#             for _f_i, (_train_idx, _test_idx) in enumerate(cv.split(X_train, y_train)):\n",
    "#                 _x_t = X_tramake_pipeline(StandardScaler()in[_train_idx]\n",
    "#                 _x_v = X_train[_test_idx]\n",
    "#                 _y_t = y_train[_train_idx]\n",
    "#                 _y_v = y_train[_test_idx]\n",
    "#                 _scaler = StandardScaler()\n",
    "#                 _scaler.fit(_x_t)\n",
    "#                 _x_t_sc = _scaler.transform(_x_t)\n",
    "#                 _x_v_sc = _scaler.transform(_x_v)\n",
    "#                 _svc = svm.SVC(kernel=_kernel, gamma=_gamma, C=_C)\n",
    "#                 _svc.fit(_x_t_sc, _y_t)\n",
    "#                 _marco_1config[_f_i] = _svc.score(_x_v_sc, _y_v)\n",
    "#             _macro_f1[_k_i, _g_i, _c_i] = np.mean(_marco_1config)\n",
    "                \n",
    "svc = make_pipeline(StandardScaler(),svm.SVC())\n",
    "parameters = [{'svc__kernel': ['linear', 'poly', 'rbf', 'sigmoid'], 'svc__gamma': [0.01, 0.001, 0.0001],\n",
    "                     'svc__C':[0.1, 0.3, 0.5, 0.7, 0.9, 1.0, 1.3, 1.5, 1.7, 2.0, 3.0] , 'svc__class_weight':['balanced']}]\n",
    "                   \n",
    "grid_search_item = GridSearchCV(estimator = svc,\n",
    "                          param_grid = parameters,\n",
    "                           cv =  cv,\n",
    "                           scoring = 'accuracy',\n",
    "                           n_jobs = -1)\n",
    "grid_search = grid_search_item.fit(X, y)\n",
    "\n",
    "print(grid_search.best_score_)####not sure how come this is so good,but the parameters don't work good in the model\n",
    "print(grid_search.best_params_)\n",
    "\n",
    "means = grid_search.cv_results_['mean_test_score']\n",
    "stds = grid_search.cv_results_['std_test_score']\n",
    "params = grid_search.cv_results_['params']\n",
    "for mean, stdev, param in zip(means, stds, params):\n",
    "    print(\"%f (%f) with: %r\" % (mean, stdev, param))"
   ]
  },
  {
   "cell_type": "code",
   "execution_count": 78,
   "metadata": {},
   "outputs": [
    {
     "name": "stdout",
     "output_type": "stream",
     "text": [
      "[0.88599492 0.95121951 0.92732491 0.92893773 0.95157967]\n",
      "f1: 0.93 (+/- 0.05)\n",
      "0.7176190476190476\n",
      "0.9095238095238095\n"
     ]
    }
   ],
   "source": [
    "svc = make_pipeline(StandardScaler(),svm.SVC(gamma=0.001, class_weight='balanced', C = 0.7, kernel = 'linear'))\n",
    "scores = cross_val_score(svc, X, y, cv=cv, scoring='f1_weighted')\n",
    "print(scores)\n",
    "print(\"f1: %0.2f (+/- %0.2f)\" % (scores.mean(), scores.std() * 2))\n",
    "precision = cross_val_score(svc, X, y, cv=cv, scoring='precision')\n",
    "recall = cross_val_score(svc, X, y, cv=cv, scoring='recall')\n",
    "print(precision.mean())\n",
    "print(recall.mean())"
   ]
  },
  {
   "cell_type": "markdown",
   "metadata": {},
   "source": [
    "####SGDClassifier "
   ]
  },
  {
   "cell_type": "code",
   "execution_count": 98,
   "metadata": {},
   "outputs": [
    {
     "name": "stdout",
     "output_type": "stream",
     "text": [
      "0.935\n",
      "{'sgdclassifier__alpha': 0.05, 'sgdclassifier__class_weight': 'balanced', 'sgdclassifier__loss': 'squared_hinge', 'sgdclassifier__penalty': 'l2'}\n"
     ]
    }
   ],
   "source": [
    "#####grid search (the parameters predict everything to one class, we should use a separated \n",
    "#sample for tuning parameters, but not enough cases so far)\n",
    "clf = make_pipeline(StandardScaler(),SGDClassifier(max_iter= 1000))\n",
    "#clf = SGDClassifier(max_iter= 1000)\n",
    "parameters = [{'sgdclassifier__alpha': [0.01, 0.05, 0.001, 0.005], 'sgdclassifier__class_weight':['balanced'],\n",
    "              'sgdclassifier__loss': ['hinge','log','modified_huber','squared_hinge', 'perceptron'], \n",
    "               'sgdclassifier__penalty':['none','l1','l2']}]\n",
    "                   \n",
    "grid_search_item = GridSearchCV(clf,\n",
    "                          param_grid = parameters,\n",
    "                           scoring = 'accuracy',\n",
    "                           cv = cv,\n",
    "                           n_jobs = -1)\n",
    "grid_search = grid_search_item.fit(X, y)\n",
    "\n",
    "print(grid_search.best_score_)####not sure how come this is so good,but the parameters don't work good in the model\n",
    "print(grid_search.best_params_)"
   ]
  },
  {
   "cell_type": "code",
   "execution_count": 85,
   "metadata": {},
   "outputs": [
    {
     "data": {
      "text/plain": [
       "dict_keys(['memory', 'steps', 'standardscaler', 'sgdclassifier', 'standardscaler__copy', 'standardscaler__with_mean', 'standardscaler__with_std', 'sgdclassifier__alpha', 'sgdclassifier__average', 'sgdclassifier__class_weight', 'sgdclassifier__epsilon', 'sgdclassifier__eta0', 'sgdclassifier__fit_intercept', 'sgdclassifier__l1_ratio', 'sgdclassifier__learning_rate', 'sgdclassifier__loss', 'sgdclassifier__max_iter', 'sgdclassifier__n_iter', 'sgdclassifier__n_jobs', 'sgdclassifier__penalty', 'sgdclassifier__power_t', 'sgdclassifier__random_state', 'sgdclassifier__shuffle', 'sgdclassifier__tol', 'sgdclassifier__verbose', 'sgdclassifier__warm_start'])"
      ]
     },
     "execution_count": 85,
     "metadata": {},
     "output_type": "execute_result"
    }
   ],
   "source": [
    "clf.get_params().keys()"
   ]
  },
  {
   "cell_type": "code",
   "execution_count": 99,
   "metadata": {},
   "outputs": [
    {
     "name": "stdout",
     "output_type": "stream",
     "text": [
      "[0.92454523 0.91023035 0.89142857 0.90315934 0.94871795]\n",
      "f1: 0.92 (+/- 0.04)\n",
      "0.7356060606060606\n",
      "0.7761904761904763\n"
     ]
    }
   ],
   "source": [
    "clf = make_pipeline(StandardScaler(),SGDClassifier(max_iter=1000, alpha=0.01, class_weight = 'balanced', loss = 'squared_hinge', penalty= 'l2'))\n",
    "scores = cross_val_score(clf, X, y, cv=cv, scoring='f1_weighted')\n",
    "print(scores)\n",
    "print(\"f1: %0.2f (+/- %0.2f)\" % (scores.mean(), scores.std() * 2))\n",
    "precision = cross_val_score(clf, X, y, cv=cv, scoring='precision')\n",
    "recall = cross_val_score(clf, X, y, cv=cv, scoring='recall')\n",
    "print(precision.mean())\n",
    "print(recall.mean())"
   ]
  },
  {
   "cell_type": "markdown",
   "metadata": {
    "collapsed": true
   },
   "source": [
    "###random forest"
   ]
  },
  {
   "cell_type": "code",
   "execution_count": 104,
   "metadata": {},
   "outputs": [
    {
     "name": "stdout",
     "output_type": "stream",
     "text": [
      "0.9428571428571428\n",
      "{'randomforestclassifier__class_weight': 'balanced', 'randomforestclassifier__max_depth': 5, 'randomforestclassifier__max_features': 'sqrt', 'randomforestclassifier__max_leaf_nodes': 100, 'randomforestclassifier__n_estimators': 100}\n",
      "0.928571 (0.038793) with: {'randomforestclassifier__class_weight': 'balanced', 'randomforestclassifier__max_depth': 2, 'randomforestclassifier__max_features': 'auto', 'randomforestclassifier__max_leaf_nodes': 10, 'randomforestclassifier__n_estimators': 50}\n",
      "0.914286 (0.048179) with: {'randomforestclassifier__class_weight': 'balanced', 'randomforestclassifier__max_depth': 2, 'randomforestclassifier__max_features': 'auto', 'randomforestclassifier__max_leaf_nodes': 10, 'randomforestclassifier__n_estimators': 100}\n",
      "0.928571 (0.030833) with: {'randomforestclassifier__class_weight': 'balanced', 'randomforestclassifier__max_depth': 2, 'randomforestclassifier__max_features': 'auto', 'randomforestclassifier__max_leaf_nodes': 10, 'randomforestclassifier__n_estimators': 200}\n",
      "0.921429 (0.033982) with: {'randomforestclassifier__class_weight': 'balanced', 'randomforestclassifier__max_depth': 2, 'randomforestclassifier__max_features': 'auto', 'randomforestclassifier__max_leaf_nodes': 10, 'randomforestclassifier__n_estimators': 300}\n",
      "0.921429 (0.033982) with: {'randomforestclassifier__class_weight': 'balanced', 'randomforestclassifier__max_depth': 2, 'randomforestclassifier__max_features': 'auto', 'randomforestclassifier__max_leaf_nodes': 10, 'randomforestclassifier__n_estimators': 400}\n",
      "0.907143 (0.035452) with: {'randomforestclassifier__class_weight': 'balanced', 'randomforestclassifier__max_depth': 2, 'randomforestclassifier__max_features': 'auto', 'randomforestclassifier__max_leaf_nodes': 50, 'randomforestclassifier__n_estimators': 50}\n",
      "0.921429 (0.033982) with: {'randomforestclassifier__class_weight': 'balanced', 'randomforestclassifier__max_depth': 2, 'randomforestclassifier__max_features': 'auto', 'randomforestclassifier__max_leaf_nodes': 50, 'randomforestclassifier__n_estimators': 100}\n",
      "0.921429 (0.041340) with: {'randomforestclassifier__class_weight': 'balanced', 'randomforestclassifier__max_depth': 2, 'randomforestclassifier__max_features': 'auto', 'randomforestclassifier__max_leaf_nodes': 50, 'randomforestclassifier__n_estimators': 200}\n",
      "0.914286 (0.048179) with: {'randomforestclassifier__class_weight': 'balanced', 'randomforestclassifier__max_depth': 2, 'randomforestclassifier__max_features': 'auto', 'randomforestclassifier__max_leaf_nodes': 50, 'randomforestclassifier__n_estimators': 300}\n",
      "0.914286 (0.042036) with: {'randomforestclassifier__class_weight': 'balanced', 'randomforestclassifier__max_depth': 2, 'randomforestclassifier__max_features': 'auto', 'randomforestclassifier__max_leaf_nodes': 50, 'randomforestclassifier__n_estimators': 400}\n",
      "0.914286 (0.048179) with: {'randomforestclassifier__class_weight': 'balanced', 'randomforestclassifier__max_depth': 2, 'randomforestclassifier__max_features': 'auto', 'randomforestclassifier__max_leaf_nodes': 100, 'randomforestclassifier__n_estimators': 50}\n",
      "0.907143 (0.047720) with: {'randomforestclassifier__class_weight': 'balanced', 'randomforestclassifier__max_depth': 2, 'randomforestclassifier__max_features': 'auto', 'randomforestclassifier__max_leaf_nodes': 100, 'randomforestclassifier__n_estimators': 100}\n",
      "0.914286 (0.042036) with: {'randomforestclassifier__class_weight': 'balanced', 'randomforestclassifier__max_depth': 2, 'randomforestclassifier__max_features': 'auto', 'randomforestclassifier__max_leaf_nodes': 100, 'randomforestclassifier__n_estimators': 200}\n",
      "0.928571 (0.031538) with: {'randomforestclassifier__class_weight': 'balanced', 'randomforestclassifier__max_depth': 2, 'randomforestclassifier__max_features': 'auto', 'randomforestclassifier__max_leaf_nodes': 100, 'randomforestclassifier__n_estimators': 300}\n",
      "0.928571 (0.030833) with: {'randomforestclassifier__class_weight': 'balanced', 'randomforestclassifier__max_depth': 2, 'randomforestclassifier__max_features': 'auto', 'randomforestclassifier__max_leaf_nodes': 100, 'randomforestclassifier__n_estimators': 400}\n",
      "0.921429 (0.041340) with: {'randomforestclassifier__class_weight': 'balanced', 'randomforestclassifier__max_depth': 2, 'randomforestclassifier__max_features': 'sqrt', 'randomforestclassifier__max_leaf_nodes': 10, 'randomforestclassifier__n_estimators': 50}\n",
      "0.928571 (0.030833) with: {'randomforestclassifier__class_weight': 'balanced', 'randomforestclassifier__max_depth': 2, 'randomforestclassifier__max_features': 'sqrt', 'randomforestclassifier__max_leaf_nodes': 10, 'randomforestclassifier__n_estimators': 100}\n",
      "0.921429 (0.041340) with: {'randomforestclassifier__class_weight': 'balanced', 'randomforestclassifier__max_depth': 2, 'randomforestclassifier__max_features': 'sqrt', 'randomforestclassifier__max_leaf_nodes': 10, 'randomforestclassifier__n_estimators': 200}\n",
      "0.928571 (0.030833) with: {'randomforestclassifier__class_weight': 'balanced', 'randomforestclassifier__max_depth': 2, 'randomforestclassifier__max_features': 'sqrt', 'randomforestclassifier__max_leaf_nodes': 10, 'randomforestclassifier__n_estimators': 300}\n",
      "0.914286 (0.042036) with: {'randomforestclassifier__class_weight': 'balanced', 'randomforestclassifier__max_depth': 2, 'randomforestclassifier__max_features': 'sqrt', 'randomforestclassifier__max_leaf_nodes': 10, 'randomforestclassifier__n_estimators': 400}\n",
      "0.921429 (0.026240) with: {'randomforestclassifier__class_weight': 'balanced', 'randomforestclassifier__max_depth': 2, 'randomforestclassifier__max_features': 'sqrt', 'randomforestclassifier__max_leaf_nodes': 50, 'randomforestclassifier__n_estimators': 50}\n",
      "0.928571 (0.031538) with: {'randomforestclassifier__class_weight': 'balanced', 'randomforestclassifier__max_depth': 2, 'randomforestclassifier__max_features': 'sqrt', 'randomforestclassifier__max_leaf_nodes': 50, 'randomforestclassifier__n_estimators': 100}\n",
      "0.928571 (0.031538) with: {'randomforestclassifier__class_weight': 'balanced', 'randomforestclassifier__max_depth': 2, 'randomforestclassifier__max_features': 'sqrt', 'randomforestclassifier__max_leaf_nodes': 50, 'randomforestclassifier__n_estimators': 200}\n",
      "0.921429 (0.041340) with: {'randomforestclassifier__class_weight': 'balanced', 'randomforestclassifier__max_depth': 2, 'randomforestclassifier__max_features': 'sqrt', 'randomforestclassifier__max_leaf_nodes': 50, 'randomforestclassifier__n_estimators': 300}\n",
      "0.921429 (0.041340) with: {'randomforestclassifier__class_weight': 'balanced', 'randomforestclassifier__max_depth': 2, 'randomforestclassifier__max_features': 'sqrt', 'randomforestclassifier__max_leaf_nodes': 50, 'randomforestclassifier__n_estimators': 400}\n",
      "0.921429 (0.041340) with: {'randomforestclassifier__class_weight': 'balanced', 'randomforestclassifier__max_depth': 2, 'randomforestclassifier__max_features': 'sqrt', 'randomforestclassifier__max_leaf_nodes': 100, 'randomforestclassifier__n_estimators': 50}\n",
      "0.907143 (0.035452) with: {'randomforestclassifier__class_weight': 'balanced', 'randomforestclassifier__max_depth': 2, 'randomforestclassifier__max_features': 'sqrt', 'randomforestclassifier__max_leaf_nodes': 100, 'randomforestclassifier__n_estimators': 100}\n",
      "0.914286 (0.042036) with: {'randomforestclassifier__class_weight': 'balanced', 'randomforestclassifier__max_depth': 2, 'randomforestclassifier__max_features': 'sqrt', 'randomforestclassifier__max_leaf_nodes': 100, 'randomforestclassifier__n_estimators': 200}\n",
      "0.928571 (0.031538) with: {'randomforestclassifier__class_weight': 'balanced', 'randomforestclassifier__max_depth': 2, 'randomforestclassifier__max_features': 'sqrt', 'randomforestclassifier__max_leaf_nodes': 100, 'randomforestclassifier__n_estimators': 300}\n",
      "0.928571 (0.030833) with: {'randomforestclassifier__class_weight': 'balanced', 'randomforestclassifier__max_depth': 2, 'randomforestclassifier__max_features': 'sqrt', 'randomforestclassifier__max_leaf_nodes': 100, 'randomforestclassifier__n_estimators': 400}\n",
      "0.921429 (0.033982) with: {'randomforestclassifier__class_weight': 'balanced', 'randomforestclassifier__max_depth': 2, 'randomforestclassifier__max_features': 'log2', 'randomforestclassifier__max_leaf_nodes': 10, 'randomforestclassifier__n_estimators': 50}\n",
      "0.935714 (0.033982) with: {'randomforestclassifier__class_weight': 'balanced', 'randomforestclassifier__max_depth': 2, 'randomforestclassifier__max_features': 'log2', 'randomforestclassifier__max_leaf_nodes': 10, 'randomforestclassifier__n_estimators': 100}\n",
      "0.935714 (0.033982) with: {'randomforestclassifier__class_weight': 'balanced', 'randomforestclassifier__max_depth': 2, 'randomforestclassifier__max_features': 'log2', 'randomforestclassifier__max_leaf_nodes': 10, 'randomforestclassifier__n_estimators': 200}\n",
      "0.935714 (0.026240) with: {'randomforestclassifier__class_weight': 'balanced', 'randomforestclassifier__max_depth': 2, 'randomforestclassifier__max_features': 'log2', 'randomforestclassifier__max_leaf_nodes': 10, 'randomforestclassifier__n_estimators': 300}\n",
      "0.928571 (0.031538) with: {'randomforestclassifier__class_weight': 'balanced', 'randomforestclassifier__max_depth': 2, 'randomforestclassifier__max_features': 'log2', 'randomforestclassifier__max_leaf_nodes': 10, 'randomforestclassifier__n_estimators': 400}\n",
      "0.921429 (0.041340) with: {'randomforestclassifier__class_weight': 'balanced', 'randomforestclassifier__max_depth': 2, 'randomforestclassifier__max_features': 'log2', 'randomforestclassifier__max_leaf_nodes': 50, 'randomforestclassifier__n_estimators': 50}\n",
      "0.928571 (0.031538) with: {'randomforestclassifier__class_weight': 'balanced', 'randomforestclassifier__max_depth': 2, 'randomforestclassifier__max_features': 'log2', 'randomforestclassifier__max_leaf_nodes': 50, 'randomforestclassifier__n_estimators': 100}\n",
      "0.921429 (0.041340) with: {'randomforestclassifier__class_weight': 'balanced', 'randomforestclassifier__max_depth': 2, 'randomforestclassifier__max_features': 'log2', 'randomforestclassifier__max_leaf_nodes': 50, 'randomforestclassifier__n_estimators': 200}\n",
      "0.928571 (0.031538) with: {'randomforestclassifier__class_weight': 'balanced', 'randomforestclassifier__max_depth': 2, 'randomforestclassifier__max_features': 'log2', 'randomforestclassifier__max_leaf_nodes': 50, 'randomforestclassifier__n_estimators': 300}\n",
      "0.928571 (0.031538) with: {'randomforestclassifier__class_weight': 'balanced', 'randomforestclassifier__max_depth': 2, 'randomforestclassifier__max_features': 'log2', 'randomforestclassifier__max_leaf_nodes': 50, 'randomforestclassifier__n_estimators': 400}\n",
      "0.928571 (0.038793) with: {'randomforestclassifier__class_weight': 'balanced', 'randomforestclassifier__max_depth': 2, 'randomforestclassifier__max_features': 'log2', 'randomforestclassifier__max_leaf_nodes': 100, 'randomforestclassifier__n_estimators': 50}\n",
      "0.928571 (0.031538) with: {'randomforestclassifier__class_weight': 'balanced', 'randomforestclassifier__max_depth': 2, 'randomforestclassifier__max_features': 'log2', 'randomforestclassifier__max_leaf_nodes': 100, 'randomforestclassifier__n_estimators': 100}\n",
      "0.921429 (0.041340) with: {'randomforestclassifier__class_weight': 'balanced', 'randomforestclassifier__max_depth': 2, 'randomforestclassifier__max_features': 'log2', 'randomforestclassifier__max_leaf_nodes': 100, 'randomforestclassifier__n_estimators': 200}\n",
      "0.914286 (0.048179) with: {'randomforestclassifier__class_weight': 'balanced', 'randomforestclassifier__max_depth': 2, 'randomforestclassifier__max_features': 'log2', 'randomforestclassifier__max_leaf_nodes': 100, 'randomforestclassifier__n_estimators': 300}\n",
      "0.928571 (0.030833) with: {'randomforestclassifier__class_weight': 'balanced', 'randomforestclassifier__max_depth': 2, 'randomforestclassifier__max_features': 'log2', 'randomforestclassifier__max_leaf_nodes': 100, 'randomforestclassifier__n_estimators': 400}\n",
      "0.914286 (0.036066) with: {'randomforestclassifier__class_weight': 'balanced', 'randomforestclassifier__max_depth': 5, 'randomforestclassifier__max_features': 'auto', 'randomforestclassifier__max_leaf_nodes': 10, 'randomforestclassifier__n_estimators': 50}\n",
      "0.935714 (0.026240) with: {'randomforestclassifier__class_weight': 'balanced', 'randomforestclassifier__max_depth': 5, 'randomforestclassifier__max_features': 'auto', 'randomforestclassifier__max_leaf_nodes': 10, 'randomforestclassifier__n_estimators': 100}\n",
      "0.914286 (0.042036) with: {'randomforestclassifier__class_weight': 'balanced', 'randomforestclassifier__max_depth': 5, 'randomforestclassifier__max_features': 'auto', 'randomforestclassifier__max_leaf_nodes': 10, 'randomforestclassifier__n_estimators': 200}\n",
      "0.935714 (0.033982) with: {'randomforestclassifier__class_weight': 'balanced', 'randomforestclassifier__max_depth': 5, 'randomforestclassifier__max_features': 'auto', 'randomforestclassifier__max_leaf_nodes': 10, 'randomforestclassifier__n_estimators': 300}\n",
      "0.935714 (0.033982) with: {'randomforestclassifier__class_weight': 'balanced', 'randomforestclassifier__max_depth': 5, 'randomforestclassifier__max_features': 'auto', 'randomforestclassifier__max_leaf_nodes': 10, 'randomforestclassifier__n_estimators': 400}\n",
      "0.928571 (0.043698) with: {'randomforestclassifier__class_weight': 'balanced', 'randomforestclassifier__max_depth': 5, 'randomforestclassifier__max_features': 'auto', 'randomforestclassifier__max_leaf_nodes': 50, 'randomforestclassifier__n_estimators': 50}\n",
      "0.928571 (0.043698) with: {'randomforestclassifier__class_weight': 'balanced', 'randomforestclassifier__max_depth': 5, 'randomforestclassifier__max_features': 'auto', 'randomforestclassifier__max_leaf_nodes': 50, 'randomforestclassifier__n_estimators': 100}\n",
      "0.935714 (0.033982) with: {'randomforestclassifier__class_weight': 'balanced', 'randomforestclassifier__max_depth': 5, 'randomforestclassifier__max_features': 'auto', 'randomforestclassifier__max_leaf_nodes': 50, 'randomforestclassifier__n_estimators': 200}\n",
      "0.935714 (0.033982) with: {'randomforestclassifier__class_weight': 'balanced', 'randomforestclassifier__max_depth': 5, 'randomforestclassifier__max_features': 'auto', 'randomforestclassifier__max_leaf_nodes': 50, 'randomforestclassifier__n_estimators': 300}\n",
      "0.935714 (0.033982) with: {'randomforestclassifier__class_weight': 'balanced', 'randomforestclassifier__max_depth': 5, 'randomforestclassifier__max_features': 'auto', 'randomforestclassifier__max_leaf_nodes': 50, 'randomforestclassifier__n_estimators': 400}\n",
      "0.928571 (0.031538) with: {'randomforestclassifier__class_weight': 'balanced', 'randomforestclassifier__max_depth': 5, 'randomforestclassifier__max_features': 'auto', 'randomforestclassifier__max_leaf_nodes': 100, 'randomforestclassifier__n_estimators': 50}\n",
      "0.935714 (0.025388) with: {'randomforestclassifier__class_weight': 'balanced', 'randomforestclassifier__max_depth': 5, 'randomforestclassifier__max_features': 'auto', 'randomforestclassifier__max_leaf_nodes': 100, 'randomforestclassifier__n_estimators': 100}\n",
      "0.935714 (0.033982) with: {'randomforestclassifier__class_weight': 'balanced', 'randomforestclassifier__max_depth': 5, 'randomforestclassifier__max_features': 'auto', 'randomforestclassifier__max_leaf_nodes': 100, 'randomforestclassifier__n_estimators': 200}\n",
      "0.928571 (0.030833) with: {'randomforestclassifier__class_weight': 'balanced', 'randomforestclassifier__max_depth': 5, 'randomforestclassifier__max_features': 'auto', 'randomforestclassifier__max_leaf_nodes': 100, 'randomforestclassifier__n_estimators': 300}\n",
      "0.928571 (0.030833) with: {'randomforestclassifier__class_weight': 'balanced', 'randomforestclassifier__max_depth': 5, 'randomforestclassifier__max_features': 'auto', 'randomforestclassifier__max_leaf_nodes': 100, 'randomforestclassifier__n_estimators': 400}\n",
      "0.921429 (0.041340) with: {'randomforestclassifier__class_weight': 'balanced', 'randomforestclassifier__max_depth': 5, 'randomforestclassifier__max_features': 'sqrt', 'randomforestclassifier__max_leaf_nodes': 10, 'randomforestclassifier__n_estimators': 50}\n",
      "0.928571 (0.030833) with: {'randomforestclassifier__class_weight': 'balanced', 'randomforestclassifier__max_depth': 5, 'randomforestclassifier__max_features': 'sqrt', 'randomforestclassifier__max_leaf_nodes': 10, 'randomforestclassifier__n_estimators': 100}\n",
      "0.928571 (0.031538) with: {'randomforestclassifier__class_weight': 'balanced', 'randomforestclassifier__max_depth': 5, 'randomforestclassifier__max_features': 'sqrt', 'randomforestclassifier__max_leaf_nodes': 10, 'randomforestclassifier__n_estimators': 200}\n",
      "0.935714 (0.033982) with: {'randomforestclassifier__class_weight': 'balanced', 'randomforestclassifier__max_depth': 5, 'randomforestclassifier__max_features': 'sqrt', 'randomforestclassifier__max_leaf_nodes': 10, 'randomforestclassifier__n_estimators': 300}\n",
      "0.935714 (0.033982) with: {'randomforestclassifier__class_weight': 'balanced', 'randomforestclassifier__max_depth': 5, 'randomforestclassifier__max_features': 'sqrt', 'randomforestclassifier__max_leaf_nodes': 10, 'randomforestclassifier__n_estimators': 400}\n",
      "0.928571 (0.030833) with: {'randomforestclassifier__class_weight': 'balanced', 'randomforestclassifier__max_depth': 5, 'randomforestclassifier__max_features': 'sqrt', 'randomforestclassifier__max_leaf_nodes': 50, 'randomforestclassifier__n_estimators': 50}\n",
      "0.928571 (0.030833) with: {'randomforestclassifier__class_weight': 'balanced', 'randomforestclassifier__max_depth': 5, 'randomforestclassifier__max_features': 'sqrt', 'randomforestclassifier__max_leaf_nodes': 50, 'randomforestclassifier__n_estimators': 100}\n",
      "0.928571 (0.030833) with: {'randomforestclassifier__class_weight': 'balanced', 'randomforestclassifier__max_depth': 5, 'randomforestclassifier__max_features': 'sqrt', 'randomforestclassifier__max_leaf_nodes': 50, 'randomforestclassifier__n_estimators': 200}\n",
      "0.928571 (0.030833) with: {'randomforestclassifier__class_weight': 'balanced', 'randomforestclassifier__max_depth': 5, 'randomforestclassifier__max_features': 'sqrt', 'randomforestclassifier__max_leaf_nodes': 50, 'randomforestclassifier__n_estimators': 300}\n",
      "0.928571 (0.030833) with: {'randomforestclassifier__class_weight': 'balanced', 'randomforestclassifier__max_depth': 5, 'randomforestclassifier__max_features': 'sqrt', 'randomforestclassifier__max_leaf_nodes': 50, 'randomforestclassifier__n_estimators': 400}\n",
      "0.935714 (0.033982) with: {'randomforestclassifier__class_weight': 'balanced', 'randomforestclassifier__max_depth': 5, 'randomforestclassifier__max_features': 'sqrt', 'randomforestclassifier__max_leaf_nodes': 100, 'randomforestclassifier__n_estimators': 50}\n",
      "0.942857 (0.042036) with: {'randomforestclassifier__class_weight': 'balanced', 'randomforestclassifier__max_depth': 5, 'randomforestclassifier__max_features': 'sqrt', 'randomforestclassifier__max_leaf_nodes': 100, 'randomforestclassifier__n_estimators': 100}\n",
      "0.928571 (0.030833) with: {'randomforestclassifier__class_weight': 'balanced', 'randomforestclassifier__max_depth': 5, 'randomforestclassifier__max_features': 'sqrt', 'randomforestclassifier__max_leaf_nodes': 100, 'randomforestclassifier__n_estimators': 200}\n",
      "0.928571 (0.030833) with: {'randomforestclassifier__class_weight': 'balanced', 'randomforestclassifier__max_depth': 5, 'randomforestclassifier__max_features': 'sqrt', 'randomforestclassifier__max_leaf_nodes': 100, 'randomforestclassifier__n_estimators': 300}\n",
      "0.935714 (0.033982) with: {'randomforestclassifier__class_weight': 'balanced', 'randomforestclassifier__max_depth': 5, 'randomforestclassifier__max_features': 'sqrt', 'randomforestclassifier__max_leaf_nodes': 100, 'randomforestclassifier__n_estimators': 400}\n",
      "0.928571 (0.031538) with: {'randomforestclassifier__class_weight': 'balanced', 'randomforestclassifier__max_depth': 5, 'randomforestclassifier__max_features': 'log2', 'randomforestclassifier__max_leaf_nodes': 10, 'randomforestclassifier__n_estimators': 50}\n",
      "0.935714 (0.033982) with: {'randomforestclassifier__class_weight': 'balanced', 'randomforestclassifier__max_depth': 5, 'randomforestclassifier__max_features': 'log2', 'randomforestclassifier__max_leaf_nodes': 10, 'randomforestclassifier__n_estimators': 100}\n",
      "0.935714 (0.033982) with: {'randomforestclassifier__class_weight': 'balanced', 'randomforestclassifier__max_depth': 5, 'randomforestclassifier__max_features': 'log2', 'randomforestclassifier__max_leaf_nodes': 10, 'randomforestclassifier__n_estimators': 200}\n",
      "0.935714 (0.033982) with: {'randomforestclassifier__class_weight': 'balanced', 'randomforestclassifier__max_depth': 5, 'randomforestclassifier__max_features': 'log2', 'randomforestclassifier__max_leaf_nodes': 10, 'randomforestclassifier__n_estimators': 300}\n",
      "0.935714 (0.033982) with: {'randomforestclassifier__class_weight': 'balanced', 'randomforestclassifier__max_depth': 5, 'randomforestclassifier__max_features': 'log2', 'randomforestclassifier__max_leaf_nodes': 10, 'randomforestclassifier__n_estimators': 400}\n",
      "0.935714 (0.033982) with: {'randomforestclassifier__class_weight': 'balanced', 'randomforestclassifier__max_depth': 5, 'randomforestclassifier__max_features': 'log2', 'randomforestclassifier__max_leaf_nodes': 50, 'randomforestclassifier__n_estimators': 50}\n",
      "0.928571 (0.030833) with: {'randomforestclassifier__class_weight': 'balanced', 'randomforestclassifier__max_depth': 5, 'randomforestclassifier__max_features': 'log2', 'randomforestclassifier__max_leaf_nodes': 50, 'randomforestclassifier__n_estimators': 100}\n",
      "0.928571 (0.030833) with: {'randomforestclassifier__class_weight': 'balanced', 'randomforestclassifier__max_depth': 5, 'randomforestclassifier__max_features': 'log2', 'randomforestclassifier__max_leaf_nodes': 50, 'randomforestclassifier__n_estimators': 200}\n",
      "0.928571 (0.030833) with: {'randomforestclassifier__class_weight': 'balanced', 'randomforestclassifier__max_depth': 5, 'randomforestclassifier__max_features': 'log2', 'randomforestclassifier__max_leaf_nodes': 50, 'randomforestclassifier__n_estimators': 300}\n",
      "0.928571 (0.030833) with: {'randomforestclassifier__class_weight': 'balanced', 'randomforestclassifier__max_depth': 5, 'randomforestclassifier__max_features': 'log2', 'randomforestclassifier__max_leaf_nodes': 50, 'randomforestclassifier__n_estimators': 400}\n",
      "0.928571 (0.030833) with: {'randomforestclassifier__class_weight': 'balanced', 'randomforestclassifier__max_depth': 5, 'randomforestclassifier__max_features': 'log2', 'randomforestclassifier__max_leaf_nodes': 100, 'randomforestclassifier__n_estimators': 50}\n",
      "0.921429 (0.033982) with: {'randomforestclassifier__class_weight': 'balanced', 'randomforestclassifier__max_depth': 5, 'randomforestclassifier__max_features': 'log2', 'randomforestclassifier__max_leaf_nodes': 100, 'randomforestclassifier__n_estimators': 100}\n",
      "0.928571 (0.030833) with: {'randomforestclassifier__class_weight': 'balanced', 'randomforestclassifier__max_depth': 5, 'randomforestclassifier__max_features': 'log2', 'randomforestclassifier__max_leaf_nodes': 100, 'randomforestclassifier__n_estimators': 200}\n",
      "0.928571 (0.030833) with: {'randomforestclassifier__class_weight': 'balanced', 'randomforestclassifier__max_depth': 5, 'randomforestclassifier__max_features': 'log2', 'randomforestclassifier__max_leaf_nodes': 100, 'randomforestclassifier__n_estimators': 300}\n",
      "0.935714 (0.033982) with: {'randomforestclassifier__class_weight': 'balanced', 'randomforestclassifier__max_depth': 5, 'randomforestclassifier__max_features': 'log2', 'randomforestclassifier__max_leaf_nodes': 100, 'randomforestclassifier__n_estimators': 400}\n",
      "0.928571 (0.030833) with: {'randomforestclassifier__class_weight': 'balanced', 'randomforestclassifier__max_depth': 10, 'randomforestclassifier__max_features': 'auto', 'randomforestclassifier__max_leaf_nodes': 10, 'randomforestclassifier__n_estimators': 50}\n",
      "0.935714 (0.033982) with: {'randomforestclassifier__class_weight': 'balanced', 'randomforestclassifier__max_depth': 10, 'randomforestclassifier__max_features': 'auto', 'randomforestclassifier__max_leaf_nodes': 10, 'randomforestclassifier__n_estimators': 100}\n",
      "0.942857 (0.042036) with: {'randomforestclassifier__class_weight': 'balanced', 'randomforestclassifier__max_depth': 10, 'randomforestclassifier__max_features': 'auto', 'randomforestclassifier__max_leaf_nodes': 10, 'randomforestclassifier__n_estimators': 200}\n",
      "0.928571 (0.030833) with: {'randomforestclassifier__class_weight': 'balanced', 'randomforestclassifier__max_depth': 10, 'randomforestclassifier__max_features': 'auto', 'randomforestclassifier__max_leaf_nodes': 10, 'randomforestclassifier__n_estimators': 300}\n",
      "0.928571 (0.030833) with: {'randomforestclassifier__class_weight': 'balanced', 'randomforestclassifier__max_depth': 10, 'randomforestclassifier__max_features': 'auto', 'randomforestclassifier__max_leaf_nodes': 10, 'randomforestclassifier__n_estimators': 400}\n",
      "0.921429 (0.033982) with: {'randomforestclassifier__class_weight': 'balanced', 'randomforestclassifier__max_depth': 10, 'randomforestclassifier__max_features': 'auto', 'randomforestclassifier__max_leaf_nodes': 50, 'randomforestclassifier__n_estimators': 50}\n",
      "0.942857 (0.042036) with: {'randomforestclassifier__class_weight': 'balanced', 'randomforestclassifier__max_depth': 10, 'randomforestclassifier__max_features': 'auto', 'randomforestclassifier__max_leaf_nodes': 50, 'randomforestclassifier__n_estimators': 100}\n",
      "0.935714 (0.033982) with: {'randomforestclassifier__class_weight': 'balanced', 'randomforestclassifier__max_depth': 10, 'randomforestclassifier__max_features': 'auto', 'randomforestclassifier__max_leaf_nodes': 50, 'randomforestclassifier__n_estimators': 200}\n",
      "0.935714 (0.033982) with: {'randomforestclassifier__class_weight': 'balanced', 'randomforestclassifier__max_depth': 10, 'randomforestclassifier__max_features': 'auto', 'randomforestclassifier__max_leaf_nodes': 50, 'randomforestclassifier__n_estimators': 300}\n",
      "0.935714 (0.033982) with: {'randomforestclassifier__class_weight': 'balanced', 'randomforestclassifier__max_depth': 10, 'randomforestclassifier__max_features': 'auto', 'randomforestclassifier__max_leaf_nodes': 50, 'randomforestclassifier__n_estimators': 400}\n",
      "0.942857 (0.042036) with: {'randomforestclassifier__class_weight': 'balanced', 'randomforestclassifier__max_depth': 10, 'randomforestclassifier__max_features': 'auto', 'randomforestclassifier__max_leaf_nodes': 100, 'randomforestclassifier__n_estimators': 50}\n",
      "0.921429 (0.033982) with: {'randomforestclassifier__class_weight': 'balanced', 'randomforestclassifier__max_depth': 10, 'randomforestclassifier__max_features': 'auto', 'randomforestclassifier__max_leaf_nodes': 100, 'randomforestclassifier__n_estimators': 100}\n",
      "0.935714 (0.033982) with: {'randomforestclassifier__class_weight': 'balanced', 'randomforestclassifier__max_depth': 10, 'randomforestclassifier__max_features': 'auto', 'randomforestclassifier__max_leaf_nodes': 100, 'randomforestclassifier__n_estimators': 200}\n",
      "0.935714 (0.033982) with: {'randomforestclassifier__class_weight': 'balanced', 'randomforestclassifier__max_depth': 10, 'randomforestclassifier__max_features': 'auto', 'randomforestclassifier__max_leaf_nodes': 100, 'randomforestclassifier__n_estimators': 300}\n",
      "0.921429 (0.033982) with: {'randomforestclassifier__class_weight': 'balanced', 'randomforestclassifier__max_depth': 10, 'randomforestclassifier__max_features': 'auto', 'randomforestclassifier__max_leaf_nodes': 100, 'randomforestclassifier__n_estimators': 400}\n",
      "0.928571 (0.044397) with: {'randomforestclassifier__class_weight': 'balanced', 'randomforestclassifier__max_depth': 10, 'randomforestclassifier__max_features': 'sqrt', 'randomforestclassifier__max_leaf_nodes': 10, 'randomforestclassifier__n_estimators': 50}\n",
      "0.928571 (0.030833) with: {'randomforestclassifier__class_weight': 'balanced', 'randomforestclassifier__max_depth': 10, 'randomforestclassifier__max_features': 'sqrt', 'randomforestclassifier__max_leaf_nodes': 10, 'randomforestclassifier__n_estimators': 100}\n",
      "0.928571 (0.030833) with: {'randomforestclassifier__class_weight': 'balanced', 'randomforestclassifier__max_depth': 10, 'randomforestclassifier__max_features': 'sqrt', 'randomforestclassifier__max_leaf_nodes': 10, 'randomforestclassifier__n_estimators': 200}\n",
      "0.928571 (0.030833) with: {'randomforestclassifier__class_weight': 'balanced', 'randomforestclassifier__max_depth': 10, 'randomforestclassifier__max_features': 'sqrt', 'randomforestclassifier__max_leaf_nodes': 10, 'randomforestclassifier__n_estimators': 300}\n",
      "0.942857 (0.042036) with: {'randomforestclassifier__class_weight': 'balanced', 'randomforestclassifier__max_depth': 10, 'randomforestclassifier__max_features': 'sqrt', 'randomforestclassifier__max_leaf_nodes': 10, 'randomforestclassifier__n_estimators': 400}\n",
      "0.928571 (0.030833) with: {'randomforestclassifier__class_weight': 'balanced', 'randomforestclassifier__max_depth': 10, 'randomforestclassifier__max_features': 'sqrt', 'randomforestclassifier__max_leaf_nodes': 50, 'randomforestclassifier__n_estimators': 50}\n",
      "0.928571 (0.030833) with: {'randomforestclassifier__class_weight': 'balanced', 'randomforestclassifier__max_depth': 10, 'randomforestclassifier__max_features': 'sqrt', 'randomforestclassifier__max_leaf_nodes': 50, 'randomforestclassifier__n_estimators': 100}\n",
      "0.935714 (0.033982) with: {'randomforestclassifier__class_weight': 'balanced', 'randomforestclassifier__max_depth': 10, 'randomforestclassifier__max_features': 'sqrt', 'randomforestclassifier__max_leaf_nodes': 50, 'randomforestclassifier__n_estimators': 200}\n",
      "0.935714 (0.033982) with: {'randomforestclassifier__class_weight': 'balanced', 'randomforestclassifier__max_depth': 10, 'randomforestclassifier__max_features': 'sqrt', 'randomforestclassifier__max_leaf_nodes': 50, 'randomforestclassifier__n_estimators': 300}\n",
      "0.928571 (0.030833) with: {'randomforestclassifier__class_weight': 'balanced', 'randomforestclassifier__max_depth': 10, 'randomforestclassifier__max_features': 'sqrt', 'randomforestclassifier__max_leaf_nodes': 50, 'randomforestclassifier__n_estimators': 400}\n",
      "0.935714 (0.033982) with: {'randomforestclassifier__class_weight': 'balanced', 'randomforestclassifier__max_depth': 10, 'randomforestclassifier__max_features': 'sqrt', 'randomforestclassifier__max_leaf_nodes': 100, 'randomforestclassifier__n_estimators': 50}\n",
      "0.935714 (0.033982) with: {'randomforestclassifier__class_weight': 'balanced', 'randomforestclassifier__max_depth': 10, 'randomforestclassifier__max_features': 'sqrt', 'randomforestclassifier__max_leaf_nodes': 100, 'randomforestclassifier__n_estimators': 100}\n",
      "0.935714 (0.033982) with: {'randomforestclassifier__class_weight': 'balanced', 'randomforestclassifier__max_depth': 10, 'randomforestclassifier__max_features': 'sqrt', 'randomforestclassifier__max_leaf_nodes': 100, 'randomforestclassifier__n_estimators': 200}\n",
      "0.942857 (0.042036) with: {'randomforestclassifier__class_weight': 'balanced', 'randomforestclassifier__max_depth': 10, 'randomforestclassifier__max_features': 'sqrt', 'randomforestclassifier__max_leaf_nodes': 100, 'randomforestclassifier__n_estimators': 300}\n",
      "0.928571 (0.030833) with: {'randomforestclassifier__class_weight': 'balanced', 'randomforestclassifier__max_depth': 10, 'randomforestclassifier__max_features': 'sqrt', 'randomforestclassifier__max_leaf_nodes': 100, 'randomforestclassifier__n_estimators': 400}\n",
      "0.942857 (0.042036) with: {'randomforestclassifier__class_weight': 'balanced', 'randomforestclassifier__max_depth': 10, 'randomforestclassifier__max_features': 'log2', 'randomforestclassifier__max_leaf_nodes': 10, 'randomforestclassifier__n_estimators': 50}\n",
      "0.935714 (0.033982) with: {'randomforestclassifier__class_weight': 'balanced', 'randomforestclassifier__max_depth': 10, 'randomforestclassifier__max_features': 'log2', 'randomforestclassifier__max_leaf_nodes': 10, 'randomforestclassifier__n_estimators': 100}\n",
      "0.935714 (0.033982) with: {'randomforestclassifier__class_weight': 'balanced', 'randomforestclassifier__max_depth': 10, 'randomforestclassifier__max_features': 'log2', 'randomforestclassifier__max_leaf_nodes': 10, 'randomforestclassifier__n_estimators': 200}\n",
      "0.942857 (0.042036) with: {'randomforestclassifier__class_weight': 'balanced', 'randomforestclassifier__max_depth': 10, 'randomforestclassifier__max_features': 'log2', 'randomforestclassifier__max_leaf_nodes': 10, 'randomforestclassifier__n_estimators': 300}\n",
      "0.935714 (0.033982) with: {'randomforestclassifier__class_weight': 'balanced', 'randomforestclassifier__max_depth': 10, 'randomforestclassifier__max_features': 'log2', 'randomforestclassifier__max_leaf_nodes': 10, 'randomforestclassifier__n_estimators': 400}\n",
      "0.928571 (0.044397) with: {'randomforestclassifier__class_weight': 'balanced', 'randomforestclassifier__max_depth': 10, 'randomforestclassifier__max_features': 'log2', 'randomforestclassifier__max_leaf_nodes': 50, 'randomforestclassifier__n_estimators': 50}\n",
      "0.928571 (0.030833) with: {'randomforestclassifier__class_weight': 'balanced', 'randomforestclassifier__max_depth': 10, 'randomforestclassifier__max_features': 'log2', 'randomforestclassifier__max_leaf_nodes': 50, 'randomforestclassifier__n_estimators': 100}\n",
      "0.935714 (0.033982) with: {'randomforestclassifier__class_weight': 'balanced', 'randomforestclassifier__max_depth': 10, 'randomforestclassifier__max_features': 'log2', 'randomforestclassifier__max_leaf_nodes': 50, 'randomforestclassifier__n_estimators': 200}\n",
      "0.935714 (0.033982) with: {'randomforestclassifier__class_weight': 'balanced', 'randomforestclassifier__max_depth': 10, 'randomforestclassifier__max_features': 'log2', 'randomforestclassifier__max_leaf_nodes': 50, 'randomforestclassifier__n_estimators': 300}\n",
      "0.935714 (0.033982) with: {'randomforestclassifier__class_weight': 'balanced', 'randomforestclassifier__max_depth': 10, 'randomforestclassifier__max_features': 'log2', 'randomforestclassifier__max_leaf_nodes': 50, 'randomforestclassifier__n_estimators': 400}\n",
      "0.935714 (0.033982) with: {'randomforestclassifier__class_weight': 'balanced', 'randomforestclassifier__max_depth': 10, 'randomforestclassifier__max_features': 'log2', 'randomforestclassifier__max_leaf_nodes': 100, 'randomforestclassifier__n_estimators': 50}\n",
      "0.935714 (0.033982) with: {'randomforestclassifier__class_weight': 'balanced', 'randomforestclassifier__max_depth': 10, 'randomforestclassifier__max_features': 'log2', 'randomforestclassifier__max_leaf_nodes': 100, 'randomforestclassifier__n_estimators': 100}\n",
      "0.942857 (0.042036) with: {'randomforestclassifier__class_weight': 'balanced', 'randomforestclassifier__max_depth': 10, 'randomforestclassifier__max_features': 'log2', 'randomforestclassifier__max_leaf_nodes': 100, 'randomforestclassifier__n_estimators': 200}\n",
      "0.942857 (0.042036) with: {'randomforestclassifier__class_weight': 'balanced', 'randomforestclassifier__max_depth': 10, 'randomforestclassifier__max_features': 'log2', 'randomforestclassifier__max_leaf_nodes': 100, 'randomforestclassifier__n_estimators': 300}\n",
      "0.942857 (0.042036) with: {'randomforestclassifier__class_weight': 'balanced', 'randomforestclassifier__max_depth': 10, 'randomforestclassifier__max_features': 'log2', 'randomforestclassifier__max_leaf_nodes': 100, 'randomforestclassifier__n_estimators': 400}\n",
      "0.921429 (0.040804) with: {'randomforestclassifier__class_weight': 'balanced', 'randomforestclassifier__max_depth': 20, 'randomforestclassifier__max_features': 'auto', 'randomforestclassifier__max_leaf_nodes': 10, 'randomforestclassifier__n_estimators': 50}\n",
      "0.928571 (0.030833) with: {'randomforestclassifier__class_weight': 'balanced', 'randomforestclassifier__max_depth': 20, 'randomforestclassifier__max_features': 'auto', 'randomforestclassifier__max_leaf_nodes': 10, 'randomforestclassifier__n_estimators': 100}\n",
      "0.935714 (0.033982) with: {'randomforestclassifier__class_weight': 'balanced', 'randomforestclassifier__max_depth': 20, 'randomforestclassifier__max_features': 'auto', 'randomforestclassifier__max_leaf_nodes': 10, 'randomforestclassifier__n_estimators': 200}\n",
      "0.935714 (0.033982) with: {'randomforestclassifier__class_weight': 'balanced', 'randomforestclassifier__max_depth': 20, 'randomforestclassifier__max_features': 'auto', 'randomforestclassifier__max_leaf_nodes': 10, 'randomforestclassifier__n_estimators': 300}\n",
      "0.928571 (0.030833) with: {'randomforestclassifier__class_weight': 'balanced', 'randomforestclassifier__max_depth': 20, 'randomforestclassifier__max_features': 'auto', 'randomforestclassifier__max_leaf_nodes': 10, 'randomforestclassifier__n_estimators': 400}\n",
      "0.935714 (0.051223) with: {'randomforestclassifier__class_weight': 'balanced', 'randomforestclassifier__max_depth': 20, 'randomforestclassifier__max_features': 'auto', 'randomforestclassifier__max_leaf_nodes': 50, 'randomforestclassifier__n_estimators': 50}\n",
      "0.935714 (0.033982) with: {'randomforestclassifier__class_weight': 'balanced', 'randomforestclassifier__max_depth': 20, 'randomforestclassifier__max_features': 'auto', 'randomforestclassifier__max_leaf_nodes': 50, 'randomforestclassifier__n_estimators': 100}\n",
      "0.935714 (0.033982) with: {'randomforestclassifier__class_weight': 'balanced', 'randomforestclassifier__max_depth': 20, 'randomforestclassifier__max_features': 'auto', 'randomforestclassifier__max_leaf_nodes': 50, 'randomforestclassifier__n_estimators': 200}\n",
      "0.935714 (0.033982) with: {'randomforestclassifier__class_weight': 'balanced', 'randomforestclassifier__max_depth': 20, 'randomforestclassifier__max_features': 'auto', 'randomforestclassifier__max_leaf_nodes': 50, 'randomforestclassifier__n_estimators': 300}\n",
      "0.935714 (0.033982) with: {'randomforestclassifier__class_weight': 'balanced', 'randomforestclassifier__max_depth': 20, 'randomforestclassifier__max_features': 'auto', 'randomforestclassifier__max_leaf_nodes': 50, 'randomforestclassifier__n_estimators': 400}\n",
      "0.921429 (0.025940) with: {'randomforestclassifier__class_weight': 'balanced', 'randomforestclassifier__max_depth': 20, 'randomforestclassifier__max_features': 'auto', 'randomforestclassifier__max_leaf_nodes': 100, 'randomforestclassifier__n_estimators': 50}\n",
      "0.942857 (0.042036) with: {'randomforestclassifier__class_weight': 'balanced', 'randomforestclassifier__max_depth': 20, 'randomforestclassifier__max_features': 'auto', 'randomforestclassifier__max_leaf_nodes': 100, 'randomforestclassifier__n_estimators': 100}\n",
      "0.921429 (0.033982) with: {'randomforestclassifier__class_weight': 'balanced', 'randomforestclassifier__max_depth': 20, 'randomforestclassifier__max_features': 'auto', 'randomforestclassifier__max_leaf_nodes': 100, 'randomforestclassifier__n_estimators': 200}\n",
      "0.942857 (0.042036) with: {'randomforestclassifier__class_weight': 'balanced', 'randomforestclassifier__max_depth': 20, 'randomforestclassifier__max_features': 'auto', 'randomforestclassifier__max_leaf_nodes': 100, 'randomforestclassifier__n_estimators': 300}\n",
      "0.935714 (0.033982) with: {'randomforestclassifier__class_weight': 'balanced', 'randomforestclassifier__max_depth': 20, 'randomforestclassifier__max_features': 'auto', 'randomforestclassifier__max_leaf_nodes': 100, 'randomforestclassifier__n_estimators': 400}\n",
      "0.935714 (0.026240) with: {'randomforestclassifier__class_weight': 'balanced', 'randomforestclassifier__max_depth': 20, 'randomforestclassifier__max_features': 'sqrt', 'randomforestclassifier__max_leaf_nodes': 10, 'randomforestclassifier__n_estimators': 50}\n",
      "0.928571 (0.030833) with: {'randomforestclassifier__class_weight': 'balanced', 'randomforestclassifier__max_depth': 20, 'randomforestclassifier__max_features': 'sqrt', 'randomforestclassifier__max_leaf_nodes': 10, 'randomforestclassifier__n_estimators': 100}\n",
      "0.928571 (0.030833) with: {'randomforestclassifier__class_weight': 'balanced', 'randomforestclassifier__max_depth': 20, 'randomforestclassifier__max_features': 'sqrt', 'randomforestclassifier__max_leaf_nodes': 10, 'randomforestclassifier__n_estimators': 200}\n",
      "0.935714 (0.033982) with: {'randomforestclassifier__class_weight': 'balanced', 'randomforestclassifier__max_depth': 20, 'randomforestclassifier__max_features': 'sqrt', 'randomforestclassifier__max_leaf_nodes': 10, 'randomforestclassifier__n_estimators': 300}\n",
      "0.935714 (0.033982) with: {'randomforestclassifier__class_weight': 'balanced', 'randomforestclassifier__max_depth': 20, 'randomforestclassifier__max_features': 'sqrt', 'randomforestclassifier__max_leaf_nodes': 10, 'randomforestclassifier__n_estimators': 400}\n",
      "0.935714 (0.033982) with: {'randomforestclassifier__class_weight': 'balanced', 'randomforestclassifier__max_depth': 20, 'randomforestclassifier__max_features': 'sqrt', 'randomforestclassifier__max_leaf_nodes': 50, 'randomforestclassifier__n_estimators': 50}\n",
      "0.928571 (0.037407) with: {'randomforestclassifier__class_weight': 'balanced', 'randomforestclassifier__max_depth': 20, 'randomforestclassifier__max_features': 'sqrt', 'randomforestclassifier__max_leaf_nodes': 50, 'randomforestclassifier__n_estimators': 100}\n",
      "0.935714 (0.033982) with: {'randomforestclassifier__class_weight': 'balanced', 'randomforestclassifier__max_depth': 20, 'randomforestclassifier__max_features': 'sqrt', 'randomforestclassifier__max_leaf_nodes': 50, 'randomforestclassifier__n_estimators': 200}\n",
      "0.935714 (0.033982) with: {'randomforestclassifier__class_weight': 'balanced', 'randomforestclassifier__max_depth': 20, 'randomforestclassifier__max_features': 'sqrt', 'randomforestclassifier__max_leaf_nodes': 50, 'randomforestclassifier__n_estimators': 300}\n",
      "0.935714 (0.033982) with: {'randomforestclassifier__class_weight': 'balanced', 'randomforestclassifier__max_depth': 20, 'randomforestclassifier__max_features': 'sqrt', 'randomforestclassifier__max_leaf_nodes': 50, 'randomforestclassifier__n_estimators': 400}\n",
      "0.914286 (0.041297) with: {'randomforestclassifier__class_weight': 'balanced', 'randomforestclassifier__max_depth': 20, 'randomforestclassifier__max_features': 'sqrt', 'randomforestclassifier__max_leaf_nodes': 100, 'randomforestclassifier__n_estimators': 50}\n",
      "0.935714 (0.033982) with: {'randomforestclassifier__class_weight': 'balanced', 'randomforestclassifier__max_depth': 20, 'randomforestclassifier__max_features': 'sqrt', 'randomforestclassifier__max_leaf_nodes': 100, 'randomforestclassifier__n_estimators': 100}\n",
      "0.921429 (0.033982) with: {'randomforestclassifier__class_weight': 'balanced', 'randomforestclassifier__max_depth': 20, 'randomforestclassifier__max_features': 'sqrt', 'randomforestclassifier__max_leaf_nodes': 100, 'randomforestclassifier__n_estimators': 200}\n",
      "0.928571 (0.030833) with: {'randomforestclassifier__class_weight': 'balanced', 'randomforestclassifier__max_depth': 20, 'randomforestclassifier__max_features': 'sqrt', 'randomforestclassifier__max_leaf_nodes': 100, 'randomforestclassifier__n_estimators': 300}\n",
      "0.942857 (0.042036) with: {'randomforestclassifier__class_weight': 'balanced', 'randomforestclassifier__max_depth': 20, 'randomforestclassifier__max_features': 'sqrt', 'randomforestclassifier__max_leaf_nodes': 100, 'randomforestclassifier__n_estimators': 400}\n",
      "0.942857 (0.042036) with: {'randomforestclassifier__class_weight': 'balanced', 'randomforestclassifier__max_depth': 20, 'randomforestclassifier__max_features': 'log2', 'randomforestclassifier__max_leaf_nodes': 10, 'randomforestclassifier__n_estimators': 50}\n",
      "0.935714 (0.033982) with: {'randomforestclassifier__class_weight': 'balanced', 'randomforestclassifier__max_depth': 20, 'randomforestclassifier__max_features': 'log2', 'randomforestclassifier__max_leaf_nodes': 10, 'randomforestclassifier__n_estimators': 100}\n",
      "0.935714 (0.033982) with: {'randomforestclassifier__class_weight': 'balanced', 'randomforestclassifier__max_depth': 20, 'randomforestclassifier__max_features': 'log2', 'randomforestclassifier__max_leaf_nodes': 10, 'randomforestclassifier__n_estimators': 200}\n",
      "0.935714 (0.033982) with: {'randomforestclassifier__class_weight': 'balanced', 'randomforestclassifier__max_depth': 20, 'randomforestclassifier__max_features': 'log2', 'randomforestclassifier__max_leaf_nodes': 10, 'randomforestclassifier__n_estimators': 300}\n",
      "0.935714 (0.033982) with: {'randomforestclassifier__class_weight': 'balanced', 'randomforestclassifier__max_depth': 20, 'randomforestclassifier__max_features': 'log2', 'randomforestclassifier__max_leaf_nodes': 10, 'randomforestclassifier__n_estimators': 400}\n",
      "0.928571 (0.030833) with: {'randomforestclassifier__class_weight': 'balanced', 'randomforestclassifier__max_depth': 20, 'randomforestclassifier__max_features': 'log2', 'randomforestclassifier__max_leaf_nodes': 50, 'randomforestclassifier__n_estimators': 50}\n",
      "0.935714 (0.033982) with: {'randomforestclassifier__class_weight': 'balanced', 'randomforestclassifier__max_depth': 20, 'randomforestclassifier__max_features': 'log2', 'randomforestclassifier__max_leaf_nodes': 50, 'randomforestclassifier__n_estimators': 100}\n",
      "0.935714 (0.033982) with: {'randomforestclassifier__class_weight': 'balanced', 'randomforestclassifier__max_depth': 20, 'randomforestclassifier__max_features': 'log2', 'randomforestclassifier__max_leaf_nodes': 50, 'randomforestclassifier__n_estimators': 200}\n",
      "0.942857 (0.042036) with: {'randomforestclassifier__class_weight': 'balanced', 'randomforestclassifier__max_depth': 20, 'randomforestclassifier__max_features': 'log2', 'randomforestclassifier__max_leaf_nodes': 50, 'randomforestclassifier__n_estimators': 300}\n",
      "0.935714 (0.033982) with: {'randomforestclassifier__class_weight': 'balanced', 'randomforestclassifier__max_depth': 20, 'randomforestclassifier__max_features': 'log2', 'randomforestclassifier__max_leaf_nodes': 50, 'randomforestclassifier__n_estimators': 400}\n",
      "0.935714 (0.033982) with: {'randomforestclassifier__class_weight': 'balanced', 'randomforestclassifier__max_depth': 20, 'randomforestclassifier__max_features': 'log2', 'randomforestclassifier__max_leaf_nodes': 100, 'randomforestclassifier__n_estimators': 50}\n",
      "0.928571 (0.030833) with: {'randomforestclassifier__class_weight': 'balanced', 'randomforestclassifier__max_depth': 20, 'randomforestclassifier__max_features': 'log2', 'randomforestclassifier__max_leaf_nodes': 100, 'randomforestclassifier__n_estimators': 100}\n",
      "0.935714 (0.033982) with: {'randomforestclassifier__class_weight': 'balanced', 'randomforestclassifier__max_depth': 20, 'randomforestclassifier__max_features': 'log2', 'randomforestclassifier__max_leaf_nodes': 100, 'randomforestclassifier__n_estimators': 200}\n",
      "0.942857 (0.042036) with: {'randomforestclassifier__class_weight': 'balanced', 'randomforestclassifier__max_depth': 20, 'randomforestclassifier__max_features': 'log2', 'randomforestclassifier__max_leaf_nodes': 100, 'randomforestclassifier__n_estimators': 300}\n",
      "0.928571 (0.030833) with: {'randomforestclassifier__class_weight': 'balanced', 'randomforestclassifier__max_depth': 20, 'randomforestclassifier__max_features': 'log2', 'randomforestclassifier__max_leaf_nodes': 100, 'randomforestclassifier__n_estimators': 400}\n"
     ]
    }
   ],
   "source": [
    "#####grid search (the parameters predict everything to one class, we should use a separated \n",
    "#sample for tuning parameters, but not enough cases so far)\n",
    "rf = make_pipeline(StandardScaler(),RandomForestClassifier())\n",
    "\n",
    "parameters = [{'randomforestclassifier__max_features':['auto','sqrt','log2'], 'randomforestclassifier__class_weight':['balanced'], \n",
    "               'randomforestclassifier__max_leaf_nodes':[10,50,100], 'randomforestclassifier__max_depth':[2,5,10,20], 'randomforestclassifier__n_estimators' : [50,100,200,300,400]}]\n",
    "                   \n",
    "grid_search_item = GridSearchCV(rf,\n",
    "                          param_grid = parameters,\n",
    "                           cv = cv,\n",
    "                           scoring = 'accuracy',\n",
    "                           n_jobs = -1)\n",
    "grid_search = grid_search_item.fit(X_train, y_train)\n",
    "\n",
    "print(grid_search.best_score_)####not sure how come this is so good,but the parameters don't work good in the model\n",
    "print(grid_search.best_params_)\n",
    "\n",
    "means = grid_search.cv_results_['mean_test_score']\n",
    "stds = grid_search.cv_results_['std_test_score']\n",
    "params = grid_search.cv_results_['params']\n",
    "for mean, stdev, param in zip(means, stds, params):\n",
    "    print(\"%f (%f) with: %r\" % (mean, stdev, param))"
   ]
  },
  {
   "cell_type": "code",
   "execution_count": 107,
   "metadata": {},
   "outputs": [
    {
     "name": "stdout",
     "output_type": "stream",
     "text": [
      "[0.92454523 0.97484841 0.91408451 0.95157967 0.94434389]\n",
      "f1: 0.94 (+/- 0.04)\n",
      "0.9166666666666667\n",
      "0.7476190476190475\n"
     ]
    }
   ],
   "source": [
    "rf = make_pipeline(StandardScaler(), RandomForestClassifier(n_estimators=100, max_depth=5, class_weight = 'balanced',\n",
    "                             random_state=50, max_leaf_nodes = 100, max_features = 'sqrt'))\n",
    "scores = cross_val_score(rf, X, y, cv=cv, scoring='f1_weighted')\n",
    "print(scores)\n",
    "print(\"f1: %0.2f (+/- %0.2f)\" % (scores.mean(), scores.std() * 2))\n",
    "precision = cross_val_score(rf, X, y, cv=cv, scoring='precision')\n",
    "recall = cross_val_score(rf, X, y, cv=cv, scoring='recall')\n",
    "print(precision.mean())\n",
    "print(recall.mean())"
   ]
  },
  {
   "cell_type": "code",
   "execution_count": null,
   "metadata": {
    "collapsed": true
   },
   "outputs": [],
   "source": [
    "## use the best parameters to make prediction "
   ]
  },
  {
   "cell_type": "code",
   "execution_count": 136,
   "metadata": {
    "collapsed": true
   },
   "outputs": [],
   "source": [
    "X_train, X_test, y_train, y_test = train_test_split(X, y, test_size=0.30, random_state=30)"
   ]
  },
  {
   "cell_type": "code",
   "execution_count": 137,
   "metadata": {},
   "outputs": [
    {
     "data": {
      "text/plain": [
       "array([[47,  0],\n",
       "       [ 3, 10]])"
      ]
     },
     "execution_count": 137,
     "metadata": {},
     "output_type": "execute_result"
    }
   ],
   "source": [
    "### Configure transformation and apply to training set\n",
    "X_train = scaler.fit_transform(X_train)\n",
    "rf_best = RandomForestClassifier(n_estimators=100, max_depth=5, class_weight = 'balanced',\n",
    "                             random_state=50, max_leaf_nodes = 100, max_features = 'sqrt')\n",
    "bestModel = rf_best.fit(X_train, y_train) \n",
    "### Perform transformation on testing set\n",
    "X_test = scaler.transform(X_test)\n",
    "y_pred = bestModel.predict(X_test)\n",
    "confusion_matrix(y_test, y_pred)"
   ]
  },
  {
   "cell_type": "code",
   "execution_count": 138,
   "metadata": {},
   "outputs": [
    {
     "data": {
      "text/plain": [
       "array([0.96907216, 0.86956522])"
      ]
     },
     "execution_count": 138,
     "metadata": {},
     "output_type": "execute_result"
    }
   ],
   "source": [
    "#F1 score of the positive class in binary classification or weighted average of the F1 scores of each class for the multiclass task.\n",
    "f1_score(y_test, y_pred, average=None)"
   ]
  },
  {
   "cell_type": "code",
   "execution_count": 140,
   "metadata": {},
   "outputs": [],
   "source": [
    "# dump object to pickles\n",
    "filename = 'BestModel'\n",
    "outfile = open(filename,'wb')\n",
    "\n",
    "pickle.dump(bestModel,outfile)\n",
    "outfile.close()"
   ]
  },
  {
   "cell_type": "code",
   "execution_count": null,
   "metadata": {},
   "outputs": [],
   "source": [
    "####predict all data "
   ]
  },
  {
   "cell_type": "code",
   "execution_count": 141,
   "metadata": {
    "collapsed": true
   },
   "outputs": [],
   "source": [
    "#load feature object \n",
    "class myQuote:\n",
    "    def __init__(self, text):\n",
    "        #read in CSV, process\n",
    "        self.quoteText = text\n",
    "        self.quoteID = hash(self.quoteText)\n",
    "        self.link = []\n",
    "        self.name = []\n",
    "        self.description = []\n",
    "        self.scores = []\n",
    "        self.cos = []\n",
    "    \n",
    "    def __hash__(self):\n",
    "        return self.quoteID\n",
    "    \n",
    "    def __str__(self):\n",
    "        return \"Object text: \" + self.quoteText + '\\n' +\\\n",
    "        \"Links: \" + str(self.link) + '\\n' +\\\n",
    "        \"Names: \" + str(self.name) + '\\n' +\\\n",
    "        \"Description \" + str(self.description) + '\\n' +\\\n",
    "        \"Scores: \" + str(self.scores)\n",
    "\n",
    "infile2 = open('searchResults','rb')\n",
    "results = pickle.load(infile2, encoding='bytes')"
   ]
  },
  {
   "cell_type": "code",
   "execution_count": 142,
   "metadata": {
    "collapsed": true
   },
   "outputs": [],
   "source": [
    "#get the first 200 labels: those are the one in the mannual annotate sample\n",
    "def append_features(ob):\n",
    "    proto_matrix = []\n",
    "    for item in ob:\n",
    "        col2 = np.append(ob[item].scores, ob[item].cos)\n",
    "        #print(col2)\n",
    "        proto_matrix.append(col2)\n",
    "      \n",
    "    return proto_matrix\n",
    " \n",
    "            \n",
    "proto_matrix = append_features(results)\n",
    "FeatureMatrix2 = np.matrix(proto_matrix)"
   ]
  },
  {
   "cell_type": "code",
   "execution_count": 145,
   "metadata": {},
   "outputs": [],
   "source": [
    "scaled_matrix = scaler.transform(FeatureMatrix2)\n"
   ]
  },
  {
   "cell_type": "code",
   "execution_count": 149,
   "metadata": {},
   "outputs": [
    {
     "data": {
      "text/plain": [
       "4520"
      ]
     },
     "execution_count": 149,
     "metadata": {},
     "output_type": "execute_result"
    }
   ],
   "source": [
    "y = rf_best.predict(scaled_matrix)\n",
    "len(y)"
   ]
  },
  {
   "cell_type": "code",
   "execution_count": 150,
   "metadata": {
    "collapsed": true
   },
   "outputs": [],
   "source": [
    "def Save_Results(objects,pre_results,fname,fname2):\n",
    "    with open(fname , 'w') as f:\n",
    "        writer = csv.writer(f, delimiter = ',',quoting=csv.QUOTE_MINIMAL)  \n",
    "        writer.writerow([\"hash\"] + [\"text\"] + [\"score\"] + [\"cosineSim\"])\n",
    "        \n",
    "        for item in objects:\n",
    "            writer.writerow([objects[item].quoteID] + [objects[item].quoteText] + [objects[item].scores] + [objects[item].cos])  \n",
    "    f.close()\n",
    "    \n",
    "    with open(fname2 , 'w') as f:\n",
    "        writer = csv.writer(f, delimiter = ',',quoting=csv.QUOTE_MINIMAL)  \n",
    "        writer.writerow([\"result\"])\n",
    "        \n",
    "        for item in pre_results:\n",
    "            writer.writerow([item])  \n",
    "    f.close()\n",
    "    \n",
    "Save_Results(results, y, 'text_all2.csv', 'results_all2.csv')"
   ]
  },
  {
   "cell_type": "code",
   "execution_count": null,
   "metadata": {
    "collapsed": true
   },
   "outputs": [],
   "source": []
  },
  {
   "cell_type": "code",
   "execution_count": null,
   "metadata": {
    "collapsed": true
   },
   "outputs": [],
   "source": []
  },
  {
   "cell_type": "code",
   "execution_count": null,
   "metadata": {
    "collapsed": true
   },
   "outputs": [],
   "source": []
  },
  {
   "cell_type": "code",
   "execution_count": null,
   "metadata": {
    "collapsed": true
   },
   "outputs": [],
   "source": []
  },
  {
   "cell_type": "code",
   "execution_count": null,
   "metadata": {
    "collapsed": true
   },
   "outputs": [],
   "source": []
  },
  {
   "cell_type": "code",
   "execution_count": null,
   "metadata": {
    "collapsed": true
   },
   "outputs": [],
   "source": []
  },
  {
   "cell_type": "markdown",
   "metadata": {
    "collapsed": true
   },
   "source": [
    "#Rule based classifier"
   ]
  },
  {
   "cell_type": "code",
   "execution_count": 332,
   "metadata": {},
   "outputs": [
    {
     "data": {
      "text/html": [
       "<div>\n",
       "<style>\n",
       "    .dataframe thead tr:only-child th {\n",
       "        text-align: right;\n",
       "    }\n",
       "\n",
       "    .dataframe thead th {\n",
       "        text-align: left;\n",
       "    }\n",
       "\n",
       "    .dataframe tbody tr th {\n",
       "        vertical-align: top;\n",
       "    }\n",
       "</style>\n",
       "<table border=\"1\" class=\"dataframe\">\n",
       "  <thead>\n",
       "    <tr style=\"text-align: right;\">\n",
       "      <th></th>\n",
       "      <th>hash</th>\n",
       "      <th>text</th>\n",
       "      <th>count</th>\n",
       "      <th>cosineSim</th>\n",
       "      <th>label</th>\n",
       "      <th>manual</th>\n",
       "    </tr>\n",
       "  </thead>\n",
       "  <tbody>\n",
       "    <tr>\n",
       "      <th>0</th>\n",
       "      <td>-4.240000e+18</td>\n",
       "      <td>VIRUS SPREADING LIKE WILDFIRE ON FB. ITS A TRO...</td>\n",
       "      <td>[0, 0, 0, 0, 0, 0, 0, 0, 0]</td>\n",
       "      <td>0.956189</td>\n",
       "      <td>0</td>\n",
       "      <td>1</td>\n",
       "    </tr>\n",
       "    <tr>\n",
       "      <th>1</th>\n",
       "      <td>7.570000e+18</td>\n",
       "      <td>They say true friends go long periods of time ...</td>\n",
       "      <td>[0, 0, 0, 0, 0, 0, 0, 0, 0]</td>\n",
       "      <td>0.924270</td>\n",
       "      <td>0</td>\n",
       "      <td>1</td>\n",
       "    </tr>\n",
       "    <tr>\n",
       "      <th>2</th>\n",
       "      <td>3.580000e+18</td>\n",
       "      <td>Going to church doesn't make you a holy person...</td>\n",
       "      <td>[0, 0, 0, 0, 0, 0, 0, 0, 0, 0]</td>\n",
       "      <td>0.936195</td>\n",
       "      <td>0</td>\n",
       "      <td>1</td>\n",
       "    </tr>\n",
       "    <tr>\n",
       "      <th>3</th>\n",
       "      <td>-1.990000e+18</td>\n",
       "      <td>From Lady Gaga's Bad Romance: /I want your psy...</td>\n",
       "      <td>[4, 0, 0]</td>\n",
       "      <td>0.932406</td>\n",
       "      <td>0</td>\n",
       "      <td>1</td>\n",
       "    </tr>\n",
       "    <tr>\n",
       "      <th>4</th>\n",
       "      <td>2.910000e+18</td>\n",
       "      <td>The first woman was created from the rib of a ...</td>\n",
       "      <td>[4, 1, 2, 0, 0, 0, 0, 0, 2]</td>\n",
       "      <td>0.976999</td>\n",
       "      <td>1</td>\n",
       "      <td>1</td>\n",
       "    </tr>\n",
       "  </tbody>\n",
       "</table>\n",
       "</div>"
      ],
      "text/plain": [
       "           hash                                               text  \\\n",
       "0 -4.240000e+18  VIRUS SPREADING LIKE WILDFIRE ON FB. ITS A TRO...   \n",
       "1  7.570000e+18  They say true friends go long periods of time ...   \n",
       "2  3.580000e+18  Going to church doesn't make you a holy person...   \n",
       "3 -1.990000e+18  From Lady Gaga's Bad Romance: /I want your psy...   \n",
       "4  2.910000e+18  The first woman was created from the rib of a ...   \n",
       "\n",
       "                            count  cosineSim  label  manual  \n",
       "0     [0, 0, 0, 0, 0, 0, 0, 0, 0]   0.956189      0       1  \n",
       "1     [0, 0, 0, 0, 0, 0, 0, 0, 0]   0.924270      0       1  \n",
       "2  [0, 0, 0, 0, 0, 0, 0, 0, 0, 0]   0.936195      0       1  \n",
       "3                       [4, 0, 0]   0.932406      0       1  \n",
       "4     [4, 1, 2, 0, 0, 0, 0, 0, 2]   0.976999      1       1  "
      ]
     },
     "execution_count": 332,
     "metadata": {},
     "output_type": "execute_result"
    }
   ],
   "source": [
    "rule = pd.read_csv('./LableResults/EvaluateSample3_fscore.csv')\n",
    "rule[0:5]"
   ]
  },
  {
   "cell_type": "code",
   "execution_count": 333,
   "metadata": {
    "collapsed": true
   },
   "outputs": [],
   "source": [
    "y_pred = rule['label']\n",
    "y = rule['manual']"
   ]
  },
  {
   "cell_type": "code",
   "execution_count": 339,
   "metadata": {},
   "outputs": [
    {
     "name": "stdout",
     "output_type": "stream",
     "text": [
      "F1: [0.98245614 0.89655172]\n",
      "confusion Matrix: [[168   6]\n",
      " [  0  26]]\n",
      "Recall: 1.0\n",
      "Precision: 0.8125\n"
     ]
    }
   ],
   "source": [
    "print('F1:', f1_score(y_pred, y, average= None))\n",
    "cm = confusion_matrix(y_pred, y)\n",
    "print('confusion Matrix:', cm)\n",
    "print ('Recall:', recall_score(y_pred, y))\n",
    "print ('Precision:', precision_score(y_pred, y))"
   ]
  },
  {
   "cell_type": "code",
   "execution_count": null,
   "metadata": {
    "collapsed": true
   },
   "outputs": [],
   "source": []
  }
 ],
 "metadata": {
  "kernelspec": {
   "display_name": "Python 3",
   "language": "python",
   "name": "python3"
  },
  "language_info": {
   "codemirror_mode": {
    "name": "ipython",
    "version": 3
   },
   "file_extension": ".py",
   "mimetype": "text/x-python",
   "name": "python",
   "nbconvert_exporter": "python",
   "pygments_lexer": "ipython3",
   "version": "3.6.1"
  }
 },
 "nbformat": 4,
 "nbformat_minor": 2
}
