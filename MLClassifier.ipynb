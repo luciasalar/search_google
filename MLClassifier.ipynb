{
 "cells": [
  {
   "cell_type": "code",
   "execution_count": 336,
   "metadata": {},
   "outputs": [
    {
     "name": "stderr",
     "output_type": "stream",
     "text": [
      "/Users/lucia/anaconda3/lib/python3.6/site-packages/sklearn/ensemble/weight_boosting.py:29: DeprecationWarning: numpy.core.umath_tests is an internal NumPy module and should not be imported. It will be removed in a future NumPy release.\n",
      "  from numpy.core.umath_tests import inner1d\n"
     ]
    }
   ],
   "source": [
    "import numpy as np\n",
    "import csv\n",
    "import pickle\n",
    "import pandas as pd\n",
    "import matplotlib.pyplot as plt\n",
    "from sklearn import svm\n",
    "from sklearn.model_selection import train_test_split\n",
    "from sklearn.metrics import confusion_matrix\n",
    "from sklearn.metrics import f1_score\n",
    "from sklearn.model_selection import GridSearchCV\n",
    "from sklearn.linear_model import SGDClassifier\n",
    "from sklearn.ensemble import RandomForestClassifier\n",
    "from sklearn.model_selection import cross_val_score\n",
    "from sklearn.metrics import precision_score, \\\n",
    "    recall_score, confusion_matrix, classification_report, \\\n",
    "    accuracy_score, f1_score\n",
    "from sklearn.preprocessing import StandardScaler\n"
   ]
  },
  {
   "cell_type": "markdown",
   "metadata": {},
   "source": [
    "In this script, we have three ML model (using 5 fold cross validation):\n",
    "SVC: C-Support Vector Classification.\n",
    "SGDClassifier: Linear classifiers (SVM, logistic regression, a.o.) with SGD training.\n",
    "This estimator implements regularized linear models with stochastic gradient descent (SGD) learning: the gradient of the loss is estimated each sample at a time and the model is updated along the way with a decreasing strength schedule (aka learning rate). SGD allows minibatch (online/out-of-core) learning, see the partial_fit method. For best results using the default learning rate schedule, the data should have zero mean and unit variance.\n",
    "\n",
    "Random Forest:\n",
    "RF gives the best result:\n",
    "f1: 0.95 (+/- 0.08)\n",
    "precision: 0.8666666666666668\n",
    "recall: 0.8428571428571429\n",
    "\n",
    "Rule based: F1: 0.98245614   Recall: 1.0 Precision: 0.8125\n"
   ]
  },
  {
   "cell_type": "code",
   "execution_count": 2,
   "metadata": {
    "collapsed": true
   },
   "outputs": [],
   "source": [
    "class myQuote:\n",
    "    def __init__(self, text):\n",
    "        #read in CSV, process\n",
    "        self.quoteText = text\n",
    "        self.quoteID = hash(self.quoteText)\n",
    "        self.link = []\n",
    "        self.name = []\n",
    "        self.description = []\n",
    "        self.scores = []\n",
    "        self.cos = []\n",
    "    \n",
    "    def __hash__(self):\n",
    "        return self.quoteID\n",
    "    \n",
    "    def __str__(self):\n",
    "        return \"Object text: \" + self.quoteText + '\\n' +\\\n",
    "        \"Links: \" + str(self.link) + '\\n' +\\\n",
    "        \"Names: \" + str(self.name) + '\\n' +\\\n",
    "        \"Description \" + str(self.description) + '\\n' +\\\n",
    "        \"Scores: \" + str(self.scores)\n",
    "        "
   ]
  },
  {
   "cell_type": "code",
   "execution_count": 495,
   "metadata": {
    "collapsed": true
   },
   "outputs": [],
   "source": [
    "infile = open('searchResults','rb')\n",
    "results = pickle.load(infile, encoding='bytes')"
   ]
  },
  {
   "cell_type": "code",
   "execution_count": 602,
   "metadata": {},
   "outputs": [
    {
     "name": "stdout",
     "output_type": "stream",
     "text": [
      "200\n",
      "<class 'numpy.ndarray'>\n"
     ]
    }
   ],
   "source": [
    "labels = pd.read_csv('./LableResults/MLData_recode_mannual.csv')\n",
    "label = labels['label'].values\n",
    "label = label.astype(np.float)\n",
    "print(len(label))\n",
    "print(type(label))\n"
   ]
  },
  {
   "cell_type": "code",
   "execution_count": 515,
   "metadata": {
    "collapsed": true
   },
   "outputs": [],
   "source": [
    "#get the first 200 labels: those are the one in the mannual annotate sample\n",
    "def append_features(ob):\n",
    "    count = 0\n",
    "    proto_matrix = []\n",
    "    for item in ob:\n",
    "        col2 = np.append(ob[item].scores, ob[item].cos)\n",
    "        #print(col2)\n",
    "        proto_matrix.append(col2)\n",
    "        count += 1\n",
    "        if count > 199:\n",
    "            break\n",
    "            \n",
    "proto_matrix = append_features(results)\n",
    "FeatureMatrix = np.matrix(proto_matrix)"
   ]
  },
  {
   "cell_type": "code",
   "execution_count": 516,
   "metadata": {},
   "outputs": [
    {
     "data": {
      "text/plain": [
       "matrix([[1.        , 1.        , 5.        , 7.        , 5.        ,\n",
       "         7.        , 1.        , 1.        , 6.        , 0.        ,\n",
       "         0.90142585],\n",
       "        [5.        , 2.        , 3.        , 1.        , 1.        ,\n",
       "         1.        , 1.        , 1.        , 3.        , 0.        ,\n",
       "         0.97699932],\n",
       "        [5.        , 7.        , 3.        , 5.        , 9.        ,\n",
       "         9.        , 5.        , 1.        , 1.        , 0.        ,\n",
       "         0.96864645]])"
      ]
     },
     "execution_count": 516,
     "metadata": {},
     "output_type": "execute_result"
    }
   ],
   "source": [
    "FeatureMatrix[0:10][0:3]"
   ]
  },
  {
   "cell_type": "code",
   "execution_count": 517,
   "metadata": {
    "collapsed": true
   },
   "outputs": [],
   "source": [
    "scaler = StandardScaler()\n",
    "scaled_matrix = scaler.fit_transform(FeatureMatrix)\n"
   ]
  },
  {
   "cell_type": "code",
   "execution_count": 633,
   "metadata": {
    "collapsed": true
   },
   "outputs": [],
   "source": [
    "#data\n",
    "X = scaled_matrix\n",
    "y = label"
   ]
  },
  {
   "cell_type": "code",
   "execution_count": 603,
   "metadata": {
    "collapsed": true
   },
   "outputs": [],
   "source": [
    "#split data for grish search\n",
    "X_train, X_test, y_train, y_test = train_test_split(X, y, test_size=0.3, random_state=0)"
   ]
  },
  {
   "cell_type": "code",
   "execution_count": 607,
   "metadata": {},
   "outputs": [
    {
     "name": "stdout",
     "output_type": "stream",
     "text": [
      "0.9\n",
      "{'C': 1.7, 'class_weight': 'balanced', 'gamma': 0.001, 'kernel': 'rbf'}\n",
      "0.835714 (0.060085) with: {'C': 0.1, 'class_weight': 'balanced', 'gamma': 0.01, 'kernel': 'linear'}\n",
      "0.857143 (0.008690) with: {'C': 0.1, 'class_weight': 'balanced', 'gamma': 0.01, 'kernel': 'poly'}\n",
      "0.857143 (0.044070) with: {'C': 0.1, 'class_weight': 'balanced', 'gamma': 0.01, 'kernel': 'rbf'}\n",
      "0.678571 (0.261931) with: {'C': 0.1, 'class_weight': 'balanced', 'gamma': 0.01, 'kernel': 'sigmoid'}\n",
      "0.835714 (0.060085) with: {'C': 0.1, 'class_weight': 'balanced', 'gamma': 0.001, 'kernel': 'linear'}\n",
      "0.385714 (0.338475) with: {'C': 0.1, 'class_weight': 'balanced', 'gamma': 0.001, 'kernel': 'poly'}\n",
      "0.407143 (0.369107) with: {'C': 0.1, 'class_weight': 'balanced', 'gamma': 0.001, 'kernel': 'rbf'}\n",
      "0.150000 (0.001521) with: {'C': 0.1, 'class_weight': 'balanced', 'gamma': 0.001, 'kernel': 'sigmoid'}\n",
      "0.835714 (0.060085) with: {'C': 0.1, 'class_weight': 'balanced', 'gamma': 0.0001, 'kernel': 'linear'}\n",
      "0.385714 (0.338475) with: {'C': 0.1, 'class_weight': 'balanced', 'gamma': 0.0001, 'kernel': 'poly'}\n",
      "0.150000 (0.001521) with: {'C': 0.1, 'class_weight': 'balanced', 'gamma': 0.0001, 'kernel': 'rbf'}\n",
      "0.150000 (0.001521) with: {'C': 0.1, 'class_weight': 'balanced', 'gamma': 0.0001, 'kernel': 'sigmoid'}\n",
      "0.842857 (0.049098) with: {'C': 0.3, 'class_weight': 'balanced', 'gamma': 0.01, 'kernel': 'linear'}\n",
      "0.850000 (0.001521) with: {'C': 0.3, 'class_weight': 'balanced', 'gamma': 0.01, 'kernel': 'poly'}\n",
      "0.885714 (0.039766) with: {'C': 0.3, 'class_weight': 'balanced', 'gamma': 0.01, 'kernel': 'rbf'}\n",
      "0.892857 (0.034119) with: {'C': 0.3, 'class_weight': 'balanced', 'gamma': 0.01, 'kernel': 'sigmoid'}\n",
      "0.842857 (0.049098) with: {'C': 0.3, 'class_weight': 'balanced', 'gamma': 0.001, 'kernel': 'linear'}\n",
      "0.850000 (0.001521) with: {'C': 0.3, 'class_weight': 'balanced', 'gamma': 0.001, 'kernel': 'poly'}\n",
      "0.850000 (0.001521) with: {'C': 0.3, 'class_weight': 'balanced', 'gamma': 0.001, 'kernel': 'rbf'}\n",
      "0.850000 (0.001521) with: {'C': 0.3, 'class_weight': 'balanced', 'gamma': 0.001, 'kernel': 'sigmoid'}\n",
      "0.842857 (0.049098) with: {'C': 0.3, 'class_weight': 'balanced', 'gamma': 0.0001, 'kernel': 'linear'}\n",
      "0.850000 (0.001521) with: {'C': 0.3, 'class_weight': 'balanced', 'gamma': 0.0001, 'kernel': 'poly'}\n",
      "0.850000 (0.001521) with: {'C': 0.3, 'class_weight': 'balanced', 'gamma': 0.0001, 'kernel': 'rbf'}\n",
      "0.850000 (0.001521) with: {'C': 0.3, 'class_weight': 'balanced', 'gamma': 0.0001, 'kernel': 'sigmoid'}\n",
      "0.850000 (0.044955) with: {'C': 0.5, 'class_weight': 'balanced', 'gamma': 0.01, 'kernel': 'linear'}\n",
      "0.857143 (0.008690) with: {'C': 0.5, 'class_weight': 'balanced', 'gamma': 0.01, 'kernel': 'poly'}\n",
      "0.892857 (0.045563) with: {'C': 0.5, 'class_weight': 'balanced', 'gamma': 0.01, 'kernel': 'rbf'}\n",
      "0.864286 (0.025714) with: {'C': 0.5, 'class_weight': 'balanced', 'gamma': 0.01, 'kernel': 'sigmoid'}\n",
      "0.850000 (0.044955) with: {'C': 0.5, 'class_weight': 'balanced', 'gamma': 0.001, 'kernel': 'linear'}\n",
      "0.150000 (0.001521) with: {'C': 0.5, 'class_weight': 'balanced', 'gamma': 0.001, 'kernel': 'poly'}\n",
      "0.685714 (0.221332) with: {'C': 0.5, 'class_weight': 'balanced', 'gamma': 0.001, 'kernel': 'rbf'}\n",
      "0.314286 (0.230343) with: {'C': 0.5, 'class_weight': 'balanced', 'gamma': 0.001, 'kernel': 'sigmoid'}\n",
      "0.850000 (0.044955) with: {'C': 0.5, 'class_weight': 'balanced', 'gamma': 0.0001, 'kernel': 'linear'}\n",
      "0.150000 (0.001521) with: {'C': 0.5, 'class_weight': 'balanced', 'gamma': 0.0001, 'kernel': 'poly'}\n",
      "0.150000 (0.001521) with: {'C': 0.5, 'class_weight': 'balanced', 'gamma': 0.0001, 'kernel': 'rbf'}\n",
      "0.150000 (0.001521) with: {'C': 0.5, 'class_weight': 'balanced', 'gamma': 0.0001, 'kernel': 'sigmoid'}\n",
      "0.850000 (0.051272) with: {'C': 0.7, 'class_weight': 'balanced', 'gamma': 0.01, 'kernel': 'linear'}\n",
      "0.857143 (0.008690) with: {'C': 0.7, 'class_weight': 'balanced', 'gamma': 0.01, 'kernel': 'poly'}\n",
      "0.885714 (0.039766) with: {'C': 0.7, 'class_weight': 'balanced', 'gamma': 0.01, 'kernel': 'rbf'}\n",
      "0.857143 (0.035426) with: {'C': 0.7, 'class_weight': 'balanced', 'gamma': 0.01, 'kernel': 'sigmoid'}\n",
      "0.850000 (0.051272) with: {'C': 0.7, 'class_weight': 'balanced', 'gamma': 0.001, 'kernel': 'linear'}\n",
      "0.150000 (0.001521) with: {'C': 0.7, 'class_weight': 'balanced', 'gamma': 0.001, 'kernel': 'poly'}\n",
      "0.871429 (0.033933) with: {'C': 0.7, 'class_weight': 'balanced', 'gamma': 0.001, 'kernel': 'rbf'}\n",
      "0.628571 (0.334285) with: {'C': 0.7, 'class_weight': 'balanced', 'gamma': 0.001, 'kernel': 'sigmoid'}\n",
      "0.850000 (0.051272) with: {'C': 0.7, 'class_weight': 'balanced', 'gamma': 0.0001, 'kernel': 'linear'}\n",
      "0.150000 (0.001521) with: {'C': 0.7, 'class_weight': 'balanced', 'gamma': 0.0001, 'kernel': 'poly'}\n",
      "0.150000 (0.001521) with: {'C': 0.7, 'class_weight': 'balanced', 'gamma': 0.0001, 'kernel': 'rbf'}\n",
      "0.150000 (0.001521) with: {'C': 0.7, 'class_weight': 'balanced', 'gamma': 0.0001, 'kernel': 'sigmoid'}\n",
      "0.850000 (0.044955) with: {'C': 0.9, 'class_weight': 'balanced', 'gamma': 0.01, 'kernel': 'linear'}\n",
      "0.857143 (0.008690) with: {'C': 0.9, 'class_weight': 'balanced', 'gamma': 0.01, 'kernel': 'poly'}\n",
      "0.878571 (0.049812) with: {'C': 0.9, 'class_weight': 'balanced', 'gamma': 0.01, 'kernel': 'rbf'}\n",
      "0.864286 (0.042980) with: {'C': 0.9, 'class_weight': 'balanced', 'gamma': 0.01, 'kernel': 'sigmoid'}\n",
      "0.850000 (0.044955) with: {'C': 0.9, 'class_weight': 'balanced', 'gamma': 0.001, 'kernel': 'linear'}\n",
      "0.850000 (0.001521) with: {'C': 0.9, 'class_weight': 'balanced', 'gamma': 0.001, 'kernel': 'poly'}\n",
      "0.878571 (0.039322) with: {'C': 0.9, 'class_weight': 'balanced', 'gamma': 0.001, 'kernel': 'rbf'}\n",
      "0.857143 (0.019480) with: {'C': 0.9, 'class_weight': 'balanced', 'gamma': 0.001, 'kernel': 'sigmoid'}\n",
      "0.850000 (0.044955) with: {'C': 0.9, 'class_weight': 'balanced', 'gamma': 0.0001, 'kernel': 'linear'}\n",
      "0.850000 (0.001521) with: {'C': 0.9, 'class_weight': 'balanced', 'gamma': 0.0001, 'kernel': 'poly'}\n",
      "0.850000 (0.001521) with: {'C': 0.9, 'class_weight': 'balanced', 'gamma': 0.0001, 'kernel': 'rbf'}\n",
      "0.850000 (0.001521) with: {'C': 0.9, 'class_weight': 'balanced', 'gamma': 0.0001, 'kernel': 'sigmoid'}\n",
      "0.871429 (0.029111) with: {'C': 1.0, 'class_weight': 'balanced', 'gamma': 0.01, 'kernel': 'linear'}\n",
      "0.857143 (0.008690) with: {'C': 1.0, 'class_weight': 'balanced', 'gamma': 0.01, 'kernel': 'poly'}\n",
      "0.878571 (0.049812) with: {'C': 1.0, 'class_weight': 'balanced', 'gamma': 0.01, 'kernel': 'rbf'}\n",
      "0.864286 (0.039662) with: {'C': 1.0, 'class_weight': 'balanced', 'gamma': 0.01, 'kernel': 'sigmoid'}\n",
      "0.871429 (0.029111) with: {'C': 1.0, 'class_weight': 'balanced', 'gamma': 0.001, 'kernel': 'linear'}\n",
      "0.150000 (0.001521) with: {'C': 1.0, 'class_weight': 'balanced', 'gamma': 0.001, 'kernel': 'poly'}\n",
      "0.878571 (0.039322) with: {'C': 1.0, 'class_weight': 'balanced', 'gamma': 0.001, 'kernel': 'rbf'}\n",
      "0.785714 (0.078694) with: {'C': 1.0, 'class_weight': 'balanced', 'gamma': 0.001, 'kernel': 'sigmoid'}\n",
      "0.871429 (0.029111) with: {'C': 1.0, 'class_weight': 'balanced', 'gamma': 0.0001, 'kernel': 'linear'}\n",
      "0.150000 (0.001521) with: {'C': 1.0, 'class_weight': 'balanced', 'gamma': 0.0001, 'kernel': 'poly'}\n",
      "0.150000 (0.001521) with: {'C': 1.0, 'class_weight': 'balanced', 'gamma': 0.0001, 'kernel': 'rbf'}\n",
      "0.150000 (0.001521) with: {'C': 1.0, 'class_weight': 'balanced', 'gamma': 0.0001, 'kernel': 'sigmoid'}\n",
      "0.864286 (0.035205) with: {'C': 1.3, 'class_weight': 'balanced', 'gamma': 0.01, 'kernel': 'linear'}\n",
      "0.857143 (0.008690) with: {'C': 1.3, 'class_weight': 'balanced', 'gamma': 0.01, 'kernel': 'poly'}\n",
      "0.871429 (0.045423) with: {'C': 1.3, 'class_weight': 'balanced', 'gamma': 0.01, 'kernel': 'rbf'}\n",
      "0.864286 (0.055613) with: {'C': 1.3, 'class_weight': 'balanced', 'gamma': 0.01, 'kernel': 'sigmoid'}\n",
      "0.864286 (0.035205) with: {'C': 1.3, 'class_weight': 'balanced', 'gamma': 0.001, 'kernel': 'linear'}\n",
      "0.621429 (0.328264) with: {'C': 1.3, 'class_weight': 'balanced', 'gamma': 0.001, 'kernel': 'poly'}\n",
      "0.871429 (0.045168) with: {'C': 1.3, 'class_weight': 'balanced', 'gamma': 0.001, 'kernel': 'rbf'}\n",
      "0.864286 (0.035205) with: {'C': 1.3, 'class_weight': 'balanced', 'gamma': 0.001, 'kernel': 'sigmoid'}\n",
      "0.864286 (0.035205) with: {'C': 1.3, 'class_weight': 'balanced', 'gamma': 0.0001, 'kernel': 'linear'}\n",
      "0.621429 (0.328264) with: {'C': 1.3, 'class_weight': 'balanced', 'gamma': 0.0001, 'kernel': 'poly'}\n",
      "0.621429 (0.328264) with: {'C': 1.3, 'class_weight': 'balanced', 'gamma': 0.0001, 'kernel': 'rbf'}\n",
      "0.621429 (0.328264) with: {'C': 1.3, 'class_weight': 'balanced', 'gamma': 0.0001, 'kernel': 'sigmoid'}\n",
      "0.864286 (0.035205) with: {'C': 1.5, 'class_weight': 'balanced', 'gamma': 0.01, 'kernel': 'linear'}\n",
      "0.857143 (0.008690) with: {'C': 1.5, 'class_weight': 'balanced', 'gamma': 0.01, 'kernel': 'poly'}\n",
      "0.871429 (0.045423) with: {'C': 1.5, 'class_weight': 'balanced', 'gamma': 0.01, 'kernel': 'rbf'}\n",
      "0.864286 (0.055613) with: {'C': 1.5, 'class_weight': 'balanced', 'gamma': 0.01, 'kernel': 'sigmoid'}\n",
      "0.864286 (0.035205) with: {'C': 1.5, 'class_weight': 'balanced', 'gamma': 0.001, 'kernel': 'linear'}\n",
      "0.378571 (0.328264) with: {'C': 1.5, 'class_weight': 'balanced', 'gamma': 0.001, 'kernel': 'poly'}\n",
      "0.878571 (0.043014) with: {'C': 1.5, 'class_weight': 'balanced', 'gamma': 0.001, 'kernel': 'rbf'}\n",
      "0.871429 (0.045168) with: {'C': 1.5, 'class_weight': 'balanced', 'gamma': 0.001, 'kernel': 'sigmoid'}\n",
      "0.864286 (0.035205) with: {'C': 1.5, 'class_weight': 'balanced', 'gamma': 0.0001, 'kernel': 'linear'}\n",
      "0.378571 (0.328264) with: {'C': 1.5, 'class_weight': 'balanced', 'gamma': 0.0001, 'kernel': 'poly'}\n",
      "0.378571 (0.328264) with: {'C': 1.5, 'class_weight': 'balanced', 'gamma': 0.0001, 'kernel': 'rbf'}\n",
      "0.378571 (0.328264) with: {'C': 1.5, 'class_weight': 'balanced', 'gamma': 0.0001, 'kernel': 'sigmoid'}\n",
      "0.871429 (0.029111) with: {'C': 1.7, 'class_weight': 'balanced', 'gamma': 0.01, 'kernel': 'linear'}\n",
      "0.857143 (0.008690) with: {'C': 1.7, 'class_weight': 'balanced', 'gamma': 0.01, 'kernel': 'poly'}\n",
      "0.864286 (0.042980) with: {'C': 1.7, 'class_weight': 'balanced', 'gamma': 0.01, 'kernel': 'rbf'}\n",
      "0.864286 (0.055613) with: {'C': 1.7, 'class_weight': 'balanced', 'gamma': 0.01, 'kernel': 'sigmoid'}\n",
      "0.871429 (0.029111) with: {'C': 1.7, 'class_weight': 'balanced', 'gamma': 0.001, 'kernel': 'linear'}\n",
      "0.850000 (0.001521) with: {'C': 1.7, 'class_weight': 'balanced', 'gamma': 0.001, 'kernel': 'poly'}\n",
      "0.900000 (0.043212) with: {'C': 1.7, 'class_weight': 'balanced', 'gamma': 0.001, 'kernel': 'rbf'}\n",
      "0.878571 (0.039322) with: {'C': 1.7, 'class_weight': 'balanced', 'gamma': 0.001, 'kernel': 'sigmoid'}\n",
      "0.871429 (0.029111) with: {'C': 1.7, 'class_weight': 'balanced', 'gamma': 0.0001, 'kernel': 'linear'}\n",
      "0.850000 (0.001521) with: {'C': 1.7, 'class_weight': 'balanced', 'gamma': 0.0001, 'kernel': 'poly'}\n",
      "0.857143 (0.010884) with: {'C': 1.7, 'class_weight': 'balanced', 'gamma': 0.0001, 'kernel': 'rbf'}\n",
      "0.857143 (0.010884) with: {'C': 1.7, 'class_weight': 'balanced', 'gamma': 0.0001, 'kernel': 'sigmoid'}\n",
      "0.864286 (0.035205) with: {'C': 2.0, 'class_weight': 'balanced', 'gamma': 0.01, 'kernel': 'linear'}\n",
      "0.857143 (0.008690) with: {'C': 2.0, 'class_weight': 'balanced', 'gamma': 0.01, 'kernel': 'poly'}\n",
      "0.871429 (0.045423) with: {'C': 2.0, 'class_weight': 'balanced', 'gamma': 0.01, 'kernel': 'rbf'}\n",
      "0.857143 (0.053020) with: {'C': 2.0, 'class_weight': 'balanced', 'gamma': 0.01, 'kernel': 'sigmoid'}\n",
      "0.864286 (0.035205) with: {'C': 2.0, 'class_weight': 'balanced', 'gamma': 0.001, 'kernel': 'linear'}\n",
      "0.150000 (0.001521) with: {'C': 2.0, 'class_weight': 'balanced', 'gamma': 0.001, 'kernel': 'poly'}\n",
      "0.871429 (0.033933) with: {'C': 2.0, 'class_weight': 'balanced', 'gamma': 0.001, 'kernel': 'rbf'}\n",
      "0.878571 (0.039322) with: {'C': 2.0, 'class_weight': 'balanced', 'gamma': 0.001, 'kernel': 'sigmoid'}\n",
      "0.864286 (0.035205) with: {'C': 2.0, 'class_weight': 'balanced', 'gamma': 0.0001, 'kernel': 'linear'}\n",
      "0.150000 (0.001521) with: {'C': 2.0, 'class_weight': 'balanced', 'gamma': 0.0001, 'kernel': 'poly'}\n",
      "0.157143 (0.009385) with: {'C': 2.0, 'class_weight': 'balanced', 'gamma': 0.0001, 'kernel': 'rbf'}\n",
      "0.150000 (0.001521) with: {'C': 2.0, 'class_weight': 'balanced', 'gamma': 0.0001, 'kernel': 'sigmoid'}\n",
      "0.857143 (0.060280) with: {'C': 3.0, 'class_weight': 'balanced', 'gamma': 0.01, 'kernel': 'linear'}\n",
      "0.857143 (0.008690) with: {'C': 3.0, 'class_weight': 'balanced', 'gamma': 0.01, 'kernel': 'poly'}\n",
      "0.842857 (0.042808) with: {'C': 3.0, 'class_weight': 'balanced', 'gamma': 0.01, 'kernel': 'rbf'}\n",
      "0.864286 (0.055613) with: {'C': 3.0, 'class_weight': 'balanced', 'gamma': 0.01, 'kernel': 'sigmoid'}\n",
      "0.857143 (0.060280) with: {'C': 3.0, 'class_weight': 'balanced', 'gamma': 0.001, 'kernel': 'linear'}\n",
      "0.378571 (0.328264) with: {'C': 3.0, 'class_weight': 'balanced', 'gamma': 0.001, 'kernel': 'poly'}\n",
      "0.857143 (0.035426) with: {'C': 3.0, 'class_weight': 'balanced', 'gamma': 0.001, 'kernel': 'rbf'}\n",
      "0.892857 (0.034119) with: {'C': 3.0, 'class_weight': 'balanced', 'gamma': 0.001, 'kernel': 'sigmoid'}\n",
      "0.857143 (0.060280) with: {'C': 3.0, 'class_weight': 'balanced', 'gamma': 0.0001, 'kernel': 'linear'}\n",
      "0.378571 (0.328264) with: {'C': 3.0, 'class_weight': 'balanced', 'gamma': 0.0001, 'kernel': 'poly'}\n",
      "0.621429 (0.305731) with: {'C': 3.0, 'class_weight': 'balanced', 'gamma': 0.0001, 'kernel': 'rbf'}\n",
      "0.378571 (0.328264) with: {'C': 3.0, 'class_weight': 'balanced', 'gamma': 0.0001, 'kernel': 'sigmoid'}\n"
     ]
    }
   ],
   "source": [
    "#####grid search (the parameters predict everything to one class, we should use a separated \n",
    "#sample for tuning parameters, but not enough cases so far)\n",
    "svc = svm.SVC()\n",
    "parameters = [{'kernel': ['linear', 'poly', 'rbf', 'sigmoid'], 'gamma': [0.01, 0.001, 0.0001],\n",
    "                     'C': [0.1, 0.3, 0.5, 0.7, 0.9, 1.0, 1.3, 1.5, 1.7, 2.0, 3.0], 'class_weight':['balanced']}]\n",
    "                   \n",
    "grid_search_item = GridSearchCV(estimator = svc,\n",
    "                          param_grid = parameters,\n",
    "                           scoring = 'accuracy',\n",
    "                           n_jobs = -1)\n",
    "grid_search = grid_search_item.fit(X_train, y_train)\n",
    "\n",
    "print(grid_search.best_score_)####not sure how come this is so good,but the parameters don't work good in the model\n",
    "print(grid_search.best_params_)\n",
    "\n",
    "means = grid_search.cv_results_['mean_test_score']\n",
    "stds = grid_search.cv_results_['std_test_score']\n",
    "params = grid_search.cv_results_['params']\n",
    "for mean, stdev, param in zip(means, stds, params):\n",
    "    print(\"%f (%f) with: %r\" % (mean, stdev, param))"
   ]
  },
  {
   "cell_type": "code",
   "execution_count": 611,
   "metadata": {
    "collapsed": true
   },
   "outputs": [],
   "source": [
    "svc = svm.SVC(gamma=0.001, class_weight='balanced', C = 1.7, kernel = 'linear')\n",
    "#svc.fit(X_train, y_train) "
   ]
  },
  {
   "cell_type": "code",
   "execution_count": 612,
   "metadata": {},
   "outputs": [
    {
     "name": "stdout",
     "output_type": "stream",
     "text": [
      "[0.86058758 0.90705839 0.9        0.92893773 0.97514793]\n",
      "f1: 0.91 (+/- 0.08)\n",
      "0.6825396825396826\n",
      "0.8476190476190476\n"
     ]
    }
   ],
   "source": [
    "scores = cross_val_score(svc, X, y, cv=5, scoring='f1_weighted')\n",
    "print(scores)\n",
    "print(\"f1: %0.2f (+/- %0.2f)\" % (scores.mean(), scores.std() * 2))\n",
    "precision = cross_val_score(svc, X, y, cv=5, scoring='precision')\n",
    "recall = cross_val_score(svc, X, y, cv=5, scoring='recall')\n",
    "print(precision.mean())\n",
    "print(recall.mean())"
   ]
  },
  {
   "cell_type": "markdown",
   "metadata": {},
   "source": [
    "####SGDClassifier "
   ]
  },
  {
   "cell_type": "code",
   "execution_count": 613,
   "metadata": {},
   "outputs": [
    {
     "name": "stdout",
     "output_type": "stream",
     "text": [
      "0.8714285714285714\n",
      "{'alpha': 0.01, 'class_weight': 'balanced'}\n"
     ]
    }
   ],
   "source": [
    "#####grid search (the parameters predict everything to one class, we should use a separated \n",
    "#sample for tuning parameters, but not enough cases so far)\n",
    "svc = SGDClassifier(max_iter= 1000)\n",
    "parameters = [{'alpha': [0.01, 0.05, 0.001, 0.005], 'class_weight':['balanced']}]\n",
    "                   \n",
    "grid_search_item = GridSearchCV(svc,\n",
    "                          param_grid = parameters,\n",
    "                           scoring = 'accuracy',\n",
    "                           n_jobs = -1)\n",
    "grid_search = grid_search_item.fit(X_train, y_train)\n",
    "\n",
    "print(grid_search.best_score_)####not sure how come this is so good,but the parameters don't work good in the model\n",
    "print(grid_search.best_params_)"
   ]
  },
  {
   "cell_type": "code",
   "execution_count": 614,
   "metadata": {},
   "outputs": [
    {
     "data": {
      "text/plain": [
       "SGDClassifier(alpha=0.01, average=False, class_weight='balanced', epsilon=0.1,\n",
       "       eta0=0.0, fit_intercept=True, l1_ratio=0.15,\n",
       "       learning_rate='optimal', loss='hinge', max_iter=1000, n_iter=None,\n",
       "       n_jobs=1, penalty='l2', power_t=0.5, random_state=None,\n",
       "       shuffle=True, tol=None, verbose=0, warm_start=False)"
      ]
     },
     "execution_count": 614,
     "metadata": {},
     "output_type": "execute_result"
    }
   ],
   "source": [
    "clf = SGDClassifier(max_iter=1000, alpha=0.01, class_weight = 'balanced')\n",
    "#clf.fit(X_train, y_train) "
   ]
  },
  {
   "cell_type": "code",
   "execution_count": 538,
   "metadata": {
    "collapsed": true
   },
   "outputs": [],
   "source": [
    "#y = clf.predict(X_test)\n"
   ]
  },
  {
   "cell_type": "code",
   "execution_count": 615,
   "metadata": {},
   "outputs": [
    {
     "name": "stdout",
     "output_type": "stream",
     "text": [
      "[0.88599492 0.95121951 0.90562771 0.90694789 0.95157967]\n",
      "f1: 0.92 (+/- 0.05)\n",
      "0.6864285714285715\n",
      "0.9095238095238095\n"
     ]
    }
   ],
   "source": [
    "scores = cross_val_score(clf, X, y, cv=5, scoring='f1_weighted')\n",
    "print(scores)\n",
    "print(\"f1: %0.2f (+/- %0.2f)\" % (scores.mean(), scores.std() * 2))\n",
    "precision = cross_val_score(clf, X, y, cv=5, scoring='precision')\n",
    "recall = cross_val_score(clf, X, y, cv=5, scoring='recall')\n",
    "print(precision.mean())\n",
    "print(recall.mean())"
   ]
  },
  {
   "cell_type": "markdown",
   "metadata": {
    "collapsed": true
   },
   "source": [
    "###random forest"
   ]
  },
  {
   "cell_type": "code",
   "execution_count": 450,
   "metadata": {
    "collapsed": true
   },
   "outputs": [],
   "source": [
    "rf = RandomForestClassifier()"
   ]
  },
  {
   "cell_type": "code",
   "execution_count": 616,
   "metadata": {},
   "outputs": [
    {
     "name": "stdout",
     "output_type": "stream",
     "text": [
      "0.9357142857142857\n",
      "{'class_weight': 'balanced', 'max_depth': 5, 'max_features': 'auto', 'max_leaf_nodes': 10, 'n_estimators': 50}\n",
      "0.914286 (0.034306) with: {'class_weight': 'balanced', 'max_depth': 2, 'max_features': 'auto', 'max_leaf_nodes': 10, 'n_estimators': 50}\n",
      "0.914286 (0.034306) with: {'class_weight': 'balanced', 'max_depth': 2, 'max_features': 'auto', 'max_leaf_nodes': 10, 'n_estimators': 100}\n",
      "0.914286 (0.034306) with: {'class_weight': 'balanced', 'max_depth': 2, 'max_features': 'auto', 'max_leaf_nodes': 10, 'n_estimators': 200}\n",
      "0.914286 (0.034306) with: {'class_weight': 'balanced', 'max_depth': 2, 'max_features': 'auto', 'max_leaf_nodes': 10, 'n_estimators': 300}\n",
      "0.914286 (0.034306) with: {'class_weight': 'balanced', 'max_depth': 2, 'max_features': 'auto', 'max_leaf_nodes': 10, 'n_estimators': 400}\n",
      "0.914286 (0.034306) with: {'class_weight': 'balanced', 'max_depth': 2, 'max_features': 'auto', 'max_leaf_nodes': 50, 'n_estimators': 50}\n",
      "0.914286 (0.034306) with: {'class_weight': 'balanced', 'max_depth': 2, 'max_features': 'auto', 'max_leaf_nodes': 50, 'n_estimators': 100}\n",
      "0.914286 (0.034306) with: {'class_weight': 'balanced', 'max_depth': 2, 'max_features': 'auto', 'max_leaf_nodes': 50, 'n_estimators': 200}\n",
      "0.914286 (0.034306) with: {'class_weight': 'balanced', 'max_depth': 2, 'max_features': 'auto', 'max_leaf_nodes': 50, 'n_estimators': 300}\n",
      "0.914286 (0.034306) with: {'class_weight': 'balanced', 'max_depth': 2, 'max_features': 'auto', 'max_leaf_nodes': 50, 'n_estimators': 400}\n",
      "0.914286 (0.034306) with: {'class_weight': 'balanced', 'max_depth': 2, 'max_features': 'auto', 'max_leaf_nodes': 100, 'n_estimators': 50}\n",
      "0.914286 (0.034306) with: {'class_weight': 'balanced', 'max_depth': 2, 'max_features': 'auto', 'max_leaf_nodes': 100, 'n_estimators': 100}\n",
      "0.914286 (0.034306) with: {'class_weight': 'balanced', 'max_depth': 2, 'max_features': 'auto', 'max_leaf_nodes': 100, 'n_estimators': 200}\n",
      "0.914286 (0.034306) with: {'class_weight': 'balanced', 'max_depth': 2, 'max_features': 'auto', 'max_leaf_nodes': 100, 'n_estimators': 300}\n",
      "0.914286 (0.034306) with: {'class_weight': 'balanced', 'max_depth': 2, 'max_features': 'auto', 'max_leaf_nodes': 100, 'n_estimators': 400}\n",
      "0.914286 (0.034306) with: {'class_weight': 'balanced', 'max_depth': 2, 'max_features': 'sqrt', 'max_leaf_nodes': 10, 'n_estimators': 50}\n",
      "0.914286 (0.034306) with: {'class_weight': 'balanced', 'max_depth': 2, 'max_features': 'sqrt', 'max_leaf_nodes': 10, 'n_estimators': 100}\n",
      "0.914286 (0.034306) with: {'class_weight': 'balanced', 'max_depth': 2, 'max_features': 'sqrt', 'max_leaf_nodes': 10, 'n_estimators': 200}\n",
      "0.914286 (0.034306) with: {'class_weight': 'balanced', 'max_depth': 2, 'max_features': 'sqrt', 'max_leaf_nodes': 10, 'n_estimators': 300}\n",
      "0.914286 (0.034306) with: {'class_weight': 'balanced', 'max_depth': 2, 'max_features': 'sqrt', 'max_leaf_nodes': 10, 'n_estimators': 400}\n",
      "0.914286 (0.034306) with: {'class_weight': 'balanced', 'max_depth': 2, 'max_features': 'sqrt', 'max_leaf_nodes': 50, 'n_estimators': 50}\n",
      "0.914286 (0.034306) with: {'class_weight': 'balanced', 'max_depth': 2, 'max_features': 'sqrt', 'max_leaf_nodes': 50, 'n_estimators': 100}\n",
      "0.914286 (0.034306) with: {'class_weight': 'balanced', 'max_depth': 2, 'max_features': 'sqrt', 'max_leaf_nodes': 50, 'n_estimators': 200}\n",
      "0.914286 (0.034306) with: {'class_weight': 'balanced', 'max_depth': 2, 'max_features': 'sqrt', 'max_leaf_nodes': 50, 'n_estimators': 300}\n",
      "0.914286 (0.034306) with: {'class_weight': 'balanced', 'max_depth': 2, 'max_features': 'sqrt', 'max_leaf_nodes': 50, 'n_estimators': 400}\n",
      "0.914286 (0.034306) with: {'class_weight': 'balanced', 'max_depth': 2, 'max_features': 'sqrt', 'max_leaf_nodes': 100, 'n_estimators': 50}\n",
      "0.914286 (0.034306) with: {'class_weight': 'balanced', 'max_depth': 2, 'max_features': 'sqrt', 'max_leaf_nodes': 100, 'n_estimators': 100}\n",
      "0.914286 (0.034306) with: {'class_weight': 'balanced', 'max_depth': 2, 'max_features': 'sqrt', 'max_leaf_nodes': 100, 'n_estimators': 200}\n",
      "0.914286 (0.034306) with: {'class_weight': 'balanced', 'max_depth': 2, 'max_features': 'sqrt', 'max_leaf_nodes': 100, 'n_estimators': 300}\n",
      "0.914286 (0.034306) with: {'class_weight': 'balanced', 'max_depth': 2, 'max_features': 'sqrt', 'max_leaf_nodes': 100, 'n_estimators': 400}\n",
      "0.914286 (0.034306) with: {'class_weight': 'balanced', 'max_depth': 2, 'max_features': 'log2', 'max_leaf_nodes': 10, 'n_estimators': 50}\n",
      "0.914286 (0.034306) with: {'class_weight': 'balanced', 'max_depth': 2, 'max_features': 'log2', 'max_leaf_nodes': 10, 'n_estimators': 100}\n",
      "0.914286 (0.034306) with: {'class_weight': 'balanced', 'max_depth': 2, 'max_features': 'log2', 'max_leaf_nodes': 10, 'n_estimators': 200}\n",
      "0.914286 (0.034306) with: {'class_weight': 'balanced', 'max_depth': 2, 'max_features': 'log2', 'max_leaf_nodes': 10, 'n_estimators': 300}\n",
      "0.914286 (0.034306) with: {'class_weight': 'balanced', 'max_depth': 2, 'max_features': 'log2', 'max_leaf_nodes': 10, 'n_estimators': 400}\n",
      "0.914286 (0.034306) with: {'class_weight': 'balanced', 'max_depth': 2, 'max_features': 'log2', 'max_leaf_nodes': 50, 'n_estimators': 50}\n",
      "0.914286 (0.034306) with: {'class_weight': 'balanced', 'max_depth': 2, 'max_features': 'log2', 'max_leaf_nodes': 50, 'n_estimators': 100}\n",
      "0.914286 (0.034306) with: {'class_weight': 'balanced', 'max_depth': 2, 'max_features': 'log2', 'max_leaf_nodes': 50, 'n_estimators': 200}\n",
      "0.914286 (0.034306) with: {'class_weight': 'balanced', 'max_depth': 2, 'max_features': 'log2', 'max_leaf_nodes': 50, 'n_estimators': 300}\n",
      "0.914286 (0.034306) with: {'class_weight': 'balanced', 'max_depth': 2, 'max_features': 'log2', 'max_leaf_nodes': 50, 'n_estimators': 400}\n",
      "0.914286 (0.034306) with: {'class_weight': 'balanced', 'max_depth': 2, 'max_features': 'log2', 'max_leaf_nodes': 100, 'n_estimators': 50}\n",
      "0.914286 (0.034306) with: {'class_weight': 'balanced', 'max_depth': 2, 'max_features': 'log2', 'max_leaf_nodes': 100, 'n_estimators': 100}\n",
      "0.914286 (0.034306) with: {'class_weight': 'balanced', 'max_depth': 2, 'max_features': 'log2', 'max_leaf_nodes': 100, 'n_estimators': 200}\n",
      "0.914286 (0.034306) with: {'class_weight': 'balanced', 'max_depth': 2, 'max_features': 'log2', 'max_leaf_nodes': 100, 'n_estimators': 300}\n",
      "0.914286 (0.034306) with: {'class_weight': 'balanced', 'max_depth': 2, 'max_features': 'log2', 'max_leaf_nodes': 100, 'n_estimators': 400}\n",
      "0.935714 (0.034493) with: {'class_weight': 'balanced', 'max_depth': 5, 'max_features': 'auto', 'max_leaf_nodes': 10, 'n_estimators': 50}\n",
      "0.921429 (0.026051) with: {'class_weight': 'balanced', 'max_depth': 5, 'max_features': 'auto', 'max_leaf_nodes': 10, 'n_estimators': 100}\n",
      "0.928571 (0.026196) with: {'class_weight': 'balanced', 'max_depth': 5, 'max_features': 'auto', 'max_leaf_nodes': 10, 'n_estimators': 200}\n",
      "0.935714 (0.029929) with: {'class_weight': 'balanced', 'max_depth': 5, 'max_features': 'auto', 'max_leaf_nodes': 10, 'n_estimators': 300}\n",
      "0.928571 (0.026196) with: {'class_weight': 'balanced', 'max_depth': 5, 'max_features': 'auto', 'max_leaf_nodes': 10, 'n_estimators': 400}\n",
      "0.928571 (0.035836) with: {'class_weight': 'balanced', 'max_depth': 5, 'max_features': 'auto', 'max_leaf_nodes': 50, 'n_estimators': 50}\n",
      "0.921429 (0.026051) with: {'class_weight': 'balanced', 'max_depth': 5, 'max_features': 'auto', 'max_leaf_nodes': 50, 'n_estimators': 100}\n",
      "0.928571 (0.026196) with: {'class_weight': 'balanced', 'max_depth': 5, 'max_features': 'auto', 'max_leaf_nodes': 50, 'n_estimators': 200}\n",
      "0.935714 (0.029929) with: {'class_weight': 'balanced', 'max_depth': 5, 'max_features': 'auto', 'max_leaf_nodes': 50, 'n_estimators': 300}\n",
      "0.935714 (0.029929) with: {'class_weight': 'balanced', 'max_depth': 5, 'max_features': 'auto', 'max_leaf_nodes': 50, 'n_estimators': 400}\n",
      "0.928571 (0.035836) with: {'class_weight': 'balanced', 'max_depth': 5, 'max_features': 'auto', 'max_leaf_nodes': 100, 'n_estimators': 50}\n",
      "0.921429 (0.026051) with: {'class_weight': 'balanced', 'max_depth': 5, 'max_features': 'auto', 'max_leaf_nodes': 100, 'n_estimators': 100}\n",
      "0.928571 (0.026196) with: {'class_weight': 'balanced', 'max_depth': 5, 'max_features': 'auto', 'max_leaf_nodes': 100, 'n_estimators': 200}\n",
      "0.935714 (0.029929) with: {'class_weight': 'balanced', 'max_depth': 5, 'max_features': 'auto', 'max_leaf_nodes': 100, 'n_estimators': 300}\n",
      "0.935714 (0.029929) with: {'class_weight': 'balanced', 'max_depth': 5, 'max_features': 'auto', 'max_leaf_nodes': 100, 'n_estimators': 400}\n",
      "0.935714 (0.034493) with: {'class_weight': 'balanced', 'max_depth': 5, 'max_features': 'sqrt', 'max_leaf_nodes': 10, 'n_estimators': 50}\n",
      "0.921429 (0.026051) with: {'class_weight': 'balanced', 'max_depth': 5, 'max_features': 'sqrt', 'max_leaf_nodes': 10, 'n_estimators': 100}\n",
      "0.928571 (0.026196) with: {'class_weight': 'balanced', 'max_depth': 5, 'max_features': 'sqrt', 'max_leaf_nodes': 10, 'n_estimators': 200}\n",
      "0.935714 (0.029929) with: {'class_weight': 'balanced', 'max_depth': 5, 'max_features': 'sqrt', 'max_leaf_nodes': 10, 'n_estimators': 300}\n",
      "0.928571 (0.026196) with: {'class_weight': 'balanced', 'max_depth': 5, 'max_features': 'sqrt', 'max_leaf_nodes': 10, 'n_estimators': 400}\n",
      "0.928571 (0.035836) with: {'class_weight': 'balanced', 'max_depth': 5, 'max_features': 'sqrt', 'max_leaf_nodes': 50, 'n_estimators': 50}\n",
      "0.921429 (0.026051) with: {'class_weight': 'balanced', 'max_depth': 5, 'max_features': 'sqrt', 'max_leaf_nodes': 50, 'n_estimators': 100}\n",
      "0.928571 (0.026196) with: {'class_weight': 'balanced', 'max_depth': 5, 'max_features': 'sqrt', 'max_leaf_nodes': 50, 'n_estimators': 200}\n",
      "0.935714 (0.029929) with: {'class_weight': 'balanced', 'max_depth': 5, 'max_features': 'sqrt', 'max_leaf_nodes': 50, 'n_estimators': 300}\n",
      "0.935714 (0.029929) with: {'class_weight': 'balanced', 'max_depth': 5, 'max_features': 'sqrt', 'max_leaf_nodes': 50, 'n_estimators': 400}\n",
      "0.928571 (0.035836) with: {'class_weight': 'balanced', 'max_depth': 5, 'max_features': 'sqrt', 'max_leaf_nodes': 100, 'n_estimators': 50}\n",
      "0.921429 (0.026051) with: {'class_weight': 'balanced', 'max_depth': 5, 'max_features': 'sqrt', 'max_leaf_nodes': 100, 'n_estimators': 100}\n",
      "0.928571 (0.026196) with: {'class_weight': 'balanced', 'max_depth': 5, 'max_features': 'sqrt', 'max_leaf_nodes': 100, 'n_estimators': 200}\n",
      "0.935714 (0.029929) with: {'class_weight': 'balanced', 'max_depth': 5, 'max_features': 'sqrt', 'max_leaf_nodes': 100, 'n_estimators': 300}\n",
      "0.935714 (0.029929) with: {'class_weight': 'balanced', 'max_depth': 5, 'max_features': 'sqrt', 'max_leaf_nodes': 100, 'n_estimators': 400}\n",
      "0.935714 (0.034493) with: {'class_weight': 'balanced', 'max_depth': 5, 'max_features': 'log2', 'max_leaf_nodes': 10, 'n_estimators': 50}\n",
      "0.921429 (0.026051) with: {'class_weight': 'balanced', 'max_depth': 5, 'max_features': 'log2', 'max_leaf_nodes': 10, 'n_estimators': 100}\n",
      "0.928571 (0.026196) with: {'class_weight': 'balanced', 'max_depth': 5, 'max_features': 'log2', 'max_leaf_nodes': 10, 'n_estimators': 200}\n",
      "0.935714 (0.029929) with: {'class_weight': 'balanced', 'max_depth': 5, 'max_features': 'log2', 'max_leaf_nodes': 10, 'n_estimators': 300}\n",
      "0.928571 (0.026196) with: {'class_weight': 'balanced', 'max_depth': 5, 'max_features': 'log2', 'max_leaf_nodes': 10, 'n_estimators': 400}\n",
      "0.928571 (0.035836) with: {'class_weight': 'balanced', 'max_depth': 5, 'max_features': 'log2', 'max_leaf_nodes': 50, 'n_estimators': 50}\n",
      "0.921429 (0.026051) with: {'class_weight': 'balanced', 'max_depth': 5, 'max_features': 'log2', 'max_leaf_nodes': 50, 'n_estimators': 100}\n",
      "0.928571 (0.026196) with: {'class_weight': 'balanced', 'max_depth': 5, 'max_features': 'log2', 'max_leaf_nodes': 50, 'n_estimators': 200}\n",
      "0.935714 (0.029929) with: {'class_weight': 'balanced', 'max_depth': 5, 'max_features': 'log2', 'max_leaf_nodes': 50, 'n_estimators': 300}\n",
      "0.935714 (0.029929) with: {'class_weight': 'balanced', 'max_depth': 5, 'max_features': 'log2', 'max_leaf_nodes': 50, 'n_estimators': 400}\n",
      "0.928571 (0.035836) with: {'class_weight': 'balanced', 'max_depth': 5, 'max_features': 'log2', 'max_leaf_nodes': 100, 'n_estimators': 50}\n",
      "0.921429 (0.026051) with: {'class_weight': 'balanced', 'max_depth': 5, 'max_features': 'log2', 'max_leaf_nodes': 100, 'n_estimators': 100}\n",
      "0.928571 (0.026196) with: {'class_weight': 'balanced', 'max_depth': 5, 'max_features': 'log2', 'max_leaf_nodes': 100, 'n_estimators': 200}\n",
      "0.935714 (0.029929) with: {'class_weight': 'balanced', 'max_depth': 5, 'max_features': 'log2', 'max_leaf_nodes': 100, 'n_estimators': 300}\n",
      "0.935714 (0.029929) with: {'class_weight': 'balanced', 'max_depth': 5, 'max_features': 'log2', 'max_leaf_nodes': 100, 'n_estimators': 400}\n",
      "0.935714 (0.034493) with: {'class_weight': 'balanced', 'max_depth': 10, 'max_features': 'auto', 'max_leaf_nodes': 10, 'n_estimators': 50}\n",
      "0.921429 (0.026051) with: {'class_weight': 'balanced', 'max_depth': 10, 'max_features': 'auto', 'max_leaf_nodes': 10, 'n_estimators': 100}\n",
      "0.928571 (0.026196) with: {'class_weight': 'balanced', 'max_depth': 10, 'max_features': 'auto', 'max_leaf_nodes': 10, 'n_estimators': 200}\n",
      "0.928571 (0.026196) with: {'class_weight': 'balanced', 'max_depth': 10, 'max_features': 'auto', 'max_leaf_nodes': 10, 'n_estimators': 300}\n",
      "0.928571 (0.026196) with: {'class_weight': 'balanced', 'max_depth': 10, 'max_features': 'auto', 'max_leaf_nodes': 10, 'n_estimators': 400}\n",
      "0.935714 (0.029763) with: {'class_weight': 'balanced', 'max_depth': 10, 'max_features': 'auto', 'max_leaf_nodes': 50, 'n_estimators': 50}\n",
      "0.921429 (0.026051) with: {'class_weight': 'balanced', 'max_depth': 10, 'max_features': 'auto', 'max_leaf_nodes': 50, 'n_estimators': 100}\n",
      "0.921429 (0.026051) with: {'class_weight': 'balanced', 'max_depth': 10, 'max_features': 'auto', 'max_leaf_nodes': 50, 'n_estimators': 200}\n",
      "0.928571 (0.026196) with: {'class_weight': 'balanced', 'max_depth': 10, 'max_features': 'auto', 'max_leaf_nodes': 50, 'n_estimators': 300}\n",
      "0.928571 (0.026196) with: {'class_weight': 'balanced', 'max_depth': 10, 'max_features': 'auto', 'max_leaf_nodes': 50, 'n_estimators': 400}\n",
      "0.935714 (0.029763) with: {'class_weight': 'balanced', 'max_depth': 10, 'max_features': 'auto', 'max_leaf_nodes': 100, 'n_estimators': 50}\n",
      "0.921429 (0.026051) with: {'class_weight': 'balanced', 'max_depth': 10, 'max_features': 'auto', 'max_leaf_nodes': 100, 'n_estimators': 100}\n",
      "0.921429 (0.026051) with: {'class_weight': 'balanced', 'max_depth': 10, 'max_features': 'auto', 'max_leaf_nodes': 100, 'n_estimators': 200}\n",
      "0.928571 (0.026196) with: {'class_weight': 'balanced', 'max_depth': 10, 'max_features': 'auto', 'max_leaf_nodes': 100, 'n_estimators': 300}\n",
      "0.928571 (0.026196) with: {'class_weight': 'balanced', 'max_depth': 10, 'max_features': 'auto', 'max_leaf_nodes': 100, 'n_estimators': 400}\n",
      "0.935714 (0.034493) with: {'class_weight': 'balanced', 'max_depth': 10, 'max_features': 'sqrt', 'max_leaf_nodes': 10, 'n_estimators': 50}\n",
      "0.921429 (0.026051) with: {'class_weight': 'balanced', 'max_depth': 10, 'max_features': 'sqrt', 'max_leaf_nodes': 10, 'n_estimators': 100}\n",
      "0.928571 (0.026196) with: {'class_weight': 'balanced', 'max_depth': 10, 'max_features': 'sqrt', 'max_leaf_nodes': 10, 'n_estimators': 200}\n",
      "0.928571 (0.026196) with: {'class_weight': 'balanced', 'max_depth': 10, 'max_features': 'sqrt', 'max_leaf_nodes': 10, 'n_estimators': 300}\n",
      "0.928571 (0.026196) with: {'class_weight': 'balanced', 'max_depth': 10, 'max_features': 'sqrt', 'max_leaf_nodes': 10, 'n_estimators': 400}\n",
      "0.935714 (0.029763) with: {'class_weight': 'balanced', 'max_depth': 10, 'max_features': 'sqrt', 'max_leaf_nodes': 50, 'n_estimators': 50}\n",
      "0.921429 (0.026051) with: {'class_weight': 'balanced', 'max_depth': 10, 'max_features': 'sqrt', 'max_leaf_nodes': 50, 'n_estimators': 100}\n",
      "0.921429 (0.026051) with: {'class_weight': 'balanced', 'max_depth': 10, 'max_features': 'sqrt', 'max_leaf_nodes': 50, 'n_estimators': 200}\n",
      "0.928571 (0.026196) with: {'class_weight': 'balanced', 'max_depth': 10, 'max_features': 'sqrt', 'max_leaf_nodes': 50, 'n_estimators': 300}\n",
      "0.928571 (0.026196) with: {'class_weight': 'balanced', 'max_depth': 10, 'max_features': 'sqrt', 'max_leaf_nodes': 50, 'n_estimators': 400}\n",
      "0.935714 (0.029763) with: {'class_weight': 'balanced', 'max_depth': 10, 'max_features': 'sqrt', 'max_leaf_nodes': 100, 'n_estimators': 50}\n",
      "0.921429 (0.026051) with: {'class_weight': 'balanced', 'max_depth': 10, 'max_features': 'sqrt', 'max_leaf_nodes': 100, 'n_estimators': 100}\n",
      "0.921429 (0.026051) with: {'class_weight': 'balanced', 'max_depth': 10, 'max_features': 'sqrt', 'max_leaf_nodes': 100, 'n_estimators': 200}\n",
      "0.928571 (0.026196) with: {'class_weight': 'balanced', 'max_depth': 10, 'max_features': 'sqrt', 'max_leaf_nodes': 100, 'n_estimators': 300}\n",
      "0.928571 (0.026196) with: {'class_weight': 'balanced', 'max_depth': 10, 'max_features': 'sqrt', 'max_leaf_nodes': 100, 'n_estimators': 400}\n",
      "0.935714 (0.034493) with: {'class_weight': 'balanced', 'max_depth': 10, 'max_features': 'log2', 'max_leaf_nodes': 10, 'n_estimators': 50}\n",
      "0.921429 (0.026051) with: {'class_weight': 'balanced', 'max_depth': 10, 'max_features': 'log2', 'max_leaf_nodes': 10, 'n_estimators': 100}\n",
      "0.928571 (0.026196) with: {'class_weight': 'balanced', 'max_depth': 10, 'max_features': 'log2', 'max_leaf_nodes': 10, 'n_estimators': 200}\n",
      "0.928571 (0.026196) with: {'class_weight': 'balanced', 'max_depth': 10, 'max_features': 'log2', 'max_leaf_nodes': 10, 'n_estimators': 300}\n",
      "0.928571 (0.026196) with: {'class_weight': 'balanced', 'max_depth': 10, 'max_features': 'log2', 'max_leaf_nodes': 10, 'n_estimators': 400}\n",
      "0.935714 (0.029763) with: {'class_weight': 'balanced', 'max_depth': 10, 'max_features': 'log2', 'max_leaf_nodes': 50, 'n_estimators': 50}\n",
      "0.921429 (0.026051) with: {'class_weight': 'balanced', 'max_depth': 10, 'max_features': 'log2', 'max_leaf_nodes': 50, 'n_estimators': 100}\n",
      "0.921429 (0.026051) with: {'class_weight': 'balanced', 'max_depth': 10, 'max_features': 'log2', 'max_leaf_nodes': 50, 'n_estimators': 200}\n",
      "0.928571 (0.026196) with: {'class_weight': 'balanced', 'max_depth': 10, 'max_features': 'log2', 'max_leaf_nodes': 50, 'n_estimators': 300}\n",
      "0.928571 (0.026196) with: {'class_weight': 'balanced', 'max_depth': 10, 'max_features': 'log2', 'max_leaf_nodes': 50, 'n_estimators': 400}\n",
      "0.935714 (0.029763) with: {'class_weight': 'balanced', 'max_depth': 10, 'max_features': 'log2', 'max_leaf_nodes': 100, 'n_estimators': 50}\n",
      "0.921429 (0.026051) with: {'class_weight': 'balanced', 'max_depth': 10, 'max_features': 'log2', 'max_leaf_nodes': 100, 'n_estimators': 100}\n",
      "0.921429 (0.026051) with: {'class_weight': 'balanced', 'max_depth': 10, 'max_features': 'log2', 'max_leaf_nodes': 100, 'n_estimators': 200}\n",
      "0.928571 (0.026196) with: {'class_weight': 'balanced', 'max_depth': 10, 'max_features': 'log2', 'max_leaf_nodes': 100, 'n_estimators': 300}\n",
      "0.928571 (0.026196) with: {'class_weight': 'balanced', 'max_depth': 10, 'max_features': 'log2', 'max_leaf_nodes': 100, 'n_estimators': 400}\n",
      "0.935714 (0.034493) with: {'class_weight': 'balanced', 'max_depth': 20, 'max_features': 'auto', 'max_leaf_nodes': 10, 'n_estimators': 50}\n",
      "0.921429 (0.026051) with: {'class_weight': 'balanced', 'max_depth': 20, 'max_features': 'auto', 'max_leaf_nodes': 10, 'n_estimators': 100}\n",
      "0.928571 (0.026196) with: {'class_weight': 'balanced', 'max_depth': 20, 'max_features': 'auto', 'max_leaf_nodes': 10, 'n_estimators': 200}\n",
      "0.928571 (0.026196) with: {'class_weight': 'balanced', 'max_depth': 20, 'max_features': 'auto', 'max_leaf_nodes': 10, 'n_estimators': 300}\n",
      "0.928571 (0.026196) with: {'class_weight': 'balanced', 'max_depth': 20, 'max_features': 'auto', 'max_leaf_nodes': 10, 'n_estimators': 400}\n",
      "0.935714 (0.029763) with: {'class_weight': 'balanced', 'max_depth': 20, 'max_features': 'auto', 'max_leaf_nodes': 50, 'n_estimators': 50}\n",
      "0.921429 (0.026051) with: {'class_weight': 'balanced', 'max_depth': 20, 'max_features': 'auto', 'max_leaf_nodes': 50, 'n_estimators': 100}\n",
      "0.921429 (0.026051) with: {'class_weight': 'balanced', 'max_depth': 20, 'max_features': 'auto', 'max_leaf_nodes': 50, 'n_estimators': 200}\n",
      "0.928571 (0.026196) with: {'class_weight': 'balanced', 'max_depth': 20, 'max_features': 'auto', 'max_leaf_nodes': 50, 'n_estimators': 300}\n",
      "0.928571 (0.026196) with: {'class_weight': 'balanced', 'max_depth': 20, 'max_features': 'auto', 'max_leaf_nodes': 50, 'n_estimators': 400}\n",
      "0.935714 (0.029763) with: {'class_weight': 'balanced', 'max_depth': 20, 'max_features': 'auto', 'max_leaf_nodes': 100, 'n_estimators': 50}\n",
      "0.921429 (0.026051) with: {'class_weight': 'balanced', 'max_depth': 20, 'max_features': 'auto', 'max_leaf_nodes': 100, 'n_estimators': 100}\n",
      "0.921429 (0.026051) with: {'class_weight': 'balanced', 'max_depth': 20, 'max_features': 'auto', 'max_leaf_nodes': 100, 'n_estimators': 200}\n",
      "0.928571 (0.026196) with: {'class_weight': 'balanced', 'max_depth': 20, 'max_features': 'auto', 'max_leaf_nodes': 100, 'n_estimators': 300}\n",
      "0.928571 (0.026196) with: {'class_weight': 'balanced', 'max_depth': 20, 'max_features': 'auto', 'max_leaf_nodes': 100, 'n_estimators': 400}\n",
      "0.935714 (0.034493) with: {'class_weight': 'balanced', 'max_depth': 20, 'max_features': 'sqrt', 'max_leaf_nodes': 10, 'n_estimators': 50}\n",
      "0.921429 (0.026051) with: {'class_weight': 'balanced', 'max_depth': 20, 'max_features': 'sqrt', 'max_leaf_nodes': 10, 'n_estimators': 100}\n",
      "0.928571 (0.026196) with: {'class_weight': 'balanced', 'max_depth': 20, 'max_features': 'sqrt', 'max_leaf_nodes': 10, 'n_estimators': 200}\n",
      "0.928571 (0.026196) with: {'class_weight': 'balanced', 'max_depth': 20, 'max_features': 'sqrt', 'max_leaf_nodes': 10, 'n_estimators': 300}\n",
      "0.928571 (0.026196) with: {'class_weight': 'balanced', 'max_depth': 20, 'max_features': 'sqrt', 'max_leaf_nodes': 10, 'n_estimators': 400}\n",
      "0.935714 (0.029763) with: {'class_weight': 'balanced', 'max_depth': 20, 'max_features': 'sqrt', 'max_leaf_nodes': 50, 'n_estimators': 50}\n",
      "0.921429 (0.026051) with: {'class_weight': 'balanced', 'max_depth': 20, 'max_features': 'sqrt', 'max_leaf_nodes': 50, 'n_estimators': 100}\n",
      "0.921429 (0.026051) with: {'class_weight': 'balanced', 'max_depth': 20, 'max_features': 'sqrt', 'max_leaf_nodes': 50, 'n_estimators': 200}\n",
      "0.928571 (0.026196) with: {'class_weight': 'balanced', 'max_depth': 20, 'max_features': 'sqrt', 'max_leaf_nodes': 50, 'n_estimators': 300}\n",
      "0.928571 (0.026196) with: {'class_weight': 'balanced', 'max_depth': 20, 'max_features': 'sqrt', 'max_leaf_nodes': 50, 'n_estimators': 400}\n",
      "0.935714 (0.029763) with: {'class_weight': 'balanced', 'max_depth': 20, 'max_features': 'sqrt', 'max_leaf_nodes': 100, 'n_estimators': 50}\n",
      "0.921429 (0.026051) with: {'class_weight': 'balanced', 'max_depth': 20, 'max_features': 'sqrt', 'max_leaf_nodes': 100, 'n_estimators': 100}\n",
      "0.921429 (0.026051) with: {'class_weight': 'balanced', 'max_depth': 20, 'max_features': 'sqrt', 'max_leaf_nodes': 100, 'n_estimators': 200}\n",
      "0.928571 (0.026196) with: {'class_weight': 'balanced', 'max_depth': 20, 'max_features': 'sqrt', 'max_leaf_nodes': 100, 'n_estimators': 300}\n",
      "0.928571 (0.026196) with: {'class_weight': 'balanced', 'max_depth': 20, 'max_features': 'sqrt', 'max_leaf_nodes': 100, 'n_estimators': 400}\n",
      "0.935714 (0.034493) with: {'class_weight': 'balanced', 'max_depth': 20, 'max_features': 'log2', 'max_leaf_nodes': 10, 'n_estimators': 50}\n",
      "0.921429 (0.026051) with: {'class_weight': 'balanced', 'max_depth': 20, 'max_features': 'log2', 'max_leaf_nodes': 10, 'n_estimators': 100}\n",
      "0.928571 (0.026196) with: {'class_weight': 'balanced', 'max_depth': 20, 'max_features': 'log2', 'max_leaf_nodes': 10, 'n_estimators': 200}\n",
      "0.928571 (0.026196) with: {'class_weight': 'balanced', 'max_depth': 20, 'max_features': 'log2', 'max_leaf_nodes': 10, 'n_estimators': 300}\n",
      "0.928571 (0.026196) with: {'class_weight': 'balanced', 'max_depth': 20, 'max_features': 'log2', 'max_leaf_nodes': 10, 'n_estimators': 400}\n",
      "0.935714 (0.029763) with: {'class_weight': 'balanced', 'max_depth': 20, 'max_features': 'log2', 'max_leaf_nodes': 50, 'n_estimators': 50}\n",
      "0.921429 (0.026051) with: {'class_weight': 'balanced', 'max_depth': 20, 'max_features': 'log2', 'max_leaf_nodes': 50, 'n_estimators': 100}\n",
      "0.921429 (0.026051) with: {'class_weight': 'balanced', 'max_depth': 20, 'max_features': 'log2', 'max_leaf_nodes': 50, 'n_estimators': 200}\n",
      "0.928571 (0.026196) with: {'class_weight': 'balanced', 'max_depth': 20, 'max_features': 'log2', 'max_leaf_nodes': 50, 'n_estimators': 300}\n",
      "0.928571 (0.026196) with: {'class_weight': 'balanced', 'max_depth': 20, 'max_features': 'log2', 'max_leaf_nodes': 50, 'n_estimators': 400}\n",
      "0.935714 (0.029763) with: {'class_weight': 'balanced', 'max_depth': 20, 'max_features': 'log2', 'max_leaf_nodes': 100, 'n_estimators': 50}\n",
      "0.921429 (0.026051) with: {'class_weight': 'balanced', 'max_depth': 20, 'max_features': 'log2', 'max_leaf_nodes': 100, 'n_estimators': 100}\n",
      "0.921429 (0.026051) with: {'class_weight': 'balanced', 'max_depth': 20, 'max_features': 'log2', 'max_leaf_nodes': 100, 'n_estimators': 200}\n",
      "0.928571 (0.026196) with: {'class_weight': 'balanced', 'max_depth': 20, 'max_features': 'log2', 'max_leaf_nodes': 100, 'n_estimators': 300}\n",
      "0.928571 (0.026196) with: {'class_weight': 'balanced', 'max_depth': 20, 'max_features': 'log2', 'max_leaf_nodes': 100, 'n_estimators': 400}\n"
     ]
    }
   ],
   "source": [
    "#####grid search (the parameters predict everything to one class, we should use a separated \n",
    "#sample for tuning parameters, but not enough cases so far)\n",
    "\n",
    "parameters = [{'max_features':['auto','sqrt','log2'], 'class_weight':['balanced'], \n",
    "               'max_leaf_nodes':[10,50,100], 'max_depth':[2,5,10,20], 'n_estimators' : [50,100,200,300,400]}]\n",
    "                   \n",
    "grid_search_item = GridSearchCV(rf,\n",
    "                          param_grid = parameters,\n",
    "                           scoring = 'accuracy',\n",
    "                           n_jobs = -1)\n",
    "grid_search = grid_search_item.fit(X_train, y_train)\n",
    "\n",
    "print(grid_search.best_score_)####not sure how come this is so good,but the parameters don't work good in the model\n",
    "print(grid_search.best_params_)\n",
    "\n",
    "means = grid_search.cv_results_['mean_test_score']\n",
    "stds = grid_search.cv_results_['std_test_score']\n",
    "params = grid_search.cv_results_['params']\n",
    "for mean, stdev, param in zip(means, stds, params):\n",
    "    print(\"%f (%f) with: %r\" % (mean, stdev, param))"
   ]
  },
  {
   "cell_type": "code",
   "execution_count": 628,
   "metadata": {
    "collapsed": true
   },
   "outputs": [],
   "source": [
    "rf = RandomForestClassifier(n_estimators=50, max_depth=5, class_weight = 'balanced',\n",
    "                             random_state=50, max_leaf_nodes = 10, max_features = 'auto')"
   ]
  },
  {
   "cell_type": "code",
   "execution_count": 635,
   "metadata": {},
   "outputs": [
    {
     "name": "stdout",
     "output_type": "stream",
     "text": [
      "[0.92454523 1.         0.91408451 0.90694789 0.97338482]\n",
      "f1: 0.94 (+/- 0.07)\n",
      "0.8866666666666667\n",
      "0.8095238095238095\n"
     ]
    }
   ],
   "source": [
    "scores = cross_val_score(rf, X, y, cv=5, scoring='f1_weighted')\n",
    "print(scores)\n",
    "print(\"f1: %0.2f (+/- %0.2f)\" % (scores.mean(), scores.std() * 2))\n",
    "precision = cross_val_score(rf, X, y, cv=5, scoring='precision')\n",
    "recall = cross_val_score(rf, X, y, cv=5, scoring='recall')\n",
    "print(precision.mean())\n",
    "print(recall.mean())"
   ]
  },
  {
   "cell_type": "code",
   "execution_count": 638,
   "metadata": {},
   "outputs": [
    {
     "data": {
      "text/plain": [
       "array([[49,  0],\n",
       "       [ 1, 10]])"
      ]
     },
     "execution_count": 638,
     "metadata": {},
     "output_type": "execute_result"
    }
   ],
   "source": [
    "bestModel = rf.fit(X_train, y_train) \n",
    "y_pred = bestModel.predict(X_test)\n",
    "confusion_matrix(y_test, y_pred)"
   ]
  },
  {
   "cell_type": "code",
   "execution_count": 640,
   "metadata": {},
   "outputs": [
    {
     "data": {
      "text/plain": [
       "array([[-4.07828929e-01,  2.27401788e+00,  2.90522313e+00,\n",
       "        -3.03726857e-01,  2.49931837e+00,  2.42187631e+00,\n",
       "         4.18945982e+00, -6.52945808e-02,  5.32230773e+00,\n",
       "        -7.21303372e-01, -5.88839237e-01],\n",
       "       [ 2.00893509e+00, -3.77898015e-01, -3.54494267e-01,\n",
       "        -1.09262779e+00, -1.02084835e+00, -8.07292105e-01,\n",
       "        -1.06707697e+00, -9.35888992e-01, -7.75262501e-01,\n",
       "        -7.21303372e-01,  8.73969986e-01],\n",
       "       [-4.07828929e-01, -3.77898015e-01, -3.54494267e-01,\n",
       "        -3.03726857e-01, -3.16815005e-01, -1.61458421e-01,\n",
       "        -1.57696104e-02, -6.52945808e-02,  9.58189607e-02,\n",
       "         6.79285700e-01,  9.42286267e-01],\n",
       "       [ 4.42569912e+00,  2.27401788e+00,  1.27536443e+00,\n",
       "         1.27407500e+00,  5.31545175e+00,  1.13020895e+00,\n",
       "        -1.57696104e-02,  3.41708306e+00, -7.75262501e-01,\n",
       "        -7.21303372e-01,  1.23818831e+00],\n",
       "       [ 2.00893509e+00,  2.27401788e+00,  1.27536443e+00,\n",
       "         2.85187686e+00, -1.02084835e+00, -8.07292105e-01,\n",
       "        -1.06707697e+00, -9.35888992e-01, -7.75262501e-01,\n",
       "        -7.21303372e-01,  1.49189336e-01],\n",
       "       [-4.07828929e-01, -3.77898015e-01, -3.54494267e-01,\n",
       "        -3.03726857e-01, -3.16815005e-01, -8.07292105e-01,\n",
       "        -1.06707697e+00, -9.35888992e-01, -7.75262501e-01,\n",
       "        -7.21303372e-01,  4.77211039e-01],\n",
       "       [-4.07828929e-01, -3.77898015e-01, -3.54494267e-01,\n",
       "        -3.03726857e-01, -3.16815005e-01, -8.07292105e-01,\n",
       "        -1.06707697e+00, -9.35888992e-01, -7.75262501e-01,\n",
       "        -7.21303372e-01, -1.55476225e-01],\n",
       "       [-4.07828929e-01, -3.77898015e-01, -3.54494267e-01,\n",
       "         2.85187686e+00,  1.09125168e+00,  3.71354368e+00,\n",
       "         2.08684511e+00, -6.52945808e-02, -7.75262501e-01,\n",
       "        -7.21303372e-01,  5.18817458e-02],\n",
       "       [-4.07828929e-01, -3.77898015e-01, -3.54494267e-01,\n",
       "         2.85187686e+00, -3.16815005e-01,  1.13020895e+00,\n",
       "        -1.57696104e-02, -6.52945808e-02, -7.75262501e-01,\n",
       "        -7.21303372e-01,  3.09870984e-01],\n",
       "       [-4.07828929e-01, -3.77898015e-01, -3.54494267e-01,\n",
       "        -3.03726857e-01, -3.16815005e-01, -1.61458421e-01,\n",
       "        -1.57696104e-02, -6.52945808e-02,  9.58189607e-02,\n",
       "         6.79285700e-01, -2.93642044e-01],\n",
       "       [-4.07828929e-01, -3.77898015e-01, -3.54494267e-01,\n",
       "        -3.03726857e-01, -3.16815005e-01, -1.61458421e-01,\n",
       "        -1.57696104e-02, -6.52945808e-02,  9.58189607e-02,\n",
       "         6.79285700e-01,  7.75589149e-01],\n",
       "       [-4.07828929e-01, -3.77898015e-01, -3.54494267e-01,\n",
       "        -3.03726857e-01, -3.16815005e-01, -8.07292105e-01,\n",
       "        -1.06707697e+00, -9.35888992e-01, -7.75262501e-01,\n",
       "        -7.21303372e-01, -2.23902761e-01],\n",
       "       [-4.07828929e-01, -3.77898015e-01, -3.54494267e-01,\n",
       "        -3.03726857e-01, -3.16815005e-01, -1.61458421e-01,\n",
       "        -1.57696104e-02, -6.52945808e-02,  9.58189607e-02,\n",
       "         6.79285700e-01, -1.35745937e+00],\n",
       "       [ 1.96362077e-01,  1.61103891e+00,  2.09029378e+00,\n",
       "        -3.03726857e-01,  1.09125168e+00, -1.61458421e-01,\n",
       "         4.18945982e+00, -6.52945808e-02, -7.75262501e-01,\n",
       "        -7.21303372e-01,  1.10328841e+00],\n",
       "       [-4.07828929e-01, -3.77898015e-01, -3.54494267e-01,\n",
       "        -3.03726857e-01, -3.16815005e-01,  2.42187631e+00,\n",
       "        -1.57696104e-02, -6.52945808e-02,  9.58189607e-02,\n",
       "        -7.21303372e-01, -2.19946088e+00],\n",
       "       [-4.07828929e-01, -3.77898015e-01, -3.54494267e-01,\n",
       "        -3.03726857e-01, -3.16815005e-01, -1.61458421e-01,\n",
       "        -1.57696104e-02,  3.41708306e+00,  9.58189607e-02,\n",
       "         6.79285700e-01,  2.70381686e-01],\n",
       "       [-4.07828929e-01, -3.77898015e-01, -3.54494267e-01,\n",
       "        -3.03726857e-01, -3.16815005e-01, -1.61458421e-01,\n",
       "        -1.57696104e-02, -6.52945808e-02,  9.58189607e-02,\n",
       "         6.79285700e-01, -1.62363739e-01],\n",
       "       [-4.07828929e-01, -3.77898015e-01, -3.54494267e-01,\n",
       "        -3.03726857e-01, -3.16815005e-01, -1.61458421e-01,\n",
       "        -1.57696104e-02, -6.52945808e-02,  9.58189607e-02,\n",
       "         6.79285700e-01, -1.13040916e+00],\n",
       "       [-4.07828929e-01, -3.77898015e-01, -3.54494267e-01,\n",
       "        -3.03726857e-01, -3.16815005e-01, -1.61458421e-01,\n",
       "        -1.57696104e-02, -6.52945808e-02,  9.58189607e-02,\n",
       "        -7.21303372e-01, -4.07346446e-02],\n",
       "       [-4.07828929e-01, -3.77898015e-01, -3.54494267e-01,\n",
       "        -3.03726857e-01, -3.16815005e-01, -1.61458421e-01,\n",
       "        -1.57696104e-02, -6.52945808e-02,  9.58189607e-02,\n",
       "         6.79285700e-01,  1.09692406e+00],\n",
       "       [-4.07828929e-01, -3.77898015e-01, -3.54494267e-01,\n",
       "        -3.03726857e-01, -3.16815005e-01, -1.61458421e-01,\n",
       "        -1.57696104e-02, -6.52945808e-02, -7.75262501e-01,\n",
       "        -7.21303372e-01, -2.56646766e+00],\n",
       "       [-4.07828929e-01, -3.77898015e-01, -3.54494267e-01,\n",
       "        -3.03726857e-01, -3.16815005e-01, -1.61458421e-01,\n",
       "        -1.57696104e-02, -6.52945808e-02,  9.58189607e-02,\n",
       "         6.79285700e-01, -2.27170762e-01],\n",
       "       [-4.07828929e-01,  2.85080959e-01, -3.54494267e-01,\n",
       "        -3.03726857e-01, -3.16815005e-01, -8.07292105e-01,\n",
       "        -1.06707697e+00, -9.35888992e-01, -7.75262501e-01,\n",
       "        -7.21303372e-01,  1.62669169e+00],\n",
       "       [-4.07828929e-01, -3.77898015e-01, -3.54494267e-01,\n",
       "        -3.03726857e-01, -3.16815005e-01, -1.61458421e-01,\n",
       "        -1.06707697e+00, -9.35888992e-01, -7.75262501e-01,\n",
       "        -7.21303372e-01,  3.97219916e-01],\n",
       "       [ 8.00553083e-01, -3.77898015e-01, -3.54494267e-01,\n",
       "         1.27407500e+00, -3.16815005e-01, -1.61458421e-01,\n",
       "        -1.57696104e-02, -6.52945808e-02,  9.58189607e-02,\n",
       "        -7.21303372e-01,  3.63421397e-01],\n",
       "       [-4.07828929e-01, -3.77898015e-01, -3.54494267e-01,\n",
       "        -3.03726857e-01, -3.16815005e-01, -1.61458421e-01,\n",
       "        -1.57696104e-02, -6.52945808e-02,  9.58189607e-02,\n",
       "         6.79285700e-01,  3.36467584e-01],\n",
       "       [ 4.42569912e+00,  9.48059932e-01,  2.90522313e+00,\n",
       "         1.27407500e+00,  2.49931837e+00,  5.00521105e+00,\n",
       "        -1.57696104e-02, -6.52945808e-02,  9.58189607e-02,\n",
       "        -7.21303372e-01,  1.61059555e+00],\n",
       "       [-4.07828929e-01, -3.77898015e-01, -3.54494267e-01,\n",
       "        -3.03726857e-01, -3.16815005e-01, -1.61458421e-01,\n",
       "        -1.57696104e-02, -6.52945808e-02,  9.58189607e-02,\n",
       "         6.79285700e-01,  1.14920583e+00],\n",
       "       [ 8.00553083e-01, -3.77898015e-01, -3.54494267e-01,\n",
       "         2.85187686e+00,  2.49931837e+00, -8.07292105e-01,\n",
       "        -1.06707697e+00, -9.35888992e-01, -7.75262501e-01,\n",
       "        -7.21303372e-01,  1.38923850e+00],\n",
       "       [-4.07828929e-01, -3.77898015e-01, -3.54494267e-01,\n",
       "        -3.03726857e-01, -3.16815005e-01, -1.61458421e-01,\n",
       "        -1.57696104e-02, -6.52945808e-02,  9.58189607e-02,\n",
       "         6.79285700e-01,  6.87259990e-01],\n",
       "       [-4.07828929e-01, -3.77898015e-01, -3.54494267e-01,\n",
       "        -3.03726857e-01, -3.16815005e-01, -1.61458421e-01,\n",
       "         1.03553775e+00,  8.05299830e-01,  9.58189607e-02,\n",
       "        -7.21303372e-01,  3.40818171e-01],\n",
       "       [-4.07828929e-01, -3.77898015e-01, -3.54494267e-01,\n",
       "        -3.03726857e-01, -3.16815005e-01, -1.61458421e-01,\n",
       "        -1.57696104e-02, -6.52945808e-02,  9.58189607e-02,\n",
       "         6.79285700e-01, -1.53979384e-01],\n",
       "       [-4.07828929e-01, -3.77898015e-01, -3.54494267e-01,\n",
       "        -3.03726857e-01, -3.16815005e-01, -1.61458421e-01,\n",
       "        -1.57696104e-02, -6.52945808e-02,  9.58189607e-02,\n",
       "         6.79285700e-01,  2.71802256e-01],\n",
       "       [ 2.00893509e+00, -3.77898015e-01,  1.27536443e+00,\n",
       "        -3.03726857e-01, -3.16815005e-01, -1.61458421e-01,\n",
       "        -1.57696104e-02, -6.52945808e-02,  9.58189607e-02,\n",
       "        -7.21303372e-01,  1.96268117e-01],\n",
       "       [-4.07828929e-01, -3.77898015e-01, -3.54494267e-01,\n",
       "        -3.03726857e-01, -3.16815005e-01, -1.61458421e-01,\n",
       "        -1.57696104e-02, -6.52945808e-02,  9.58189607e-02,\n",
       "         6.79285700e-01,  6.90433927e-01],\n",
       "       [ 2.00893509e+00,  2.27401788e+00, -3.54494267e-01,\n",
       "        -3.03726857e-01, -3.16815005e-01,  1.13020895e+00,\n",
       "         4.18945982e+00, -6.52945808e-02, -7.75262501e-01,\n",
       "        -7.21303372e-01,  1.48496509e+00],\n",
       "       [-4.07828929e-01, -3.77898015e-01, -3.54494267e-01,\n",
       "        -3.03726857e-01, -3.16815005e-01, -1.61458421e-01,\n",
       "        -1.57696104e-02, -6.52945808e-02,  9.58189607e-02,\n",
       "         6.79285700e-01,  2.81603197e-01],\n",
       "       [-4.07828929e-01, -3.77898015e-01, -3.54494267e-01,\n",
       "        -3.03726857e-01, -3.16815005e-01, -1.61458421e-01,\n",
       "        -1.57696104e-02, -6.52945808e-02,  9.58189607e-02,\n",
       "         6.79285700e-01, -1.06213696e-01],\n",
       "       [-4.07828929e-01, -3.77898015e-01, -3.54494267e-01,\n",
       "        -3.03726857e-01, -3.16815005e-01, -1.61458421e-01,\n",
       "        -1.57696104e-02, -6.52945808e-02,  9.58189607e-02,\n",
       "         6.79285700e-01, -8.18390508e-02],\n",
       "       [-4.07828929e-01, -3.77898015e-01, -3.54494267e-01,\n",
       "        -3.03726857e-01, -3.16815005e-01, -8.07292105e-01,\n",
       "        -1.06707697e+00, -9.35888992e-01, -7.75262501e-01,\n",
       "        -7.21303372e-01, -4.27400564e-01],\n",
       "       [-4.07828929e-01, -3.77898015e-01, -3.54494267e-01,\n",
       "        -3.03726857e-01, -1.02084835e+00, -8.07292105e-01,\n",
       "        -1.06707697e+00, -9.35888992e-01, -7.75262501e-01,\n",
       "        -7.21303372e-01,  1.22677575e+00],\n",
       "       [-4.07828929e-01, -3.77898015e-01, -3.54494267e-01,\n",
       "        -3.03726857e-01,  3.87218339e-01, -1.61458421e-01,\n",
       "        -1.57696104e-02, -6.52945808e-02,  9.58189607e-02,\n",
       "         6.79285700e-01, -1.87772108e-01],\n",
       "       [-4.07828929e-01, -3.77898015e-01, -3.54494267e-01,\n",
       "        -3.03726857e-01, -3.16815005e-01, -8.07292105e-01,\n",
       "        -1.06707697e+00, -9.35888992e-01, -7.75262501e-01,\n",
       "        -7.21303372e-01, -2.46784995e+00],\n",
       "       [-4.07828929e-01, -3.77898015e-01, -3.54494267e-01,\n",
       "         4.42967871e+00, -3.16815005e-01, -1.61458421e-01,\n",
       "        -1.57696104e-02, -6.52945808e-02,  9.58189607e-02,\n",
       "         6.79285700e-01, -2.69008971e-01],\n",
       "       [-4.07828929e-01,  2.27401788e+00,  2.90522313e+00,\n",
       "         6.00748057e+00,  2.49931837e+00, -1.61458421e-01,\n",
       "        -1.57696104e-02,  1.67589424e+00,  9.58189607e-02,\n",
       "        -7.21303372e-01,  1.81734749e+00],\n",
       "       [-4.07828929e-01, -3.77898015e-01, -3.54494267e-01,\n",
       "        -3.03726857e-01, -3.16815005e-01, -1.61458421e-01,\n",
       "        -1.57696104e-02, -6.52945808e-02,  9.58189607e-02,\n",
       "         6.79285700e-01, -2.24683356e-01],\n",
       "       [-4.07828929e-01, -3.77898015e-01, -3.54494267e-01,\n",
       "        -3.03726857e-01, -3.16815005e-01, -1.61458421e-01,\n",
       "        -1.57696104e-02, -6.52945808e-02,  1.83798188e+00,\n",
       "         6.79285700e-01,  4.33599528e-01],\n",
       "       [-4.07828929e-01, -3.77898015e-01, -3.54494267e-01,\n",
       "        -3.03726857e-01, -3.16815005e-01, -1.61458421e-01,\n",
       "        -1.57696104e-02, -6.52945808e-02,  9.58189607e-02,\n",
       "         6.79285700e-01,  6.37759842e-01],\n",
       "       [-4.07828929e-01, -3.77898015e-01, -3.54494267e-01,\n",
       "        -3.03726857e-01, -3.16815005e-01, -8.07292105e-01,\n",
       "        -1.06707697e+00, -9.35888992e-01, -7.75262501e-01,\n",
       "        -7.21303372e-01, -1.33937011e-03],\n",
       "       [-4.07828929e-01, -3.77898015e-01, -3.54494267e-01,\n",
       "        -3.03726857e-01, -3.16815005e-01, -1.61458421e-01,\n",
       "        -1.57696104e-02, -6.52945808e-02,  9.58189607e-02,\n",
       "         6.79285700e-01, -5.50511421e-01],\n",
       "       [-4.07828929e-01, -3.77898015e-01, -3.54494267e-01,\n",
       "        -3.03726857e-01, -3.16815005e-01, -8.07292105e-01,\n",
       "        -1.06707697e+00, -9.35888992e-01, -7.75262501e-01,\n",
       "        -7.21303372e-01, -2.12192836e-01],\n",
       "       [-4.07828929e-01, -3.77898015e-01, -3.54494267e-01,\n",
       "        -3.03726857e-01, -3.16815005e-01, -1.61458421e-01,\n",
       "        -1.57696104e-02, -6.52945808e-02,  9.58189607e-02,\n",
       "         6.79285700e-01,  1.17421655e+00],\n",
       "       [-4.07828929e-01, -3.77898015e-01, -3.54494267e-01,\n",
       "        -3.03726857e-01, -3.16815005e-01, -1.61458421e-01,\n",
       "        -1.57696104e-02, -6.52945808e-02,  9.58189607e-02,\n",
       "         6.79285700e-01, -3.92814050e-02],\n",
       "       [ 8.00553083e-01, -3.77898015e-01, -3.54494267e-01,\n",
       "        -3.03726857e-01, -3.16815005e-01, -1.61458421e-01,\n",
       "        -1.57696104e-02, -6.52945808e-02, -7.75262501e-01,\n",
       "        -7.21303372e-01, -1.28197846e+00],\n",
       "       [-4.07828929e-01, -3.77898015e-01, -1.16942362e+00,\n",
       "        -1.09262779e+00, -1.02084835e+00, -8.07292105e-01,\n",
       "        -1.06707697e+00, -9.35888992e-01, -7.75262501e-01,\n",
       "        -7.21303372e-01, -9.58255325e-01],\n",
       "       [ 2.00893509e+00, -3.77898015e-01,  2.90522313e+00,\n",
       "        -3.03726857e-01, -3.16815005e-01,  2.42187631e+00,\n",
       "        -1.57696104e-02,  1.67589424e+00, -7.75262501e-01,\n",
       "        -7.21303372e-01, -1.33822979e+00],\n",
       "       [-4.07828929e-01, -3.77898015e-01, -3.54494267e-01,\n",
       "        -3.03726857e-01, -3.16815005e-01, -1.61458421e-01,\n",
       "        -1.57696104e-02, -6.52945808e-02,  9.58189607e-02,\n",
       "        -7.21303372e-01, -2.65070801e-01],\n",
       "       [-4.07828929e-01, -3.77898015e-01, -3.54494267e-01,\n",
       "        -3.03726857e-01, -3.16815005e-01, -1.61458421e-01,\n",
       "        -1.57696104e-02, -6.52945808e-02,  9.58189607e-02,\n",
       "         6.79285700e-01, -4.33454892e-01],\n",
       "       [ 4.42569912e+00,  4.92593377e+00,  1.27536443e+00,\n",
       "        -3.03726857e-01,  2.49931837e+00,  2.42187631e+00,\n",
       "         2.08684511e+00,  3.41708306e+00,  9.58189607e-02,\n",
       "        -7.21303372e-01,  1.36475444e+00],\n",
       "       [ 1.40474409e+00, -3.77898015e-01, -3.54494267e-01,\n",
       "        -3.03726857e-01, -3.16815005e-01, -1.61458421e-01,\n",
       "        -1.57696104e-02, -6.52945808e-02,  9.58189607e-02,\n",
       "        -7.21303372e-01,  1.57831231e+00]])"
      ]
     },
     "execution_count": 640,
     "metadata": {},
     "output_type": "execute_result"
    }
   ],
   "source": [
    "X_test"
   ]
  },
  {
   "cell_type": "code",
   "execution_count": 639,
   "metadata": {
    "collapsed": true
   },
   "outputs": [],
   "source": [
    "# dump object to pickles\n",
    "filename = 'BestModel'\n",
    "outfile = open(filename,'wb')\n",
    "\n",
    "pickle.dump(bestModel,outfile)\n",
    "outfile.close()"
   ]
  },
  {
   "cell_type": "markdown",
   "metadata": {
    "collapsed": true
   },
   "source": [
    "#Rule based classifier"
   ]
  },
  {
   "cell_type": "code",
   "execution_count": 332,
   "metadata": {},
   "outputs": [
    {
     "data": {
      "text/html": [
       "<div>\n",
       "<style>\n",
       "    .dataframe thead tr:only-child th {\n",
       "        text-align: right;\n",
       "    }\n",
       "\n",
       "    .dataframe thead th {\n",
       "        text-align: left;\n",
       "    }\n",
       "\n",
       "    .dataframe tbody tr th {\n",
       "        vertical-align: top;\n",
       "    }\n",
       "</style>\n",
       "<table border=\"1\" class=\"dataframe\">\n",
       "  <thead>\n",
       "    <tr style=\"text-align: right;\">\n",
       "      <th></th>\n",
       "      <th>hash</th>\n",
       "      <th>text</th>\n",
       "      <th>count</th>\n",
       "      <th>cosineSim</th>\n",
       "      <th>label</th>\n",
       "      <th>manual</th>\n",
       "    </tr>\n",
       "  </thead>\n",
       "  <tbody>\n",
       "    <tr>\n",
       "      <th>0</th>\n",
       "      <td>-4.240000e+18</td>\n",
       "      <td>VIRUS SPREADING LIKE WILDFIRE ON FB. ITS A TRO...</td>\n",
       "      <td>[0, 0, 0, 0, 0, 0, 0, 0, 0]</td>\n",
       "      <td>0.956189</td>\n",
       "      <td>0</td>\n",
       "      <td>1</td>\n",
       "    </tr>\n",
       "    <tr>\n",
       "      <th>1</th>\n",
       "      <td>7.570000e+18</td>\n",
       "      <td>They say true friends go long periods of time ...</td>\n",
       "      <td>[0, 0, 0, 0, 0, 0, 0, 0, 0]</td>\n",
       "      <td>0.924270</td>\n",
       "      <td>0</td>\n",
       "      <td>1</td>\n",
       "    </tr>\n",
       "    <tr>\n",
       "      <th>2</th>\n",
       "      <td>3.580000e+18</td>\n",
       "      <td>Going to church doesn't make you a holy person...</td>\n",
       "      <td>[0, 0, 0, 0, 0, 0, 0, 0, 0, 0]</td>\n",
       "      <td>0.936195</td>\n",
       "      <td>0</td>\n",
       "      <td>1</td>\n",
       "    </tr>\n",
       "    <tr>\n",
       "      <th>3</th>\n",
       "      <td>-1.990000e+18</td>\n",
       "      <td>From Lady Gaga's Bad Romance: /I want your psy...</td>\n",
       "      <td>[4, 0, 0]</td>\n",
       "      <td>0.932406</td>\n",
       "      <td>0</td>\n",
       "      <td>1</td>\n",
       "    </tr>\n",
       "    <tr>\n",
       "      <th>4</th>\n",
       "      <td>2.910000e+18</td>\n",
       "      <td>The first woman was created from the rib of a ...</td>\n",
       "      <td>[4, 1, 2, 0, 0, 0, 0, 0, 2]</td>\n",
       "      <td>0.976999</td>\n",
       "      <td>1</td>\n",
       "      <td>1</td>\n",
       "    </tr>\n",
       "  </tbody>\n",
       "</table>\n",
       "</div>"
      ],
      "text/plain": [
       "           hash                                               text  \\\n",
       "0 -4.240000e+18  VIRUS SPREADING LIKE WILDFIRE ON FB. ITS A TRO...   \n",
       "1  7.570000e+18  They say true friends go long periods of time ...   \n",
       "2  3.580000e+18  Going to church doesn't make you a holy person...   \n",
       "3 -1.990000e+18  From Lady Gaga's Bad Romance: /I want your psy...   \n",
       "4  2.910000e+18  The first woman was created from the rib of a ...   \n",
       "\n",
       "                            count  cosineSim  label  manual  \n",
       "0     [0, 0, 0, 0, 0, 0, 0, 0, 0]   0.956189      0       1  \n",
       "1     [0, 0, 0, 0, 0, 0, 0, 0, 0]   0.924270      0       1  \n",
       "2  [0, 0, 0, 0, 0, 0, 0, 0, 0, 0]   0.936195      0       1  \n",
       "3                       [4, 0, 0]   0.932406      0       1  \n",
       "4     [4, 1, 2, 0, 0, 0, 0, 0, 2]   0.976999      1       1  "
      ]
     },
     "execution_count": 332,
     "metadata": {},
     "output_type": "execute_result"
    }
   ],
   "source": [
    "rule = pd.read_csv('./LableResults/EvaluateSample3_fscore.csv')\n",
    "rule[0:5]"
   ]
  },
  {
   "cell_type": "code",
   "execution_count": 333,
   "metadata": {
    "collapsed": true
   },
   "outputs": [],
   "source": [
    "y_pred = rule['label']\n",
    "y = rule['manual']"
   ]
  },
  {
   "cell_type": "code",
   "execution_count": 339,
   "metadata": {},
   "outputs": [
    {
     "name": "stdout",
     "output_type": "stream",
     "text": [
      "F1: [0.98245614 0.89655172]\n",
      "confusion Matrix: [[168   6]\n",
      " [  0  26]]\n",
      "Recall: 1.0\n",
      "Precision: 0.8125\n"
     ]
    }
   ],
   "source": [
    "print('F1:', f1_score(y_pred, y, average= None))\n",
    "cm = confusion_matrix(y_pred, y)\n",
    "print('confusion Matrix:', cm)\n",
    "print ('Recall:', recall_score(y_pred, y))\n",
    "print ('Precision:', precision_score(y_pred, y))"
   ]
  },
  {
   "cell_type": "code",
   "execution_count": null,
   "metadata": {
    "collapsed": true
   },
   "outputs": [],
   "source": []
  }
 ],
 "metadata": {
  "kernelspec": {
   "display_name": "Python 3",
   "language": "python",
   "name": "python3"
  },
  "language_info": {
   "codemirror_mode": {
    "name": "ipython",
    "version": 3
   },
   "file_extension": ".py",
   "mimetype": "text/x-python",
   "name": "python",
   "nbconvert_exporter": "python",
   "pygments_lexer": "ipython3",
   "version": "3.6.1"
  }
 },
 "nbformat": 4,
 "nbformat_minor": 2
}
