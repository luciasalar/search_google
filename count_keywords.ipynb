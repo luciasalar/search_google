{
 "cells": [
  {
   "cell_type": "code",
   "execution_count": 1,
   "metadata": {
    "collapsed": true
   },
   "outputs": [],
   "source": [
    "import pandas as pd\n",
    "import re\n",
    "import numpy as np\n",
    "import csv\n",
    "import spacy"
   ]
  },
  {
   "cell_type": "code",
   "execution_count": 92,
   "metadata": {},
   "outputs": [
    {
     "data": {
      "text/html": [
       "<div>\n",
       "<style>\n",
       "    .dataframe thead tr:only-child th {\n",
       "        text-align: right;\n",
       "    }\n",
       "\n",
       "    .dataframe thead th {\n",
       "        text-align: left;\n",
       "    }\n",
       "\n",
       "    .dataframe tbody tr th {\n",
       "        vertical-align: top;\n",
       "    }\n",
       "</style>\n",
       "<table border=\"1\" class=\"dataframe\">\n",
       "  <thead>\n",
       "    <tr style=\"text-align: right;\">\n",
       "      <th></th>\n",
       "      <th>text</th>\n",
       "      <th>link</th>\n",
       "      <th>name</th>\n",
       "      <th>description</th>\n",
       "    </tr>\n",
       "  </thead>\n",
       "  <tbody>\n",
       "    <tr>\n",
       "      <th>0</th>\n",
       "      <td>Grr. Why can't people just tell you how they f...</td>\n",
       "      <td>https://en.wikiquote.org/wiki/George_R._R._Martin</td>\n",
       "      <td>George R. R. Martin - Wikiquotehttps://en.wiki...</td>\n",
       "      <td>I think that for science fiction, fantasy, and...</td>\n",
       "    </tr>\n",
       "    <tr>\n",
       "      <th>1</th>\n",
       "      <td>Grr. Why can't people just tell you how they f...</td>\n",
       "      <td>https://www.rollingstone.com/culture/culture-n...</td>\n",
       "      <td>'Game of Thrones' Author George R.R. Martin: T...</td>\n",
       "      <td>23 Apr 2014 - I don't think that he ever under...</td>\n",
       "    </tr>\n",
       "    <tr>\n",
       "      <th>2</th>\n",
       "      <td>Grr. Why can't people just tell you how they f...</td>\n",
       "      <td>NaN</td>\n",
       "      <td>The Teen Report - Apr 2001 - Page 34 - Google ...</td>\n",
       "      <td>Our source: Isabel Gonzalez, the trendspotting...</td>\n",
       "    </tr>\n",
       "  </tbody>\n",
       "</table>\n",
       "</div>"
      ],
      "text/plain": [
       "                                                text  \\\n",
       "0  Grr. Why can't people just tell you how they f...   \n",
       "1  Grr. Why can't people just tell you how they f...   \n",
       "2  Grr. Why can't people just tell you how they f...   \n",
       "\n",
       "                                                link  \\\n",
       "0  https://en.wikiquote.org/wiki/George_R._R._Martin   \n",
       "1  https://www.rollingstone.com/culture/culture-n...   \n",
       "2                                                NaN   \n",
       "\n",
       "                                                name  \\\n",
       "0  George R. R. Martin - Wikiquotehttps://en.wiki...   \n",
       "1  'Game of Thrones' Author George R.R. Martin: T...   \n",
       "2  The Teen Report - Apr 2001 - Page 34 - Google ...   \n",
       "\n",
       "                                         description  \n",
       "0  I think that for science fiction, fantasy, and...  \n",
       "1  23 Apr 2014 - I don't think that he ever under...  \n",
       "2  Our source: Isabel Gonzalez, the trendspotting...  "
      ]
     },
     "execution_count": 92,
     "metadata": {},
     "output_type": "execute_result"
    }
   ],
   "source": [
    "file = pd.read_csv('all.csv')\n",
    "file[0:3]"
   ]
  },
  {
   "cell_type": "code",
   "execution_count": 70,
   "metadata": {},
   "outputs": [
    {
     "name": "stdout",
     "output_type": "stream",
     "text": [
      "18315\n"
     ]
    }
   ],
   "source": [
    "print(len(file))"
   ]
  },
  {
   "cell_type": "markdown",
   "metadata": {},
   "source": [
    "preprocess data: the preprocess here is just lower case "
   ]
  },
  {
   "cell_type": "code",
   "execution_count": 71,
   "metadata": {},
   "outputs": [],
   "source": [
    "#tokenize\n",
    "def preprocess(sent):\n",
    "\n",
    "    words = str(sent).lower().split()\n",
    "    new_words = []\n",
    "    for w in words:\n",
    "        w = re.sub(r'[0-9]+', '', w)\n",
    "        new_words.append(w)\n",
    "        \n",
    "    return ' '.join(new_words)\n"
   ]
  },
  {
   "cell_type": "code",
   "execution_count": null,
   "metadata": {},
   "outputs": [],
   "source": []
  },
  {
   "cell_type": "markdown",
   "metadata": {},
   "source": [
    "1. Here we create a class to store each variable as an object \n",
    "2. Return the count of key words 'lyric, lyrics, quote, quotes, song, songs' in the name of the website, because the name of the website contains most of the information we need\n",
    "3. Count the keywords and store it as Score. Score is a vector that contain keyword counts in each search result"
   ]
  },
  {
   "cell_type": "code",
   "execution_count": 95,
   "metadata": {},
   "outputs": [],
   "source": [
    "class myQuote:\n",
    "    def __init__(self, text):\n",
    "        #read in CSV, process\n",
    "        self.quoteText = text\n",
    "        self.quoteID = hash(self.quoteText)\n",
    "        self.link = []\n",
    "        self.name = []\n",
    "        self.description = []\n",
    "        self.scores = []\n",
    "    \n",
    "    def __hash__(self):\n",
    "        return self.quoteID\n",
    "    \n",
    "    def __str__(self):\n",
    "        return \"Object text: \" + self.quoteText + '\\n' +\\\n",
    "        \"Links: \" + str(self.link) + '\\n' +\\\n",
    "        \"Names: \" + str(self.name) + '\\n' +\\\n",
    "        \"Description \" + str(self.description) + '\\n' +\\\n",
    "        \"Scores: \" + str(self.scores)\n",
    "\n",
    "\n",
    "\n",
    "objects = {}\n",
    "with open('all.csv', 'r') as csvfile:\n",
    "    reader = csv.DictReader(csvfile)\n",
    "    for row in reader:\n",
    "        #print(row['text'])\n",
    "        texthash = hash(row['text'])\n",
    "        if texthash not in objects:\n",
    "            objects[texthash] = myQuote(row['text'])\n",
    "        objects[texthash].link.append(row['link'])\n",
    "        objects[texthash].name.append(row['name'])\n",
    "        objects[texthash].description.append(row['description'])\n",
    "        line = preprocess(row['name'])\n",
    "        count = line.count(\"lyric\") + line.count(\"lyrics\") + line.count(\"quote\") + line.count(\"quotes\")\n",
    "        objects[texthash].scores.append(count)\n",
    "        #add extra fields in the class if I need to add more fields        \n",
    "#print(len(objects.keys()))\n",
    "#for item in objects.keys():\n",
    "#    if sum(objects[item].scores) > 0:\n",
    "#        print(objects[item])\n",
    "        \n",
    "def saveAsCSV(dictz,filename):\n",
    "    f = open(filename, 'w')\n",
    "    writer = csv.writer(f, delimiter = ',',quoting=csv.QUOTE_MINIMAL)  \n",
    "    writer.writerow([\"hash\"] + [\"text\"] + [\"count\"])\n",
    "    for item in objects.keys():\n",
    "        writer.writerow([objects[item].quoteID] + [objects[item].quoteText] + [objects[item].scores])\n",
    "    f.close()\n",
    "    \n",
    "saveAsCSV(objects, 'myprocessedquotes2.csv')\n",
    "    "
   ]
  },
  {
   "cell_type": "markdown",
   "metadata": {},
   "source": [
    "select and return those has at least search results contain at least one keyword and save it as csv"
   ]
  },
  {
   "cell_type": "code",
   "execution_count": 96,
   "metadata": {
    "collapsed": true
   },
   "outputs": [],
   "source": [
    "def SearchResult1(results, filename):\n",
    "    f = open(filename, 'w')\n",
    "    writer = csv.writer(f, delimiter = ',',quoting=csv.QUOTE_MINIMAL)  \n",
    "    writer.writerow([\"hash\"] + [\"text\"] + [\"count\"]+ [\"name\"])\n",
    "    for item in results:\n",
    "        count = 0\n",
    "        for score in objects[item].scores:\n",
    "            if score > 0:\n",
    "                count = count + 1\n",
    "        if count > 2:\n",
    "            writer.writerow([objects[item].quoteID] + [objects[item].quoteText] + [objects[item].scores] + [objects[item].description] )\n",
    "    f.close()\n",
    "\n",
    "results = objects.keys()\n",
    "SearchResult1(results, 'QuotesDetected.csv')"
   ]
  },
  {
   "cell_type": "code",
   "execution_count": null,
   "metadata": {
    "collapsed": true
   },
   "outputs": [],
   "source": []
  },
  {
   "cell_type": "code",
   "execution_count": 7,
   "metadata": {},
   "outputs": [],
   "source": [
    "\n"
   ]
  },
  {
   "cell_type": "code",
   "execution_count": 97,
   "metadata": {},
   "outputs": [
    {
     "data": {
      "text/plain": [
       "'well here are some of the darkest jokes found in the deep disturbing'"
      ]
     },
     "execution_count": 97,
     "metadata": {},
     "output_type": "execute_result"
    }
   ],
   "source": [
    "#remove punctionations\n",
    "def preprocess2(sent):\n",
    "    #remove punctustion\n",
    "    sent = re.sub(r'[^\\w\\s]','',sent)\n",
    "    words = sent.split()\n",
    "    new_words = []\n",
    "    for w in words:      \n",
    "        new_words.append(w.lower())\n",
    "        \n",
    "    return ' '.join(new_words)\n",
    "\n",
    "s = 'Well, here are some of the darkest jokes, found in the deep, disturbing...'\n",
    "preprocess2(s)"
   ]
  },
  {
   "cell_type": "markdown",
   "metadata": {},
   "source": [
    "1. select those entries has at least search results (link names) contain more than one keyword, return the score vectors of these entries (entry A). Unselected entries are labeled as NotQuote\n",
    "2. Among entry (A), compute cosine similarity between posts and content (description) of the search result, those with 90% above similarity are labeled as quote. Those less than 90% are labeled as suspect. "
   ]
  },
  {
   "cell_type": "code",
   "execution_count": 99,
   "metadata": {},
   "outputs": [],
   "source": [
    "# use cosine similarity to compare text with search result\n",
    "nlp = spacy.load('en')\n",
    "def SearchResult2(results, filename):\n",
    "    f = open(filename, 'w')\n",
    "    writer = csv.writer(f, delimiter = ',',quoting=csv.QUOTE_MINIMAL)  \n",
    "    writer.writerow([\"hash\"] + [\"text\"] + [\"count\"]+ [\"cosineSim\"] +['label'])\n",
    "    for item in results:\n",
    "        count = 0\n",
    "        for score in objects[item].scores:\n",
    "            if score > 0:\n",
    "                count = count + 1\n",
    "        if count > 2:\n",
    "            str1 = ''.join (objects[item].description)\n",
    "            doc2 = nlp(preprocess2(str1))\n",
    "            doc1 = nlp(preprocess2(objects[item].quoteText))\n",
    "            if doc1.similarity(doc2) > 0.92:\n",
    "                writer.writerow([objects[item].quoteID] + [objects[item].quoteText] + [objects[item].scores] + [doc1.similarity(doc2)]+['quote'])\n",
    "            else:\n",
    "                writer.writerow([objects[item].quoteID] + [objects[item].quoteText] + [objects[item].scores] + [doc1.similarity(doc2)]+['suspect'])\n",
    "        else:\n",
    "            writer.writerow([objects[item].quoteID] + [objects[item].quoteText] + ['null'] + ['null']+['NotQuote'])\n",
    "    f.close()\n",
    "        \n",
    "results = objects.keys()\n",
    "SearchResult2(results, 'QuotesDetected_all.csv')"
   ]
  },
  {
   "cell_type": "code",
   "execution_count": null,
   "metadata": {
    "collapsed": true
   },
   "outputs": [],
   "source": []
  },
  {
   "cell_type": "code",
   "execution_count": null,
   "metadata": {},
   "outputs": [],
   "source": []
  },
  {
   "cell_type": "code",
   "execution_count": null,
   "metadata": {
    "collapsed": true
   },
   "outputs": [],
   "source": []
  }
 ],
 "metadata": {
  "kernelspec": {
   "display_name": "Python 3",
   "language": "python",
   "name": "python3"
  },
  "language_info": {
   "codemirror_mode": {
    "name": "ipython",
    "version": 3
   },
   "file_extension": ".py",
   "mimetype": "text/x-python",
   "name": "python",
   "nbconvert_exporter": "python",
   "pygments_lexer": "ipython3",
   "version": "3.6.1"
  }
 },
 "nbformat": 4,
 "nbformat_minor": 2
}
