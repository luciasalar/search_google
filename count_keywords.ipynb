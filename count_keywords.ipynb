{
 "cells": [
  {
   "cell_type": "code",
   "execution_count": 1,
   "metadata": {
    "collapsed": true
   },
   "outputs": [],
   "source": [
    "import pandas as pd\n",
    "import re\n",
    "import numpy as np\n",
    "import csv\n",
    "import spacy"
   ]
  },
  {
   "cell_type": "code",
   "execution_count": 2,
   "metadata": {},
   "outputs": [
    {
     "data": {
      "text/html": [
       "<div>\n",
       "<style>\n",
       "    .dataframe thead tr:only-child th {\n",
       "        text-align: right;\n",
       "    }\n",
       "\n",
       "    .dataframe thead th {\n",
       "        text-align: left;\n",
       "    }\n",
       "\n",
       "    .dataframe tbody tr th {\n",
       "        vertical-align: top;\n",
       "    }\n",
       "</style>\n",
       "<table border=\"1\" class=\"dataframe\">\n",
       "  <thead>\n",
       "    <tr style=\"text-align: right;\">\n",
       "      <th></th>\n",
       "      <th>text</th>\n",
       "      <th>link</th>\n",
       "      <th>name</th>\n",
       "      <th>description</th>\n",
       "    </tr>\n",
       "  </thead>\n",
       "  <tbody>\n",
       "    <tr>\n",
       "      <th>0</th>\n",
       "      <td>is thinking that it is time for a Pimm's O'clo...</td>\n",
       "      <td>https://www.pinterest.co.uk/ickleali75/pimms-o...</td>\n",
       "      <td>The 16 best Pimms o'clock images on Pinterest ...</td>\n",
       "      <td>Hard cider gets a British makeover in this sum...</td>\n",
       "    </tr>\n",
       "    <tr>\n",
       "      <th>1</th>\n",
       "      <td>is thinking that it is time for a Pimm's O'clo...</td>\n",
       "      <td>https://www.pinterest.co.uk/mscookies/it-s-pim...</td>\n",
       "      <td>122 best It's Pimms O'Clock images on Pinteres...</td>\n",
       "      <td>Explore Katherine Horejší's board \"It's Pimms ...</td>\n",
       "    </tr>\n",
       "    <tr>\n",
       "      <th>2</th>\n",
       "      <td>is thinking that it is time for a Pimm's O'clo...</td>\n",
       "      <td>http://orangette.net/2010/07/thats-the-spirit/</td>\n",
       "      <td>That's the spirit | Orangetteorangette.net/201...</td>\n",
       "      <td>23 Jul 2010 - I get the sense that a lot of yo...</td>\n",
       "    </tr>\n",
       "  </tbody>\n",
       "</table>\n",
       "</div>"
      ],
      "text/plain": [
       "                                                text  \\\n",
       "0  is thinking that it is time for a Pimm's O'clo...   \n",
       "1  is thinking that it is time for a Pimm's O'clo...   \n",
       "2  is thinking that it is time for a Pimm's O'clo...   \n",
       "\n",
       "                                                link  \\\n",
       "0  https://www.pinterest.co.uk/ickleali75/pimms-o...   \n",
       "1  https://www.pinterest.co.uk/mscookies/it-s-pim...   \n",
       "2     http://orangette.net/2010/07/thats-the-spirit/   \n",
       "\n",
       "                                                name  \\\n",
       "0  The 16 best Pimms o'clock images on Pinterest ...   \n",
       "1  122 best It's Pimms O'Clock images on Pinteres...   \n",
       "2  That's the spirit | Orangetteorangette.net/201...   \n",
       "\n",
       "                                         description  \n",
       "0  Hard cider gets a British makeover in this sum...  \n",
       "1  Explore Katherine Horejší's board \"It's Pimms ...  \n",
       "2  23 Jul 2010 - I get the sense that a lot of yo...  "
      ]
     },
     "execution_count": 2,
     "metadata": {},
     "output_type": "execute_result"
    }
   ],
   "source": [
    "file = pd.read_csv('result_800.csv')\n",
    "file[0:3]"
   ]
  },
  {
   "cell_type": "code",
   "execution_count": 3,
   "metadata": {},
   "outputs": [
    {
     "data": {
      "text/html": [
       "<div>\n",
       "<style>\n",
       "    .dataframe thead tr:only-child th {\n",
       "        text-align: right;\n",
       "    }\n",
       "\n",
       "    .dataframe thead th {\n",
       "        text-align: left;\n",
       "    }\n",
       "\n",
       "    .dataframe tbody tr th {\n",
       "        vertical-align: top;\n",
       "    }\n",
       "</style>\n",
       "<table border=\"1\" class=\"dataframe\">\n",
       "  <thead>\n",
       "    <tr style=\"text-align: right;\">\n",
       "      <th></th>\n",
       "      <th>text</th>\n",
       "      <th>name</th>\n",
       "    </tr>\n",
       "  </thead>\n",
       "  <tbody>\n",
       "    <tr>\n",
       "      <th>0</th>\n",
       "      <td>is thinking that it is time for a Pimm's O'clo...</td>\n",
       "      <td>The 16 best Pimms o'clock images on Pinterest ...</td>\n",
       "    </tr>\n",
       "    <tr>\n",
       "      <th>1</th>\n",
       "      <td>is thinking that it is time for a Pimm's O'clo...</td>\n",
       "      <td>122 best It's Pimms O'Clock images on Pinteres...</td>\n",
       "    </tr>\n",
       "    <tr>\n",
       "      <th>2</th>\n",
       "      <td>is thinking that it is time for a Pimm's O'clo...</td>\n",
       "      <td>That's the spirit | Orangetteorangette.net/201...</td>\n",
       "    </tr>\n",
       "    <tr>\n",
       "      <th>3</th>\n",
       "      <td>is thinking that it is time for a Pimm's O'clo...</td>\n",
       "      <td>Pimm's O'Clock | MetaFilterwww.metafilter.com/...</td>\n",
       "    </tr>\n",
       "    <tr>\n",
       "      <th>4</th>\n",
       "      <td>is thinking that it is time for a Pimm's O'clo...</td>\n",
       "      <td>a pukka problem - The Account Planning Group C...</td>\n",
       "    </tr>\n",
       "  </tbody>\n",
       "</table>\n",
       "</div>"
      ],
      "text/plain": [
       "                                                text  \\\n",
       "0  is thinking that it is time for a Pimm's O'clo...   \n",
       "1  is thinking that it is time for a Pimm's O'clo...   \n",
       "2  is thinking that it is time for a Pimm's O'clo...   \n",
       "3  is thinking that it is time for a Pimm's O'clo...   \n",
       "4  is thinking that it is time for a Pimm's O'clo...   \n",
       "\n",
       "                                                name  \n",
       "0  The 16 best Pimms o'clock images on Pinterest ...  \n",
       "1  122 best It's Pimms O'Clock images on Pinteres...  \n",
       "2  That's the spirit | Orangetteorangette.net/201...  \n",
       "3  Pimm's O'Clock | MetaFilterwww.metafilter.com/...  \n",
       "4  a pukka problem - The Account Planning Group C...  "
      ]
     },
     "execution_count": 3,
     "metadata": {},
     "output_type": "execute_result"
    }
   ],
   "source": [
    "linkNames = file[['text','name']]\n",
    "linkNames[0:5]"
   ]
  },
  {
   "cell_type": "markdown",
   "metadata": {},
   "source": [
    "preprocess data: the preprocess here is just lower case "
   ]
  },
  {
   "cell_type": "code",
   "execution_count": 4,
   "metadata": {},
   "outputs": [
    {
     "data": {
      "text/plain": [
       "0    the  best pimms o'clock images on pinterest | ...\n",
       "1     best it's pimms o'clock images on pinterest |...\n",
       "2    that's the spirit | orangetteorangette.net///t...\n",
       "Name: name, dtype: object"
      ]
     },
     "execution_count": 4,
     "metadata": {},
     "output_type": "execute_result"
    }
   ],
   "source": [
    "#tokenize\n",
    "def preprocess(sent):\n",
    "\n",
    "    words = str(sent).lower().split()\n",
    "    new_words = []\n",
    "    for w in words:\n",
    "        w = re.sub(r'[0-9]+', '', w)\n",
    "        new_words.append(w)\n",
    "        \n",
    "    return ' '.join(new_words)\n",
    "\n",
    "#groupby object, preporcess then count \n",
    "pro_text = linkNames['name'].apply(preprocess)\n",
    "pro_text[0:3]"
   ]
  },
  {
   "cell_type": "code",
   "execution_count": 19,
   "metadata": {},
   "outputs": [
    {
     "name": "stdout",
     "output_type": "stream",
     "text": [
      "880\n",
      "<class 'pandas.core.series.Series'>\n"
     ]
    }
   ],
   "source": [
    "#number of search results\n",
    "print(len(pro_text))\n",
    "print(type(pro_text))"
   ]
  },
  {
   "cell_type": "markdown",
   "metadata": {},
   "source": [
    "1. Here we create a class to store each variable as an object \n",
    "2. Return the count of key words 'lyric, lyrics, quote, quotes, song, songs' in the name of the website, because the name of the website contains most of the information we need\n",
    "3. Count the keywords and store it as Score. Score is a vector that contain keyword counts in each search result"
   ]
  },
  {
   "cell_type": "code",
   "execution_count": 5,
   "metadata": {
    "collapsed": true
   },
   "outputs": [],
   "source": [
    "class myQuote:\n",
    "    def __init__(self, text):\n",
    "        #read in CSV, process\n",
    "        self.quoteText = text\n",
    "        self.quoteID = hash(self.quoteText)\n",
    "        self.link = []\n",
    "        self.name = []\n",
    "        self.description = []\n",
    "        self.scores = []\n",
    "    \n",
    "    def __hash__(self):\n",
    "        return self.quoteID\n",
    "    \n",
    "    def __str__(self):\n",
    "        return \"Object text: \" + self.quoteText + '\\n' +\\\n",
    "        \"Links: \" + str(self.link) + '\\n' +\\\n",
    "        \"Names: \" + str(self.name) + '\\n' +\\\n",
    "        \"Description \" + str(self.description) + '\\n' +\\\n",
    "        \"Scores: \" + str(self.scores)\n",
    "\n",
    "\n",
    "\n",
    "objects = {}\n",
    "with open('result_800.csv', 'r') as csvfile:\n",
    "    reader = csv.DictReader(csvfile)\n",
    "    for row in reader:\n",
    "        texthash = hash(row['text'])\n",
    "        if texthash not in objects:\n",
    "            objects[texthash] = myQuote(row['text'])\n",
    "        objects[texthash].link.append(row['link'])\n",
    "        objects[texthash].name.append(row['name'])\n",
    "        objects[texthash].description.append(row['description'])\n",
    "        line = preprocess(row['name'])\n",
    "        count = line.count(\"lyric\") + line.count(\"lyrics\") + line.count(\"quote\") + line.count(\"quotes\")\n",
    "        objects[texthash].scores.append(count)\n",
    "        #add extra fields in the class if I need to add more fields        \n",
    "#print(len(objects.keys()))\n",
    "#for item in objects.keys():\n",
    "#    if sum(objects[item].scores) > 0:\n",
    "#        print(objects[item])\n",
    "        \n",
    "def saveAsCSV(dictz,filename):\n",
    "    f = open(filename, 'w')\n",
    "    writer = csv.writer(f, delimiter = ',',quoting=csv.QUOTE_MINIMAL)  \n",
    "    writer.writerow([\"hash\"] + [\"text\"] + [\"count\"])\n",
    "    for item in objects.keys():\n",
    "        writer.writerow([objects[item].quoteID] + [objects[item].quoteText] + [objects[item].scores])\n",
    "    f.close()\n",
    "    \n",
    "saveAsCSV(objects, 'myprocessedquotes.csv')\n",
    "    "
   ]
  },
  {
   "cell_type": "markdown",
   "metadata": {},
   "source": [
    "select and return those has at least search results contain at least one keyword and save it as csv"
   ]
  },
  {
   "cell_type": "code",
   "execution_count": 9,
   "metadata": {
    "collapsed": true
   },
   "outputs": [],
   "source": [
    "def SearchResult1(results, filename):\n",
    "    f = open(filename, 'w')\n",
    "    writer = csv.writer(f, delimiter = ',',quoting=csv.QUOTE_MINIMAL)  \n",
    "    writer.writerow([\"hash\"] + [\"text\"] + [\"count\"]+ [\"name\"])\n",
    "    for item in results:\n",
    "        count = 0\n",
    "        for score in objects[item].scores:\n",
    "            if score > 0:\n",
    "                count = count + 1\n",
    "        if count > 2:\n",
    "            writer.writerow([objects[item].quoteID] + [objects[item].quoteText] + [objects[item].scores] + [objects[item].description] )\n",
    "    f.close()\n",
    "\n",
    "results = objects.keys()\n",
    "SearchResult1(results, 'QuotesDetected.csv')"
   ]
  },
  {
   "cell_type": "code",
   "execution_count": null,
   "metadata": {
    "collapsed": true
   },
   "outputs": [],
   "source": []
  },
  {
   "cell_type": "code",
   "execution_count": 7,
   "metadata": {},
   "outputs": [],
   "source": [
    "\n"
   ]
  },
  {
   "cell_type": "code",
   "execution_count": 37,
   "metadata": {},
   "outputs": [
    {
     "data": {
      "text/plain": [
       "'well here are some of the darkest jokes found in the deep disturbing'"
      ]
     },
     "execution_count": 37,
     "metadata": {},
     "output_type": "execute_result"
    }
   ],
   "source": [
    "#remove punctionations\n",
    "def preprocess2(sent):\n",
    "    #remove punctustion\n",
    "    sent = re.sub(r'[^\\w\\s]','',sent)\n",
    "    words = sent.split()\n",
    "    new_words = []\n",
    "    for w in words:      \n",
    "        new_words.append(w.lower())\n",
    "        \n",
    "    return ' '.join(new_words)\n",
    "\n",
    "s = 'Well, here are some of the darkest jokes, found in the deep, disturbing...'\n",
    "preprocess2(s)"
   ]
  },
  {
   "cell_type": "markdown",
   "metadata": {},
   "source": [
    "1. select those entries has at least search results (link names) contain more than one keyword, return the score vectors of these entries (entry A). Unselected entries are labeled as NotQuote\n",
    "2. Among entry (A), compute cosine similarity between posts and content (description) of the search result, those with 90% above similarity are labeled as quote. Those less than 90% are labeled as suspect. "
   ]
  },
  {
   "cell_type": "code",
   "execution_count": 63,
   "metadata": {},
   "outputs": [],
   "source": [
    "# use cosine similarity to compare text with search result\n",
    "nlp = spacy.load('en')\n",
    "def SearchResult2(results, filename):\n",
    "    f = open(filename, 'w')\n",
    "    writer = csv.writer(f, delimiter = ',',quoting=csv.QUOTE_MINIMAL)  \n",
    "    writer.writerow([\"hash\"] + [\"text\"] + [\"count\"]+ [\"cosineSim\"] +['label'])\n",
    "    for item in results:\n",
    "        count = 0\n",
    "        for score in objects[item].scores:\n",
    "            if score > 0:\n",
    "                count = count + 1\n",
    "        if count > 2:\n",
    "            str1 = ''.join (objects[item].description)\n",
    "            doc2 = nlp(preprocess2(str1))\n",
    "            doc1 = nlp(preprocess2(objects[item].quoteText))\n",
    "            if doc1.similarity(doc2) > 0.90:\n",
    "                writer.writerow([objects[item].quoteID] + [objects[item].quoteText] + [objects[item].scores] + [doc1.similarity(doc2)]+['quote'])\n",
    "            else:\n",
    "                writer.writerow([objects[item].quoteID] + [objects[item].quoteText] + [objects[item].scores] + [doc1.similarity(doc2)]+['suspect'])\n",
    "        else:\n",
    "            writer.writerow([objects[item].quoteID] + [objects[item].quoteText] + ['null'] + ['null']+['NotQuote'])\n",
    "    f.close()\n",
    "        \n",
    "results = objects.keys()\n",
    "SearchResult2(results, 'QuotesDetected3.csv')"
   ]
  },
  {
   "cell_type": "code",
   "execution_count": null,
   "metadata": {
    "collapsed": true
   },
   "outputs": [],
   "source": []
  },
  {
   "cell_type": "code",
   "execution_count": null,
   "metadata": {},
   "outputs": [],
   "source": []
  },
  {
   "cell_type": "code",
   "execution_count": null,
   "metadata": {
    "collapsed": true
   },
   "outputs": [],
   "source": []
  }
 ],
 "metadata": {
  "kernelspec": {
   "display_name": "Python 3",
   "language": "python",
   "name": "python3"
  },
  "language_info": {
   "codemirror_mode": {
    "name": "ipython",
    "version": 3
   },
   "file_extension": ".py",
   "mimetype": "text/x-python",
   "name": "python",
   "nbconvert_exporter": "python",
   "pygments_lexer": "ipython3",
   "version": "3.6.1"
  }
 },
 "nbformat": 4,
 "nbformat_minor": 2
}
