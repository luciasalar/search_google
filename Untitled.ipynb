{
 "cells": [
  {
   "cell_type": "code",
   "execution_count": null,
   "metadata": {
    "collapsed": true
   },
   "outputs": [],
   "source": []
  },
  {
   "cell_type": "code",
   "execution_count": 98,
   "metadata": {
    "collapsed": true
   },
   "outputs": [],
   "source": [
    "from google import google\n",
    "import pandas as pd\n",
    "from time import sleep\n",
    "import csv\n",
    "import pickle\n"
   ]
  },
  {
   "cell_type": "code",
   "execution_count": 129,
   "metadata": {},
   "outputs": [],
   "source": [
    "class mySearchRes:\n",
    "    def __init__(self,text):\n",
    "        self.quoteText = text\n",
    "        self.quoteID = hash(self.quoteText)\n",
    "        self.link = []\n",
    "        self.name = []\n",
    "        self.description = []\n",
    "        \n",
    "    def __hash__(self):\n",
    "        return self.quoteID\n",
    "\n",
    "\n",
    "def search_google(file):\n",
    "    objects = {}\n",
    "    for row in file:\n",
    "        texthash = hash(row)\n",
    "        search_results = google.search(row, 1)\n",
    "        if texthash not in objects:\n",
    "            #print(row)\n",
    "            objects[texthash] = mySearchRes(row)       \n",
    "            #search_results = [[text, i.link, i.name,i.description] for i in google.search(text, num_page)]\n",
    "            for i in search_results:\n",
    "                objects[texthash].name.append(i.name)\n",
    "                objects[texthash].link.append(i.description)\n",
    "\n",
    "    return objects\n",
    "#         objects.name.append(search_results.name)\n",
    "#         objects.description.append(search_results.description)\n",
    "\n",
    "ob = search_google(posts['text'][1:3])"
   ]
  },
  {
   "cell_type": "code",
   "execution_count": 132,
   "metadata": {},
   "outputs": [
    {
     "name": "stdout",
     "output_type": "stream",
     "text": [
      "['https://www.goodreads.com/author/quotes/91281.Matthew_Henry', 'https://www.goodreads.com/quotes/192111-women-were-created-from-the-rib-of-man-to-be', 'https://en.wikiquote.org/wiki/Matthew_Henry', 'https://www.biblegateway.com/resources/matthew-henry/Gen.2.21-Gen.2.25', 'https://biblehub.com/genesis/2-22.htm', 'https://biblehub.com/commentaries/genesis/2-22.htm', 'https://sharperiron.org/famous-observation-regarding-creation-of-eve', 'https://journalynne.wordpress.com/2006/10/11/why-god-created-woman-from-mans-rib/', 'https://reformedspirit.blogspot.com/2016/12/women-were-created-from-rib-of-man-to.html']\n",
      "['https://genius.com/Lady-gaga-so-happy-i-could-die-lyrics', 'https://songmeanings.com/songs/view/3530822107858805480/', 'https://www.lyricsfreak.com/l/lady+gaga/so+happy+i+could+die_20454530.html', 'https://www.azlyrics.com/lyrics/ladygaga/sohappyicoulddie.html', 'http://www.metrolyrics.com/so-happy-i-could-die-lyrics-lady-gaga.html', 'https://www.lyrics.com/lyric/18483720/Lady+Gaga/So+Happy+I+Could+Die', 'http://www.deezer.com/track/17608372', 'https://www.letras.mus.br/lady-gaga/1584650/', 'https://www.lyricsmode.com/lyrics/l/lady_gaga/so_happy_i_could_die.html']\n"
     ]
    }
   ],
   "source": [
    "for item in ob:\n",
    "    print(ob[item].link)\n",
    "\n",
    "\n"
   ]
  },
  {
   "cell_type": "code",
   "execution_count": null,
   "metadata": {
    "collapsed": true
   },
   "outputs": [],
   "source": []
  },
  {
   "cell_type": "code",
   "execution_count": 76,
   "metadata": {},
   "outputs": [
    {
     "data": {
      "text/plain": [
       "1    The first woman was created from the rib of a ...\n",
       "2    I am as vain as i allow. I do my hair, i gloss...\n",
       "Name: text, dtype: object"
      ]
     },
     "execution_count": 76,
     "metadata": {},
     "output_type": "execute_result"
    }
   ],
   "source": [
    "posts = pd.read_csv('./data/sample_5000.csv')\n",
    "posts['text'][1:3]"
   ]
  },
  {
   "cell_type": "code",
   "execution_count": null,
   "metadata": {
    "collapsed": true
   },
   "outputs": [],
   "source": []
  },
  {
   "cell_type": "code",
   "execution_count": 64,
   "metadata": {},
   "outputs": [
    {
     "ename": "AttributeError",
     "evalue": "'list' object has no attribute 'text'",
     "output_type": "error",
     "traceback": [
      "\u001b[0;31m---------------------------------------------------------------------------\u001b[0m",
      "\u001b[0;31mAttributeError\u001b[0m                            Traceback (most recent call last)",
      "\u001b[0;32m<ipython-input-64-1f6fefd741c5>\u001b[0m in \u001b[0;36m<module>\u001b[0;34m()\u001b[0m\n\u001b[0;32m----> 1\u001b[0;31m \u001b[0msearch_google\u001b[0m\u001b[0;34m(\u001b[0m\u001b[0mposts\u001b[0m\u001b[0;34m[\u001b[0m\u001b[0;34m'text'\u001b[0m\u001b[0;34m]\u001b[0m\u001b[0;34m[\u001b[0m\u001b[0;36m6\u001b[0m\u001b[0;34m:\u001b[0m\u001b[0;36m8\u001b[0m\u001b[0;34m]\u001b[0m\u001b[0;34m)\u001b[0m\u001b[0;34m\u001b[0m\u001b[0m\n\u001b[0m",
      "\u001b[0;32m<ipython-input-63-4f81f2bbb38e>\u001b[0m in \u001b[0;36msearch_google\u001b[0;34m(file)\u001b[0m\n\u001b[1;32m     11\u001b[0m     \u001b[0;32mfor\u001b[0m \u001b[0mrow\u001b[0m \u001b[0;32min\u001b[0m \u001b[0mfile\u001b[0m\u001b[0;34m:\u001b[0m\u001b[0;34m\u001b[0m\u001b[0m\n\u001b[1;32m     12\u001b[0m \u001b[0;34m\u001b[0m\u001b[0m\n\u001b[0;32m---> 13\u001b[0;31m         \u001b[0mobjects\u001b[0m\u001b[0;34m.\u001b[0m\u001b[0mtext\u001b[0m\u001b[0;34m.\u001b[0m\u001b[0mappend\u001b[0m\u001b[0;34m(\u001b[0m\u001b[0mrow\u001b[0m\u001b[0;34m)\u001b[0m\u001b[0;34m\u001b[0m\u001b[0m\n\u001b[0m\u001b[1;32m     14\u001b[0m         \u001b[0msearch_results\u001b[0m \u001b[0;34m=\u001b[0m \u001b[0mgoogle\u001b[0m\u001b[0;34m.\u001b[0m\u001b[0msearch\u001b[0m\u001b[0;34m(\u001b[0m\u001b[0mrow\u001b[0m\u001b[0;34m,\u001b[0m \u001b[0;36m1\u001b[0m\u001b[0;34m)\u001b[0m\u001b[0;34m\u001b[0m\u001b[0m\n\u001b[1;32m     15\u001b[0m         \u001b[0;31m#search_results = [[text, i.link, i.name,i.description] for i in google.search(text, num_page)]\u001b[0m\u001b[0;34m\u001b[0m\u001b[0;34m\u001b[0m\u001b[0m\n",
      "\u001b[0;31mAttributeError\u001b[0m: 'list' object has no attribute 'text'"
     ]
    }
   ],
   "source": []
  },
  {
   "cell_type": "code",
   "execution_count": null,
   "metadata": {
    "collapsed": true
   },
   "outputs": [],
   "source": []
  },
  {
   "cell_type": "code",
   "execution_count": null,
   "metadata": {
    "collapsed": true
   },
   "outputs": [],
   "source": []
  }
 ],
 "metadata": {
  "kernelspec": {
   "display_name": "Python 3",
   "language": "python",
   "name": "python3"
  },
  "language_info": {
   "codemirror_mode": {
    "name": "ipython",
    "version": 3
   },
   "file_extension": ".py",
   "mimetype": "text/x-python",
   "name": "python",
   "nbconvert_exporter": "python",
   "pygments_lexer": "ipython3",
   "version": "3.6.1"
  }
 },
 "nbformat": 4,
 "nbformat_minor": 2
}
