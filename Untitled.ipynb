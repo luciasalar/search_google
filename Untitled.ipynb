{
 "cells": [
  {
   "cell_type": "code",
   "execution_count": null,
   "metadata": {
    "collapsed": true
   },
   "outputs": [],
   "source": []
  },
  {
   "cell_type": "code",
   "execution_count": 23,
   "metadata": {},
   "outputs": [],
   "source": [
    "from google import google\n",
    "import pandas as pd\n",
    "from time import sleep\n",
    "import csv\n",
    "import pickle\n",
    "import re\n",
    "import spacy\n"
   ]
  },
  {
   "cell_type": "code",
   "execution_count": 4,
   "metadata": {},
   "outputs": [
    {
     "data": {
      "text/plain": [
       "1    *****ATTENTION*****GET YOUR CAR WASHED TODAY B...\n",
       "2    The first woman was created from the rib of a ...\n",
       "Name: text, dtype: object"
      ]
     },
     "execution_count": 4,
     "metadata": {},
     "output_type": "execute_result"
    }
   ],
   "source": [
    "posts = pd.read_csv('sample_5000.csv')\n",
    "posts['text'][1:3]"
   ]
  },
  {
   "cell_type": "code",
   "execution_count": 25,
   "metadata": {},
   "outputs": [],
   "source": [
    "# load spacy object\n",
    "nlp = spacy.load('en')"
   ]
  },
  {
   "cell_type": "code",
   "execution_count": 11,
   "metadata": {
    "collapsed": true
   },
   "outputs": [],
   "source": [
    "#tokenize\n",
    "#remove punctionations\n",
    "def preprocess(sent):\n",
    "    #remove punctustion\n",
    "    sent = re.sub(r'[^\\w\\s]','',sent)\n",
    "    words = sent.split()\n",
    "    new_words = []\n",
    "    for w in words:      \n",
    "        new_words.append(w.lower())\n",
    "        \n",
    "    return ' '.join(new_words)"
   ]
  },
  {
   "cell_type": "code",
   "execution_count": 28,
   "metadata": {},
   "outputs": [],
   "source": [
    "class mySearchRes:\n",
    "    def __init__(self,text):\n",
    "        self.quoteText = text\n",
    "        self.quoteID = hash(self.quoteText)\n",
    "        self.link = []\n",
    "        self.name = []\n",
    "        self.description = []\n",
    "        self.scores = []\n",
    "        self.cos = []\n",
    "  \n",
    "        \n",
    "    def __hash__(self):\n",
    "        return self.quoteID\n",
    "\n",
    "\n",
    "def search_google(file):\n",
    "    objects = {}\n",
    "    for row in file:\n",
    "        texthash = hash(row)\n",
    "        search_results = google.search(row, 1)\n",
    "        if texthash not in objects:\n",
    "            #print(row)\n",
    "            objects[texthash] = mySearchRes(row)       \n",
    "            #search_results = [[text, i.link, i.name,i.description] for i in google.search(text, num_page)]\n",
    "            for i in search_results:\n",
    "                objects[texthash].name.append(i.name)\n",
    "                objects[texthash].description.append(i.description)\n",
    "                line = preprocess(i.name)\n",
    "                count = line.count(\"lyric\") + line.count(\"lyrics\") + line.count(\"quote\") + line.count(\"quotes\")\n",
    "                objects[texthash].scores.append(count)\n",
    "                str1 = ''.join (i.description)\n",
    "                doc2 = nlp(preprocess(str1))\n",
    "                doc1 = nlp(preprocess(objects[texthash].quoteText))\n",
    "                objects[texthash].cos.append(doc1.similarity(doc2))\n",
    "\n",
    "    return objects\n",
    "#         objects.name.append(search_results.name)\n",
    "#         objects.description.append(search_results.description)\n",
    "\n",
    "ob = search_google(posts['text'][1:3])"
   ]
  },
  {
   "cell_type": "code",
   "execution_count": 34,
   "metadata": {},
   "outputs": [],
   "source": [
    "def align_scores(objects):\n",
    "    for item in objects:\n",
    "        count = 0\n",
    "        for i in range(len(objects[item].scores)): # add 1 to all the scores \n",
    "            objects[item].scores[i] = objects[item].scores[i] +1           \n",
    "            if objects[item].scores[i] is not None:\n",
    "                count = count + 1 \n",
    "               # score = score + 1 won't work because score is a shallow copy\n",
    "        #print(objects[item].scores)\n",
    "        while count < 10:\n",
    "            objects[item].scores.append(0) #empty result is replaced by 0\n",
    "            count = count + 1\n",
    "\n",
    "align_scores(ob)"
   ]
  },
  {
   "cell_type": "code",
   "execution_count": 38,
   "metadata": {
    "collapsed": true
   },
   "outputs": [],
   "source": [
    "def align_cosSim(objects):\n",
    "    for item in objects:\n",
    "        count = 0\n",
    "        for i in range(len(objects[item].cos)):           \n",
    "            if objects[item].cos is not None:\n",
    "                count = count + 1 \n",
    "               # score = score + 1 won't work because score is a shallow copy\n",
    "        #print(objects[item].scores)\n",
    "        while count < 10:\n",
    "            objects[item].cos.append(0) #empty result is replaced by 0\n",
    "            count = count + 1\n",
    "align_cosSim(ob)"
   ]
  },
  {
   "cell_type": "code",
   "execution_count": 40,
   "metadata": {},
   "outputs": [
    {
     "name": "stdout",
     "output_type": "stream",
     "text": [
      "*****ATTENTION*****GET YOUR CAR WASHED TODAY BY THE LADIES OF FASHION PENTHOUSE AT THE OFFICIAL PRE-SUMMER CAR WASH! (~AUTO SPA ON 511 BAY STREET, S.I, NY~) !!   .....JOIN FASHION PENTHOUSE AT OUR LAUNCH BANQUET AT THE CROWN PALACE NEXT SATURDAY (~201 NEW DORP LN, S.I, NY~)! CONTACT ME FOR MORE DETAILS OR EMAIL FASHION PENTHOUSE PRODUCTIONS  AT SUPPORTFPP@GMAIL.COM ! [1, 1, 1, 1, 1, 1, 1, 1, 0, 0] [0.87161482623353537, 0.82422008850275441, 0.86497829606664522, 0.85006602254265706, 0.85142791333806533, 0.87664825269308244, 0.89782321844953672, 0.87395009243123944, 0, 0]\n",
      "The first woman was created from the rib of a man. She was not made from his head to top him, nor from his feet to be trampled on by him, but out of his side to be equal to him, under the arm to be protected & next to the heart to be loved [5, 2, 3, 1, 1, 1, 1, 1, 1, 0] [0.94365836824091076, 0.92229434679602929, 0.96934862211120665, 0.94500446131395166, 0.95341553957867109, 0.88719965704612769, 0.93281200878590842, 0.81073563992247089, 0.95077097367752972, 0]\n"
     ]
    }
   ],
   "source": [
    "for item in ob:\n",
    "    print(ob[item].quoteText,ob[item].scores, ob[item].cos)\n",
    "\n",
    "\n"
   ]
  },
  {
   "cell_type": "code",
   "execution_count": null,
   "metadata": {
    "collapsed": true
   },
   "outputs": [],
   "source": []
  },
  {
   "cell_type": "code",
   "execution_count": 76,
   "metadata": {},
   "outputs": [
    {
     "data": {
      "text/plain": [
       "1    The first woman was created from the rib of a ...\n",
       "2    I am as vain as i allow. I do my hair, i gloss...\n",
       "Name: text, dtype: object"
      ]
     },
     "execution_count": 76,
     "metadata": {},
     "output_type": "execute_result"
    }
   ],
   "source": []
  },
  {
   "cell_type": "code",
   "execution_count": null,
   "metadata": {
    "collapsed": true
   },
   "outputs": [],
   "source": []
  },
  {
   "cell_type": "code",
   "execution_count": 64,
   "metadata": {},
   "outputs": [
    {
     "ename": "AttributeError",
     "evalue": "'list' object has no attribute 'text'",
     "output_type": "error",
     "traceback": [
      "\u001b[0;31m---------------------------------------------------------------------------\u001b[0m",
      "\u001b[0;31mAttributeError\u001b[0m                            Traceback (most recent call last)",
      "\u001b[0;32m<ipython-input-64-1f6fefd741c5>\u001b[0m in \u001b[0;36m<module>\u001b[0;34m()\u001b[0m\n\u001b[0;32m----> 1\u001b[0;31m \u001b[0msearch_google\u001b[0m\u001b[0;34m(\u001b[0m\u001b[0mposts\u001b[0m\u001b[0;34m[\u001b[0m\u001b[0;34m'text'\u001b[0m\u001b[0;34m]\u001b[0m\u001b[0;34m[\u001b[0m\u001b[0;36m6\u001b[0m\u001b[0;34m:\u001b[0m\u001b[0;36m8\u001b[0m\u001b[0;34m]\u001b[0m\u001b[0;34m)\u001b[0m\u001b[0;34m\u001b[0m\u001b[0m\n\u001b[0m",
      "\u001b[0;32m<ipython-input-63-4f81f2bbb38e>\u001b[0m in \u001b[0;36msearch_google\u001b[0;34m(file)\u001b[0m\n\u001b[1;32m     11\u001b[0m     \u001b[0;32mfor\u001b[0m \u001b[0mrow\u001b[0m \u001b[0;32min\u001b[0m \u001b[0mfile\u001b[0m\u001b[0;34m:\u001b[0m\u001b[0;34m\u001b[0m\u001b[0m\n\u001b[1;32m     12\u001b[0m \u001b[0;34m\u001b[0m\u001b[0m\n\u001b[0;32m---> 13\u001b[0;31m         \u001b[0mobjects\u001b[0m\u001b[0;34m.\u001b[0m\u001b[0mtext\u001b[0m\u001b[0;34m.\u001b[0m\u001b[0mappend\u001b[0m\u001b[0;34m(\u001b[0m\u001b[0mrow\u001b[0m\u001b[0;34m)\u001b[0m\u001b[0;34m\u001b[0m\u001b[0m\n\u001b[0m\u001b[1;32m     14\u001b[0m         \u001b[0msearch_results\u001b[0m \u001b[0;34m=\u001b[0m \u001b[0mgoogle\u001b[0m\u001b[0;34m.\u001b[0m\u001b[0msearch\u001b[0m\u001b[0;34m(\u001b[0m\u001b[0mrow\u001b[0m\u001b[0;34m,\u001b[0m \u001b[0;36m1\u001b[0m\u001b[0;34m)\u001b[0m\u001b[0;34m\u001b[0m\u001b[0m\n\u001b[1;32m     15\u001b[0m         \u001b[0;31m#search_results = [[text, i.link, i.name,i.description] for i in google.search(text, num_page)]\u001b[0m\u001b[0;34m\u001b[0m\u001b[0;34m\u001b[0m\u001b[0m\n",
      "\u001b[0;31mAttributeError\u001b[0m: 'list' object has no attribute 'text'"
     ]
    }
   ],
   "source": []
  },
  {
   "cell_type": "code",
   "execution_count": null,
   "metadata": {
    "collapsed": true
   },
   "outputs": [],
   "source": []
  },
  {
   "cell_type": "code",
   "execution_count": null,
   "metadata": {
    "collapsed": true
   },
   "outputs": [],
   "source": []
  }
 ],
 "metadata": {
  "kernelspec": {
   "display_name": "Python 3",
   "language": "python",
   "name": "python3"
  },
  "language_info": {
   "codemirror_mode": {
    "name": "ipython",
    "version": 3
   },
   "file_extension": ".py",
   "mimetype": "text/x-python",
   "name": "python",
   "nbconvert_exporter": "python",
   "pygments_lexer": "ipython3",
   "version": "3.6.1"
  }
 },
 "nbformat": 4,
 "nbformat_minor": 2
}
