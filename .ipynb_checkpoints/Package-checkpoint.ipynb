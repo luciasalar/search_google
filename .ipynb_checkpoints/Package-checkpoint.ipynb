{
 "cells": [
  {
   "cell_type": "code",
   "execution_count": null,
   "metadata": {
    "collapsed": true
   },
   "outputs": [],
   "source": []
  },
  {
   "cell_type": "code",
   "execution_count": 236,
   "metadata": {
    "collapsed": true
   },
   "outputs": [],
   "source": [
    "from google import google\n",
    "import pandas as pd\n",
    "from time import sleep\n",
    "import csv\n",
    "import pickle\n",
    "import re\n",
    "import spacy\n",
    "import numpy as np\n",
    "from sklearn.preprocessing import StandardScaler"
   ]
  },
  {
   "cell_type": "code",
   "execution_count": 239,
   "metadata": {},
   "outputs": [
    {
     "data": {
      "text/plain": [
       "1    The first woman was created from the rib of a ...\n",
       "2    I am as vain as i allow. I do my hair, i gloss...\n",
       "3    2) But because the pieces aren't exact, I have...\n",
       "4    In ten minutes, my computer will announce to m...\n",
       "5    One more thing lol, the /Get schooled/\" thing ...\n",
       "6    Lucasfilm's has stated that as the movie indus...\n",
       "7    OMG what is happening to this world there was ...\n",
       "8    I must be a horrible person to be around, sinc...\n",
       "9    so many disney movies to watch! already got mu...\n",
       "Name: text, dtype: object"
      ]
     },
     "execution_count": 239,
     "metadata": {},
     "output_type": "execute_result"
    }
   ],
   "source": [
    "#load text example\n",
    "posts = pd.read_csv('./Data/sample_5000.csv')\n",
    "posts['text'][1:10]"
   ]
  },
  {
   "cell_type": "code",
   "execution_count": 136,
   "metadata": {
    "collapsed": true
   },
   "outputs": [],
   "source": [
    "# load spacy object\n",
    "nlp = spacy.load('en')"
   ]
  },
  {
   "cell_type": "code",
   "execution_count": 137,
   "metadata": {
    "collapsed": true
   },
   "outputs": [],
   "source": [
    "#tokenize\n",
    "#remove punctionations\n",
    "def preprocess(sent):\n",
    "    #remove punctustion\n",
    "    sent = re.sub(r'[^\\w\\s]','',sent)\n",
    "    words = sent.split()\n",
    "    new_words = []\n",
    "    for w in words:      \n",
    "        new_words.append(w.lower())\n",
    "        \n",
    "    return ' '.join(new_words)"
   ]
  },
  {
   "cell_type": "code",
   "execution_count": 240,
   "metadata": {},
   "outputs": [],
   "source": [
    "class mySearchRes:\n",
    "    def __init__(self,text):\n",
    "        self.quoteText = text\n",
    "        self.quoteID = hash(self.quoteText)\n",
    "        self.link = []\n",
    "        self.name = []\n",
    "        self.description = []\n",
    "        self.scores = []\n",
    "        self.cos = []\n",
    "\n",
    "    def __hash__(self):\n",
    "        return self.quoteID\n",
    "\n",
    "\n",
    "def search_google(file):\n",
    "    objects = {}\n",
    "    for row in file:\n",
    "        texthash = hash(row)\n",
    "        search_results = google.search(row, 1)\n",
    "        if texthash not in objects:\n",
    "            #print(row)\n",
    "            objects[texthash] = mySearchRes(row)       \n",
    "            #search_results = [[text, i.link, i.name,i.description] for i in google.search(text, num_page)]\n",
    "            for i in search_results:\n",
    "                objects[texthash].name.append(i.name)\n",
    "                objects[texthash].description.append(i.description)\n",
    "                line = preprocess(i.name)\n",
    "                count = line.count(\"lyric\") + line.count(\"lyrics\") + line.count(\"quote\") + line.count(\"quotes\")\n",
    "                objects[texthash].scores.append(count)\n",
    "    return objects\n",
    "\n",
    "def cosineSim(results):\n",
    "    for item in results:\n",
    "        str1 = ''.join (results[item].description)\n",
    "        doc2 = nlp(preprocess(str1))\n",
    "        doc1 = nlp(preprocess(results[item].quoteText))\n",
    "        results[item].cos.append(doc1.similarity(doc2))\n",
    "\n",
    "#pack the score to 10\n",
    "def align_scores(objects):\n",
    "    for item in objects:\n",
    "        count = 0\n",
    "        for i in range(len(objects[item].scores)): # add 1 to all the scores \n",
    "            objects[item].scores[i] = objects[item].scores[i] +1           \n",
    "            if objects[item].scores[i] is not None:\n",
    "                count = count + 1 \n",
    "               # score = score + 1 won't work because score is a shallow copy\n",
    "        #print(objects[item].scores)\n",
    "        while count < 10:\n",
    "            objects[item].scores.append(0) #empty result is replaced by 0\n",
    "            count = count + 1\n",
    "\n",
    "def append_features(ob):\n",
    "    proto_matrix = []\n",
    "    for item in ob:\n",
    "        col2 = np.append(ob[item].scores, ob[item].cos)\n",
    "        print(col2)\n",
    "        proto_matrix.append(col2)\n",
    "      \n",
    "    return proto_matrix\n",
    " "
   ]
  },
  {
   "cell_type": "code",
   "execution_count": 241,
   "metadata": {
    "collapsed": true
   },
   "outputs": [],
   "source": [
    "ob = search_google(posts['text'][1:10])\n",
    "cosineSim(ob)\n",
    "align_scores(ob)"
   ]
  },
  {
   "cell_type": "code",
   "execution_count": 140,
   "metadata": {
    "collapsed": true
   },
   "outputs": [],
   "source": []
  },
  {
   "cell_type": "code",
   "execution_count": null,
   "metadata": {},
   "outputs": [],
   "source": [
    "proto_matrix = append_features(ob)\n",
    "FeatureMatrix = np.matrix(proto_matrix)\n",
    "scaler = StandardScaler()\n",
    "scaled_matrix = scaler.fit_transform(FeatureMatrix)"
   ]
  },
  {
   "cell_type": "code",
   "execution_count": 237,
   "metadata": {},
   "outputs": [],
   "source": []
  },
  {
   "cell_type": "code",
   "execution_count": 231,
   "metadata": {},
   "outputs": [],
   "source": [
    "#ML model \n",
    "#load model\n",
    "infile = open('BestModel','rb')\n",
    "model = pickle.load(infile, encoding='bytes')"
   ]
  },
  {
   "cell_type": "code",
   "execution_count": 233,
   "metadata": {},
   "outputs": [
    {
     "data": {
      "text/plain": [
       "RandomForestClassifier(bootstrap=True, class_weight='balanced',\n",
       "            criterion='gini', max_depth=5, max_features='auto',\n",
       "            max_leaf_nodes=10, min_impurity_decrease=0.0,\n",
       "            min_impurity_split=None, min_samples_leaf=1,\n",
       "            min_samples_split=2, min_weight_fraction_leaf=0.0,\n",
       "            n_estimators=50, n_jobs=1, oob_score=False, random_state=50,\n",
       "            verbose=0, warm_start=False)"
      ]
     },
     "execution_count": 233,
     "metadata": {},
     "output_type": "execute_result"
    }
   ],
   "source": [
    "model"
   ]
  },
  {
   "cell_type": "code",
   "execution_count": 238,
   "metadata": {},
   "outputs": [
    {
     "data": {
      "text/plain": [
       "array([1., 1., 0., 0., 0., 0., 0., 0., 0.])"
      ]
     },
     "execution_count": 238,
     "metadata": {},
     "output_type": "execute_result"
    }
   ],
   "source": [
    "#make prediction\n",
    "y = model.predict(scaled_matrix)\n",
    "y"
   ]
  }
 ],
 "metadata": {
  "kernelspec": {
   "display_name": "Python 3",
   "language": "python",
   "name": "python3"
  },
  "language_info": {
   "codemirror_mode": {
    "name": "ipython",
    "version": 3
   },
   "file_extension": ".py",
   "mimetype": "text/x-python",
   "name": "python",
   "nbconvert_exporter": "python",
   "pygments_lexer": "ipython3",
   "version": "3.6.1"
  }
 },
 "nbformat": 4,
 "nbformat_minor": 2
}
