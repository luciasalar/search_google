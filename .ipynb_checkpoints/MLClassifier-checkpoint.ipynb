{
 "cells": [
  {
   "cell_type": "code",
   "execution_count": 336,
   "metadata": {},
   "outputs": [
    {
     "name": "stderr",
     "output_type": "stream",
     "text": [
      "/Users/lucia/anaconda3/lib/python3.6/site-packages/sklearn/ensemble/weight_boosting.py:29: DeprecationWarning: numpy.core.umath_tests is an internal NumPy module and should not be imported. It will be removed in a future NumPy release.\n",
      "  from numpy.core.umath_tests import inner1d\n"
     ]
    }
   ],
   "source": [
    "import numpy as np\n",
    "import csv\n",
    "import pickle\n",
    "import pandas as pd\n",
    "import matplotlib.pyplot as plt\n",
    "from sklearn import svm\n",
    "from sklearn.model_selection import train_test_split\n",
    "from sklearn.metrics import confusion_matrix\n",
    "from sklearn.metrics import f1_score\n",
    "from sklearn.model_selection import GridSearchCV\n",
    "from sklearn.linear_model import SGDClassifier\n",
    "from sklearn.ensemble import RandomForestClassifier\n",
    "from sklearn.metrics import precision_score, \\\n",
    "    recall_score, confusion_matrix, classification_report, \\\n",
    "    accuracy_score, f1_score\n"
   ]
  },
  {
   "cell_type": "markdown",
   "metadata": {},
   "source": [
    "In this script, we have three ML model:\n",
    "SVC: C-Support Vector Classification.\n",
    "SGDClassifier: Linear classifiers (SVM, logistic regression, a.o.) with SGD training.\n",
    "This estimator implements regularized linear models with stochastic gradient descent (SGD) learning: the gradient of the loss is estimated each sample at a time and the model is updated along the way with a decreasing strength schedule (aka learning rate). SGD allows minibatch (online/out-of-core) learning, see the partial_fit method. For best results using the default learning rate schedule, the data should have zero mean and unit variance.\n",
    "\n",
    "Random Forest:\n",
    "RF gives the best result:  f1: 0.97959184  recall: 0.833\n",
    "\n",
    "Rule based: f1: 0.98245614 recall: 1\n",
    "Rule based classifer is able to identify all quotes but there are more nonquotes among those labeled as quotes"
   ]
  },
  {
   "cell_type": "code",
   "execution_count": 2,
   "metadata": {
    "collapsed": true
   },
   "outputs": [],
   "source": [
    "class myQuote:\n",
    "    def __init__(self, text):\n",
    "        #read in CSV, process\n",
    "        self.quoteText = text\n",
    "        self.quoteID = hash(self.quoteText)\n",
    "        self.link = []\n",
    "        self.name = []\n",
    "        self.description = []\n",
    "        self.scores = []\n",
    "        self.cos = []\n",
    "    \n",
    "    def __hash__(self):\n",
    "        return self.quoteID\n",
    "    \n",
    "    def __str__(self):\n",
    "        return \"Object text: \" + self.quoteText + '\\n' +\\\n",
    "        \"Links: \" + str(self.link) + '\\n' +\\\n",
    "        \"Names: \" + str(self.name) + '\\n' +\\\n",
    "        \"Description \" + str(self.description) + '\\n' +\\\n",
    "        \"Scores: \" + str(self.scores)\n",
    "        "
   ]
  },
  {
   "cell_type": "code",
   "execution_count": 3,
   "metadata": {
    "collapsed": true
   },
   "outputs": [],
   "source": [
    "infile = open('searchResults','rb')\n",
    "results = pickle.load(infile, encoding='bytes')"
   ]
  },
  {
   "cell_type": "code",
   "execution_count": 435,
   "metadata": {
    "collapsed": true
   },
   "outputs": [],
   "source": [
    "#get the first 200 labels: those are the one in the mannual annotate sample\n",
    "count = 0\n",
    "proto_matrix = []\n",
    "for item in results:\n",
    "    #results[item].scores[0]\n",
    "    row = results[item].scores\n",
    "    row = np.append(row, results[item].cos)\n",
    "    proto_matrix.append(row)\n",
    "    count += 1\n",
    "    if count > 199:\n",
    "        break\n",
    "\n",
    "FeatureMatrix = np.matrix(proto_matrix)"
   ]
  },
  {
   "cell_type": "code",
   "execution_count": null,
   "metadata": {
    "collapsed": true
   },
   "outputs": [],
   "source": [
    "#read labels from ma"
   ]
  },
  {
   "cell_type": "code",
   "execution_count": 436,
   "metadata": {},
   "outputs": [
    {
     "name": "stdout",
     "output_type": "stream",
     "text": [
      "200\n",
      "<class 'numpy.ndarray'>\n"
     ]
    }
   ],
   "source": [
    "labels = pd.read_csv('MLData_recode_mannual.csv')\n",
    "label = labels['label'].values\n",
    "label = label.astype(np.float)\n",
    "print(len(label))\n",
    "print(type(label))"
   ]
  },
  {
   "cell_type": "code",
   "execution_count": 6,
   "metadata": {
    "collapsed": true
   },
   "outputs": [],
   "source": []
  },
  {
   "cell_type": "code",
   "execution_count": 437,
   "metadata": {
    "collapsed": true
   },
   "outputs": [],
   "source": [
    "from sklearn.preprocessing import StandardScaler\n",
    "scaler = StandardScaler()\n",
    "scaled_matrix = scaler.fit_transform(FeatureMatrix)\n"
   ]
  },
  {
   "cell_type": "code",
   "execution_count": 441,
   "metadata": {
    "collapsed": true
   },
   "outputs": [],
   "source": [
    "#split train test\n",
    "X = scaled_matrix\n",
    "y = label\n",
    "X_train, X_test, y_train, y_test = train_test_split(X, y, test_size=0.30, random_state=44)"
   ]
  },
  {
   "cell_type": "code",
   "execution_count": null,
   "metadata": {
    "collapsed": true
   },
   "outputs": [],
   "source": []
  },
  {
   "cell_type": "code",
   "execution_count": 442,
   "metadata": {},
   "outputs": [
    {
     "name": "stdout",
     "output_type": "stream",
     "text": [
      "0.9142857142857143\n",
      "{'C': 0.9, 'class_weight': 'balanced', 'gamma': 0.01, 'kernel': 'linear'}\n",
      "0.900000 (0.039539) with: {'C': 0.1, 'class_weight': 'balanced', 'gamma': 0.01, 'kernel': 'linear'}\n",
      "0.385714 (0.338475) with: {'C': 0.1, 'class_weight': 'balanced', 'gamma': 0.01, 'kernel': 'poly'}\n",
      "0.857143 (0.010884) with: {'C': 0.1, 'class_weight': 'balanced', 'gamma': 0.01, 'kernel': 'rbf'}\n",
      "0.650000 (0.282599) with: {'C': 0.1, 'class_weight': 'balanced', 'gamma': 0.01, 'kernel': 'sigmoid'}\n",
      "0.900000 (0.039539) with: {'C': 0.1, 'class_weight': 'balanced', 'gamma': 0.001, 'kernel': 'linear'}\n",
      "0.385714 (0.338475) with: {'C': 0.1, 'class_weight': 'balanced', 'gamma': 0.001, 'kernel': 'poly'}\n",
      "0.385714 (0.338475) with: {'C': 0.1, 'class_weight': 'balanced', 'gamma': 0.001, 'kernel': 'rbf'}\n",
      "0.385714 (0.338475) with: {'C': 0.1, 'class_weight': 'balanced', 'gamma': 0.001, 'kernel': 'sigmoid'}\n",
      "0.900000 (0.039539) with: {'C': 0.1, 'class_weight': 'balanced', 'gamma': 0.0001, 'kernel': 'linear'}\n",
      "0.385714 (0.338475) with: {'C': 0.1, 'class_weight': 'balanced', 'gamma': 0.0001, 'kernel': 'poly'}\n",
      "0.385714 (0.338475) with: {'C': 0.1, 'class_weight': 'balanced', 'gamma': 0.0001, 'kernel': 'rbf'}\n",
      "0.385714 (0.338475) with: {'C': 0.1, 'class_weight': 'balanced', 'gamma': 0.0001, 'kernel': 'sigmoid'}\n",
      "0.885714 (0.039766) with: {'C': 0.3, 'class_weight': 'balanced', 'gamma': 0.01, 'kernel': 'linear'}\n",
      "0.385714 (0.338475) with: {'C': 0.3, 'class_weight': 'balanced', 'gamma': 0.01, 'kernel': 'poly'}\n",
      "0.892857 (0.017468) with: {'C': 0.3, 'class_weight': 'balanced', 'gamma': 0.01, 'kernel': 'rbf'}\n",
      "0.878571 (0.008907) with: {'C': 0.3, 'class_weight': 'balanced', 'gamma': 0.01, 'kernel': 'sigmoid'}\n",
      "0.885714 (0.039766) with: {'C': 0.3, 'class_weight': 'balanced', 'gamma': 0.001, 'kernel': 'linear'}\n",
      "0.385714 (0.338475) with: {'C': 0.3, 'class_weight': 'balanced', 'gamma': 0.001, 'kernel': 'poly'}\n",
      "0.385714 (0.338475) with: {'C': 0.3, 'class_weight': 'balanced', 'gamma': 0.001, 'kernel': 'rbf'}\n",
      "0.385714 (0.338475) with: {'C': 0.3, 'class_weight': 'balanced', 'gamma': 0.001, 'kernel': 'sigmoid'}\n",
      "0.885714 (0.039766) with: {'C': 0.3, 'class_weight': 'balanced', 'gamma': 0.0001, 'kernel': 'linear'}\n",
      "0.385714 (0.338475) with: {'C': 0.3, 'class_weight': 'balanced', 'gamma': 0.0001, 'kernel': 'poly'}\n",
      "0.385714 (0.338475) with: {'C': 0.3, 'class_weight': 'balanced', 'gamma': 0.0001, 'kernel': 'rbf'}\n",
      "0.385714 (0.338475) with: {'C': 0.3, 'class_weight': 'balanced', 'gamma': 0.0001, 'kernel': 'sigmoid'}\n",
      "0.907143 (0.043781) with: {'C': 0.5, 'class_weight': 'balanced', 'gamma': 0.01, 'kernel': 'linear'}\n",
      "0.857143 (0.008690) with: {'C': 0.5, 'class_weight': 'balanced', 'gamma': 0.01, 'kernel': 'poly'}\n",
      "0.885714 (0.009554) with: {'C': 0.5, 'class_weight': 'balanced', 'gamma': 0.01, 'kernel': 'rbf'}\n",
      "0.885714 (0.026442) with: {'C': 0.5, 'class_weight': 'balanced', 'gamma': 0.01, 'kernel': 'sigmoid'}\n",
      "0.907143 (0.043781) with: {'C': 0.5, 'class_weight': 'balanced', 'gamma': 0.001, 'kernel': 'linear'}\n",
      "0.614286 (0.338475) with: {'C': 0.5, 'class_weight': 'balanced', 'gamma': 0.001, 'kernel': 'poly'}\n",
      "0.614286 (0.256729) with: {'C': 0.5, 'class_weight': 'balanced', 'gamma': 0.001, 'kernel': 'rbf'}\n",
      "0.142857 (0.008690) with: {'C': 0.5, 'class_weight': 'balanced', 'gamma': 0.001, 'kernel': 'sigmoid'}\n",
      "0.907143 (0.043781) with: {'C': 0.5, 'class_weight': 'balanced', 'gamma': 0.0001, 'kernel': 'linear'}\n",
      "0.614286 (0.338475) with: {'C': 0.5, 'class_weight': 'balanced', 'gamma': 0.0001, 'kernel': 'poly'}\n",
      "0.642857 (0.358886) with: {'C': 0.5, 'class_weight': 'balanced', 'gamma': 0.0001, 'kernel': 'rbf'}\n",
      "0.642857 (0.358886) with: {'C': 0.5, 'class_weight': 'balanced', 'gamma': 0.0001, 'kernel': 'sigmoid'}\n",
      "0.907143 (0.043781) with: {'C': 0.7, 'class_weight': 'balanced', 'gamma': 0.01, 'kernel': 'linear'}\n",
      "0.621429 (0.335979) with: {'C': 0.7, 'class_weight': 'balanced', 'gamma': 0.01, 'kernel': 'poly'}\n",
      "0.885714 (0.009554) with: {'C': 0.7, 'class_weight': 'balanced', 'gamma': 0.01, 'kernel': 'rbf'}\n",
      "0.885714 (0.009554) with: {'C': 0.7, 'class_weight': 'balanced', 'gamma': 0.01, 'kernel': 'sigmoid'}\n",
      "0.907143 (0.043781) with: {'C': 0.7, 'class_weight': 'balanced', 'gamma': 0.001, 'kernel': 'linear'}\n",
      "0.142857 (0.008690) with: {'C': 0.7, 'class_weight': 'balanced', 'gamma': 0.001, 'kernel': 'poly'}\n",
      "0.871429 (0.001303) with: {'C': 0.7, 'class_weight': 'balanced', 'gamma': 0.001, 'kernel': 'rbf'}\n",
      "0.150000 (0.001521) with: {'C': 0.7, 'class_weight': 'balanced', 'gamma': 0.001, 'kernel': 'sigmoid'}\n",
      "0.907143 (0.043781) with: {'C': 0.7, 'class_weight': 'balanced', 'gamma': 0.0001, 'kernel': 'linear'}\n",
      "0.142857 (0.008690) with: {'C': 0.7, 'class_weight': 'balanced', 'gamma': 0.0001, 'kernel': 'poly'}\n",
      "0.142857 (0.008690) with: {'C': 0.7, 'class_weight': 'balanced', 'gamma': 0.0001, 'kernel': 'rbf'}\n",
      "0.142857 (0.008690) with: {'C': 0.7, 'class_weight': 'balanced', 'gamma': 0.0001, 'kernel': 'sigmoid'}\n",
      "0.914286 (0.045883) with: {'C': 0.9, 'class_weight': 'balanced', 'gamma': 0.01, 'kernel': 'linear'}\n",
      "0.857143 (0.008690) with: {'C': 0.9, 'class_weight': 'balanced', 'gamma': 0.01, 'kernel': 'poly'}\n",
      "0.885714 (0.009554) with: {'C': 0.9, 'class_weight': 'balanced', 'gamma': 0.01, 'kernel': 'rbf'}\n",
      "0.900000 (0.010630) with: {'C': 0.9, 'class_weight': 'balanced', 'gamma': 0.01, 'kernel': 'sigmoid'}\n",
      "0.914286 (0.045883) with: {'C': 0.9, 'class_weight': 'balanced', 'gamma': 0.001, 'kernel': 'linear'}\n",
      "0.857143 (0.008690) with: {'C': 0.9, 'class_weight': 'balanced', 'gamma': 0.001, 'kernel': 'poly'}\n",
      "0.871429 (0.017483) with: {'C': 0.9, 'class_weight': 'balanced', 'gamma': 0.001, 'kernel': 'rbf'}\n",
      "0.885714 (0.009554) with: {'C': 0.9, 'class_weight': 'balanced', 'gamma': 0.001, 'kernel': 'sigmoid'}\n",
      "0.914286 (0.045883) with: {'C': 0.9, 'class_weight': 'balanced', 'gamma': 0.0001, 'kernel': 'linear'}\n",
      "0.857143 (0.008690) with: {'C': 0.9, 'class_weight': 'balanced', 'gamma': 0.0001, 'kernel': 'poly'}\n",
      "0.857143 (0.008690) with: {'C': 0.9, 'class_weight': 'balanced', 'gamma': 0.0001, 'kernel': 'rbf'}\n",
      "0.857143 (0.008690) with: {'C': 0.9, 'class_weight': 'balanced', 'gamma': 0.0001, 'kernel': 'sigmoid'}\n",
      "0.907143 (0.055762) with: {'C': 1.0, 'class_weight': 'balanced', 'gamma': 0.01, 'kernel': 'linear'}\n",
      "0.857143 (0.008690) with: {'C': 1.0, 'class_weight': 'balanced', 'gamma': 0.01, 'kernel': 'poly'}\n",
      "0.892857 (0.016595) with: {'C': 1.0, 'class_weight': 'balanced', 'gamma': 0.01, 'kernel': 'rbf'}\n",
      "0.900000 (0.010630) with: {'C': 1.0, 'class_weight': 'balanced', 'gamma': 0.01, 'kernel': 'sigmoid'}\n",
      "0.907143 (0.055762) with: {'C': 1.0, 'class_weight': 'balanced', 'gamma': 0.001, 'kernel': 'linear'}\n",
      "0.614286 (0.338475) with: {'C': 1.0, 'class_weight': 'balanced', 'gamma': 0.001, 'kernel': 'poly'}\n",
      "0.871429 (0.017483) with: {'C': 1.0, 'class_weight': 'balanced', 'gamma': 0.001, 'kernel': 'rbf'}\n",
      "0.671429 (0.266741) with: {'C': 1.0, 'class_weight': 'balanced', 'gamma': 0.001, 'kernel': 'sigmoid'}\n",
      "0.907143 (0.055762) with: {'C': 1.0, 'class_weight': 'balanced', 'gamma': 0.0001, 'kernel': 'linear'}\n",
      "0.614286 (0.338475) with: {'C': 1.0, 'class_weight': 'balanced', 'gamma': 0.0001, 'kernel': 'poly'}\n",
      "0.385714 (0.346024) with: {'C': 1.0, 'class_weight': 'balanced', 'gamma': 0.0001, 'kernel': 'rbf'}\n",
      "0.642857 (0.358886) with: {'C': 1.0, 'class_weight': 'balanced', 'gamma': 0.0001, 'kernel': 'sigmoid'}\n",
      "0.900000 (0.065692) with: {'C': 1.3, 'class_weight': 'balanced', 'gamma': 0.01, 'kernel': 'linear'}\n",
      "0.871429 (0.017483) with: {'C': 1.3, 'class_weight': 'balanced', 'gamma': 0.01, 'kernel': 'poly'}\n",
      "0.892857 (0.045381) with: {'C': 1.3, 'class_weight': 'balanced', 'gamma': 0.01, 'kernel': 'rbf'}\n",
      "0.885714 (0.009554) with: {'C': 1.3, 'class_weight': 'balanced', 'gamma': 0.01, 'kernel': 'sigmoid'}\n",
      "0.900000 (0.065692) with: {'C': 1.3, 'class_weight': 'balanced', 'gamma': 0.001, 'kernel': 'linear'}\n",
      "0.614286 (0.338475) with: {'C': 1.3, 'class_weight': 'balanced', 'gamma': 0.001, 'kernel': 'poly'}\n",
      "0.878571 (0.008907) with: {'C': 1.3, 'class_weight': 'balanced', 'gamma': 0.001, 'kernel': 'rbf'}\n",
      "0.871429 (0.018671) with: {'C': 1.3, 'class_weight': 'balanced', 'gamma': 0.001, 'kernel': 'sigmoid'}\n",
      "0.900000 (0.065692) with: {'C': 1.3, 'class_weight': 'balanced', 'gamma': 0.0001, 'kernel': 'linear'}\n",
      "0.614286 (0.338475) with: {'C': 1.3, 'class_weight': 'balanced', 'gamma': 0.0001, 'kernel': 'poly'}\n",
      "0.614286 (0.338475) with: {'C': 1.3, 'class_weight': 'balanced', 'gamma': 0.0001, 'kernel': 'rbf'}\n",
      "0.614286 (0.338475) with: {'C': 1.3, 'class_weight': 'balanced', 'gamma': 0.0001, 'kernel': 'sigmoid'}\n",
      "0.907143 (0.055762) with: {'C': 1.5, 'class_weight': 'balanced', 'gamma': 0.01, 'kernel': 'linear'}\n",
      "0.871429 (0.017483) with: {'C': 1.5, 'class_weight': 'balanced', 'gamma': 0.01, 'kernel': 'poly'}\n",
      "0.907143 (0.043325) with: {'C': 1.5, 'class_weight': 'balanced', 'gamma': 0.01, 'kernel': 'rbf'}\n",
      "0.878571 (0.008907) with: {'C': 1.5, 'class_weight': 'balanced', 'gamma': 0.01, 'kernel': 'sigmoid'}\n",
      "0.907143 (0.055762) with: {'C': 1.5, 'class_weight': 'balanced', 'gamma': 0.001, 'kernel': 'linear'}\n",
      "0.385714 (0.338475) with: {'C': 1.5, 'class_weight': 'balanced', 'gamma': 0.001, 'kernel': 'poly'}\n",
      "0.878571 (0.008907) with: {'C': 1.5, 'class_weight': 'balanced', 'gamma': 0.001, 'kernel': 'rbf'}\n",
      "0.878571 (0.026900) with: {'C': 1.5, 'class_weight': 'balanced', 'gamma': 0.001, 'kernel': 'sigmoid'}\n",
      "0.907143 (0.055762) with: {'C': 1.5, 'class_weight': 'balanced', 'gamma': 0.0001, 'kernel': 'linear'}\n",
      "0.385714 (0.338475) with: {'C': 1.5, 'class_weight': 'balanced', 'gamma': 0.0001, 'kernel': 'poly'}\n",
      "0.385714 (0.338475) with: {'C': 1.5, 'class_weight': 'balanced', 'gamma': 0.0001, 'kernel': 'rbf'}\n",
      "0.385714 (0.338475) with: {'C': 1.5, 'class_weight': 'balanced', 'gamma': 0.0001, 'kernel': 'sigmoid'}\n",
      "0.907143 (0.043781) with: {'C': 1.7, 'class_weight': 'balanced', 'gamma': 0.01, 'kernel': 'linear'}\n",
      "0.871429 (0.017483) with: {'C': 1.7, 'class_weight': 'balanced', 'gamma': 0.01, 'kernel': 'poly'}\n",
      "0.907143 (0.043325) with: {'C': 1.7, 'class_weight': 'balanced', 'gamma': 0.01, 'kernel': 'rbf'}\n",
      "0.892857 (0.016595) with: {'C': 1.7, 'class_weight': 'balanced', 'gamma': 0.01, 'kernel': 'sigmoid'}\n",
      "0.907143 (0.043781) with: {'C': 1.7, 'class_weight': 'balanced', 'gamma': 0.001, 'kernel': 'linear'}\n",
      "0.857143 (0.008690) with: {'C': 1.7, 'class_weight': 'balanced', 'gamma': 0.001, 'kernel': 'poly'}\n",
      "0.878571 (0.008907) with: {'C': 1.7, 'class_weight': 'balanced', 'gamma': 0.001, 'kernel': 'rbf'}\n",
      "0.871429 (0.017483) with: {'C': 1.7, 'class_weight': 'balanced', 'gamma': 0.001, 'kernel': 'sigmoid'}\n",
      "0.907143 (0.043781) with: {'C': 1.7, 'class_weight': 'balanced', 'gamma': 0.0001, 'kernel': 'linear'}\n",
      "0.857143 (0.008690) with: {'C': 1.7, 'class_weight': 'balanced', 'gamma': 0.0001, 'kernel': 'poly'}\n",
      "0.857143 (0.008690) with: {'C': 1.7, 'class_weight': 'balanced', 'gamma': 0.0001, 'kernel': 'rbf'}\n",
      "0.857143 (0.008690) with: {'C': 1.7, 'class_weight': 'balanced', 'gamma': 0.0001, 'kernel': 'sigmoid'}\n",
      "0.914286 (0.034879) with: {'C': 2.0, 'class_weight': 'balanced', 'gamma': 0.01, 'kernel': 'linear'}\n",
      "0.871429 (0.017483) with: {'C': 2.0, 'class_weight': 'balanced', 'gamma': 0.01, 'kernel': 'poly'}\n",
      "0.900000 (0.052718) with: {'C': 2.0, 'class_weight': 'balanced', 'gamma': 0.01, 'kernel': 'rbf'}\n",
      "0.907143 (0.035626) with: {'C': 2.0, 'class_weight': 'balanced', 'gamma': 0.01, 'kernel': 'sigmoid'}\n",
      "0.914286 (0.034879) with: {'C': 2.0, 'class_weight': 'balanced', 'gamma': 0.001, 'kernel': 'linear'}\n",
      "0.614286 (0.338475) with: {'C': 2.0, 'class_weight': 'balanced', 'gamma': 0.001, 'kernel': 'poly'}\n",
      "0.871429 (0.001303) with: {'C': 2.0, 'class_weight': 'balanced', 'gamma': 0.001, 'kernel': 'rbf'}\n",
      "0.864286 (0.009467) with: {'C': 2.0, 'class_weight': 'balanced', 'gamma': 0.001, 'kernel': 'sigmoid'}\n",
      "0.914286 (0.034879) with: {'C': 2.0, 'class_weight': 'balanced', 'gamma': 0.0001, 'kernel': 'linear'}\n",
      "0.614286 (0.338475) with: {'C': 2.0, 'class_weight': 'balanced', 'gamma': 0.0001, 'kernel': 'poly'}\n",
      "0.385714 (0.346024) with: {'C': 2.0, 'class_weight': 'balanced', 'gamma': 0.0001, 'kernel': 'rbf'}\n",
      "0.385714 (0.346024) with: {'C': 2.0, 'class_weight': 'balanced', 'gamma': 0.0001, 'kernel': 'sigmoid'}\n",
      "0.907143 (0.043781) with: {'C': 3.0, 'class_weight': 'balanced', 'gamma': 0.01, 'kernel': 'linear'}\n",
      "0.871429 (0.017483) with: {'C': 3.0, 'class_weight': 'balanced', 'gamma': 0.01, 'kernel': 'poly'}\n",
      "0.900000 (0.043212) with: {'C': 3.0, 'class_weight': 'balanced', 'gamma': 0.01, 'kernel': 'rbf'}\n",
      "0.907143 (0.043325) with: {'C': 3.0, 'class_weight': 'balanced', 'gamma': 0.01, 'kernel': 'sigmoid'}\n",
      "0.907143 (0.043781) with: {'C': 3.0, 'class_weight': 'balanced', 'gamma': 0.001, 'kernel': 'linear'}\n",
      "0.385714 (0.338475) with: {'C': 3.0, 'class_weight': 'balanced', 'gamma': 0.001, 'kernel': 'poly'}\n",
      "0.878571 (0.019578) with: {'C': 3.0, 'class_weight': 'balanced', 'gamma': 0.001, 'kernel': 'rbf'}\n",
      "0.878571 (0.008907) with: {'C': 3.0, 'class_weight': 'balanced', 'gamma': 0.001, 'kernel': 'sigmoid'}\n",
      "0.907143 (0.043781) with: {'C': 3.0, 'class_weight': 'balanced', 'gamma': 0.0001, 'kernel': 'linear'}\n",
      "0.385714 (0.338475) with: {'C': 3.0, 'class_weight': 'balanced', 'gamma': 0.0001, 'kernel': 'poly'}\n",
      "0.385714 (0.338475) with: {'C': 3.0, 'class_weight': 'balanced', 'gamma': 0.0001, 'kernel': 'rbf'}\n",
      "0.385714 (0.338475) with: {'C': 3.0, 'class_weight': 'balanced', 'gamma': 0.0001, 'kernel': 'sigmoid'}\n"
     ]
    }
   ],
   "source": [
    "#####grid search (the parameters predict everything to one class, we should use a separated \n",
    "#sample for tuning parameters, but not enough cases so far)\n",
    "svc = svm.SVC()\n",
    "parameters = [{'kernel': ['linear', 'poly', 'rbf', 'sigmoid'], 'gamma': [0.01, 0.001, 0.0001],\n",
    "                     'C': [0.1, 0.3, 0.5, 0.7, 0.9, 1.0, 1.3, 1.5, 1.7, 2.0, 3.0], 'class_weight':['balanced']}]\n",
    "                   \n",
    "grid_search_item = GridSearchCV(estimator = svc,\n",
    "                          param_grid = parameters,\n",
    "                           scoring = 'accuracy',\n",
    "                           n_jobs = -1)\n",
    "grid_search = grid_search_item.fit(X_train, y_train)\n",
    "\n",
    "print(grid_search.best_score_)####not sure how come this is so good,but the parameters don't work good in the model\n",
    "print(grid_search.best_params_)\n",
    "\n",
    "means = grid_search.cv_results_['mean_test_score']\n",
    "stds = grid_search.cv_results_['std_test_score']\n",
    "params = grid_search.cv_results_['params']\n",
    "for mean, stdev, param in zip(means, stds, params):\n",
    "    print(\"%f (%f) with: %r\" % (mean, stdev, param))\n",
    "    \n"
   ]
  },
  {
   "cell_type": "code",
   "execution_count": 443,
   "metadata": {},
   "outputs": [
    {
     "data": {
      "text/plain": [
       "SVC(C=2.0, cache_size=200, class_weight='balanced', coef0=0.0,\n",
       "  decision_function_shape='ovr', degree=3, gamma=0.001, kernel='rbf',\n",
       "  max_iter=-1, probability=False, random_state=None, shrinking=True,\n",
       "  tol=0.001, verbose=False)"
      ]
     },
     "execution_count": 443,
     "metadata": {},
     "output_type": "execute_result"
    }
   ],
   "source": [
    "svc = svm.SVC(gamma=0.001, class_weight='balanced', C = 2.0, kernel = 'rbf')\n",
    "svc.fit(X_train, y_train) "
   ]
  },
  {
   "cell_type": "code",
   "execution_count": 444,
   "metadata": {},
   "outputs": [],
   "source": [
    "y = svc.predict(X_test)"
   ]
  },
  {
   "cell_type": "code",
   "execution_count": 445,
   "metadata": {},
   "outputs": [
    {
     "name": "stdout",
     "output_type": "stream",
     "text": [
      "F1: [0.94 0.7 ]\n",
      "[[47  1]\n",
      " [ 5  7]]\n",
      "Recall: 0.5833333333333334\n",
      "Precision: 0.875\n"
     ]
    }
   ],
   "source": [
    "print('F1:', f1_score(y_test, y, average= None))\n",
    "cm = confusion_matrix(y_test, y)\n",
    "print( cm)\n",
    "print ('Recall:', recall_score(y_test, y))\n",
    "print ('Precision:', precision_score(y_test, y))"
   ]
  },
  {
   "cell_type": "code",
   "execution_count": null,
   "metadata": {},
   "outputs": [],
   "source": []
  },
  {
   "cell_type": "markdown",
   "metadata": {},
   "source": [
    "####SGDClassifier "
   ]
  },
  {
   "cell_type": "code",
   "execution_count": 446,
   "metadata": {},
   "outputs": [
    {
     "name": "stdout",
     "output_type": "stream",
     "text": [
      "0.9142857142857143\n",
      "{'alpha': 0.001, 'class_weight': 'balanced'}\n"
     ]
    }
   ],
   "source": [
    "#####grid search (the parameters predict everything to one class, we should use a separated \n",
    "#sample for tuning parameters, but not enough cases so far)\n",
    "svc = SGDClassifier(max_iter= 1000)\n",
    "parameters = [{'alpha': [0.01, 0.05, 0.001, 0.005], 'class_weight':['balanced']}]\n",
    "                   \n",
    "grid_search_item = GridSearchCV(svc,\n",
    "                          param_grid = parameters,\n",
    "                           scoring = 'accuracy',\n",
    "                           n_jobs = -1)\n",
    "grid_search = grid_search_item.fit(X_train, y_train)\n",
    "\n",
    "print(grid_search.best_score_)####not sure how come this is so good,but the parameters don't work good in the model\n",
    "print(grid_search.best_params_)"
   ]
  },
  {
   "cell_type": "code",
   "execution_count": 447,
   "metadata": {},
   "outputs": [
    {
     "data": {
      "text/plain": [
       "SGDClassifier(alpha=0.05, average=False, class_weight='balanced', epsilon=0.1,\n",
       "       eta0=0.0, fit_intercept=True, l1_ratio=0.15,\n",
       "       learning_rate='optimal', loss='hinge', max_iter=1000, n_iter=None,\n",
       "       n_jobs=1, penalty='l2', power_t=0.5, random_state=None,\n",
       "       shuffle=True, tol=None, verbose=0, warm_start=False)"
      ]
     },
     "execution_count": 447,
     "metadata": {},
     "output_type": "execute_result"
    }
   ],
   "source": [
    "clf = SGDClassifier(max_iter=1000, alpha=0.05, class_weight = 'balanced')\n",
    "clf.fit(X_train, y_train) "
   ]
  },
  {
   "cell_type": "code",
   "execution_count": 448,
   "metadata": {},
   "outputs": [],
   "source": [
    "y = clf.predict(X_test)\n"
   ]
  },
  {
   "cell_type": "code",
   "execution_count": 449,
   "metadata": {},
   "outputs": [
    {
     "name": "stdout",
     "output_type": "stream",
     "text": [
      "F1: [0.90526316 0.64      ]\n",
      "confusion Matrix: [[43  5]\n",
      " [ 4  8]]\n",
      "Recall: 0.6666666666666666\n",
      "Precision: 0.6153846153846154\n"
     ]
    }
   ],
   "source": [
    "print('F1:', f1_score(y_test, y, average= None))\n",
    "cm = confusion_matrix(y_test, y)\n",
    "print('confusion Matrix:', cm)\n",
    "print ('Recall:', recall_score(y_test, y))\n",
    "print ('Precision:', precision_score(y_test, y))"
   ]
  },
  {
   "cell_type": "code",
   "execution_count": null,
   "metadata": {},
   "outputs": [],
   "source": [
    "\n"
   ]
  },
  {
   "cell_type": "markdown",
   "metadata": {
    "collapsed": true
   },
   "source": [
    "###random forest"
   ]
  },
  {
   "cell_type": "code",
   "execution_count": 450,
   "metadata": {
    "collapsed": true
   },
   "outputs": [],
   "source": [
    "rf = RandomForestClassifier()"
   ]
  },
  {
   "cell_type": "code",
   "execution_count": 451,
   "metadata": {},
   "outputs": [
    {
     "name": "stdout",
     "output_type": "stream",
     "text": [
      "0.9571428571428572\n",
      "{'class_weight': 'balanced', 'max_depth': 2, 'max_features': 'auto', 'max_leaf_nodes': 50, 'n_estimators': 50}\n",
      "0.950000 (0.010645) with: {'class_weight': 'balanced', 'max_depth': 2, 'max_features': 'auto', 'max_leaf_nodes': 10, 'n_estimators': 50}\n",
      "0.942857 (0.010387) with: {'class_weight': 'balanced', 'max_depth': 2, 'max_features': 'auto', 'max_leaf_nodes': 10, 'n_estimators': 100}\n",
      "0.942857 (0.010387) with: {'class_weight': 'balanced', 'max_depth': 2, 'max_features': 'auto', 'max_leaf_nodes': 10, 'n_estimators': 200}\n",
      "0.942857 (0.010387) with: {'class_weight': 'balanced', 'max_depth': 2, 'max_features': 'auto', 'max_leaf_nodes': 10, 'n_estimators': 300}\n",
      "0.950000 (0.010645) with: {'class_weight': 'balanced', 'max_depth': 2, 'max_features': 'auto', 'max_leaf_nodes': 10, 'n_estimators': 400}\n",
      "0.957143 (0.000434) with: {'class_weight': 'balanced', 'max_depth': 2, 'max_features': 'auto', 'max_leaf_nodes': 50, 'n_estimators': 50}\n",
      "0.950000 (0.009839) with: {'class_weight': 'balanced', 'max_depth': 2, 'max_features': 'auto', 'max_leaf_nodes': 50, 'n_estimators': 100}\n",
      "0.957143 (0.000434) with: {'class_weight': 'balanced', 'max_depth': 2, 'max_features': 'auto', 'max_leaf_nodes': 50, 'n_estimators': 200}\n",
      "0.957143 (0.000434) with: {'class_weight': 'balanced', 'max_depth': 2, 'max_features': 'auto', 'max_leaf_nodes': 50, 'n_estimators': 300}\n",
      "0.942857 (0.010387) with: {'class_weight': 'balanced', 'max_depth': 2, 'max_features': 'auto', 'max_leaf_nodes': 50, 'n_estimators': 400}\n",
      "0.950000 (0.010645) with: {'class_weight': 'balanced', 'max_depth': 2, 'max_features': 'auto', 'max_leaf_nodes': 100, 'n_estimators': 50}\n",
      "0.950000 (0.009839) with: {'class_weight': 'balanced', 'max_depth': 2, 'max_features': 'auto', 'max_leaf_nodes': 100, 'n_estimators': 100}\n",
      "0.942857 (0.020856) with: {'class_weight': 'balanced', 'max_depth': 2, 'max_features': 'auto', 'max_leaf_nodes': 100, 'n_estimators': 200}\n",
      "0.950000 (0.010645) with: {'class_weight': 'balanced', 'max_depth': 2, 'max_features': 'auto', 'max_leaf_nodes': 100, 'n_estimators': 300}\n",
      "0.950000 (0.010645) with: {'class_weight': 'balanced', 'max_depth': 2, 'max_features': 'auto', 'max_leaf_nodes': 100, 'n_estimators': 400}\n",
      "0.928571 (0.027489) with: {'class_weight': 'balanced', 'max_depth': 2, 'max_features': 'sqrt', 'max_leaf_nodes': 10, 'n_estimators': 50}\n",
      "0.950000 (0.010645) with: {'class_weight': 'balanced', 'max_depth': 2, 'max_features': 'sqrt', 'max_leaf_nodes': 10, 'n_estimators': 100}\n",
      "0.957143 (0.000434) with: {'class_weight': 'balanced', 'max_depth': 2, 'max_features': 'sqrt', 'max_leaf_nodes': 10, 'n_estimators': 200}\n",
      "0.950000 (0.009839) with: {'class_weight': 'balanced', 'max_depth': 2, 'max_features': 'sqrt', 'max_leaf_nodes': 10, 'n_estimators': 300}\n",
      "0.950000 (0.009839) with: {'class_weight': 'balanced', 'max_depth': 2, 'max_features': 'sqrt', 'max_leaf_nodes': 10, 'n_estimators': 400}\n",
      "0.935714 (0.018097) with: {'class_weight': 'balanced', 'max_depth': 2, 'max_features': 'sqrt', 'max_leaf_nodes': 50, 'n_estimators': 50}\n",
      "0.950000 (0.009839) with: {'class_weight': 'balanced', 'max_depth': 2, 'max_features': 'sqrt', 'max_leaf_nodes': 50, 'n_estimators': 100}\n",
      "0.957143 (0.000434) with: {'class_weight': 'balanced', 'max_depth': 2, 'max_features': 'sqrt', 'max_leaf_nodes': 50, 'n_estimators': 200}\n",
      "0.950000 (0.009839) with: {'class_weight': 'balanced', 'max_depth': 2, 'max_features': 'sqrt', 'max_leaf_nodes': 50, 'n_estimators': 300}\n",
      "0.950000 (0.010645) with: {'class_weight': 'balanced', 'max_depth': 2, 'max_features': 'sqrt', 'max_leaf_nodes': 50, 'n_estimators': 400}\n",
      "0.957143 (0.000434) with: {'class_weight': 'balanced', 'max_depth': 2, 'max_features': 'sqrt', 'max_leaf_nodes': 100, 'n_estimators': 50}\n",
      "0.942857 (0.010387) with: {'class_weight': 'balanced', 'max_depth': 2, 'max_features': 'sqrt', 'max_leaf_nodes': 100, 'n_estimators': 100}\n",
      "0.957143 (0.000434) with: {'class_weight': 'balanced', 'max_depth': 2, 'max_features': 'sqrt', 'max_leaf_nodes': 100, 'n_estimators': 200}\n",
      "0.950000 (0.009839) with: {'class_weight': 'balanced', 'max_depth': 2, 'max_features': 'sqrt', 'max_leaf_nodes': 100, 'n_estimators': 300}\n",
      "0.957143 (0.000434) with: {'class_weight': 'balanced', 'max_depth': 2, 'max_features': 'sqrt', 'max_leaf_nodes': 100, 'n_estimators': 400}\n",
      "0.942857 (0.020856) with: {'class_weight': 'balanced', 'max_depth': 2, 'max_features': 'log2', 'max_leaf_nodes': 10, 'n_estimators': 50}\n",
      "0.957143 (0.000434) with: {'class_weight': 'balanced', 'max_depth': 2, 'max_features': 'log2', 'max_leaf_nodes': 10, 'n_estimators': 100}\n",
      "0.950000 (0.010645) with: {'class_weight': 'balanced', 'max_depth': 2, 'max_features': 'log2', 'max_leaf_nodes': 10, 'n_estimators': 200}\n",
      "0.942857 (0.010387) with: {'class_weight': 'balanced', 'max_depth': 2, 'max_features': 'log2', 'max_leaf_nodes': 10, 'n_estimators': 300}\n",
      "0.950000 (0.010645) with: {'class_weight': 'balanced', 'max_depth': 2, 'max_features': 'log2', 'max_leaf_nodes': 10, 'n_estimators': 400}\n",
      "0.957143 (0.000434) with: {'class_weight': 'balanced', 'max_depth': 2, 'max_features': 'log2', 'max_leaf_nodes': 50, 'n_estimators': 50}\n",
      "0.935714 (0.018097) with: {'class_weight': 'balanced', 'max_depth': 2, 'max_features': 'log2', 'max_leaf_nodes': 50, 'n_estimators': 100}\n",
      "0.950000 (0.010645) with: {'class_weight': 'balanced', 'max_depth': 2, 'max_features': 'log2', 'max_leaf_nodes': 50, 'n_estimators': 200}\n",
      "0.950000 (0.009839) with: {'class_weight': 'balanced', 'max_depth': 2, 'max_features': 'log2', 'max_leaf_nodes': 50, 'n_estimators': 300}\n",
      "0.957143 (0.000434) with: {'class_weight': 'balanced', 'max_depth': 2, 'max_features': 'log2', 'max_leaf_nodes': 50, 'n_estimators': 400}\n",
      "0.935714 (0.000652) with: {'class_weight': 'balanced', 'max_depth': 2, 'max_features': 'log2', 'max_leaf_nodes': 100, 'n_estimators': 50}\n",
      "0.950000 (0.009839) with: {'class_weight': 'balanced', 'max_depth': 2, 'max_features': 'log2', 'max_leaf_nodes': 100, 'n_estimators': 100}\n",
      "0.957143 (0.000434) with: {'class_weight': 'balanced', 'max_depth': 2, 'max_features': 'log2', 'max_leaf_nodes': 100, 'n_estimators': 200}\n",
      "0.957143 (0.000434) with: {'class_weight': 'balanced', 'max_depth': 2, 'max_features': 'log2', 'max_leaf_nodes': 100, 'n_estimators': 300}\n",
      "0.950000 (0.010645) with: {'class_weight': 'balanced', 'max_depth': 2, 'max_features': 'log2', 'max_leaf_nodes': 100, 'n_estimators': 400}\n",
      "0.935714 (0.031067) with: {'class_weight': 'balanced', 'max_depth': 5, 'max_features': 'auto', 'max_leaf_nodes': 10, 'n_estimators': 50}\n",
      "0.957143 (0.017907) with: {'class_weight': 'balanced', 'max_depth': 5, 'max_features': 'auto', 'max_leaf_nodes': 10, 'n_estimators': 100}\n",
      "0.950000 (0.010645) with: {'class_weight': 'balanced', 'max_depth': 5, 'max_features': 'auto', 'max_leaf_nodes': 10, 'n_estimators': 200}\n",
      "0.950000 (0.010645) with: {'class_weight': 'balanced', 'max_depth': 5, 'max_features': 'auto', 'max_leaf_nodes': 10, 'n_estimators': 300}\n",
      "0.950000 (0.010645) with: {'class_weight': 'balanced', 'max_depth': 5, 'max_features': 'auto', 'max_leaf_nodes': 10, 'n_estimators': 400}\n",
      "0.950000 (0.010645) with: {'class_weight': 'balanced', 'max_depth': 5, 'max_features': 'auto', 'max_leaf_nodes': 50, 'n_estimators': 50}\n",
      "0.950000 (0.010645) with: {'class_weight': 'balanced', 'max_depth': 5, 'max_features': 'auto', 'max_leaf_nodes': 50, 'n_estimators': 100}\n",
      "0.942857 (0.020856) with: {'class_weight': 'balanced', 'max_depth': 5, 'max_features': 'auto', 'max_leaf_nodes': 50, 'n_estimators': 200}\n",
      "0.950000 (0.010645) with: {'class_weight': 'balanced', 'max_depth': 5, 'max_features': 'auto', 'max_leaf_nodes': 50, 'n_estimators': 300}\n",
      "0.950000 (0.010645) with: {'class_weight': 'balanced', 'max_depth': 5, 'max_features': 'auto', 'max_leaf_nodes': 50, 'n_estimators': 400}\n",
      "0.950000 (0.010645) with: {'class_weight': 'balanced', 'max_depth': 5, 'max_features': 'auto', 'max_leaf_nodes': 100, 'n_estimators': 50}\n",
      "0.950000 (0.010645) with: {'class_weight': 'balanced', 'max_depth': 5, 'max_features': 'auto', 'max_leaf_nodes': 100, 'n_estimators': 100}\n",
      "0.950000 (0.010645) with: {'class_weight': 'balanced', 'max_depth': 5, 'max_features': 'auto', 'max_leaf_nodes': 100, 'n_estimators': 200}\n",
      "0.942857 (0.020856) with: {'class_weight': 'balanced', 'max_depth': 5, 'max_features': 'auto', 'max_leaf_nodes': 100, 'n_estimators': 300}\n",
      "0.950000 (0.010645) with: {'class_weight': 'balanced', 'max_depth': 5, 'max_features': 'auto', 'max_leaf_nodes': 100, 'n_estimators': 400}\n",
      "0.950000 (0.010645) with: {'class_weight': 'balanced', 'max_depth': 5, 'max_features': 'sqrt', 'max_leaf_nodes': 10, 'n_estimators': 50}\n",
      "0.957143 (0.000434) with: {'class_weight': 'balanced', 'max_depth': 5, 'max_features': 'sqrt', 'max_leaf_nodes': 10, 'n_estimators': 100}\n",
      "0.942857 (0.020856) with: {'class_weight': 'balanced', 'max_depth': 5, 'max_features': 'sqrt', 'max_leaf_nodes': 10, 'n_estimators': 200}\n",
      "0.942857 (0.020856) with: {'class_weight': 'balanced', 'max_depth': 5, 'max_features': 'sqrt', 'max_leaf_nodes': 10, 'n_estimators': 300}\n",
      "0.942857 (0.020856) with: {'class_weight': 'balanced', 'max_depth': 5, 'max_features': 'sqrt', 'max_leaf_nodes': 10, 'n_estimators': 400}\n",
      "0.950000 (0.010645) with: {'class_weight': 'balanced', 'max_depth': 5, 'max_features': 'sqrt', 'max_leaf_nodes': 50, 'n_estimators': 50}\n",
      "0.942857 (0.020856) with: {'class_weight': 'balanced', 'max_depth': 5, 'max_features': 'sqrt', 'max_leaf_nodes': 50, 'n_estimators': 100}\n",
      "0.950000 (0.010645) with: {'class_weight': 'balanced', 'max_depth': 5, 'max_features': 'sqrt', 'max_leaf_nodes': 50, 'n_estimators': 200}\n",
      "0.942857 (0.020856) with: {'class_weight': 'balanced', 'max_depth': 5, 'max_features': 'sqrt', 'max_leaf_nodes': 50, 'n_estimators': 300}\n",
      "0.950000 (0.010645) with: {'class_weight': 'balanced', 'max_depth': 5, 'max_features': 'sqrt', 'max_leaf_nodes': 50, 'n_estimators': 400}\n",
      "0.950000 (0.027283) with: {'class_weight': 'balanced', 'max_depth': 5, 'max_features': 'sqrt', 'max_leaf_nodes': 100, 'n_estimators': 50}\n",
      "0.950000 (0.010645) with: {'class_weight': 'balanced', 'max_depth': 5, 'max_features': 'sqrt', 'max_leaf_nodes': 100, 'n_estimators': 100}\n",
      "0.950000 (0.010645) with: {'class_weight': 'balanced', 'max_depth': 5, 'max_features': 'sqrt', 'max_leaf_nodes': 100, 'n_estimators': 200}\n",
      "0.950000 (0.010645) with: {'class_weight': 'balanced', 'max_depth': 5, 'max_features': 'sqrt', 'max_leaf_nodes': 100, 'n_estimators': 300}\n",
      "0.942857 (0.020856) with: {'class_weight': 'balanced', 'max_depth': 5, 'max_features': 'sqrt', 'max_leaf_nodes': 100, 'n_estimators': 400}\n",
      "0.942857 (0.020856) with: {'class_weight': 'balanced', 'max_depth': 5, 'max_features': 'log2', 'max_leaf_nodes': 10, 'n_estimators': 50}\n",
      "0.935714 (0.017446) with: {'class_weight': 'balanced', 'max_depth': 5, 'max_features': 'log2', 'max_leaf_nodes': 10, 'n_estimators': 100}\n",
      "0.950000 (0.010645) with: {'class_weight': 'balanced', 'max_depth': 5, 'max_features': 'log2', 'max_leaf_nodes': 10, 'n_estimators': 200}\n",
      "0.957143 (0.000434) with: {'class_weight': 'balanced', 'max_depth': 5, 'max_features': 'log2', 'max_leaf_nodes': 10, 'n_estimators': 300}\n",
      "0.950000 (0.010645) with: {'class_weight': 'balanced', 'max_depth': 5, 'max_features': 'log2', 'max_leaf_nodes': 10, 'n_estimators': 400}\n",
      "0.950000 (0.010645) with: {'class_weight': 'balanced', 'max_depth': 5, 'max_features': 'log2', 'max_leaf_nodes': 50, 'n_estimators': 50}\n",
      "0.950000 (0.010645) with: {'class_weight': 'balanced', 'max_depth': 5, 'max_features': 'log2', 'max_leaf_nodes': 50, 'n_estimators': 100}\n",
      "0.950000 (0.010645) with: {'class_weight': 'balanced', 'max_depth': 5, 'max_features': 'log2', 'max_leaf_nodes': 50, 'n_estimators': 200}\n",
      "0.950000 (0.010645) with: {'class_weight': 'balanced', 'max_depth': 5, 'max_features': 'log2', 'max_leaf_nodes': 50, 'n_estimators': 300}\n",
      "0.950000 (0.010645) with: {'class_weight': 'balanced', 'max_depth': 5, 'max_features': 'log2', 'max_leaf_nodes': 50, 'n_estimators': 400}\n",
      "0.942857 (0.010387) with: {'class_weight': 'balanced', 'max_depth': 5, 'max_features': 'log2', 'max_leaf_nodes': 100, 'n_estimators': 50}\n",
      "0.950000 (0.010645) with: {'class_weight': 'balanced', 'max_depth': 5, 'max_features': 'log2', 'max_leaf_nodes': 100, 'n_estimators': 100}\n",
      "0.950000 (0.010645) with: {'class_weight': 'balanced', 'max_depth': 5, 'max_features': 'log2', 'max_leaf_nodes': 100, 'n_estimators': 200}\n",
      "0.950000 (0.010645) with: {'class_weight': 'balanced', 'max_depth': 5, 'max_features': 'log2', 'max_leaf_nodes': 100, 'n_estimators': 300}\n",
      "0.950000 (0.010645) with: {'class_weight': 'balanced', 'max_depth': 5, 'max_features': 'log2', 'max_leaf_nodes': 100, 'n_estimators': 400}\n",
      "0.942857 (0.020856) with: {'class_weight': 'balanced', 'max_depth': 10, 'max_features': 'auto', 'max_leaf_nodes': 10, 'n_estimators': 50}\n",
      "0.950000 (0.010645) with: {'class_weight': 'balanced', 'max_depth': 10, 'max_features': 'auto', 'max_leaf_nodes': 10, 'n_estimators': 100}\n",
      "0.950000 (0.010645) with: {'class_weight': 'balanced', 'max_depth': 10, 'max_features': 'auto', 'max_leaf_nodes': 10, 'n_estimators': 200}\n",
      "0.950000 (0.010645) with: {'class_weight': 'balanced', 'max_depth': 10, 'max_features': 'auto', 'max_leaf_nodes': 10, 'n_estimators': 300}\n",
      "0.950000 (0.010645) with: {'class_weight': 'balanced', 'max_depth': 10, 'max_features': 'auto', 'max_leaf_nodes': 10, 'n_estimators': 400}\n",
      "0.942857 (0.020856) with: {'class_weight': 'balanced', 'max_depth': 10, 'max_features': 'auto', 'max_leaf_nodes': 50, 'n_estimators': 50}\n",
      "0.942857 (0.020856) with: {'class_weight': 'balanced', 'max_depth': 10, 'max_features': 'auto', 'max_leaf_nodes': 50, 'n_estimators': 100}\n",
      "0.950000 (0.010645) with: {'class_weight': 'balanced', 'max_depth': 10, 'max_features': 'auto', 'max_leaf_nodes': 50, 'n_estimators': 200}\n",
      "0.950000 (0.010645) with: {'class_weight': 'balanced', 'max_depth': 10, 'max_features': 'auto', 'max_leaf_nodes': 50, 'n_estimators': 300}\n",
      "0.942857 (0.020856) with: {'class_weight': 'balanced', 'max_depth': 10, 'max_features': 'auto', 'max_leaf_nodes': 50, 'n_estimators': 400}\n",
      "0.942857 (0.020856) with: {'class_weight': 'balanced', 'max_depth': 10, 'max_features': 'auto', 'max_leaf_nodes': 100, 'n_estimators': 50}\n",
      "0.950000 (0.010645) with: {'class_weight': 'balanced', 'max_depth': 10, 'max_features': 'auto', 'max_leaf_nodes': 100, 'n_estimators': 100}\n",
      "0.942857 (0.020856) with: {'class_weight': 'balanced', 'max_depth': 10, 'max_features': 'auto', 'max_leaf_nodes': 100, 'n_estimators': 200}\n",
      "0.950000 (0.010645) with: {'class_weight': 'balanced', 'max_depth': 10, 'max_features': 'auto', 'max_leaf_nodes': 100, 'n_estimators': 300}\n",
      "0.942857 (0.020856) with: {'class_weight': 'balanced', 'max_depth': 10, 'max_features': 'auto', 'max_leaf_nodes': 100, 'n_estimators': 400}\n",
      "0.942857 (0.010387) with: {'class_weight': 'balanced', 'max_depth': 10, 'max_features': 'sqrt', 'max_leaf_nodes': 10, 'n_estimators': 50}\n",
      "0.950000 (0.010645) with: {'class_weight': 'balanced', 'max_depth': 10, 'max_features': 'sqrt', 'max_leaf_nodes': 10, 'n_estimators': 100}\n",
      "0.950000 (0.010645) with: {'class_weight': 'balanced', 'max_depth': 10, 'max_features': 'sqrt', 'max_leaf_nodes': 10, 'n_estimators': 200}\n",
      "0.950000 (0.010645) with: {'class_weight': 'balanced', 'max_depth': 10, 'max_features': 'sqrt', 'max_leaf_nodes': 10, 'n_estimators': 300}\n",
      "0.942857 (0.020856) with: {'class_weight': 'balanced', 'max_depth': 10, 'max_features': 'sqrt', 'max_leaf_nodes': 10, 'n_estimators': 400}\n",
      "0.950000 (0.010645) with: {'class_weight': 'balanced', 'max_depth': 10, 'max_features': 'sqrt', 'max_leaf_nodes': 50, 'n_estimators': 50}\n",
      "0.942857 (0.020856) with: {'class_weight': 'balanced', 'max_depth': 10, 'max_features': 'sqrt', 'max_leaf_nodes': 50, 'n_estimators': 100}\n",
      "0.942857 (0.020856) with: {'class_weight': 'balanced', 'max_depth': 10, 'max_features': 'sqrt', 'max_leaf_nodes': 50, 'n_estimators': 200}\n",
      "0.942857 (0.020856) with: {'class_weight': 'balanced', 'max_depth': 10, 'max_features': 'sqrt', 'max_leaf_nodes': 50, 'n_estimators': 300}\n",
      "0.950000 (0.010645) with: {'class_weight': 'balanced', 'max_depth': 10, 'max_features': 'sqrt', 'max_leaf_nodes': 50, 'n_estimators': 400}\n",
      "0.942857 (0.020856) with: {'class_weight': 'balanced', 'max_depth': 10, 'max_features': 'sqrt', 'max_leaf_nodes': 100, 'n_estimators': 50}\n",
      "0.950000 (0.010645) with: {'class_weight': 'balanced', 'max_depth': 10, 'max_features': 'sqrt', 'max_leaf_nodes': 100, 'n_estimators': 100}\n",
      "0.942857 (0.020856) with: {'class_weight': 'balanced', 'max_depth': 10, 'max_features': 'sqrt', 'max_leaf_nodes': 100, 'n_estimators': 200}\n",
      "0.942857 (0.020856) with: {'class_weight': 'balanced', 'max_depth': 10, 'max_features': 'sqrt', 'max_leaf_nodes': 100, 'n_estimators': 300}\n",
      "0.950000 (0.010645) with: {'class_weight': 'balanced', 'max_depth': 10, 'max_features': 'sqrt', 'max_leaf_nodes': 100, 'n_estimators': 400}\n",
      "0.942857 (0.020856) with: {'class_weight': 'balanced', 'max_depth': 10, 'max_features': 'log2', 'max_leaf_nodes': 10, 'n_estimators': 50}\n",
      "0.950000 (0.010645) with: {'class_weight': 'balanced', 'max_depth': 10, 'max_features': 'log2', 'max_leaf_nodes': 10, 'n_estimators': 100}\n",
      "0.950000 (0.010645) with: {'class_weight': 'balanced', 'max_depth': 10, 'max_features': 'log2', 'max_leaf_nodes': 10, 'n_estimators': 200}\n",
      "0.950000 (0.010645) with: {'class_weight': 'balanced', 'max_depth': 10, 'max_features': 'log2', 'max_leaf_nodes': 10, 'n_estimators': 300}\n",
      "0.950000 (0.010645) with: {'class_weight': 'balanced', 'max_depth': 10, 'max_features': 'log2', 'max_leaf_nodes': 10, 'n_estimators': 400}\n",
      "0.950000 (0.010645) with: {'class_weight': 'balanced', 'max_depth': 10, 'max_features': 'log2', 'max_leaf_nodes': 50, 'n_estimators': 50}\n",
      "0.942857 (0.020856) with: {'class_weight': 'balanced', 'max_depth': 10, 'max_features': 'log2', 'max_leaf_nodes': 50, 'n_estimators': 100}\n",
      "0.942857 (0.020856) with: {'class_weight': 'balanced', 'max_depth': 10, 'max_features': 'log2', 'max_leaf_nodes': 50, 'n_estimators': 200}\n",
      "0.942857 (0.020856) with: {'class_weight': 'balanced', 'max_depth': 10, 'max_features': 'log2', 'max_leaf_nodes': 50, 'n_estimators': 300}\n",
      "0.950000 (0.010645) with: {'class_weight': 'balanced', 'max_depth': 10, 'max_features': 'log2', 'max_leaf_nodes': 50, 'n_estimators': 400}\n",
      "0.942857 (0.010387) with: {'class_weight': 'balanced', 'max_depth': 10, 'max_features': 'log2', 'max_leaf_nodes': 100, 'n_estimators': 50}\n",
      "0.942857 (0.020856) with: {'class_weight': 'balanced', 'max_depth': 10, 'max_features': 'log2', 'max_leaf_nodes': 100, 'n_estimators': 100}\n",
      "0.942857 (0.020856) with: {'class_weight': 'balanced', 'max_depth': 10, 'max_features': 'log2', 'max_leaf_nodes': 100, 'n_estimators': 200}\n",
      "0.950000 (0.010645) with: {'class_weight': 'balanced', 'max_depth': 10, 'max_features': 'log2', 'max_leaf_nodes': 100, 'n_estimators': 300}\n",
      "0.950000 (0.010645) with: {'class_weight': 'balanced', 'max_depth': 10, 'max_features': 'log2', 'max_leaf_nodes': 100, 'n_estimators': 400}\n",
      "0.950000 (0.010645) with: {'class_weight': 'balanced', 'max_depth': 20, 'max_features': 'auto', 'max_leaf_nodes': 10, 'n_estimators': 50}\n",
      "0.950000 (0.010645) with: {'class_weight': 'balanced', 'max_depth': 20, 'max_features': 'auto', 'max_leaf_nodes': 10, 'n_estimators': 100}\n",
      "0.942857 (0.020856) with: {'class_weight': 'balanced', 'max_depth': 20, 'max_features': 'auto', 'max_leaf_nodes': 10, 'n_estimators': 200}\n",
      "0.950000 (0.010645) with: {'class_weight': 'balanced', 'max_depth': 20, 'max_features': 'auto', 'max_leaf_nodes': 10, 'n_estimators': 300}\n",
      "0.950000 (0.010645) with: {'class_weight': 'balanced', 'max_depth': 20, 'max_features': 'auto', 'max_leaf_nodes': 10, 'n_estimators': 400}\n",
      "0.950000 (0.027283) with: {'class_weight': 'balanced', 'max_depth': 20, 'max_features': 'auto', 'max_leaf_nodes': 50, 'n_estimators': 50}\n",
      "0.950000 (0.010645) with: {'class_weight': 'balanced', 'max_depth': 20, 'max_features': 'auto', 'max_leaf_nodes': 50, 'n_estimators': 100}\n",
      "0.942857 (0.020856) with: {'class_weight': 'balanced', 'max_depth': 20, 'max_features': 'auto', 'max_leaf_nodes': 50, 'n_estimators': 200}\n",
      "0.950000 (0.010645) with: {'class_weight': 'balanced', 'max_depth': 20, 'max_features': 'auto', 'max_leaf_nodes': 50, 'n_estimators': 300}\n",
      "0.942857 (0.020856) with: {'class_weight': 'balanced', 'max_depth': 20, 'max_features': 'auto', 'max_leaf_nodes': 50, 'n_estimators': 400}\n",
      "0.942857 (0.020856) with: {'class_weight': 'balanced', 'max_depth': 20, 'max_features': 'auto', 'max_leaf_nodes': 100, 'n_estimators': 50}\n",
      "0.942857 (0.020856) with: {'class_weight': 'balanced', 'max_depth': 20, 'max_features': 'auto', 'max_leaf_nodes': 100, 'n_estimators': 100}\n",
      "0.942857 (0.020856) with: {'class_weight': 'balanced', 'max_depth': 20, 'max_features': 'auto', 'max_leaf_nodes': 100, 'n_estimators': 200}\n",
      "0.950000 (0.010645) with: {'class_weight': 'balanced', 'max_depth': 20, 'max_features': 'auto', 'max_leaf_nodes': 100, 'n_estimators': 300}\n",
      "0.942857 (0.020856) with: {'class_weight': 'balanced', 'max_depth': 20, 'max_features': 'auto', 'max_leaf_nodes': 100, 'n_estimators': 400}\n",
      "0.950000 (0.010645) with: {'class_weight': 'balanced', 'max_depth': 20, 'max_features': 'sqrt', 'max_leaf_nodes': 10, 'n_estimators': 50}\n",
      "0.950000 (0.010645) with: {'class_weight': 'balanced', 'max_depth': 20, 'max_features': 'sqrt', 'max_leaf_nodes': 10, 'n_estimators': 100}\n",
      "0.942857 (0.020856) with: {'class_weight': 'balanced', 'max_depth': 20, 'max_features': 'sqrt', 'max_leaf_nodes': 10, 'n_estimators': 200}\n",
      "0.942857 (0.020856) with: {'class_weight': 'balanced', 'max_depth': 20, 'max_features': 'sqrt', 'max_leaf_nodes': 10, 'n_estimators': 300}\n",
      "0.950000 (0.010645) with: {'class_weight': 'balanced', 'max_depth': 20, 'max_features': 'sqrt', 'max_leaf_nodes': 10, 'n_estimators': 400}\n",
      "0.950000 (0.010645) with: {'class_weight': 'balanced', 'max_depth': 20, 'max_features': 'sqrt', 'max_leaf_nodes': 50, 'n_estimators': 50}\n",
      "0.950000 (0.010645) with: {'class_weight': 'balanced', 'max_depth': 20, 'max_features': 'sqrt', 'max_leaf_nodes': 50, 'n_estimators': 100}\n",
      "0.942857 (0.020856) with: {'class_weight': 'balanced', 'max_depth': 20, 'max_features': 'sqrt', 'max_leaf_nodes': 50, 'n_estimators': 200}\n",
      "0.942857 (0.020856) with: {'class_weight': 'balanced', 'max_depth': 20, 'max_features': 'sqrt', 'max_leaf_nodes': 50, 'n_estimators': 300}\n",
      "0.950000 (0.010645) with: {'class_weight': 'balanced', 'max_depth': 20, 'max_features': 'sqrt', 'max_leaf_nodes': 50, 'n_estimators': 400}\n",
      "0.942857 (0.020856) with: {'class_weight': 'balanced', 'max_depth': 20, 'max_features': 'sqrt', 'max_leaf_nodes': 100, 'n_estimators': 50}\n",
      "0.950000 (0.010645) with: {'class_weight': 'balanced', 'max_depth': 20, 'max_features': 'sqrt', 'max_leaf_nodes': 100, 'n_estimators': 100}\n",
      "0.942857 (0.020856) with: {'class_weight': 'balanced', 'max_depth': 20, 'max_features': 'sqrt', 'max_leaf_nodes': 100, 'n_estimators': 200}\n",
      "0.950000 (0.010645) with: {'class_weight': 'balanced', 'max_depth': 20, 'max_features': 'sqrt', 'max_leaf_nodes': 100, 'n_estimators': 300}\n",
      "0.950000 (0.010645) with: {'class_weight': 'balanced', 'max_depth': 20, 'max_features': 'sqrt', 'max_leaf_nodes': 100, 'n_estimators': 400}\n",
      "0.950000 (0.009839) with: {'class_weight': 'balanced', 'max_depth': 20, 'max_features': 'log2', 'max_leaf_nodes': 10, 'n_estimators': 50}\n",
      "0.950000 (0.010645) with: {'class_weight': 'balanced', 'max_depth': 20, 'max_features': 'log2', 'max_leaf_nodes': 10, 'n_estimators': 100}\n",
      "0.950000 (0.010645) with: {'class_weight': 'balanced', 'max_depth': 20, 'max_features': 'log2', 'max_leaf_nodes': 10, 'n_estimators': 200}\n",
      "0.950000 (0.010645) with: {'class_weight': 'balanced', 'max_depth': 20, 'max_features': 'log2', 'max_leaf_nodes': 10, 'n_estimators': 300}\n",
      "0.950000 (0.010645) with: {'class_weight': 'balanced', 'max_depth': 20, 'max_features': 'log2', 'max_leaf_nodes': 10, 'n_estimators': 400}\n",
      "0.942857 (0.020856) with: {'class_weight': 'balanced', 'max_depth': 20, 'max_features': 'log2', 'max_leaf_nodes': 50, 'n_estimators': 50}\n",
      "0.950000 (0.010645) with: {'class_weight': 'balanced', 'max_depth': 20, 'max_features': 'log2', 'max_leaf_nodes': 50, 'n_estimators': 100}\n",
      "0.942857 (0.020856) with: {'class_weight': 'balanced', 'max_depth': 20, 'max_features': 'log2', 'max_leaf_nodes': 50, 'n_estimators': 200}\n",
      "0.950000 (0.010645) with: {'class_weight': 'balanced', 'max_depth': 20, 'max_features': 'log2', 'max_leaf_nodes': 50, 'n_estimators': 300}\n",
      "0.942857 (0.020856) with: {'class_weight': 'balanced', 'max_depth': 20, 'max_features': 'log2', 'max_leaf_nodes': 50, 'n_estimators': 400}\n",
      "0.942857 (0.020856) with: {'class_weight': 'balanced', 'max_depth': 20, 'max_features': 'log2', 'max_leaf_nodes': 100, 'n_estimators': 50}\n",
      "0.942857 (0.020856) with: {'class_weight': 'balanced', 'max_depth': 20, 'max_features': 'log2', 'max_leaf_nodes': 100, 'n_estimators': 100}\n",
      "0.942857 (0.020856) with: {'class_weight': 'balanced', 'max_depth': 20, 'max_features': 'log2', 'max_leaf_nodes': 100, 'n_estimators': 200}\n",
      "0.942857 (0.020856) with: {'class_weight': 'balanced', 'max_depth': 20, 'max_features': 'log2', 'max_leaf_nodes': 100, 'n_estimators': 300}\n",
      "0.950000 (0.010645) with: {'class_weight': 'balanced', 'max_depth': 20, 'max_features': 'log2', 'max_leaf_nodes': 100, 'n_estimators': 400}\n"
     ]
    }
   ],
   "source": [
    "#####grid search (the parameters predict everything to one class, we should use a separated \n",
    "#sample for tuning parameters, but not enough cases so far)\n",
    "\n",
    "parameters = [{'max_features':['auto','sqrt','log2'], 'class_weight':['balanced'], \n",
    "               'max_leaf_nodes':[10,50,100], 'max_depth':[2,5,10,20], 'n_estimators' : [50,100,200,300,400]}]\n",
    "                   \n",
    "grid_search_item = GridSearchCV(rf,\n",
    "                          param_grid = parameters,\n",
    "                           scoring = 'accuracy',\n",
    "                           n_jobs = -1)\n",
    "grid_search = grid_search_item.fit(X_train, y_train)\n",
    "\n",
    "print(grid_search.best_score_)####not sure how come this is so good,but the parameters don't work good in the model\n",
    "print(grid_search.best_params_)\n",
    "\n",
    "means = grid_search.cv_results_['mean_test_score']\n",
    "stds = grid_search.cv_results_['std_test_score']\n",
    "params = grid_search.cv_results_['params']\n",
    "for mean, stdev, param in zip(means, stds, params):\n",
    "    print(\"%f (%f) with: %r\" % (mean, stdev, param))"
   ]
  },
  {
   "cell_type": "code",
   "execution_count": 462,
   "metadata": {
    "collapsed": true
   },
   "outputs": [],
   "source": [
    "rf = RandomForestClassifier(n_estimators=100, max_depth=2, class_weight = 'balanced',\n",
    "                             random_state=0, max_leaf_nodes = 10, max_features = 'auto')"
   ]
  },
  {
   "cell_type": "code",
   "execution_count": 463,
   "metadata": {},
   "outputs": [
    {
     "data": {
      "text/plain": [
       "RandomForestClassifier(bootstrap=True, class_weight='balanced',\n",
       "            criterion='gini', max_depth=2, max_features='auto',\n",
       "            max_leaf_nodes=10, min_impurity_decrease=0.0,\n",
       "            min_impurity_split=None, min_samples_leaf=1,\n",
       "            min_samples_split=2, min_weight_fraction_leaf=0.0,\n",
       "            n_estimators=100, n_jobs=1, oob_score=False, random_state=0,\n",
       "            verbose=0, warm_start=False)"
      ]
     },
     "execution_count": 463,
     "metadata": {},
     "output_type": "execute_result"
    }
   ],
   "source": [
    "rf.fit(X_train, y_train)"
   ]
  },
  {
   "cell_type": "code",
   "execution_count": 464,
   "metadata": {},
   "outputs": [
    {
     "name": "stdout",
     "output_type": "stream",
     "text": [
      "[0.17171661 0.04148736 0.10432033 0.03711421 0.05156833 0.02549576\n",
      " 0.01311196 0.01171383 0.0091623  0.051459   0.48285031]\n"
     ]
    }
   ],
   "source": [
    "print(rf.feature_importances_)"
   ]
  },
  {
   "cell_type": "code",
   "execution_count": 465,
   "metadata": {},
   "outputs": [],
   "source": [
    "y = rf.predict(X_test)\n"
   ]
  },
  {
   "cell_type": "code",
   "execution_count": null,
   "metadata": {},
   "outputs": [],
   "source": []
  },
  {
   "cell_type": "code",
   "execution_count": 466,
   "metadata": {},
   "outputs": [
    {
     "name": "stdout",
     "output_type": "stream",
     "text": [
      "F1: [0.97959184 0.90909091]\n",
      "confusion Matrix: [[48  0]\n",
      " [ 2 10]]\n",
      "Recall: 0.8333333333333334\n",
      "Precision: 1.0\n"
     ]
    }
   ],
   "source": [
    "print('F1:', f1_score(y_test, y, average= None))\n",
    "cm = confusion_matrix(y_test, y)\n",
    "print('confusion Matrix:', cm)\n",
    "print ('Recall:', recall_score(y_test, y))\n",
    "print ('Precision:', precision_score(y_test, y))"
   ]
  },
  {
   "cell_type": "markdown",
   "metadata": {
    "collapsed": true
   },
   "source": [
    "#Rule based classifier"
   ]
  },
  {
   "cell_type": "code",
   "execution_count": 332,
   "metadata": {},
   "outputs": [
    {
     "data": {
      "text/html": [
       "<div>\n",
       "<style>\n",
       "    .dataframe thead tr:only-child th {\n",
       "        text-align: right;\n",
       "    }\n",
       "\n",
       "    .dataframe thead th {\n",
       "        text-align: left;\n",
       "    }\n",
       "\n",
       "    .dataframe tbody tr th {\n",
       "        vertical-align: top;\n",
       "    }\n",
       "</style>\n",
       "<table border=\"1\" class=\"dataframe\">\n",
       "  <thead>\n",
       "    <tr style=\"text-align: right;\">\n",
       "      <th></th>\n",
       "      <th>hash</th>\n",
       "      <th>text</th>\n",
       "      <th>count</th>\n",
       "      <th>cosineSim</th>\n",
       "      <th>label</th>\n",
       "      <th>manual</th>\n",
       "    </tr>\n",
       "  </thead>\n",
       "  <tbody>\n",
       "    <tr>\n",
       "      <th>0</th>\n",
       "      <td>-4.240000e+18</td>\n",
       "      <td>VIRUS SPREADING LIKE WILDFIRE ON FB. ITS A TRO...</td>\n",
       "      <td>[0, 0, 0, 0, 0, 0, 0, 0, 0]</td>\n",
       "      <td>0.956189</td>\n",
       "      <td>0</td>\n",
       "      <td>1</td>\n",
       "    </tr>\n",
       "    <tr>\n",
       "      <th>1</th>\n",
       "      <td>7.570000e+18</td>\n",
       "      <td>They say true friends go long periods of time ...</td>\n",
       "      <td>[0, 0, 0, 0, 0, 0, 0, 0, 0]</td>\n",
       "      <td>0.924270</td>\n",
       "      <td>0</td>\n",
       "      <td>1</td>\n",
       "    </tr>\n",
       "    <tr>\n",
       "      <th>2</th>\n",
       "      <td>3.580000e+18</td>\n",
       "      <td>Going to church doesn't make you a holy person...</td>\n",
       "      <td>[0, 0, 0, 0, 0, 0, 0, 0, 0, 0]</td>\n",
       "      <td>0.936195</td>\n",
       "      <td>0</td>\n",
       "      <td>1</td>\n",
       "    </tr>\n",
       "    <tr>\n",
       "      <th>3</th>\n",
       "      <td>-1.990000e+18</td>\n",
       "      <td>From Lady Gaga's Bad Romance: /I want your psy...</td>\n",
       "      <td>[4, 0, 0]</td>\n",
       "      <td>0.932406</td>\n",
       "      <td>0</td>\n",
       "      <td>1</td>\n",
       "    </tr>\n",
       "    <tr>\n",
       "      <th>4</th>\n",
       "      <td>2.910000e+18</td>\n",
       "      <td>The first woman was created from the rib of a ...</td>\n",
       "      <td>[4, 1, 2, 0, 0, 0, 0, 0, 2]</td>\n",
       "      <td>0.976999</td>\n",
       "      <td>1</td>\n",
       "      <td>1</td>\n",
       "    </tr>\n",
       "  </tbody>\n",
       "</table>\n",
       "</div>"
      ],
      "text/plain": [
       "           hash                                               text  \\\n",
       "0 -4.240000e+18  VIRUS SPREADING LIKE WILDFIRE ON FB. ITS A TRO...   \n",
       "1  7.570000e+18  They say true friends go long periods of time ...   \n",
       "2  3.580000e+18  Going to church doesn't make you a holy person...   \n",
       "3 -1.990000e+18  From Lady Gaga's Bad Romance: /I want your psy...   \n",
       "4  2.910000e+18  The first woman was created from the rib of a ...   \n",
       "\n",
       "                            count  cosineSim  label  manual  \n",
       "0     [0, 0, 0, 0, 0, 0, 0, 0, 0]   0.956189      0       1  \n",
       "1     [0, 0, 0, 0, 0, 0, 0, 0, 0]   0.924270      0       1  \n",
       "2  [0, 0, 0, 0, 0, 0, 0, 0, 0, 0]   0.936195      0       1  \n",
       "3                       [4, 0, 0]   0.932406      0       1  \n",
       "4     [4, 1, 2, 0, 0, 0, 0, 0, 2]   0.976999      1       1  "
      ]
     },
     "execution_count": 332,
     "metadata": {},
     "output_type": "execute_result"
    }
   ],
   "source": [
    "rule = pd.read_csv('./LableResults/EvaluateSample3_fscore.csv')\n",
    "rule[0:5]"
   ]
  },
  {
   "cell_type": "code",
   "execution_count": 333,
   "metadata": {},
   "outputs": [],
   "source": [
    "y_pred = rule['label']\n",
    "y = rule['manual']"
   ]
  },
  {
   "cell_type": "code",
   "execution_count": 339,
   "metadata": {},
   "outputs": [
    {
     "name": "stdout",
     "output_type": "stream",
     "text": [
      "F1: [0.98245614 0.89655172]\n",
      "confusion Matrix: [[168   6]\n",
      " [  0  26]]\n",
      "Recall: 1.0\n",
      "Precision: 0.8125\n"
     ]
    }
   ],
   "source": [
    "print('F1:', f1_score(y_pred, y, average= None))\n",
    "cm = confusion_matrix(y_pred, y)\n",
    "print('confusion Matrix:', cm)\n",
    "print ('Recall:', recall_score(y_pred, y))\n",
    "print ('Precision:', precision_score(y_pred, y))"
   ]
  },
  {
   "cell_type": "code",
   "execution_count": null,
   "metadata": {
    "collapsed": true
   },
   "outputs": [],
   "source": []
  }
 ],
 "metadata": {
  "kernelspec": {
   "display_name": "Python 3",
   "language": "python",
   "name": "python3"
  },
  "language_info": {
   "codemirror_mode": {
    "name": "ipython",
    "version": 3
   },
   "file_extension": ".py",
   "mimetype": "text/x-python",
   "name": "python",
   "nbconvert_exporter": "python",
   "pygments_lexer": "ipython3",
   "version": "3.6.1"
  }
 },
 "nbformat": 4,
 "nbformat_minor": 2
}
