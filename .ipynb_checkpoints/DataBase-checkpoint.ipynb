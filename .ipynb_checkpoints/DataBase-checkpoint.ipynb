{
 "cells": [
  {
   "cell_type": "markdown",
   "metadata": {},
   "source": [
    "This script generates the data for the database"
   ]
  },
  {
   "cell_type": "code",
   "execution_count": 13,
   "metadata": {
    "collapsed": true
   },
   "outputs": [],
   "source": [
    "import pandas as pd\n",
    "import numpy as np"
   ]
  },
  {
   "cell_type": "code",
   "execution_count": 161,
   "metadata": {},
   "outputs": [
    {
     "data": {
      "text/plain": [
       "4520"
      ]
     },
     "execution_count": 161,
     "metadata": {},
     "output_type": "execute_result"
    }
   ],
   "source": [
    "#machine annotate data\n",
    "data = pd.read_csv('allPredLabel.csv')\n",
    "len(data)"
   ]
  },
  {
   "cell_type": "code",
   "execution_count": 177,
   "metadata": {
    "scrolled": true
   },
   "outputs": [
    {
     "data": {
      "text/plain": [
       "3940"
      ]
     },
     "execution_count": 177,
     "metadata": {},
     "output_type": "execute_result"
    }
   ],
   "source": [
    "#select no quote data\n",
    "dataNoL = data[data['result'] == 0]\n",
    "len(dataNoL)"
   ]
  },
  {
   "cell_type": "code",
   "execution_count": 178,
   "metadata": {},
   "outputs": [
    {
     "data": {
      "text/plain": [
       "3940"
      ]
     },
     "execution_count": 178,
     "metadata": {},
     "output_type": "execute_result"
    }
   ],
   "source": [
    "#dataNoL\n",
    "database = pd.DataFrame()\n",
    "database['text'] = dataNoL['text']\n",
    "database = database.assign (annotation = 0)\n",
    "database = database.assign (annotation_date = np.nan)\n",
    "database = database.reset_index()\n",
    "database = database.assign(id = database.index + 1)\n",
    "len(database)"
   ]
  },
  {
   "cell_type": "code",
   "execution_count": 179,
   "metadata": {},
   "outputs": [],
   "source": [
    "#generate an array with 3 numbers\n",
    "pid = np.random.choice([44553, 22334, 33442], size=3940)"
   ]
  },
  {
   "cell_type": "code",
   "execution_count": 180,
   "metadata": {},
   "outputs": [
    {
     "data": {
      "text/html": [
       "<div>\n",
       "<style>\n",
       "    .dataframe thead tr:only-child th {\n",
       "        text-align: right;\n",
       "    }\n",
       "\n",
       "    .dataframe thead th {\n",
       "        text-align: left;\n",
       "    }\n",
       "\n",
       "    .dataframe tbody tr th {\n",
       "        vertical-align: top;\n",
       "    }\n",
       "</style>\n",
       "<table border=\"1\" class=\"dataframe\">\n",
       "  <thead>\n",
       "    <tr style=\"text-align: right;\">\n",
       "      <th></th>\n",
       "      <th>text</th>\n",
       "      <th>annotation</th>\n",
       "      <th>annotation_date</th>\n",
       "      <th>id</th>\n",
       "      <th>ParticipantID</th>\n",
       "    </tr>\n",
       "  </thead>\n",
       "  <tbody>\n",
       "    <tr>\n",
       "      <th>0</th>\n",
       "      <td>A morning filled with the goodness of God's pe...</td>\n",
       "      <td>0</td>\n",
       "      <td>NULL</td>\n",
       "      <td>1</td>\n",
       "      <td>22334</td>\n",
       "    </tr>\n",
       "    <tr>\n",
       "      <th>1</th>\n",
       "      <td>2) But because the pieces aren't exact, I have...</td>\n",
       "      <td>0</td>\n",
       "      <td>NULL</td>\n",
       "      <td>2</td>\n",
       "      <td>22334</td>\n",
       "    </tr>\n",
       "    <tr>\n",
       "      <th>2</th>\n",
       "      <td>In ten minutes, my computer will announce to m...</td>\n",
       "      <td>0</td>\n",
       "      <td>NULL</td>\n",
       "      <td>3</td>\n",
       "      <td>33442</td>\n",
       "    </tr>\n",
       "    <tr>\n",
       "      <th>3</th>\n",
       "      <td>One more thing lol, the /Get schooled/\" thing ...</td>\n",
       "      <td>0</td>\n",
       "      <td>NULL</td>\n",
       "      <td>4</td>\n",
       "      <td>44553</td>\n",
       "    </tr>\n",
       "    <tr>\n",
       "      <th>4</th>\n",
       "      <td>Lucasfilm's has stated that as the movie indus...</td>\n",
       "      <td>0</td>\n",
       "      <td>NULL</td>\n",
       "      <td>5</td>\n",
       "      <td>33442</td>\n",
       "    </tr>\n",
       "    <tr>\n",
       "      <th>5</th>\n",
       "      <td>OMG what is happening to this world there was ...</td>\n",
       "      <td>0</td>\n",
       "      <td>NULL</td>\n",
       "      <td>6</td>\n",
       "      <td>44553</td>\n",
       "    </tr>\n",
       "    <tr>\n",
       "      <th>6</th>\n",
       "      <td>I must be a horrible person to be around, sinc...</td>\n",
       "      <td>0</td>\n",
       "      <td>NULL</td>\n",
       "      <td>7</td>\n",
       "      <td>44553</td>\n",
       "    </tr>\n",
       "    <tr>\n",
       "      <th>7</th>\n",
       "      <td>so many disney movies to watch! already got mu...</td>\n",
       "      <td>0</td>\n",
       "      <td>NULL</td>\n",
       "      <td>8</td>\n",
       "      <td>44553</td>\n",
       "    </tr>\n",
       "    <tr>\n",
       "      <th>8</th>\n",
       "      <td>Now its time to see what is real who is real, ...</td>\n",
       "      <td>0</td>\n",
       "      <td>NULL</td>\n",
       "      <td>9</td>\n",
       "      <td>22334</td>\n",
       "    </tr>\n",
       "    <tr>\n",
       "      <th>9</th>\n",
       "      <td>I'm so proud of myself and all of 1st platoon ...</td>\n",
       "      <td>0</td>\n",
       "      <td>NULL</td>\n",
       "      <td>10</td>\n",
       "      <td>33442</td>\n",
       "    </tr>\n",
       "  </tbody>\n",
       "</table>\n",
       "</div>"
      ],
      "text/plain": [
       "                                                text  annotation  \\\n",
       "0  A morning filled with the goodness of God's pe...           0   \n",
       "1  2) But because the pieces aren't exact, I have...           0   \n",
       "2  In ten minutes, my computer will announce to m...           0   \n",
       "3  One more thing lol, the /Get schooled/\" thing ...           0   \n",
       "4  Lucasfilm's has stated that as the movie indus...           0   \n",
       "5  OMG what is happening to this world there was ...           0   \n",
       "6  I must be a horrible person to be around, sinc...           0   \n",
       "7  so many disney movies to watch! already got mu...           0   \n",
       "8  Now its time to see what is real who is real, ...           0   \n",
       "9  I'm so proud of myself and all of 1st platoon ...           0   \n",
       "\n",
       "  annotation_date  id  ParticipantID  \n",
       "0            NULL   1          22334  \n",
       "1            NULL   2          22334  \n",
       "2            NULL   3          33442  \n",
       "3            NULL   4          44553  \n",
       "4            NULL   5          33442  \n",
       "5            NULL   6          44553  \n",
       "6            NULL   7          44553  \n",
       "7            NULL   8          44553  \n",
       "8            NULL   9          22334  \n",
       "9            NULL  10          33442  "
      ]
     },
     "execution_count": 180,
     "metadata": {},
     "output_type": "execute_result"
    }
   ],
   "source": [
    "database = database.assign(ParticipantID = pid) \n",
    "database = database.drop(['index'], axis=1)\n",
    "database[0:10]"
   ]
  },
  {
   "cell_type": "code",
   "execution_count": 181,
   "metadata": {},
   "outputs": [
    {
     "name": "stdout",
     "output_type": "stream",
     "text": [
      "1298\n",
      "1324\n",
      "1318\n"
     ]
    }
   ],
   "source": [
    "print(len(database[database['ParticipantID'] == 22334]))\n",
    "print(len(database[database['ParticipantID'] == 44553]))\n",
    "print(len(database[database['ParticipantID'] == 33442]))"
   ]
  },
  {
   "cell_type": "code",
   "execution_count": 182,
   "metadata": {},
   "outputs": [],
   "source": [
    "database['ParticipantID'] = database['ParticipantID'].astype(str)\n",
    "#database['ParticipantID'] = '\"' + database.ParticipantID + '\"'"
   ]
  },
  {
   "cell_type": "code",
   "execution_count": 183,
   "metadata": {},
   "outputs": [
    {
     "data": {
      "text/html": [
       "<div>\n",
       "<style>\n",
       "    .dataframe thead tr:only-child th {\n",
       "        text-align: right;\n",
       "    }\n",
       "\n",
       "    .dataframe thead th {\n",
       "        text-align: left;\n",
       "    }\n",
       "\n",
       "    .dataframe tbody tr th {\n",
       "        vertical-align: top;\n",
       "    }\n",
       "</style>\n",
       "<table border=\"1\" class=\"dataframe\">\n",
       "  <thead>\n",
       "    <tr style=\"text-align: right;\">\n",
       "      <th></th>\n",
       "      <th>ParticipantID</th>\n",
       "      <th>id</th>\n",
       "      <th>text</th>\n",
       "      <th>annotation</th>\n",
       "      <th>annotation_date</th>\n",
       "    </tr>\n",
       "  </thead>\n",
       "  <tbody>\n",
       "    <tr>\n",
       "      <th>1</th>\n",
       "      <td>22334</td>\n",
       "      <td>2</td>\n",
       "      <td>2) But because the pieces aren't exact, I have...</td>\n",
       "      <td>0</td>\n",
       "      <td>NULL</td>\n",
       "    </tr>\n",
       "    <tr>\n",
       "      <th>2</th>\n",
       "      <td>33442</td>\n",
       "      <td>3</td>\n",
       "      <td>In ten minutes, my computer will announce to m...</td>\n",
       "      <td>0</td>\n",
       "      <td>NULL</td>\n",
       "    </tr>\n",
       "    <tr>\n",
       "      <th>3</th>\n",
       "      <td>44553</td>\n",
       "      <td>4</td>\n",
       "      <td>One more thing lol, the /Get schooled/\" thing ...</td>\n",
       "      <td>0</td>\n",
       "      <td>NULL</td>\n",
       "    </tr>\n",
       "    <tr>\n",
       "      <th>4</th>\n",
       "      <td>33442</td>\n",
       "      <td>5</td>\n",
       "      <td>Lucasfilm's has stated that as the movie indus...</td>\n",
       "      <td>0</td>\n",
       "      <td>NULL</td>\n",
       "    </tr>\n",
       "    <tr>\n",
       "      <th>5</th>\n",
       "      <td>44553</td>\n",
       "      <td>6</td>\n",
       "      <td>OMG what is happening to this world there was ...</td>\n",
       "      <td>0</td>\n",
       "      <td>NULL</td>\n",
       "    </tr>\n",
       "    <tr>\n",
       "      <th>6</th>\n",
       "      <td>44553</td>\n",
       "      <td>7</td>\n",
       "      <td>I must be a horrible person to be around, sinc...</td>\n",
       "      <td>0</td>\n",
       "      <td>NULL</td>\n",
       "    </tr>\n",
       "    <tr>\n",
       "      <th>7</th>\n",
       "      <td>44553</td>\n",
       "      <td>8</td>\n",
       "      <td>so many disney movies to watch! already got mu...</td>\n",
       "      <td>0</td>\n",
       "      <td>NULL</td>\n",
       "    </tr>\n",
       "    <tr>\n",
       "      <th>8</th>\n",
       "      <td>22334</td>\n",
       "      <td>9</td>\n",
       "      <td>Now its time to see what is real who is real, ...</td>\n",
       "      <td>0</td>\n",
       "      <td>NULL</td>\n",
       "    </tr>\n",
       "    <tr>\n",
       "      <th>9</th>\n",
       "      <td>33442</td>\n",
       "      <td>10</td>\n",
       "      <td>I'm so proud of myself and all of 1st platoon ...</td>\n",
       "      <td>0</td>\n",
       "      <td>NULL</td>\n",
       "    </tr>\n",
       "  </tbody>\n",
       "</table>\n",
       "</div>"
      ],
      "text/plain": [
       "  ParticipantID  id                                               text  \\\n",
       "1         22334   2  2) But because the pieces aren't exact, I have...   \n",
       "2         33442   3  In ten minutes, my computer will announce to m...   \n",
       "3         44553   4  One more thing lol, the /Get schooled/\" thing ...   \n",
       "4         33442   5  Lucasfilm's has stated that as the movie indus...   \n",
       "5         44553   6  OMG what is happening to this world there was ...   \n",
       "6         44553   7  I must be a horrible person to be around, sinc...   \n",
       "7         44553   8  so many disney movies to watch! already got mu...   \n",
       "8         22334   9  Now its time to see what is real who is real, ...   \n",
       "9         33442  10  I'm so proud of myself and all of 1st platoon ...   \n",
       "\n",
       "   annotation annotation_date  \n",
       "1           0            NULL  \n",
       "2           0            NULL  \n",
       "3           0            NULL  \n",
       "4           0            NULL  \n",
       "5           0            NULL  \n",
       "6           0            NULL  \n",
       "7           0            NULL  \n",
       "8           0            NULL  \n",
       "9           0            NULL  "
      ]
     },
     "execution_count": 183,
     "metadata": {},
     "output_type": "execute_result"
    }
   ],
   "source": [
    "database = database[['ParticipantID','id', 'text', 'annotation', 'annotation_date']]\n",
    "database[1:10]"
   ]
  },
  {
   "cell_type": "code",
   "execution_count": 184,
   "metadata": {},
   "outputs": [],
   "source": [
    "database['ParticipantID'] = '(' + database.ParticipantID"
   ]
  },
  {
   "cell_type": "code",
   "execution_count": 174,
   "metadata": {
    "collapsed": true
   },
   "outputs": [],
   "source": [
    "#database['annotation_date'] = database['annotation_date'].astype(str)"
   ]
  },
  {
   "cell_type": "code",
   "execution_count": 186,
   "metadata": {},
   "outputs": [],
   "source": [
    "database['annotation_date'] =  database.annotation_date + '),'"
   ]
  },
  {
   "cell_type": "code",
   "execution_count": 187,
   "metadata": {
    "collapsed": true
   },
   "outputs": [],
   "source": [
    "database.to_csv('database.csv')"
   ]
  },
  {
   "cell_type": "code",
   "execution_count": null,
   "metadata": {
    "collapsed": true
   },
   "outputs": [],
   "source": []
  }
 ],
 "metadata": {
  "kernelspec": {
   "display_name": "Python 3",
   "language": "python",
   "name": "python3"
  },
  "language_info": {
   "codemirror_mode": {
    "name": "ipython",
    "version": 3
   },
   "file_extension": ".py",
   "mimetype": "text/x-python",
   "name": "python",
   "nbconvert_exporter": "python",
   "pygments_lexer": "ipython3",
   "version": "3.6.1"
  }
 },
 "nbformat": 4,
 "nbformat_minor": 2
}
