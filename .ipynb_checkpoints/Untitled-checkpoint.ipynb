{
 "cells": [
  {
   "cell_type": "code",
   "execution_count": 6,
   "metadata": {},
   "outputs": [],
   "source": [
    "from bs4 import BeautifulSoup,SoupStrainer\n",
    "#import urllib\n",
    "#import urllib2\n",
    "import re\n",
    "import time\n",
    "import os\n",
    "import json\n",
    "import redis\n",
    "#from log_code import logger\n",
    "import logging"
   ]
  },
  {
   "cell_type": "code",
   "execution_count": 7,
   "metadata": {
    "collapsed": true
   },
   "outputs": [],
   "source": [
    "r = redis.Redis()\n",
    "\n",
    "user_agent = 'Mozilla/5.0 (Windows NT 6.1; rv:10.0) Gecko/20100101 Firefox/10.0'\n",
    "main_url='http://m.tianya.cn/bbs/'\n",
    "vu = '48886414191'   #在天涯的手机版本会有一个vu,每次访问不同"
   ]
  },
  {
   "cell_type": "code",
   "execution_count": 8,
   "metadata": {},
   "outputs": [
    {
     "data": {
      "text/plain": [
       "Redis<ConnectionPool<Connection<host=localhost,port=6379,db=0>>>"
      ]
     },
     "execution_count": 8,
     "metadata": {},
     "output_type": "execute_result"
    }
   ],
   "source": [
    "#links_of_leiid = SoupStrainer('a', href=re.compile('leiid'))\n",
    "#soup = BeautifulSoup(response,parseOnlyThese=links_of_leiid)"
   ]
  },
  {
   "cell_type": "code",
   "execution_count": null,
   "metadata": {
    "collapsed": true
   },
   "outputs": [],
   "source": [
    "def response_soup_content(url):\n",
    "    req = urllib2.Request(url, headers = { 'User-Agent' : user_agent })\n",
    "    while True:\n",
    "        #try:\n",
    "            #response = urllib2.urlopen(req).read()\n",
    "            #soup = BeautifulSoup(response)\n",
    "            #return soup,response\n",
    "        #except Exception, e:\n",
    "            #print e\n",
    "            #time.sleep(5)\n",
    "            \n",
    "        response = urllib2.urlopen(req).read()\n",
    "        soup = BeautifulSoup(response)\n",
    "        return soup,response\n",
    "  \n",
    "\n",
    "def get_post_ids(url):\n",
    "    '获取一个页面上所有帖子id列表'\n",
    "    post_lists_content = response_soup_content(url)[1]\n",
    "    ids = re.findall(';id=(\\d+)',post_lists_content)\n",
    "    return ids\n",
    "\n",
    "def get_next_page_url(url):\n",
    "    '从当前url中获取下一页的url'\n",
    "    url_content = response_soup_content(url)[1]\n",
    "    next_temp_url = re.search('href=\"([^<]*?)\">下一页',url_content).group(1)\n",
    "    if next_temp_url is not None:\n",
    "        next_url = main_url+next_temp_url\n",
    "        return next_url\n",
    "    else:\n",
    "        return None\n",
    "    \n",
    "def get_post_url(id):\n",
    "    '一个id对应这个帖子的url'\n",
    "    return 'http://m.tianya.cn/bbs/art.jsp?item=free&id=%s' % id\n",
    "\n",
    "def get_total_pages_number(post_id):\n",
    "    '获取一个帖子中页数的总和'\n",
    "    post_url = get_post_url(post_id)\n",
    "    #print catalog_soup\n",
    "    post_content = response_soup_content(post_url)[1]\n",
    "    total_pages__number = re.search('\\d\\/(\\d+)',post_content).group(0)\n",
    "    return total_pages_number\n",
    "\n",
    "def to_json(data):\n",
    "    '将数据转换成json格式，存入redis中'\n",
    "    json_data = json.dumps(data)\n",
    "    return json_data\n",
    "\n",
    "def sadd_ids_to_redis(redis_db,key,ids):\n",
    "    for i in ids:\n",
    "        redis_db.sadd(key,i)\n",
    "\n",
    "\n",
    "def get_all_post_ids(redis_db,vu):\n",
    "    '获取天涯杂谈这个板块所有帖子的id'\n",
    "    start_url = 'http://m.tianya.cn/bbs/list.jsp?item=free&idwriter=0&key=0&chk=&vu=%s' % vu\n",
    "    print 'start_url is', start_url\n",
    "    start_ids = get_post_ids(start_url)\n",
    "    logger.debug(start_ids)\n",
    "    sadd_ids_to_redis(redis_db,'post:ids',start_ids)\n",
    "    redis_db.rpush('visited_urls',start_url)\n",
    "    next_url = get_next_page_url(start_url).replace('amp;','')\n",
    "    logger.debug('the next url is '+next_url)\n",
    "    redis_db.set('counter',1)\n",
    "    while next_url is not None:\n",
    "        ids = get_post_ids(next_url)\n",
    "        logger.debug(ids)\n",
    "        #print ids\n",
    "        sadd_ids_to_redis(redis_db,'post:ids',ids)\n",
    "        redis_db.rpush('visited_urls',next_url)\n",
    "        next_url = get_next_page_url(next_url).replace('amp;','')\n",
    "        logger.debug('next_url is'+next_url)\n",
    "        redis_db.incr('counter')\n",
    "\n",
    "if __name__ == '__main__':\n",
    "    get_all_post_ids(r,vu)"
   ]
  }
 ],
 "metadata": {
  "kernelspec": {
   "display_name": "Python 3",
   "language": "python",
   "name": "python3"
  },
  "language_info": {
   "codemirror_mode": {
    "name": "ipython",
    "version": 3
   },
   "file_extension": ".py",
   "mimetype": "text/x-python",
   "name": "python",
   "nbconvert_exporter": "python",
   "pygments_lexer": "ipython3",
   "version": "3.6.1"
  }
 },
 "nbformat": 4,
 "nbformat_minor": 2
}
