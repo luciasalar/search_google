{
 "cells": [
  {
   "cell_type": "code",
   "execution_count": 2,
   "metadata": {
    "collapsed": true
   },
   "outputs": [],
   "source": [
    "import pandas as pd\n",
    "from time import sleep\n",
    "import csv\n",
    "import pickle\n",
    "import numpy as np\n",
    "from sklearn.preprocessing import StandardScaler"
   ]
  },
  {
   "cell_type": "code",
   "execution_count": null,
   "metadata": {
    "collapsed": true
   },
   "outputs": [],
   "source": [
    "#this script predict the result of the dataset and save it as csv file"
   ]
  },
  {
   "cell_type": "code",
   "execution_count": 12,
   "metadata": {},
   "outputs": [
    {
     "name": "stderr",
     "output_type": "stream",
     "text": [
      "/Users/lucia/anaconda3/lib/python3.6/site-packages/sklearn/ensemble/weight_boosting.py:29: DeprecationWarning: numpy.core.umath_tests is an internal NumPy module and should not be imported. It will be removed in a future NumPy release.\n",
      "  from numpy.core.umath_tests import inner1d\n"
     ]
    }
   ],
   "source": [
    "#load model\n",
    "infile = open('BestModel','rb')\n",
    "model = pickle.load(infile, encoding='bytes')"
   ]
  },
  {
   "cell_type": "code",
   "execution_count": 4,
   "metadata": {},
   "outputs": [],
   "source": [
    "class myQuote:\n",
    "    def __init__(self, text):\n",
    "        #read in CSV, process\n",
    "        self.quoteText = text\n",
    "        self.quoteID = hash(self.quoteText)\n",
    "        self.link = []\n",
    "        self.name = []\n",
    "        self.description = []\n",
    "        self.scores = []\n",
    "        self.cos = []\n",
    "    \n",
    "    def __hash__(self):\n",
    "        return self.quoteID\n",
    "    \n",
    "    def __str__(self):\n",
    "        return \"Object text: \" + self.quoteText + '\\n' +\\\n",
    "        \"Links: \" + str(self.link) + '\\n' +\\\n",
    "        \"Names: \" + str(self.name) + '\\n' +\\\n",
    "        \"Description \" + str(self.description) + '\\n' +\\\n",
    "        \"Scores: \" + str(self.scores)\n",
    "\n",
    "infile2 = open('searchResults','rb')\n",
    "results = pickle.load(infile2, encoding='bytes')"
   ]
  },
  {
   "cell_type": "code",
   "execution_count": 8,
   "metadata": {},
   "outputs": [],
   "source": [
    "#get the first 200 labels: those are the one in the mannual annotate sample\n",
    "def append_features(ob):\n",
    "    proto_matrix = []\n",
    "    for item in ob:\n",
    "        col2 = np.append(ob[item].scores, ob[item].cos)\n",
    "        #print(col2)\n",
    "        proto_matrix.append(col2)\n",
    "      \n",
    "    return proto_matrix\n",
    " \n",
    "            \n",
    "proto_matrix = append_features(results)\n",
    "FeatureMatrix = np.matrix(proto_matrix)"
   ]
  },
  {
   "cell_type": "code",
   "execution_count": 9,
   "metadata": {},
   "outputs": [
    {
     "data": {
      "text/plain": [
       "matrix([[1.        , 1.        , 5.        , ..., 6.        , 0.        ,\n",
       "         0.90142585],\n",
       "        [5.        , 2.        , 3.        , ..., 3.        , 0.        ,\n",
       "         0.97699932],\n",
       "        [5.        , 7.        , 3.        , ..., 1.        , 0.        ,\n",
       "         0.96864645],\n",
       "        ...,\n",
       "        [1.        , 1.        , 1.        , ..., 1.        , 1.        ,\n",
       "         0.89188675],\n",
       "        [9.        , 5.        , 9.        , ..., 0.        , 0.        ,\n",
       "         0.94524863],\n",
       "        [1.        , 1.        , 1.        , ..., 1.        , 0.        ,\n",
       "         0.8824201 ]])"
      ]
     },
     "execution_count": 9,
     "metadata": {},
     "output_type": "execute_result"
    }
   ],
   "source": [
    "FeatureMatrix"
   ]
  },
  {
   "cell_type": "code",
   "execution_count": 13,
   "metadata": {},
   "outputs": [
    {
     "data": {
      "text/plain": [
       "array([[-0.41781787, -0.3844014 ,  2.37298436, ...,  4.59604827,\n",
       "        -0.69084895,  0.27930575],\n",
       "       [ 2.14204221,  0.25438328,  1.01044761, ...,  1.86751561,\n",
       "        -0.69084895,  1.5172452 ],\n",
       "       [ 2.14204221,  3.44830672,  1.01044761, ...,  0.04849383,\n",
       "        -0.69084895,  1.38042015],\n",
       "       ...,\n",
       "       [-0.41781787, -0.3844014 , -0.35208914, ...,  0.04849383,\n",
       "         0.48395814,  0.12304939],\n",
       "       [ 4.70190229,  2.17073734,  5.09805787, ..., -0.86101705,\n",
       "        -0.69084895,  0.99714951],\n",
       "       [-0.41781787, -0.3844014 , -0.35208914, ...,  0.04849383,\n",
       "        -0.69084895, -0.03202003]])"
      ]
     },
     "execution_count": 13,
     "metadata": {},
     "output_type": "execute_result"
    }
   ],
   "source": [
    "scaler = StandardScaler()\n",
    "scaled_matrix = scaler.fit_transform(FeatureMatrix)\n",
    "scaled_matrix"
   ]
  },
  {
   "cell_type": "code",
   "execution_count": 15,
   "metadata": {},
   "outputs": [
    {
     "data": {
      "text/plain": [
       "4520"
      ]
     },
     "execution_count": 15,
     "metadata": {},
     "output_type": "execute_result"
    }
   ],
   "source": [
    "y = model.predict(scaled_matrix)\n",
    "len(y)"
   ]
  },
  {
   "cell_type": "code",
   "execution_count": null,
   "metadata": {
    "collapsed": true
   },
   "outputs": [],
   "source": [
    "def Save_Results(file,fname):\n",
    "    counter = 0\n",
    "    f = open(fname + '_' + str(counter) + '.csv', 'w')\n",
    "    writer = csv.writer(f, delimiter = ',',quoting=csv.QUOTE_MINIMAL)  \n",
    "    writer.writerow([\"text\"] + [\"link\"] + [\"name\"]+['description'])"
   ]
  }
 ],
 "metadata": {
  "kernelspec": {
   "display_name": "Python 3",
   "language": "python",
   "name": "python3"
  },
  "language_info": {
   "codemirror_mode": {
    "name": "ipython",
    "version": 3
   },
   "file_extension": ".py",
   "mimetype": "text/x-python",
   "name": "python",
   "nbconvert_exporter": "python",
   "pygments_lexer": "ipython3",
   "version": "3.6.1"
  }
 },
 "nbformat": 4,
 "nbformat_minor": 2
}
