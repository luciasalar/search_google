{
 "cells": [
  {
   "cell_type": "code",
   "execution_count": 54,
   "metadata": {
    "collapsed": true
   },
   "outputs": [],
   "source": [
    "from google import google\n",
    "import pandas as pd\n",
    "from time import sleep\n",
    "import csv\n",
    "import pickle\n",
    "\n"
   ]
  },
  {
   "cell_type": "markdown",
   "metadata": {},
   "source": [
    "function search_google parse every post in the file to the google API, then store the search result (link, name of the link and content in a csv file\n",
    "\n",
    "function search_googleFiles store every 100 query in a file then stop 300 secs before the next query, however, it seems that Google can easily detect and block this. So I just use function search_google and mannually adjust the number of queries "
   ]
  },
  {
   "cell_type": "code",
   "execution_count": 2,
   "metadata": {},
   "outputs": [
    {
     "data": {
      "text/plain": [
       "0    A morning filled with the goodness of God's pe...\n",
       "1    The first woman was created from the rib of a ...\n",
       "2    I am as vain as i allow. I do my hair, i gloss...\n",
       "Name: 0, dtype: object"
      ]
     },
     "execution_count": 2,
     "metadata": {},
     "output_type": "execute_result"
    }
   ],
   "source": [
    "text = pd.read_csv('example.csv', header=None)\n",
    "text2 = text.loc[:,0]\n",
    "text2 = text2[0:3]\n",
    "text2"
   ]
  },
  {
   "cell_type": "code",
   "execution_count": 152,
   "metadata": {},
   "outputs": [
    {
     "name": "stdout",
     "output_type": "stream",
     "text": [
      "https://www.biblegateway.com/passage/?search=Psalm+46&version=KJV\n",
      "https://www.biblegateway.com/passage/?search=Psalm+46%3A1-2&version=KJV\n",
      "https://biblehub.com/psalms/46-1.htm\n",
      "https://www.biblestudytools.com/psalms/46.html\n",
      "https://www.biblestudytools.com/psalms/46-1-compare.html\n",
      "https://www.christiantoday.com/article/5-bible-verses-that-speak-of-gods-ever-present-help-in-times-of-need/89709.htm\n",
      "https://whosoever.org/v5i4/feardale.html\n"
     ]
    }
   ],
   "source": [
    "search_results = google.search ('God is our refuge and strength, an ever-present help in trouble', num_page)\n",
    "for result in search_results:\n",
    "    print(result.link) "
   ]
  },
  {
   "cell_type": "code",
   "execution_count": 137,
   "metadata": {},
   "outputs": [
    {
     "name": "stdout",
     "output_type": "stream",
     "text": [
      "Amazing Grace – Wikipediahttps://de.wikipedia.org/wiki/Amazing_Grace\n",
      "wretch like - Deutsch Übersetzung - Englisch Beispiele | Reverso ...context.reverso.net/übersetzung/englisch-deutsch/wretch+like\n",
      "Avalon - Amazing Grace Lyrics | AZLyrics.comhttps://www.azlyrics.com › A › Avalon Lyrics\n",
      "Acappella – Amazing Grace Lyrics | Genius Lyricshttps://genius.com › A › Acappella\n",
      "【 that+saved+a+wretch+like+me 】 【 Lyrics 】500 lyrics related been ...https://mojim.com/that+saved+a+wretch+like+me.html?u4\n",
      "That Saved a Wretch Like Me – in All thingshttps://inallthings.org/that-saved-a-wretch-like-me/\n"
     ]
    }
   ],
   "source": [
    "search_results = google.search ('That saved a wretch like me ', num_page)\n",
    "for result in search_results:\n",
    "    print(result.name) "
   ]
  },
  {
   "cell_type": "markdown",
   "metadata": {
    "collapsed": true
   },
   "source": [
    "search function: This function return the First Page of the Google search result. The variables return include the link, name and content of the website"
   ]
  },
  {
   "cell_type": "code",
   "execution_count": 3,
   "metadata": {
    "collapsed": true
   },
   "outputs": [],
   "source": [
    "num_page = 1\n",
    "#result_l2 = ()\n",
    "def search_google(file,fname):\n",
    "    with open(fname , 'w') as f:\n",
    "        writer = csv.writer(f, delimiter = ',',quoting=csv.QUOTE_MINIMAL)  \n",
    "        writer.writerow([\"text\"] + [\"link\"] + [\"name\"]+['description'])\n",
    "        for ix, text in enumerate(file):\n",
    "        #search_results = google.search(text, num_page)\n",
    "            search_results = [[text, i.link, i.name,i.description] for i in google.search(text, num_page)]                    \n",
    "            writer.writerows(search_results)\n",
    "    search_r = pd.read_csv(fname)\n",
    "    return search_r\n"
   ]
  },
  {
   "cell_type": "code",
   "execution_count": 59,
   "metadata": {},
   "outputs": [],
   "source": [
    "\n",
    "\n"
   ]
  },
  {
   "cell_type": "code",
   "execution_count": null,
   "metadata": {},
   "outputs": [],
   "source": []
  },
  {
   "cell_type": "code",
   "execution_count": 16,
   "metadata": {
    "collapsed": true
   },
   "outputs": [],
   "source": [
    "#this function store each 100 search in one file and stop 300 secs after 100 rows, however, Google blocks this bot\n",
    "\n",
    "def search_googleFiles(file,fname):\n",
    "    counter = 0\n",
    "    f = open(fname + '_' + str(counter) + '.csv', 'w')\n",
    "    writer = csv.writer(f, delimiter = ',',quoting=csv.QUOTE_MINIMAL)  \n",
    "    writer.writerow([\"text\"] + [\"link\"] + [\"name\"]+['description'])\n",
    "    for ix, text in enumerate(file):\n",
    "        counter = counter + 1\n",
    "        if counter % 100 == 0:\n",
    "            print(\"we processed \" + str(counter) + \" files.\")\n",
    "            f.close()\n",
    "            f = open(fname + '_' + str(counter), 'w')\n",
    "            writer = csv.writer(f, delimiter = ',',quoting=csv.QUOTE_MINIMAL)  \n",
    "            writer.writerow(['id']+[\"text\"] + [\"link\"] + [\"name\"]+['description'])\n",
    "            sleep(300)\n",
    "        search_results = google.search(text, num_page)\n",
    "        search_results = [[ix, text, i.link, i.name,i.description] for i in google.search(text, num_page)]                    \n",
    "        writer.writerows(search_results)\n",
    "        f.flush()\n",
    "        sleep(1)\n",
    "    f.close()\n",
    "        "
   ]
  },
  {
   "cell_type": "code",
   "execution_count": 43,
   "metadata": {},
   "outputs": [
    {
     "data": {
      "text/plain": [
       "0    A morning filled with the goodness of God's pe...\n",
       "1    The first woman was created from the rib of a ...\n",
       "2    I am as vain as i allow. I do my hair, i gloss...\n",
       "3    2) But because the pieces aren't exact, I have...\n",
       "4    In ten minutes, my computer will announce to m...\n",
       "5    One more thing lol, the /Get schooled/\" thing ...\n",
       "6    Lucasfilm's has stated that as the movie indus...\n",
       "7    OMG what is happening to this world there was ...\n",
       "8    I must be a horrible person to be around, sinc...\n",
       "9    so many disney movies to watch! already got mu...\n",
       "Name: text, dtype: object"
      ]
     },
     "execution_count": 43,
     "metadata": {},
     "output_type": "execute_result"
    }
   ],
   "source": [
    "#now we are going to do it on the big file\n",
    "posts = pd.read_csv('./data/sample_5000.csv')\n",
    "pos = posts['text']\n",
    "pos[0:10]"
   ]
  },
  {
   "cell_type": "code",
   "execution_count": 28,
   "metadata": {},
   "outputs": [
    {
     "data": {
      "text/plain": [
       "4732"
      ]
     },
     "execution_count": 28,
     "metadata": {},
     "output_type": "execute_result"
    }
   ],
   "source": [
    "len(pos)"
   ]
  },
  {
   "cell_type": "code",
   "execution_count": 40,
   "metadata": {
    "collapsed": true
   },
   "outputs": [],
   "source": [
    "#get the first 100\n",
    "results700 = search_google(pos[601:700],'result_700.csv')"
   ]
  },
  {
   "cell_type": "code",
   "execution_count": null,
   "metadata": {
    "collapsed": true
   },
   "outputs": [],
   "source": []
  },
  {
   "cell_type": "code",
   "execution_count": null,
   "metadata": {
    "collapsed": true
   },
   "outputs": [],
   "source": []
  }
 ],
 "metadata": {
  "kernelspec": {
   "display_name": "Python 3",
   "language": "python",
   "name": "python3"
  },
  "language_info": {
   "codemirror_mode": {
    "name": "ipython",
    "version": 3
   },
   "file_extension": ".py",
   "mimetype": "text/x-python",
   "name": "python",
   "nbconvert_exporter": "python",
   "pygments_lexer": "ipython3",
   "version": "3.6.1"
  }
 },
 "nbformat": 4,
 "nbformat_minor": 2
}
