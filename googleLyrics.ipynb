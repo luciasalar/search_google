{
 "cells": [
  {
   "cell_type": "code",
   "execution_count": 3,
   "metadata": {},
   "outputs": [],
   "source": [
    "from google import google\n",
    "import pandas as pd"
   ]
  },
  {
   "cell_type": "code",
   "execution_count": 4,
   "metadata": {},
   "outputs": [
    {
     "data": {
      "text/plain": [
       "0    A morning filled with the goodness of God's pe...\n",
       "1    The first woman was created from the rib of a ...\n",
       "2    I am as vain as i allow. I do my hair, i gloss...\n",
       "Name: 0, dtype: object"
      ]
     },
     "execution_count": 4,
     "metadata": {},
     "output_type": "execute_result"
    }
   ],
   "source": [
    "text = pd.read_csv('example.csv', header=None)\n",
    "text2 = text.loc[:,0]\n",
    "text2 = text2[0:3]\n",
    "text2"
   ]
  },
  {
   "cell_type": "code",
   "execution_count": 152,
   "metadata": {},
   "outputs": [
    {
     "name": "stdout",
     "output_type": "stream",
     "text": [
      "https://www.biblegateway.com/passage/?search=Psalm+46&version=KJV\n",
      "https://www.biblegateway.com/passage/?search=Psalm+46%3A1-2&version=KJV\n",
      "https://biblehub.com/psalms/46-1.htm\n",
      "https://www.biblestudytools.com/psalms/46.html\n",
      "https://www.biblestudytools.com/psalms/46-1-compare.html\n",
      "https://www.christiantoday.com/article/5-bible-verses-that-speak-of-gods-ever-present-help-in-times-of-need/89709.htm\n",
      "https://whosoever.org/v5i4/feardale.html\n"
     ]
    }
   ],
   "source": [
    "search_results = google.search ('God is our refuge and strength, an ever-present help in trouble', num_page)\n",
    "for result in search_results:\n",
    "    print(result.link) "
   ]
  },
  {
   "cell_type": "code",
   "execution_count": 132,
   "metadata": {},
   "outputs": [
    {
     "name": "stdout",
     "output_type": "stream",
     "text": [
      "https://www.vagalume.com.br/sam-cooke/amazing-grace.html\n",
      "https://library.timelesstruths.org/music/Amazing_Grace/\n",
      "https://genius.com/Acappella-amazing-grace-lyrics\n",
      "https://www.constitution.org/col/amazing_grace.htm\n",
      "https://www.azlyrics.com/lyrics/avalon/amazinggrace.html\n",
      "https://www.lyricsfreak.com/c/chris+tomlin/amazing+grace_21111032.html\n",
      "https://www.lyricsfreak.com/d/dolly+parton/amazing+grace_20268831.html\n",
      "https://www.musixmatch.com/lyrics/Hillsong-Worship/Broken-Vessels-Amazing-Grace\n",
      "https://castingcrowns.com/music/and-now-my-lifesong-sings/\n"
     ]
    }
   ],
   "source": [
    "search_results = google.search ('I once was lost, but now am found,Was blind', num_page)\n",
    "for result in search_results:\n",
    "    print(result.link) "
   ]
  },
  {
   "cell_type": "code",
   "execution_count": 137,
   "metadata": {},
   "outputs": [
    {
     "name": "stdout",
     "output_type": "stream",
     "text": [
      "Amazing Grace – Wikipediahttps://de.wikipedia.org/wiki/Amazing_Grace\n",
      "wretch like - Deutsch Übersetzung - Englisch Beispiele | Reverso ...context.reverso.net/übersetzung/englisch-deutsch/wretch+like\n",
      "Avalon - Amazing Grace Lyrics | AZLyrics.comhttps://www.azlyrics.com › A › Avalon Lyrics\n",
      "Acappella – Amazing Grace Lyrics | Genius Lyricshttps://genius.com › A › Acappella\n",
      "【 that+saved+a+wretch+like+me 】 【 Lyrics 】500 lyrics related been ...https://mojim.com/that+saved+a+wretch+like+me.html?u4\n",
      "That Saved a Wretch Like Me – in All thingshttps://inallthings.org/that-saved-a-wretch-like-me/\n"
     ]
    }
   ],
   "source": [
    "search_results = google.search ('That saved a wretch like me ', num_page)\n",
    "for result in search_results:\n",
    "    print(result.name) "
   ]
  },
  {
   "cell_type": "code",
   "execution_count": null,
   "metadata": {
    "collapsed": true
   },
   "outputs": [],
   "source": []
  },
  {
   "cell_type": "code",
   "execution_count": 118,
   "metadata": {},
   "outputs": [
    {
     "name": "stdout",
     "output_type": "stream",
     "text": [
      "https://twitter.com/hashtag/speedboatfun?src=hash\n",
      "https://www.facebook.com/missivoryskulls/\n",
      "https://touch.facebook.com/menehunecoffee2/?__tn__=CH-R\n",
      "https://stilettomuse.wordpress.com/\n",
      "https://www.pinterest.com/dstefankova/tvd/\n",
      "https://www.pinterest.com/stevens5927/vampires/\n"
     ]
    }
   ],
   "source": [
    "search_results = google.search ('Ahaha I am BAACCCKKKK!!! Bring it on people!', num_page)\n",
    "for result in search_results:\n",
    "    print(result.link) "
   ]
  },
  {
   "cell_type": "code",
   "execution_count": 141,
   "metadata": {},
   "outputs": [
    {
     "data": {
      "text/plain": [
       "'So Happy I Could Die Lyrics - Lady Gaga - LyricsBoxhttps://www.lyricsbox.com › L › Lady Gaga Lyrics'"
      ]
     },
     "execution_count": 141,
     "metadata": {},
     "output_type": "execute_result"
    }
   ],
   "source": [
    "result_l.get(2)"
   ]
  },
  {
   "cell_type": "code",
   "execution_count": null,
   "metadata": {
    "collapsed": true
   },
   "outputs": [],
   "source": [
    "#search function"
   ]
  },
  {
   "cell_type": "code",
   "execution_count": 9,
   "metadata": {
    "collapsed": true
   },
   "outputs": [],
   "source": [
    "num_page = 1\n",
    "#result_l2 = ()\n",
    "import csv\n",
    "\n",
    "def search_google(file,fname):\n",
    "    with open(fname , 'w') as f:\n",
    "        for ix, text in enumerate(file):\n",
    "        #search_results = google.search(text, num_page)\n",
    "            search_results = [[text, i.link, i.name,i.description] for i in google.search(text, num_page)]\n",
    "            \n",
    "            writer = csv.writer(f, delimiter = ',',quoting=csv.QUOTE_MINIMAL)\n",
    "            writer.writerow([\"text\"] + [\"link\"] + [\"name\"])\n",
    "            writer.writerows(search_results)\n",
    "    search_r = pd.read_csv(fname)\n",
    "    return search_r\n"
   ]
  },
  {
   "cell_type": "code",
   "execution_count": 161,
   "metadata": {},
   "outputs": [
    {
     "data": {
      "text/html": [
       "<div>\n",
       "<style>\n",
       "    .dataframe thead tr:only-child th {\n",
       "        text-align: right;\n",
       "    }\n",
       "\n",
       "    .dataframe thead th {\n",
       "        text-align: left;\n",
       "    }\n",
       "\n",
       "    .dataframe tbody tr th {\n",
       "        vertical-align: top;\n",
       "    }\n",
       "</style>\n",
       "<table border=\"1\" class=\"dataframe\">\n",
       "  <thead>\n",
       "    <tr style=\"text-align: right;\">\n",
       "      <th></th>\n",
       "      <th>id</th>\n",
       "      <th>link</th>\n",
       "      <th>name</th>\n",
       "    </tr>\n",
       "  </thead>\n",
       "  <tbody>\n",
       "    <tr>\n",
       "      <th>1</th>\n",
       "      <td>0</td>\n",
       "      <td>https://www.pinterest.de/barbarajstone3/mornin...</td>\n",
       "      <td>386 best Morning Coffee with God! images on Pi...</td>\n",
       "    </tr>\n",
       "    <tr>\n",
       "      <th>2</th>\n",
       "      <td>0</td>\n",
       "      <td>https://www.goodmorningquote.com/good-morning-...</td>\n",
       "      <td>146+ Inspirational Good Morning Images with Qu...</td>\n",
       "    </tr>\n",
       "    <tr>\n",
       "      <th>3</th>\n",
       "      <td>0</td>\n",
       "      <td>https://www.goodreads.com/quotes/tag/morning</td>\n",
       "      <td>Morning Quotes (397 quotes) - Goodreadshttps:/...</td>\n",
       "    </tr>\n",
       "    <tr>\n",
       "      <th>4</th>\n",
       "      <td>0</td>\n",
       "      <td>https://unlockingthebible.org/2017/05/21-bible...</td>\n",
       "      <td>21 Bible Verses About Joy | Unlocking the Bibl...</td>\n",
       "    </tr>\n",
       "    <tr>\n",
       "      <th>5</th>\n",
       "      <td>0</td>\n",
       "      <td>http://www.jousterfanfare.nl/tpbwwor2/aoeeifj....</td>\n",
       "      <td>Good morning prayer for a friend - Jouster Fan...</td>\n",
       "    </tr>\n",
       "    <tr>\n",
       "      <th>6</th>\n",
       "      <td>0</td>\n",
       "      <td>http://www.quotegarden.com/coffee.html</td>\n",
       "      <td>Coffee Quotes, Sayings about Caffeine - The Qu...</td>\n",
       "    </tr>\n",
       "    <tr>\n",
       "      <th>7</th>\n",
       "      <td>0</td>\n",
       "      <td>https://www.crosswalk.com/faith/prayer/prayers...</td>\n",
       "      <td>A Prayer for a New Day - Crosswalk.comhttps://...</td>\n",
       "    </tr>\n",
       "    <tr>\n",
       "      <th>8</th>\n",
       "      <td>0</td>\n",
       "      <td>https://christianstt.com/morning-prayer-praise...</td>\n",
       "      <td>Morning Prayer of Praise and For The Lord's Bl...</td>\n",
       "    </tr>\n",
       "    <tr>\n",
       "      <th>9</th>\n",
       "      <td>id</td>\n",
       "      <td>link</td>\n",
       "      <td>name</td>\n",
       "    </tr>\n",
       "  </tbody>\n",
       "</table>\n",
       "</div>"
      ],
      "text/plain": [
       "   id                                               link  \\\n",
       "1   0  https://www.pinterest.de/barbarajstone3/mornin...   \n",
       "2   0  https://www.goodmorningquote.com/good-morning-...   \n",
       "3   0       https://www.goodreads.com/quotes/tag/morning   \n",
       "4   0  https://unlockingthebible.org/2017/05/21-bible...   \n",
       "5   0  http://www.jousterfanfare.nl/tpbwwor2/aoeeifj....   \n",
       "6   0             http://www.quotegarden.com/coffee.html   \n",
       "7   0  https://www.crosswalk.com/faith/prayer/prayers...   \n",
       "8   0  https://christianstt.com/morning-prayer-praise...   \n",
       "9  id                                               link   \n",
       "\n",
       "                                                name  \n",
       "1  386 best Morning Coffee with God! images on Pi...  \n",
       "2  146+ Inspirational Good Morning Images with Qu...  \n",
       "3  Morning Quotes (397 quotes) - Goodreadshttps:/...  \n",
       "4  21 Bible Verses About Joy | Unlocking the Bibl...  \n",
       "5  Good morning prayer for a friend - Jouster Fan...  \n",
       "6  Coffee Quotes, Sayings about Caffeine - The Qu...  \n",
       "7  A Prayer for a New Day - Crosswalk.comhttps://...  \n",
       "8  Morning Prayer of Praise and For The Lord's Bl...  \n",
       "9                                               name  "
      ]
     },
     "execution_count": 161,
     "metadata": {},
     "output_type": "execute_result"
    }
   ],
   "source": [
    "results = search_google(text2,'result1.csv')\n",
    "results[1:10]"
   ]
  },
  {
   "cell_type": "code",
   "execution_count": 5,
   "metadata": {},
   "outputs": [
    {
     "data": {
      "text/plain": [
       "0    A morning filled with the goodness of God's pe...\n",
       "1    The first woman was created from the rib of a ...\n",
       "2    I am as vain as i allow. I do my hair, i gloss...\n",
       "3    2) But because the pieces aren't exact, I have...\n",
       "4    In ten minutes, my computer will announce to m...\n",
       "5    One more thing lol, the /Get schooled/\" thing ...\n",
       "6    Lucasfilm's has stated that as the movie indus...\n",
       "7    OMG what is happening to this world there was ...\n",
       "8    I must be a horrible person to be around, sinc...\n",
       "9    so many disney movies to watch! already got mu...\n",
       "Name: text, dtype: object"
      ]
     },
     "execution_count": 5,
     "metadata": {},
     "output_type": "execute_result"
    }
   ],
   "source": [
    "#now we are going to do it on the big file\n",
    "posts = pd.read_csv('sample_5000.csv')\n",
    "pos = posts['text']\n",
    "pos[0:10]"
   ]
  },
  {
   "cell_type": "code",
   "execution_count": null,
   "metadata": {},
   "outputs": [],
   "source": [
    "#get the first 100\n",
    "results600 = search_google(pos[501:600],'result_600.csv')"
   ]
  },
  {
   "cell_type": "code",
   "execution_count": null,
   "metadata": {
    "collapsed": true
   },
   "outputs": [],
   "source": []
  },
  {
   "cell_type": "code",
   "execution_count": 143,
   "metadata": {},
   "outputs": [
    {
     "name": "stdout",
     "output_type": "stream",
     "text": [
      "0\n",
      "0\n",
      "4\n",
      "0\n",
      "0\n",
      "0\n",
      "1\n",
      "0\n",
      "1\n",
      "0\n",
      "0\n",
      "0\n",
      "0\n",
      "0\n"
     ]
    }
   ],
   "source": [
    "# count key words\n",
    "for key in result_l:\n",
    "    text = result_l.get(key)\n",
    "    count = text.lower().count(\"lyrics\")\n",
    "    print(count)"
   ]
  },
  {
   "cell_type": "code",
   "execution_count": 99,
   "metadata": {},
   "outputs": [
    {
     "ename": "NameError",
     "evalue": "name 'corpus' is not defined",
     "output_type": "error",
     "traceback": [
      "\u001b[0;31m---------------------------------------------------------------------------\u001b[0m",
      "\u001b[0;31mNameError\u001b[0m                                 Traceback (most recent call last)",
      "\u001b[0;32m<ipython-input-99-590ebf4cb1fc>\u001b[0m in \u001b[0;36m<module>\u001b[0;34m()\u001b[0m\n\u001b[1;32m      5\u001b[0m     vect = TfidfVectorizer(sublinear_tf=True, max_df=0.5, analyzer='word', \n\u001b[1;32m      6\u001b[0m            stop_words='english', vocabulary=doc)\n\u001b[0;32m----> 7\u001b[0;31m     \u001b[0mvect\u001b[0m\u001b[0;34m.\u001b[0m\u001b[0mfit\u001b[0m\u001b[0;34m(\u001b[0m\u001b[0mcorpus\u001b[0m\u001b[0;34m)\u001b[0m\u001b[0;34m\u001b[0m\u001b[0m\n\u001b[0m\u001b[1;32m      8\u001b[0m     \u001b[0mcorpus_tf_idf\u001b[0m \u001b[0;34m=\u001b[0m \u001b[0mvect\u001b[0m\u001b[0;34m.\u001b[0m\u001b[0mtransform\u001b[0m\u001b[0;34m(\u001b[0m\u001b[0mcorpus\u001b[0m\u001b[0;34m)\u001b[0m\u001b[0;34m\u001b[0m\u001b[0m\n\u001b[1;32m      9\u001b[0m     \u001b[0;31m#tfidf = TfidfVectorizer().fit_transform(doc)\u001b[0m\u001b[0;34m\u001b[0m\u001b[0;34m\u001b[0m\u001b[0m\n",
      "\u001b[0;31mNameError\u001b[0m: name 'corpus' is not defined"
     ]
    }
   ],
   "source": [
    "for key in result_l:\n",
    "    doc = result_l.get(key)\n",
    "    \n",
    "    #tfidf = TfidfVectorizer().fit_transform(doc)\n",
    "# no need to normalize, since Vectorizer will return normalized tf-idf\n",
    "    #pairwise_similarity = tfidf * tfidf.T"
   ]
  },
  {
   "cell_type": "code",
   "execution_count": null,
   "metadata": {
    "collapsed": true
   },
   "outputs": [],
   "source": []
  },
  {
   "cell_type": "code",
   "execution_count": 90,
   "metadata": {},
   "outputs": [
    {
     "name": "stdout",
     "output_type": "stream",
     "text": [
      "0\n",
      "0\n",
      "0\n",
      "0\n",
      "0\n",
      "0\n",
      "0\n",
      "0\n",
      "0\n",
      "0\n",
      "0\n",
      "0\n",
      "0\n",
      "0\n"
     ]
    }
   ],
   "source": [
    "\n"
   ]
  },
  {
   "cell_type": "code",
   "execution_count": null,
   "metadata": {
    "collapsed": true
   },
   "outputs": [],
   "source": [
    "\n",
    "    "
   ]
  },
  {
   "cell_type": "code",
   "execution_count": null,
   "metadata": {
    "collapsed": true
   },
   "outputs": [],
   "source": [
    "from sklearn.feature_extraction.text import CountVectorizer"
   ]
  },
  {
   "cell_type": "code",
   "execution_count": 54,
   "metadata": {},
   "outputs": [
    {
     "data": {
      "text/plain": [
       "['lyrics', 'song', 'quote']"
      ]
     },
     "execution_count": 54,
     "metadata": {},
     "output_type": "execute_result"
    }
   ],
   "source": [
    "vocab = ['lyrics','song','quote']\n",
    "vocab"
   ]
  },
  {
   "cell_type": "code",
   "execution_count": null,
   "metadata": {
    "collapsed": true
   },
   "outputs": [],
   "source": [
    "vectorizer = CountVectorizer(min_df=1, vocabulary=vocabulary)\n",
    "words_matrix = vectorizer.fit_transform(corpus)"
   ]
  },
  {
   "cell_type": "code",
   "execution_count": null,
   "metadata": {
    "collapsed": true
   },
   "outputs": [],
   "source": []
  }
 ],
 "metadata": {
  "kernelspec": {
   "display_name": "Python 3",
   "language": "python",
   "name": "python3"
  },
  "language_info": {
   "codemirror_mode": {
    "name": "ipython",
    "version": 3
   },
   "file_extension": ".py",
   "mimetype": "text/x-python",
   "name": "python",
   "nbconvert_exporter": "python",
   "pygments_lexer": "ipython3",
   "version": "3.6.1"
  }
 },
 "nbformat": 4,
 "nbformat_minor": 2
}
