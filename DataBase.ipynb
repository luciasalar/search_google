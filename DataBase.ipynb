{
 "cells": [
  {
   "cell_type": "markdown",
   "metadata": {},
   "source": [
    "This script generates the data for the database"
   ]
  },
  {
   "cell_type": "code",
   "execution_count": 13,
   "metadata": {
    "collapsed": true
   },
   "outputs": [],
   "source": [
    "import pandas as pd\n",
    "import numpy as np"
   ]
  },
  {
   "cell_type": "code",
   "execution_count": 218,
   "metadata": {},
   "outputs": [
    {
     "data": {
      "text/plain": [
       "4520"
      ]
     },
     "execution_count": 218,
     "metadata": {},
     "output_type": "execute_result"
    }
   ],
   "source": [
    "#machine annotate data\n",
    "data = pd.read_csv('allPredLabel.csv')\n",
    "len(data)\n"
   ]
  },
  {
   "cell_type": "code",
   "execution_count": 220,
   "metadata": {},
   "outputs": [
    {
     "data": {
      "text/plain": [
       "4732"
      ]
     },
     "execution_count": 220,
     "metadata": {},
     "output_type": "execute_result"
    }
   ],
   "source": [
    "#all data\n",
    "sam = pd.read_csv('./Data/sample_5000.csv')\n",
    "len(sam)\n"
   ]
  },
  {
   "cell_type": "code",
   "execution_count": 221,
   "metadata": {},
   "outputs": [
    {
     "data": {
      "text/plain": [
       "4355"
      ]
     },
     "execution_count": 221,
     "metadata": {},
     "output_type": "execute_result"
    }
   ],
   "source": [
    "#merge machine annotated data with userid\n",
    "new = data.merge(sam, on = 'text')\n",
    "len(new)"
   ]
  },
  {
   "cell_type": "code",
   "execution_count": 225,
   "metadata": {},
   "outputs": [
    {
     "name": "stdout",
     "output_type": "stream",
     "text": [
      "4520\n"
     ]
    }
   ],
   "source": [
    "new = data.merge(sam, on = 'text', how ='left')\n",
    "print(len(new))\n",
    "new.to_csv('merge.csv')"
   ]
  },
  {
   "cell_type": "code",
   "execution_count": 226,
   "metadata": {},
   "outputs": [
    {
     "data": {
      "text/plain": [
       "4463"
      ]
     },
     "execution_count": 226,
     "metadata": {},
     "output_type": "execute_result"
    }
   ],
   "source": [
    "#machine annotate data\n",
    "data = pd.read_csv('merge_data.csv')\n",
    "len(data)"
   ]
  },
  {
   "cell_type": "code",
   "execution_count": 227,
   "metadata": {
    "scrolled": true
   },
   "outputs": [
    {
     "data": {
      "text/plain": [
       "3895"
      ]
     },
     "execution_count": 227,
     "metadata": {},
     "output_type": "execute_result"
    }
   ],
   "source": [
    "#select no quote data\n",
    "dataNoL = data[data['result'] == 0]\n",
    "len(dataNoL)"
   ]
  },
  {
   "cell_type": "code",
   "execution_count": 247,
   "metadata": {},
   "outputs": [
    {
     "data": {
      "text/plain": [
       "3895"
      ]
     },
     "execution_count": 247,
     "metadata": {},
     "output_type": "execute_result"
    }
   ],
   "source": [
    "#dataNoL\n",
    "database = pd.DataFrame()\n",
    "database['text'] = dataNoL['text']\n",
    "database = database.assign (annotation = 0)\n",
    "database = database.assign (annotation_date = np.nan)\n",
    "database = database.assign (userid = data['userid'])\n",
    "database = database.reset_index()\n",
    "database = database.assign(id = database.index + 1)\n",
    "len(database)"
   ]
  },
  {
   "cell_type": "code",
   "execution_count": 248,
   "metadata": {},
   "outputs": [],
   "source": [
    "#generate an array with 3 numbers\n",
    "pid = np.random.choice([44553, 22334, 33442], size=3895)"
   ]
  },
  {
   "cell_type": "code",
   "execution_count": 249,
   "metadata": {},
   "outputs": [
    {
     "data": {
      "text/html": [
       "<div>\n",
       "<style>\n",
       "    .dataframe thead tr:only-child th {\n",
       "        text-align: right;\n",
       "    }\n",
       "\n",
       "    .dataframe thead th {\n",
       "        text-align: left;\n",
       "    }\n",
       "\n",
       "    .dataframe tbody tr th {\n",
       "        vertical-align: top;\n",
       "    }\n",
       "</style>\n",
       "<table border=\"1\" class=\"dataframe\">\n",
       "  <thead>\n",
       "    <tr style=\"text-align: right;\">\n",
       "      <th></th>\n",
       "      <th>text</th>\n",
       "      <th>annotation</th>\n",
       "      <th>annotation_date</th>\n",
       "      <th>userid</th>\n",
       "      <th>id</th>\n",
       "      <th>ParticipantID</th>\n",
       "    </tr>\n",
       "  </thead>\n",
       "  <tbody>\n",
       "    <tr>\n",
       "      <th>0</th>\n",
       "      <td>What would your liqour do? If it could, it wou...</td>\n",
       "      <td>0</td>\n",
       "      <td>NaN</td>\n",
       "      <td>009d96a823b6f6c085c092fb177491f6</td>\n",
       "      <td>1</td>\n",
       "      <td>33442</td>\n",
       "    </tr>\n",
       "    <tr>\n",
       "      <th>1</th>\n",
       "      <td>Met up with Vitico and Yeslenny the day wad pr...</td>\n",
       "      <td>0</td>\n",
       "      <td>NaN</td>\n",
       "      <td>009d96a823b6f6c085c092fb177491f6</td>\n",
       "      <td>2</td>\n",
       "      <td>22334</td>\n",
       "    </tr>\n",
       "    <tr>\n",
       "      <th>2</th>\n",
       "      <td>How do u expect kids 2 listen 2 their parents ...</td>\n",
       "      <td>0</td>\n",
       "      <td>NaN</td>\n",
       "      <td>009d96a823b6f6c085c092fb177491f6</td>\n",
       "      <td>3</td>\n",
       "      <td>44553</td>\n",
       "    </tr>\n",
       "    <tr>\n",
       "      <th>3</th>\n",
       "      <td>For those of you still trying to text, and cal...</td>\n",
       "      <td>0</td>\n",
       "      <td>NaN</td>\n",
       "      <td>009d96a823b6f6c085c092fb177491f6</td>\n",
       "      <td>4</td>\n",
       "      <td>33442</td>\n",
       "    </tr>\n",
       "    <tr>\n",
       "      <th>4</th>\n",
       "      <td>Where am I, where am I going, I totally got CR...</td>\n",
       "      <td>0</td>\n",
       "      <td>NaN</td>\n",
       "      <td>009d96a823b6f6c085c092fb177491f6</td>\n",
       "      <td>5</td>\n",
       "      <td>44553</td>\n",
       "    </tr>\n",
       "    <tr>\n",
       "      <th>5</th>\n",
       "      <td>I'm starting what I like to call project 365 I...</td>\n",
       "      <td>0</td>\n",
       "      <td>NaN</td>\n",
       "      <td>009d96a823b6f6c085c092fb177491f6</td>\n",
       "      <td>6</td>\n",
       "      <td>22334</td>\n",
       "    </tr>\n",
       "    <tr>\n",
       "      <th>6</th>\n",
       "      <td>So apparently 3-5am was the designated time la...</td>\n",
       "      <td>0</td>\n",
       "      <td>NaN</td>\n",
       "      <td>009d96a823b6f6c085c092fb177491f6</td>\n",
       "      <td>7</td>\n",
       "      <td>33442</td>\n",
       "    </tr>\n",
       "    <tr>\n",
       "      <th>7</th>\n",
       "      <td>Is getting tired of people assuming she is a s...</td>\n",
       "      <td>0</td>\n",
       "      <td>NaN</td>\n",
       "      <td>009d96a823b6f6c085c092fb177491f6</td>\n",
       "      <td>8</td>\n",
       "      <td>44553</td>\n",
       "    </tr>\n",
       "    <tr>\n",
       "      <th>8</th>\n",
       "      <td>Life lives, life dies. Life laughs, life cries...</td>\n",
       "      <td>0</td>\n",
       "      <td>NaN</td>\n",
       "      <td>009d96a823b6f6c085c092fb177491f6</td>\n",
       "      <td>9</td>\n",
       "      <td>22334</td>\n",
       "    </tr>\n",
       "    <tr>\n",
       "      <th>9</th>\n",
       "      <td>Is at a great party where all the good songs a...</td>\n",
       "      <td>0</td>\n",
       "      <td>NaN</td>\n",
       "      <td>009d96a823b6f6c085c092fb177491f6</td>\n",
       "      <td>10</td>\n",
       "      <td>33442</td>\n",
       "    </tr>\n",
       "  </tbody>\n",
       "</table>\n",
       "</div>"
      ],
      "text/plain": [
       "                                                text  annotation  \\\n",
       "0  What would your liqour do? If it could, it wou...           0   \n",
       "1  Met up with Vitico and Yeslenny the day wad pr...           0   \n",
       "2  How do u expect kids 2 listen 2 their parents ...           0   \n",
       "3  For those of you still trying to text, and cal...           0   \n",
       "4  Where am I, where am I going, I totally got CR...           0   \n",
       "5  I'm starting what I like to call project 365 I...           0   \n",
       "6  So apparently 3-5am was the designated time la...           0   \n",
       "7  Is getting tired of people assuming she is a s...           0   \n",
       "8  Life lives, life dies. Life laughs, life cries...           0   \n",
       "9  Is at a great party where all the good songs a...           0   \n",
       "\n",
       "   annotation_date                            userid  id  ParticipantID  \n",
       "0              NaN  009d96a823b6f6c085c092fb177491f6   1          33442  \n",
       "1              NaN  009d96a823b6f6c085c092fb177491f6   2          22334  \n",
       "2              NaN  009d96a823b6f6c085c092fb177491f6   3          44553  \n",
       "3              NaN  009d96a823b6f6c085c092fb177491f6   4          33442  \n",
       "4              NaN  009d96a823b6f6c085c092fb177491f6   5          44553  \n",
       "5              NaN  009d96a823b6f6c085c092fb177491f6   6          22334  \n",
       "6              NaN  009d96a823b6f6c085c092fb177491f6   7          33442  \n",
       "7              NaN  009d96a823b6f6c085c092fb177491f6   8          44553  \n",
       "8              NaN  009d96a823b6f6c085c092fb177491f6   9          22334  \n",
       "9              NaN  009d96a823b6f6c085c092fb177491f6  10          33442  "
      ]
     },
     "execution_count": 249,
     "metadata": {},
     "output_type": "execute_result"
    }
   ],
   "source": [
    "database = database.assign(ParticipantID = pid) \n",
    "database = database.drop(['index'], axis=1)\n",
    "database[0:10]"
   ]
  },
  {
   "cell_type": "code",
   "execution_count": 250,
   "metadata": {},
   "outputs": [
    {
     "name": "stdout",
     "output_type": "stream",
     "text": [
      "1278\n",
      "1317\n",
      "1300\n"
     ]
    }
   ],
   "source": [
    "print(len(database[database['ParticipantID'] == 22334]))\n",
    "print(len(database[database['ParticipantID'] == 44553]))\n",
    "print(len(database[database['ParticipantID'] == 33442]))"
   ]
  },
  {
   "cell_type": "code",
   "execution_count": 251,
   "metadata": {},
   "outputs": [],
   "source": [
    "database['ParticipantID'] = database['ParticipantID'].astype(str)\n",
    "#database['ParticipantID'] = '\"' + database.ParticipantID + '\"'"
   ]
  },
  {
   "cell_type": "code",
   "execution_count": 252,
   "metadata": {},
   "outputs": [
    {
     "data": {
      "text/html": [
       "<div>\n",
       "<style>\n",
       "    .dataframe thead tr:only-child th {\n",
       "        text-align: right;\n",
       "    }\n",
       "\n",
       "    .dataframe thead th {\n",
       "        text-align: left;\n",
       "    }\n",
       "\n",
       "    .dataframe tbody tr th {\n",
       "        vertical-align: top;\n",
       "    }\n",
       "</style>\n",
       "<table border=\"1\" class=\"dataframe\">\n",
       "  <thead>\n",
       "    <tr style=\"text-align: right;\">\n",
       "      <th></th>\n",
       "      <th>ParticipantID</th>\n",
       "      <th>id</th>\n",
       "      <th>userid</th>\n",
       "      <th>text</th>\n",
       "      <th>annotation_date</th>\n",
       "      <th>annotation</th>\n",
       "    </tr>\n",
       "  </thead>\n",
       "  <tbody>\n",
       "    <tr>\n",
       "      <th>0</th>\n",
       "      <td>33442</td>\n",
       "      <td>1</td>\n",
       "      <td>009d96a823b6f6c085c092fb177491f6</td>\n",
       "      <td>What would your liqour do? If it could, it wou...</td>\n",
       "      <td>NaN</td>\n",
       "      <td>0</td>\n",
       "    </tr>\n",
       "    <tr>\n",
       "      <th>1</th>\n",
       "      <td>22334</td>\n",
       "      <td>2</td>\n",
       "      <td>009d96a823b6f6c085c092fb177491f6</td>\n",
       "      <td>Met up with Vitico and Yeslenny the day wad pr...</td>\n",
       "      <td>NaN</td>\n",
       "      <td>0</td>\n",
       "    </tr>\n",
       "    <tr>\n",
       "      <th>2</th>\n",
       "      <td>44553</td>\n",
       "      <td>3</td>\n",
       "      <td>009d96a823b6f6c085c092fb177491f6</td>\n",
       "      <td>How do u expect kids 2 listen 2 their parents ...</td>\n",
       "      <td>NaN</td>\n",
       "      <td>0</td>\n",
       "    </tr>\n",
       "    <tr>\n",
       "      <th>3</th>\n",
       "      <td>33442</td>\n",
       "      <td>4</td>\n",
       "      <td>009d96a823b6f6c085c092fb177491f6</td>\n",
       "      <td>For those of you still trying to text, and cal...</td>\n",
       "      <td>NaN</td>\n",
       "      <td>0</td>\n",
       "    </tr>\n",
       "    <tr>\n",
       "      <th>4</th>\n",
       "      <td>44553</td>\n",
       "      <td>5</td>\n",
       "      <td>009d96a823b6f6c085c092fb177491f6</td>\n",
       "      <td>Where am I, where am I going, I totally got CR...</td>\n",
       "      <td>NaN</td>\n",
       "      <td>0</td>\n",
       "    </tr>\n",
       "    <tr>\n",
       "      <th>5</th>\n",
       "      <td>22334</td>\n",
       "      <td>6</td>\n",
       "      <td>009d96a823b6f6c085c092fb177491f6</td>\n",
       "      <td>I'm starting what I like to call project 365 I...</td>\n",
       "      <td>NaN</td>\n",
       "      <td>0</td>\n",
       "    </tr>\n",
       "    <tr>\n",
       "      <th>6</th>\n",
       "      <td>33442</td>\n",
       "      <td>7</td>\n",
       "      <td>009d96a823b6f6c085c092fb177491f6</td>\n",
       "      <td>So apparently 3-5am was the designated time la...</td>\n",
       "      <td>NaN</td>\n",
       "      <td>0</td>\n",
       "    </tr>\n",
       "    <tr>\n",
       "      <th>7</th>\n",
       "      <td>44553</td>\n",
       "      <td>8</td>\n",
       "      <td>009d96a823b6f6c085c092fb177491f6</td>\n",
       "      <td>Is getting tired of people assuming she is a s...</td>\n",
       "      <td>NaN</td>\n",
       "      <td>0</td>\n",
       "    </tr>\n",
       "    <tr>\n",
       "      <th>8</th>\n",
       "      <td>22334</td>\n",
       "      <td>9</td>\n",
       "      <td>009d96a823b6f6c085c092fb177491f6</td>\n",
       "      <td>Life lives, life dies. Life laughs, life cries...</td>\n",
       "      <td>NaN</td>\n",
       "      <td>0</td>\n",
       "    </tr>\n",
       "    <tr>\n",
       "      <th>9</th>\n",
       "      <td>33442</td>\n",
       "      <td>10</td>\n",
       "      <td>009d96a823b6f6c085c092fb177491f6</td>\n",
       "      <td>Is at a great party where all the good songs a...</td>\n",
       "      <td>NaN</td>\n",
       "      <td>0</td>\n",
       "    </tr>\n",
       "  </tbody>\n",
       "</table>\n",
       "</div>"
      ],
      "text/plain": [
       "  ParticipantID  id                            userid  \\\n",
       "0         33442   1  009d96a823b6f6c085c092fb177491f6   \n",
       "1         22334   2  009d96a823b6f6c085c092fb177491f6   \n",
       "2         44553   3  009d96a823b6f6c085c092fb177491f6   \n",
       "3         33442   4  009d96a823b6f6c085c092fb177491f6   \n",
       "4         44553   5  009d96a823b6f6c085c092fb177491f6   \n",
       "5         22334   6  009d96a823b6f6c085c092fb177491f6   \n",
       "6         33442   7  009d96a823b6f6c085c092fb177491f6   \n",
       "7         44553   8  009d96a823b6f6c085c092fb177491f6   \n",
       "8         22334   9  009d96a823b6f6c085c092fb177491f6   \n",
       "9         33442  10  009d96a823b6f6c085c092fb177491f6   \n",
       "\n",
       "                                                text  annotation_date  \\\n",
       "0  What would your liqour do? If it could, it wou...              NaN   \n",
       "1  Met up with Vitico and Yeslenny the day wad pr...              NaN   \n",
       "2  How do u expect kids 2 listen 2 their parents ...              NaN   \n",
       "3  For those of you still trying to text, and cal...              NaN   \n",
       "4  Where am I, where am I going, I totally got CR...              NaN   \n",
       "5  I'm starting what I like to call project 365 I...              NaN   \n",
       "6  So apparently 3-5am was the designated time la...              NaN   \n",
       "7  Is getting tired of people assuming she is a s...              NaN   \n",
       "8  Life lives, life dies. Life laughs, life cries...              NaN   \n",
       "9  Is at a great party where all the good songs a...              NaN   \n",
       "\n",
       "   annotation  \n",
       "0           0  \n",
       "1           0  \n",
       "2           0  \n",
       "3           0  \n",
       "4           0  \n",
       "5           0  \n",
       "6           0  \n",
       "7           0  \n",
       "8           0  \n",
       "9           0  "
      ]
     },
     "execution_count": 252,
     "metadata": {},
     "output_type": "execute_result"
    }
   ],
   "source": [
    "database = database[['ParticipantID','id', 'userid','text', 'annotation_date', 'annotation']]\n",
    "database[0:10]"
   ]
  },
  {
   "cell_type": "code",
   "execution_count": 197,
   "metadata": {},
   "outputs": [],
   "source": [
    "#database['ParticipantID'] = '(' + database.ParticipantID\n",
    "#database['annotation'] = database['annotation'].astype(str)\n",
    "#database['annotation'] =  database.annotation + '),'"
   ]
  },
  {
   "cell_type": "code",
   "execution_count": 200,
   "metadata": {
    "collapsed": true
   },
   "outputs": [],
   "source": []
  },
  {
   "cell_type": "code",
   "execution_count": 201,
   "metadata": {},
   "outputs": [],
   "source": []
  },
  {
   "cell_type": "code",
   "execution_count": 253,
   "metadata": {
    "collapsed": true
   },
   "outputs": [],
   "source": [
    "database.to_csv('database.csv')"
   ]
  },
  {
   "cell_type": "code",
   "execution_count": null,
   "metadata": {
    "collapsed": true
   },
   "outputs": [],
   "source": []
  }
 ],
 "metadata": {
  "kernelspec": {
   "display_name": "Python 3",
   "language": "python",
   "name": "python3"
  },
  "language_info": {
   "codemirror_mode": {
    "name": "ipython",
    "version": 3
   },
   "file_extension": ".py",
   "mimetype": "text/x-python",
   "name": "python",
   "nbconvert_exporter": "python",
   "pygments_lexer": "ipython3",
   "version": "3.6.1"
  }
 },
 "nbformat": 4,
 "nbformat_minor": 2
}
